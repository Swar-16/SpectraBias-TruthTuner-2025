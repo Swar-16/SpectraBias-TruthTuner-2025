{
 "cells": [
  {
   "cell_type": "markdown",
   "id": "c56f9f13",
   "metadata": {},
   "source": [
    "## It has been done in Kaggle with their 30 hours of Free GPU resource [T4 GPU X 2]"
   ]
  },
  {
   "cell_type": "code",
   "execution_count": 1,
   "id": "365d703c",
   "metadata": {
    "execution": {
     "iopub.execute_input": "2025-05-19T15:15:01.170431Z",
     "iopub.status.busy": "2025-05-19T15:15:01.169755Z",
     "iopub.status.idle": "2025-05-19T15:15:01.400120Z",
     "shell.execute_reply": "2025-05-19T15:15:01.399439Z",
     "shell.execute_reply.started": "2025-05-19T15:15:01.170401Z"
    },
    "trusted": true
   },
   "outputs": [],
   "source": [
    "import pandas as pd\n",
    "import numpy as np\n",
    "import matplotlib.pyplot as plt\n",
    "import seaborn as sns\n",
    "import os\n",
    "from sklearn.model_selection import train_test_split\n",
    "from sklearn.metrics import classification_report, confusion_matrix\n",
    "\n",
    "import torch\n",
    "from sklearn.metrics import fbeta_score, classification_report\n",
    "from transformers import AutoTokenizer, AutoModelForSequenceClassification, TrainingArguments, Trainer, EarlyStoppingCallback\n",
    "\n",
    "import torch\n",
    "import random\n",
    "from datasets import Dataset\n",
    "from collections import defaultdict"
   ]
  },
  {
   "cell_type": "code",
   "execution_count": 2,
   "id": "821979d6",
   "metadata": {
    "execution": {
     "iopub.execute_input": "2025-05-19T15:15:02.471583Z",
     "iopub.status.busy": "2025-05-19T15:15:02.471026Z",
     "iopub.status.idle": "2025-05-19T15:15:02.476048Z",
     "shell.execute_reply": "2025-05-19T15:15:02.475280Z",
     "shell.execute_reply.started": "2025-05-19T15:15:02.471561Z"
    },
    "trusted": true
   },
   "outputs": [
    {
     "name": "stdout",
     "output_type": "stream",
     "text": [
      "True\n",
      "Tesla T4\n"
     ]
    }
   ],
   "source": [
    "print(torch.cuda.is_available())\n",
    "print(torch.cuda.get_device_name(0) if torch.cuda.is_available() else \"No GPU\")"
   ]
  },
  {
   "cell_type": "code",
   "execution_count": 3,
   "id": "5f8a2558",
   "metadata": {
    "execution": {
     "iopub.execute_input": "2025-05-19T15:15:03.721380Z",
     "iopub.status.busy": "2025-05-19T15:15:03.720933Z",
     "iopub.status.idle": "2025-05-19T15:15:03.724937Z",
     "shell.execute_reply": "2025-05-19T15:15:03.724197Z",
     "shell.execute_reply.started": "2025-05-19T15:15:03.721357Z"
    },
    "trusted": true
   },
   "outputs": [],
   "source": [
    "os.environ[\"WANDB_DISABLED\"] = \"true\""
   ]
  },
  {
   "cell_type": "code",
   "execution_count": 4,
   "id": "f5cf819c",
   "metadata": {
    "execution": {
     "iopub.execute_input": "2025-05-19T15:15:06.632027Z",
     "iopub.status.busy": "2025-05-19T15:15:06.631756Z",
     "iopub.status.idle": "2025-05-19T15:15:06.756350Z",
     "shell.execute_reply": "2025-05-19T15:15:06.755850Z",
     "shell.execute_reply.started": "2025-05-19T15:15:06.632005Z"
    },
    "trusted": true
   },
   "outputs": [],
   "source": [
    "df = pd.read_csv('/kaggle/input/news-article-biasness/final_dataset_for_classification_processed.csv')"
   ]
  },
  {
   "cell_type": "code",
   "execution_count": null,
   "id": "9407da94",
   "metadata": {
    "trusted": true
   },
   "outputs": [],
   "source": [
    "# print(torch.cuda.is_available())  # Should print True\n",
    "# print(torch.cuda.device_count())  # Should be >= 1\n",
    "# print(torch.cuda.get_device_name(0))  # Should print your GPU name"
   ]
  },
  {
   "cell_type": "code",
   "execution_count": null,
   "id": "d311ee5d",
   "metadata": {
    "trusted": true
   },
   "outputs": [],
   "source": [
    "# df = pd.read_csv('final_dataset_for_classification_processed.csv')"
   ]
  },
  {
   "cell_type": "code",
   "execution_count": 5,
   "id": "898e4b01",
   "metadata": {
    "execution": {
     "iopub.execute_input": "2025-05-19T15:15:10.207966Z",
     "iopub.status.busy": "2025-05-19T15:15:10.207264Z",
     "iopub.status.idle": "2025-05-19T15:15:10.211656Z",
     "shell.execute_reply": "2025-05-19T15:15:10.210912Z",
     "shell.execute_reply.started": "2025-05-19T15:15:10.207939Z"
    },
    "trusted": true
   },
   "outputs": [],
   "source": [
    "label2id = {\"Left-leaning\": 0, \"Centrist\": 1, \"Right-leaning\": 2}\n",
    "id2label = {v: k for k, v in label2id.items()}"
   ]
  },
  {
   "cell_type": "code",
   "execution_count": 6,
   "id": "85782abe",
   "metadata": {
    "execution": {
     "iopub.execute_input": "2025-05-19T15:15:10.527759Z",
     "iopub.status.busy": "2025-05-19T15:15:10.527306Z",
     "iopub.status.idle": "2025-05-19T15:15:10.545875Z",
     "shell.execute_reply": "2025-05-19T15:15:10.545039Z",
     "shell.execute_reply.started": "2025-05-19T15:15:10.527736Z"
    },
    "trusted": true
   },
   "outputs": [],
   "source": [
    "train_df, temp_df = train_test_split(df, test_size=0.3, stratify=df[\"label\"], random_state=42)\n",
    "val_df, test_df = train_test_split(temp_df, test_size=0.5, stratify=temp_df[\"label\"], random_state=42)"
   ]
  },
  {
   "cell_type": "code",
   "execution_count": 7,
   "id": "f11536a9",
   "metadata": {
    "execution": {
     "iopub.execute_input": "2025-05-19T15:15:10.859463Z",
     "iopub.status.busy": "2025-05-19T15:15:10.858941Z",
     "iopub.status.idle": "2025-05-19T15:15:14.513410Z",
     "shell.execute_reply": "2025-05-19T15:15:14.512602Z",
     "shell.execute_reply.started": "2025-05-19T15:15:10.859442Z"
    },
    "trusted": true
   },
   "outputs": [
    {
     "data": {
      "application/vnd.jupyter.widget-view+json": {
       "model_id": "d689d2372e4f4c5f87ef6a3cf492ddb2",
       "version_major": 2,
       "version_minor": 0
      },
      "text/plain": [
       "tokenizer_config.json:   0%|          | 0.00/1.02k [00:00<?, ?B/s]"
      ]
     },
     "metadata": {},
     "output_type": "display_data"
    },
    {
     "data": {
      "application/vnd.jupyter.widget-view+json": {
       "model_id": "0e4c070f376d474e82bc26b41a363162",
       "version_major": 2,
       "version_minor": 0
      },
      "text/plain": [
       "config.json:   0%|          | 0.00/760 [00:00<?, ?B/s]"
      ]
     },
     "metadata": {},
     "output_type": "display_data"
    },
    {
     "data": {
      "application/vnd.jupyter.widget-view+json": {
       "model_id": "4728d29546a9491a8b1f659aab81b8ad",
       "version_major": 2,
       "version_minor": 0
      },
      "text/plain": [
       "spiece.model:   0%|          | 0.00/846k [00:00<?, ?B/s]"
      ]
     },
     "metadata": {},
     "output_type": "display_data"
    },
    {
     "data": {
      "application/vnd.jupyter.widget-view+json": {
       "model_id": "8257afe50e3842dca73098bf81ba9cea",
       "version_major": 2,
       "version_minor": 0
      },
      "text/plain": [
       "special_tokens_map.json:   0%|          | 0.00/775 [00:00<?, ?B/s]"
      ]
     },
     "metadata": {},
     "output_type": "display_data"
    }
   ],
   "source": [
    "# model_name = \"allenai/longformer-base-4096\"\n",
    "model_name = \"google/bigbird-roberta-base\"\n",
    "tokenizer = AutoTokenizer.from_pretrained(model_name)"
   ]
  },
  {
   "cell_type": "code",
   "execution_count": 8,
   "id": "7339dc1d",
   "metadata": {
    "execution": {
     "iopub.execute_input": "2025-05-19T15:15:14.514796Z",
     "iopub.status.busy": "2025-05-19T15:15:14.514488Z",
     "iopub.status.idle": "2025-05-19T15:15:14.518753Z",
     "shell.execute_reply": "2025-05-19T15:15:14.517962Z",
     "shell.execute_reply.started": "2025-05-19T15:15:14.514778Z"
    },
    "trusted": true
   },
   "outputs": [],
   "source": [
    "def tokenize(batch):\n",
    "    return tokenizer(\n",
    "        batch[\"processed_title\"],\n",
    "        batch[\"processed_content\"],\n",
    "        padding=\"max_length\",\n",
    "        truncation=True,\n",
    "        max_length=4096\n",
    "    )"
   ]
  },
  {
   "cell_type": "code",
   "execution_count": 9,
   "id": "ca6c9a59",
   "metadata": {
    "execution": {
     "iopub.execute_input": "2025-05-19T15:15:14.876157Z",
     "iopub.status.busy": "2025-05-19T15:15:14.875893Z",
     "iopub.status.idle": "2025-05-19T15:15:17.692671Z",
     "shell.execute_reply": "2025-05-19T15:15:17.691910Z",
     "shell.execute_reply.started": "2025-05-19T15:15:14.876137Z"
    },
    "trusted": true
   },
   "outputs": [
    {
     "data": {
      "application/vnd.jupyter.widget-view+json": {
       "model_id": "abf4b3afd53846168399e9290f4f3b2b",
       "version_major": 2,
       "version_minor": 0
      },
      "text/plain": [
       "Map:   0%|          | 0/930 [00:00<?, ? examples/s]"
      ]
     },
     "metadata": {},
     "output_type": "display_data"
    },
    {
     "data": {
      "application/vnd.jupyter.widget-view+json": {
       "model_id": "ed246021dc0e438ca41041b30d5c0dcd",
       "version_major": 2,
       "version_minor": 0
      },
      "text/plain": [
       "Map:   0%|          | 0/199 [00:00<?, ? examples/s]"
      ]
     },
     "metadata": {},
     "output_type": "display_data"
    },
    {
     "data": {
      "application/vnd.jupyter.widget-view+json": {
       "model_id": "76d97b4181714e699a66364921dd5c4f",
       "version_major": 2,
       "version_minor": 0
      },
      "text/plain": [
       "Map:   0%|          | 0/200 [00:00<?, ? examples/s]"
      ]
     },
     "metadata": {},
     "output_type": "display_data"
    }
   ],
   "source": [
    "train_dataset = Dataset.from_pandas(train_df).map(tokenize, batched=True).remove_columns([\"processed_title\", \"processed_content\"])\n",
    "val_dataset = Dataset.from_pandas(val_df).map(tokenize, batched=True).remove_columns([\"processed_title\", \"processed_content\"])\n",
    "test_dataset = Dataset.from_pandas(test_df).map(tokenize, batched=True).remove_columns([\"processed_title\", \"processed_content\"])"
   ]
  },
  {
   "cell_type": "code",
   "execution_count": 10,
   "id": "046be911",
   "metadata": {
    "execution": {
     "iopub.execute_input": "2025-05-19T15:15:17.694041Z",
     "iopub.status.busy": "2025-05-19T15:15:17.693769Z",
     "iopub.status.idle": "2025-05-19T15:15:17.698860Z",
     "shell.execute_reply": "2025-05-19T15:15:17.698011Z",
     "shell.execute_reply.started": "2025-05-19T15:15:17.694018Z"
    },
    "trusted": true
   },
   "outputs": [],
   "source": [
    "train_dataset.set_format(\"torch\")\n",
    "val_dataset.set_format(\"torch\")\n",
    "test_dataset.set_format(\"torch\")"
   ]
  },
  {
   "cell_type": "code",
   "execution_count": 11,
   "id": "677923b8",
   "metadata": {
    "execution": {
     "iopub.execute_input": "2025-05-19T15:15:17.746391Z",
     "iopub.status.busy": "2025-05-19T15:15:17.745972Z",
     "iopub.status.idle": "2025-05-19T15:15:21.271986Z",
     "shell.execute_reply": "2025-05-19T15:15:21.271254Z",
     "shell.execute_reply.started": "2025-05-19T15:15:17.746374Z"
    },
    "trusted": true
   },
   "outputs": [
    {
     "data": {
      "application/vnd.jupyter.widget-view+json": {
       "model_id": "a94289bea45b411d9662a5e535867658",
       "version_major": 2,
       "version_minor": 0
      },
      "text/plain": [
       "pytorch_model.bin:   0%|          | 0.00/513M [00:00<?, ?B/s]"
      ]
     },
     "metadata": {},
     "output_type": "display_data"
    },
    {
     "name": "stderr",
     "output_type": "stream",
     "text": [
      "Some weights of BigBirdForSequenceClassification were not initialized from the model checkpoint at google/bigbird-roberta-base and are newly initialized: ['classifier.dense.bias', 'classifier.dense.weight', 'classifier.out_proj.bias', 'classifier.out_proj.weight']\n",
      "You should probably TRAIN this model on a down-stream task to be able to use it for predictions and inference.\n"
     ]
    }
   ],
   "source": [
    "model = AutoModelForSequenceClassification.from_pretrained(\n",
    "    model_name,\n",
    "    num_labels=3,\n",
    "    id2label=id2label,\n",
    "    label2id=label2id\n",
    ")"
   ]
  },
  {
   "cell_type": "code",
   "execution_count": 12,
   "id": "0e4ec988",
   "metadata": {
    "execution": {
     "iopub.execute_input": "2025-05-19T15:15:21.273544Z",
     "iopub.status.busy": "2025-05-19T15:15:21.273266Z",
     "iopub.status.idle": "2025-05-19T15:15:21.313055Z",
     "shell.execute_reply": "2025-05-19T15:15:21.312386Z",
     "shell.execute_reply.started": "2025-05-19T15:15:21.273522Z"
    },
    "trusted": true
   },
   "outputs": [
    {
     "name": "stderr",
     "output_type": "stream",
     "text": [
      "Using the `WANDB_DISABLED` environment variable is deprecated and will be removed in v5. Use the --report_to flag to control the integrations used for logging result (for instance --report_to none).\n"
     ]
    }
   ],
   "source": [
    "training_args = TrainingArguments(\n",
    "    output_dir=\"./bigbird-roberta-base\",\n",
    "    eval_strategy=\"epoch\",\n",
    "    save_strategy=\"epoch\",\n",
    "    logging_steps=100,\n",
    "    num_train_epochs=5,\n",
    "    per_device_train_batch_size=1,\n",
    "    per_device_eval_batch_size=1,\n",
    "    weight_decay=0.01,\n",
    "    load_best_model_at_end=True,\n",
    "    metric_for_best_model=\"eval_loss\",\n",
    "    save_total_limit=1\n",
    ")\n"
   ]
  },
  {
   "cell_type": "code",
   "execution_count": 13,
   "id": "c68d6bf4",
   "metadata": {
    "execution": {
     "iopub.execute_input": "2025-05-19T15:15:21.345142Z",
     "iopub.status.busy": "2025-05-19T15:15:21.344759Z",
     "iopub.status.idle": "2025-05-19T15:15:21.350025Z",
     "shell.execute_reply": "2025-05-19T15:15:21.349206Z",
     "shell.execute_reply.started": "2025-05-19T15:15:21.345116Z"
    },
    "trusted": true
   },
   "outputs": [],
   "source": [
    "def compute_metrics_fn(beta):\n",
    "    def compute_metrics(eval_pred):\n",
    "        logits, labels = eval_pred\n",
    "        preds = np.argmax(logits, axis=-1)\n",
    "        return {f\"f{beta}_score\": fbeta_score(labels, preds, beta=beta, average='weighted')}\n",
    "    return compute_metrics"
   ]
  },
  {
   "cell_type": "code",
   "execution_count": 14,
   "id": "4159ffc4",
   "metadata": {
    "execution": {
     "iopub.execute_input": "2025-05-19T15:15:23.983063Z",
     "iopub.status.busy": "2025-05-19T15:15:23.982539Z",
     "iopub.status.idle": "2025-05-19T16:25:43.735464Z",
     "shell.execute_reply": "2025-05-19T16:25:43.734733Z",
     "shell.execute_reply.started": "2025-05-19T15:15:23.983040Z"
    },
    "trusted": true
   },
   "outputs": [
    {
     "name": "stdout",
     "output_type": "stream",
     "text": [
      "\n",
      "Training and evaluating for F1.8 score\n"
     ]
    },
    {
     "name": "stderr",
     "output_type": "stream",
     "text": [
      "/tmp/ipykernel_35/308298875.py:10: FutureWarning: `tokenizer` is deprecated and will be removed in version 5.0.0 for `Trainer.__init__`. Use `processing_class` instead.\n",
      "  trainer = Trainer(\n"
     ]
    },
    {
     "data": {
      "application/vnd.jupyter.widget-view+json": {
       "model_id": "954e83a2d98446c5b628bdaf4d731c39",
       "version_major": 2,
       "version_minor": 0
      },
      "text/plain": [
       "model.safetensors:   0%|          | 0.00/513M [00:00<?, ?B/s]"
      ]
     },
     "metadata": {},
     "output_type": "display_data"
    },
    {
     "name": "stderr",
     "output_type": "stream",
     "text": [
      "/usr/local/lib/python3.11/dist-packages/torch/nn/parallel/_functions.py:70: UserWarning: Was asked to gather along dimension 0, but all input tensors were scalars; will instead unsqueeze and return a vector.\n",
      "  warnings.warn(\n"
     ]
    },
    {
     "data": {
      "text/html": [
       "\n",
       "    <div>\n",
       "      \n",
       "      <progress value='2325' max='2325' style='width:300px; height:20px; vertical-align: middle;'></progress>\n",
       "      [2325/2325 1:08:47, Epoch 5/5]\n",
       "    </div>\n",
       "    <table border=\"1\" class=\"dataframe\">\n",
       "  <thead>\n",
       " <tr style=\"text-align: left;\">\n",
       "      <th>Epoch</th>\n",
       "      <th>Training Loss</th>\n",
       "      <th>Validation Loss</th>\n",
       "      <th>F1.8 Score</th>\n",
       "    </tr>\n",
       "  </thead>\n",
       "  <tbody>\n",
       "    <tr>\n",
       "      <td>1</td>\n",
       "      <td>0.791200</td>\n",
       "      <td>1.180229</td>\n",
       "      <td>0.743070</td>\n",
       "    </tr>\n",
       "    <tr>\n",
       "      <td>2</td>\n",
       "      <td>0.751500</td>\n",
       "      <td>1.167736</td>\n",
       "      <td>0.713829</td>\n",
       "    </tr>\n",
       "    <tr>\n",
       "      <td>3</td>\n",
       "      <td>0.785500</td>\n",
       "      <td>0.950998</td>\n",
       "      <td>0.761156</td>\n",
       "    </tr>\n",
       "    <tr>\n",
       "      <td>4</td>\n",
       "      <td>0.636300</td>\n",
       "      <td>1.010993</td>\n",
       "      <td>0.753287</td>\n",
       "    </tr>\n",
       "    <tr>\n",
       "      <td>5</td>\n",
       "      <td>0.937600</td>\n",
       "      <td>1.034087</td>\n",
       "      <td>0.753287</td>\n",
       "    </tr>\n",
       "  </tbody>\n",
       "</table><p>"
      ],
      "text/plain": [
       "<IPython.core.display.HTML object>"
      ]
     },
     "metadata": {},
     "output_type": "display_data"
    },
    {
     "name": "stderr",
     "output_type": "stream",
     "text": [
      "/usr/local/lib/python3.11/dist-packages/torch/nn/parallel/_functions.py:70: UserWarning: Was asked to gather along dimension 0, but all input tensors were scalars; will instead unsqueeze and return a vector.\n",
      "  warnings.warn(\n",
      "/usr/local/lib/python3.11/dist-packages/torch/nn/parallel/_functions.py:70: UserWarning: Was asked to gather along dimension 0, but all input tensors were scalars; will instead unsqueeze and return a vector.\n",
      "  warnings.warn(\n",
      "/usr/local/lib/python3.11/dist-packages/torch/nn/parallel/_functions.py:70: UserWarning: Was asked to gather along dimension 0, but all input tensors were scalars; will instead unsqueeze and return a vector.\n",
      "  warnings.warn(\n",
      "/usr/local/lib/python3.11/dist-packages/torch/nn/parallel/_functions.py:70: UserWarning: Was asked to gather along dimension 0, but all input tensors were scalars; will instead unsqueeze and return a vector.\n",
      "  warnings.warn(\n",
      "/usr/local/lib/python3.11/dist-packages/torch/nn/parallel/_functions.py:70: UserWarning: Was asked to gather along dimension 0, but all input tensors were scalars; will instead unsqueeze and return a vector.\n",
      "  warnings.warn(\n"
     ]
    },
    {
     "data": {
      "text/html": [],
      "text/plain": [
       "<IPython.core.display.HTML object>"
      ]
     },
     "metadata": {},
     "output_type": "display_data"
    },
    {
     "name": "stderr",
     "output_type": "stream",
     "text": [
      "/usr/local/lib/python3.11/dist-packages/torch/nn/parallel/_functions.py:70: UserWarning: Was asked to gather along dimension 0, but all input tensors were scalars; will instead unsqueeze and return a vector.\n",
      "  warnings.warn(\n"
     ]
    },
    {
     "name": "stdout",
     "output_type": "stream",
     "text": [
      "\n",
      "Classification Report for F1.8 Test:\n",
      "               precision    recall  f1-score   support\n",
      "\n",
      " Left-leaning       0.67      0.56      0.61        62\n",
      "     Centrist       0.00      0.00      0.00         5\n",
      "Right-leaning       0.79      0.88      0.83       133\n",
      "\n",
      "     accuracy                           0.76       200\n",
      "    macro avg       0.49      0.48      0.48       200\n",
      " weighted avg       0.73      0.76      0.74       200\n",
      "\n"
     ]
    }
   ],
   "source": [
    "final_results = defaultdict(dict)\n",
    "\n",
    "# early_stopping = EarlyStoppingCallback(\n",
    "#     early_stopping_patience=8,  # Stop if no improvement after 6 evaluation steps\n",
    "#     early_stopping_threshold=0.0  # Minimum change to qualify as an improvement\n",
    "# )\n",
    "\n",
    "for beta in [1.8]:\n",
    "    print(f\"\\nTraining and evaluating for F{beta} score\")\n",
    "    trainer = Trainer(\n",
    "        model=model,\n",
    "        args=training_args,\n",
    "        train_dataset=train_dataset,\n",
    "        eval_dataset=val_dataset,\n",
    "        tokenizer=tokenizer,\n",
    "        # callbacks=[early_stopping],\n",
    "        compute_metrics=compute_metrics_fn(beta)\n",
    "        )\n",
    "    \n",
    "    trainer.train()\n",
    "    val_result = trainer.evaluate(val_dataset)\n",
    "    final_results[f\"F{beta} Validation\"] = val_result\n",
    "\n",
    "    # Final test set prediction\n",
    "    test_pred_logits = trainer.predict(test_dataset).predictions\n",
    "    test_preds = np.argmax(test_pred_logits, axis=1)\n",
    "    test_labels = test_dataset[\"label\"]\n",
    "    test_fbeta = fbeta_score(test_labels, test_preds, beta=beta, average=\"weighted\")\n",
    "    report = classification_report(\n",
    "        test_labels, test_preds,\n",
    "        target_names=list(id2label.values()),\n",
    "        zero_division=0\n",
    "    )\n",
    "\n",
    "    final_results[f\"F{beta} Test\"] = {\n",
    "        \"f_beta\": test_fbeta,\n",
    "        \"classification_report\": report\n",
    "    }\n",
    "\n",
    "    print(f\"\\nClassification Report for F{beta} Test:\")\n",
    "    print(report)"
   ]
  },
  {
   "cell_type": "code",
   "execution_count": 15,
   "id": "e75d0812",
   "metadata": {
    "execution": {
     "iopub.execute_input": "2025-05-19T16:26:08.698115Z",
     "iopub.status.busy": "2025-05-19T16:26:08.697311Z",
     "iopub.status.idle": "2025-05-19T16:26:09.741098Z",
     "shell.execute_reply": "2025-05-19T16:26:09.740572Z",
     "shell.execute_reply.started": "2025-05-19T16:26:08.698084Z"
    },
    "trusted": true
   },
   "outputs": [],
   "source": [
    "trainer.save_model(\"./bigbird-roberta_best_model\")"
   ]
  },
  {
   "cell_type": "code",
   "execution_count": null,
   "id": "78e13d30-5b38-4fc5-a3c0-db040800ee02",
   "metadata": {
    "execution": {
     "iopub.execute_input": "2025-05-19T16:30:33.840373Z",
     "iopub.status.busy": "2025-05-19T16:30:33.839763Z",
     "iopub.status.idle": "2025-05-19T16:30:34.084300Z",
     "shell.execute_reply": "2025-05-19T16:30:34.083512Z",
     "shell.execute_reply.started": "2025-05-19T16:30:33.840352Z"
    },
    "trusted": true
   },
   "outputs": [
    {
     "data": {
      "image/png": "[encoded data removed]",
      "text/plain": [
       "<Figure size 1000x600 with 1 Axes>"
      ]
     },
     "metadata": {},
     "output_type": "display_data"
    }
   ],
   "source": [
    "def plot_loss(trainer):\n",
    "\n",
    "    if not hasattr(trainer, 'state') or not hasattr(trainer.state, 'log_history'):\n",
    "        print(\"Trainer state or log_history not available. Cannot plot loss.\")\n",
    "        return\n",
    "\n",
    "    log_history = trainer.state.log_history\n",
    "\n",
    "    train_loss = []\n",
    "    train_epochs = []\n",
    "    eval_loss = []\n",
    "    eval_epochs = []\n",
    "\n",
    "    for entry in log_history:\n",
    "        if 'loss' in entry and 'epoch' in entry:\n",
    "            train_loss.append(entry['loss'])\n",
    "            train_epochs.append(entry['epoch'])\n",
    "        if 'eval_loss' in entry and 'epoch' in entry:\n",
    "            eval_loss.append(entry['eval_loss'])\n",
    "            eval_epochs.append(entry['epoch'])\n",
    "\n",
    "    plt.figure(figsize=(10, 6))\n",
    "    plt.plot(train_epochs, train_loss, label='Training Loss')\n",
    "    plt.plot(eval_epochs, eval_loss, label='Validation Loss')\n",
    "\n",
    "    plt.xlabel('Epoch')\n",
    "    plt.ylabel('Loss')\n",
    "    plt.title('Training and Validation Loss per Epoch')\n",
    "    plt.legend()\n",
    "    plt.grid(True)\n",
    "    plt.show()\n",
    "\n",
    "plot_loss(trainer)\n"
   ]
  },
  {
   "cell_type": "code",
   "execution_count": null,
   "id": "f979068d-635d-4ae0-b91f-6c5f27e8d5ba",
   "metadata": {
    "execution": {
     "iopub.execute_input": "2025-05-19T16:31:08.510358Z",
     "iopub.status.busy": "2025-05-19T16:31:08.510086Z",
     "iopub.status.idle": "2025-05-19T16:31:53.558338Z",
     "shell.execute_reply": "2025-05-19T16:31:53.557312Z",
     "shell.execute_reply.started": "2025-05-19T16:31:08.510336Z"
    },
    "trusted": true
   },
   "outputs": [
    {
     "name": "stderr",
     "output_type": "stream",
     "text": [
      "/usr/local/lib/python3.11/dist-packages/torch/nn/parallel/_functions.py:70: UserWarning: Was asked to gather along dimension 0, but all input tensors were scalars; will instead unsqueeze and return a vector.\n",
      "  warnings.warn(\n"
     ]
    },
    {
     "data": {
      "text/html": [],
      "text/plain": [
       "<IPython.core.display.HTML object>"
      ]
     },
     "metadata": {},
     "output_type": "display_data"
    },
    {
     "name": "stdout",
     "output_type": "stream",
     "text": [
      "\n",
      "--- Confusion Matrix ---\n"
     ]
    },
    {
     "data": {
      "image/png": "[encoded data removed]",
      "text/plain": [
       "<Figure size 800x600 with 2 Axes>"
      ]
     },
     "metadata": {},
     "output_type": "display_data"
    },
    {
     "name": "stdout",
     "output_type": "stream",
     "text": [
      "\n",
      "--- ROC Curve ---\n"
     ]
    },
    {
     "ename": "AttributeError",
     "evalue": "'Tensor' object has no attribute 'astype'",
     "output_type": "error",
     "traceback": [
      "\u001b[0;31m---------------------------------------------------------------------------\u001b[0m",
      "\u001b[0;31mAttributeError\u001b[0m                            Traceback (most recent call last)",
      "\u001b[0;32m/tmp/ipykernel_35/4287433061.py\u001b[0m in \u001b[0;36m<cell line: 0>\u001b[0;34m()\u001b[0m\n\u001b[1;32m     22\u001b[0m \u001b[0;32mfor\u001b[0m \u001b[0mi\u001b[0m\u001b[0;34m,\u001b[0m \u001b[0mclass_name\u001b[0m \u001b[0;32min\u001b[0m \u001b[0mid2label\u001b[0m\u001b[0;34m.\u001b[0m\u001b[0mitems\u001b[0m\u001b[0;34m(\u001b[0m\u001b[0;34m)\u001b[0m\u001b[0;34m:\u001b[0m\u001b[0;34m\u001b[0m\u001b[0;34m\u001b[0m\u001b[0m\n\u001b[1;32m     23\u001b[0m     \u001b[0;31m# Binarize the true labels (one-vs-rest)\u001b[0m\u001b[0;34m\u001b[0m\u001b[0;34m\u001b[0m\u001b[0m\n\u001b[0;32m---> 24\u001b[0;31m     \u001b[0my_true_bin\u001b[0m \u001b[0;34m=\u001b[0m \u001b[0;34m(\u001b[0m\u001b[0mtest_labels\u001b[0m \u001b[0;34m==\u001b[0m \u001b[0mi\u001b[0m\u001b[0;34m)\u001b[0m\u001b[0;34m.\u001b[0m\u001b[0mastype\u001b[0m\u001b[0;34m(\u001b[0m\u001b[0mint\u001b[0m\u001b[0;34m)\u001b[0m\u001b[0;34m\u001b[0m\u001b[0;34m\u001b[0m\u001b[0m\n\u001b[0m\u001b[1;32m     25\u001b[0m     \u001b[0my_score\u001b[0m \u001b[0;34m=\u001b[0m \u001b[0mtest_pred_probabilities\u001b[0m\u001b[0;34m[\u001b[0m\u001b[0;34m:\u001b[0m\u001b[0;34m,\u001b[0m \u001b[0mi\u001b[0m\u001b[0;34m]\u001b[0m\u001b[0;34m\u001b[0m\u001b[0;34m\u001b[0m\u001b[0m\n\u001b[1;32m     26\u001b[0m \u001b[0;34m\u001b[0m\u001b[0m\n",
      "\u001b[0;31mAttributeError\u001b[0m: 'Tensor' object has no attribute 'astype'"
     ]
    },
    {
     "data": {
      "text/plain": [
       "<Figure size 1000x800 with 0 Axes>"
      ]
     },
     "metadata": {},
     "output_type": "display_data"
    }
   ],
   "source": [
    "test_pred_output = trainer.predict(test_dataset)\n",
    "test_pred_logits = test_pred_output.predictions\n",
    "test_preds = np.argmax(test_pred_logits, axis=1)\n",
    "test_labels = test_dataset[\"label\"]\n",
    "\n",
    "print(\"\\n--- Confusion Matrix ---\")\n",
    "cm = confusion_matrix(test_labels, test_preds)\n",
    "plt.figure(figsize=(8, 6))\n",
    "sns.heatmap(cm, annot=True, fmt='d', cmap='Blues', xticklabels=id2label.values(), yticklabels=id2label.values())\n",
    "plt.xlabel('Predicted Label')\n",
    "plt.ylabel('True Label')\n",
    "plt.title('Confusion Matrix')\n",
    "plt.show()\n",
    "\n",
    "# Plot ROC Curve For multiclass, you can plot ROC for each class vs the rest (One-vs-Rest)\n",
    "print(\"\\n--- ROC Curve ---\")\n",
    "test_pred_probabilities = torch.softmax(torch.tensor(test_pred_logits), dim=1).numpy()s), dim=1).numpy()\n",
    "\n",
    "plt.figure(figsize=(10, 8))\n",
    "for i, class_name in id2label.items():\n",
    "    y_true_bin = (test_labels == i).astype(int)\n",
    "    y_score = test_pred_probabilities[:, i]\n",
    "\n",
    "    fpr, tpr, _ = roc_curve(y_true_bin, y_score)\n",
    "    roc_auc = auc(fpr, tpr)\n",
    "\n",
    "    plt.plot(fpr, tpr, lw=2, label=f'ROC curve (class {class_name}) (AUC = {roc_auc:.2f})')\n",
    "\n",
    "plt.plot([0, 1], [0, 1], 'k--', lw=2, label='Random Guess')\n",
    "plt.xlim([0.0, 1.0])\n",
    "plt.ylim([0.0, 1.05])\n",
    "plt.xlabel('False Positive Rate')\n",
    "plt.ylabel('True Positive Rate')\n",
    "plt.title('Receiver Operating Characteristic (ROC) Curve - One-vs-Rest')\n",
    "plt.legend(loc=\"lower right\")\n",
    "plt.grid(True)\n",
    "plt.show()"
   ]
  },
  {
   "cell_type": "code",
   "execution_count": null,
   "id": "5898f187-c6a9-4021-b56c-8415911f776c",
   "metadata": {
    "execution": {
     "iopub.execute_input": "2025-05-19T16:33:39.138851Z",
     "iopub.status.busy": "2025-05-19T16:33:39.138358Z",
     "iopub.status.idle": "2025-05-19T16:33:40.226235Z",
     "shell.execute_reply": "2025-05-19T16:33:40.225459Z",
     "shell.execute_reply.started": "2025-05-19T16:33:39.138829Z"
    },
    "trusted": true
   },
   "outputs": [
    {
     "name": "stderr",
     "output_type": "stream",
     "text": [
      "[nltk_data] Downloading package punkt to /usr/share/nltk_data...\n",
      "[nltk_data]   Package punkt is already up-to-date!\n",
      "[nltk_data] Downloading package punkt_tab to /usr/share/nltk_data...\n",
      "[nltk_data]   Package punkt_tab is already up-to-date!\n",
      "[nltk_data] Downloading package stopwords to /usr/share/nltk_data...\n",
      "[nltk_data]   Package stopwords is already up-to-date!\n",
      "[nltk_data] Downloading package averaged_perceptron_tagger to\n",
      "[nltk_data]     /usr/share/nltk_data...\n",
      "[nltk_data]   Package averaged_perceptron_tagger is already up-to-\n",
      "[nltk_data]       date!\n",
      "[nltk_data] Downloading package averaged_perceptron_tagger_eng to\n",
      "[nltk_data]     /usr/share/nltk_data...\n",
      "[nltk_data]   Unzipping taggers/averaged_perceptron_tagger_eng.zip.\n",
      "[nltk_data] Downloading package wordnet to /usr/share/nltk_data...\n",
      "[nltk_data]   Package wordnet is already up-to-date!\n",
      "[nltk_data] Downloading package omw-1.4 to /usr/share/nltk_data...\n"
     ]
    }
   ],
   "source": [
    "import nltk\n",
    "import re\n",
    "from nltk.corpus import stopwords, wordnet\n",
    "from nltk.tokenize import word_tokenize\n",
    "from nltk import pos_tag\n",
    "from nltk.stem import WordNetLemmatizer\n",
    "\n",
    "# Download required NLTK data (run once)\n",
    "nltk.download('punkt')\n",
    "nltk.download('punkt_tab')\n",
    "nltk.download('stopwords')\n",
    "nltk.download('averaged_perceptron_tagger')\n",
    "nltk.download('averaged_perceptron_tagger_eng')\n",
    "nltk.download('wordnet')\n",
    "nltk.download('omw-1.4')\n",
    "\n",
    "def get_wordnet_pos(treebank_tag):\n",
    "    \"\"\"\n",
    "    Map POS tag from nltk.pos_tag (Penn Treebank) to WordNet POS tag.\n",
    "    \"\"\"\n",
    "    if treebank_tag.startswith('J'):\n",
    "        return wordnet.ADJ\n",
    "    elif treebank_tag.startswith('V'):\n",
    "        return wordnet.VERB\n",
    "    elif treebank_tag.startswith('N'):\n",
    "        return wordnet.NOUN\n",
    "    elif treebank_tag.startswith('R'):\n",
    "        return wordnet.ADV\n",
    "    else:\n",
    "        return wordnet.NOUN\n",
    "\n",
    "def preprocess_text(text):\n",
    "    if not isinstance(text, str):\n",
    "        return \"\"\n",
    "\n",
    "    text = re.sub(r'[^a-zA-Z\\s]', '', text).lower()\n",
    "    tokens = word_tokenize(text)\n",
    "\n",
    "    stop_words = set(stopwords.words('english'))\n",
    "    tokens = [word for word in tokens if word not in stop_words]\n",
    "    pos_tags = pos_tag(tokens)\n",
    "\n",
    "    lemmatizer = WordNetLemmatizer()\n",
    "    lemmatized_tokens = [\n",
    "        lemmatizer.lemmatize(word, get_wordnet_pos(pos))\n",
    "        for word, pos in pos_tags\n",
    "    ]\n",
    "\n",
    "    return ' '.join(lemmatized_tokens)"
   ]
  },
  {
   "cell_type": "code",
   "execution_count": 20,
   "id": "98e96812-6b43-47d3-93b8-882eae69dd2c",
   "metadata": {
    "execution": {
     "iopub.execute_input": "2025-05-19T16:33:46.833253Z",
     "iopub.status.busy": "2025-05-19T16:33:46.832727Z",
     "iopub.status.idle": "2025-05-19T16:33:46.838003Z",
     "shell.execute_reply": "2025-05-19T16:33:46.837361Z",
     "shell.execute_reply.started": "2025-05-19T16:33:46.833232Z"
    },
    "trusted": true
   },
   "outputs": [],
   "source": [
    "def predict_bias(headline, content):\n",
    "    processed_headline = preprocess_text(headline)\n",
    "    processed_content = preprocess_text(content)\n",
    "\n",
    "    inputs = tokenizer(\n",
    "        processed_headline,\n",
    "        processed_content,\n",
    "        return_tensors=\"pt\",\n",
    "        padding=\"max_length\",\n",
    "        truncation=True,\n",
    "        max_length=4096\n",
    "    )\n",
    "\n",
    "    device = torch.device(\"cuda\" if torch.cuda.is_available() else \"cpu\")\n",
    "    model.to(device)\n",
    "    inputs = {k: v.to(device) for k, v in inputs.items()}\n",
    "\n",
    "    with torch.no_grad():\n",
    "        outputs = model(**inputs)\n",
    "        logits = outputs.logits\n",
    "        predicted_class = torch.argmax(logits, dim=1).item()\n",
    "\n",
    "    return id2label[predicted_class]\n"
   ]
  },
  {
   "cell_type": "code",
   "execution_count": 21,
   "id": "7c30844a-ec5f-4e71-9014-27cb8b23dce8",
   "metadata": {
    "execution": {
     "iopub.execute_input": "2025-05-19T16:34:33.018467Z",
     "iopub.status.busy": "2025-05-19T16:34:33.018195Z",
     "iopub.status.idle": "2025-05-19T16:34:36.489110Z",
     "shell.execute_reply": "2025-05-19T16:34:36.488333Z",
     "shell.execute_reply.started": "2025-05-19T16:34:33.018448Z"
    },
    "trusted": true
   },
   "outputs": [
    {
     "data": {
      "text/plain": [
       "'Right-leaning'"
      ]
     },
     "execution_count": 21,
     "metadata": {},
     "output_type": "execute_result"
    }
   ],
   "source": [
    "#Right-leaning Example\n",
    "headline = \"Government's Decisive Action Strengthens National Security, Exposes Opposition Weakness\"\n",
    "\n",
    "content = \"\"\"In a bold move hailed by nationalists and security experts alike, the government has launched a comprehensive crackdown on illegal infiltrators along the northeastern border. Officials confirmed that the operation, coordinated between the Border Security Force (BSF) and the Intelligence Bureau, has already led to over 400 arrests and the dismantling of several sleeper cells suspected of anti-national activities.\n",
    "\n",
    "Home Minister Amit Shah emphasized the government's unwavering commitment to protecting India's sovereignty, stating, \"This is not just a border operation—it’s a message to every enemy of India.\" Critics, largely from opposition parties, have called the move politically motivated, but public sentiment suggests otherwise. A recent poll shows 78% of respondents supporting the crackdown as a necessary step to preserve national integrity.\n",
    "\n",
    "Meanwhile, liberal commentators continue to argue for leniency and \"humanitarian concerns,\" revealing once again a disconnect between elite narratives and the ground realities faced by citizens. Many view this operation as a reaffirmation of Prime Minister Modi's strong leadership and India's resolve in the face of threats—internal and external.\n",
    "\n",
    "As the dust settles, one thing is clear: the era of soft policy and strategic hesitation is over.\"\"\"\n",
    "\n",
    "predict_bias(headline, content)"
   ]
  },
  {
   "cell_type": "code",
   "execution_count": 22,
   "id": "76e12dc3-f7f1-4250-b0c0-723f3ce7855c",
   "metadata": {
    "execution": {
     "iopub.execute_input": "2025-05-19T16:36:44.661179Z",
     "iopub.status.busy": "2025-05-19T16:36:44.660919Z",
     "iopub.status.idle": "2025-05-19T16:36:45.094027Z",
     "shell.execute_reply": "2025-05-19T16:36:45.093456Z",
     "shell.execute_reply.started": "2025-05-19T16:36:44.661162Z"
    },
    "trusted": true
   },
   "outputs": [
    {
     "data": {
      "text/plain": [
       "'Left-leaning'"
      ]
     },
     "execution_count": 22,
     "metadata": {},
     "output_type": "execute_result"
    }
   ],
   "source": [
    "#Left-leaning Example\n",
    "\n",
    "headline = \"Widening Inequality and Erosion of Freedoms Raise Alarms in New Economic Policy Rollout\"\n",
    "\n",
    "content = \"\"\"As the government unveils its latest economic reform package touted as a growth accelerator, activists and economists warn of its regressive impact on India’s working class and marginalized communities. The decision to further privatize core public sector enterprises and reduce regulatory safeguards for labor rights has drawn sharp criticism from civil society groups and opposition leaders.\n",
    "\n",
    "“This policy is a textbook example of trickle-down economics that never trickles down,” said social activist Medha Patkar. “While corporates are handed tax breaks and land concessions, the rural poor continue to face rising food prices, stagnant wages, and shrinking welfare schemes.”\n",
    "\n",
    "Critics also point to the increased concentration of media and institutional power, which they argue undermines the democratic accountability of such sweeping policy decisions. Several journalists and researchers have expressed concern over the silencing of dissenting voices and the branding of criticism as anti-national.\n",
    "\n",
    "Meanwhile, the government insists the reforms are necessary to improve investor confidence and global competitiveness. However, data suggests that economic inequality has widened during recent quarters, with the top 1% holding more than 40% of national wealth.\n",
    "\n",
    "As debates intensify, the question remains: can India pursue rapid growth without sacrificing the social contract and hard-won democratic values?\"\"\"\n",
    "\n",
    "predict_bias(headline, content)"
   ]
  },
  {
   "cell_type": "code",
   "execution_count": 23,
   "id": "ae216b3d-47dd-4ec4-b65d-29b2532a2d24",
   "metadata": {
    "execution": {
     "iopub.execute_input": "2025-05-19T16:39:12.411416Z",
     "iopub.status.busy": "2025-05-19T16:39:12.410720Z",
     "iopub.status.idle": "2025-05-19T16:39:12.850978Z",
     "shell.execute_reply": "2025-05-19T16:39:12.850241Z",
     "shell.execute_reply.started": "2025-05-19T16:39:12.411392Z"
    },
    "trusted": true
   },
   "outputs": [
    {
     "data": {
      "text/plain": [
       "'Left-leaning'"
      ]
     },
     "execution_count": 23,
     "metadata": {},
     "output_type": "execute_result"
    }
   ],
   "source": [
    "#Left-leaning Example - 2\n",
    "\n",
    "headline = \"Ceasefire on UN orders, BJP MLA says\"\n",
    "\n",
    "content = \"\"\"New Delhi: Sometimes Colonel Sophia Qureshi is called the sister of terrorists, sometimes BJP leaders have given credit for Operation Sindoor to the Prime Minister. The controversy over this has not subsided. The saffron minister of Madhya Pradesh has also had to listen to the Supreme Court's rebuke. Even then, there is no stopping. Padma Party MLA Narendra Prajapati is once again making a fuss about the glory of the Indian military. The Madhya Pradesh public representative claims that the operation that was started under the leadership of Prime Minister Narendra Modi would have ended the entire Pakistan. However, India agreed to a ceasefire with Pakistan only after the UN order. As soon as his comment went viral, there was a storm of criticism from various quarters. The BJP MLA's explanation on damage control, the media has presented his comment in a confusing way. He said some things out of emotion. They are being misinterpreted.\"\"\"\n",
    "\n",
    "predict_bias(headline, content)"
   ]
  },
  {
   "cell_type": "code",
   "execution_count": 30,
   "id": "b994a5b3-f139-490a-96d3-6a71c7e4c51e",
   "metadata": {
    "execution": {
     "iopub.execute_input": "2025-05-19T16:47:56.515185Z",
     "iopub.status.busy": "2025-05-19T16:47:56.514477Z",
     "iopub.status.idle": "2025-05-19T16:47:56.984838Z",
     "shell.execute_reply": "2025-05-19T16:47:56.984120Z",
     "shell.execute_reply.started": "2025-05-19T16:47:56.515161Z"
    },
    "trusted": true
   },
   "outputs": [
    {
     "data": {
      "text/plain": [
       "'Left-leaning'"
      ]
     },
     "execution_count": 30,
     "metadata": {},
     "output_type": "execute_result"
    }
   ],
   "source": [
    "### Tough to classify Right-leaning\n",
    "\n",
    "headline = \"Educational Reform Aims to Strengthen National Identity and Global Competence\"\n",
    "\n",
    "content = \"\"\"The Ministry of Education unveiled a new curriculum framework this week, introducing a series of changes designed to foster both national pride and international competitiveness among students. The revised syllabus includes greater emphasis on India’s civilizational achievements, traditional knowledge systems, and foundational constitutional values.\n",
    "\n",
    "“For decades, our textbooks have overlooked large parts of India’s intellectual legacy,” said one senior official involved in drafting the changes. “This isn’t about rewriting history, but about reclaiming historical balance.”\n",
    "\n",
    "The initiative also includes enhanced STEM modules, coding in primary classes, and increased focus on global skills and soft diplomacy — ensuring students are not only rooted in their heritage but also prepared for the global economy.\n",
    "\n",
    "While some educators have praised the reforms for integrating culture with modern pedagogy, a few academic voices have expressed concerns about potential ideological overtones. However, public response has been largely positive, especially from parents and rural education advocates who feel the new curriculum offers a more relatable and aspirational roadmap.\n",
    "\n",
    "Analysts note that the changes reflect a broader shift in educational priorities across the globe, where countries are reasserting cultural distinctiveness in an increasingly homogenized world. The government maintains that the reforms are apolitical, student-centered, and aligned with national development goals.\"\"\"\n",
    "\n",
    "predict_bias(headline, content)"
   ]
  },
  {
   "cell_type": "code",
   "execution_count": 32,
   "id": "59aa1e77-9f7e-4698-907b-c85b8b6ba9ce",
   "metadata": {
    "execution": {
     "iopub.execute_input": "2025-05-19T16:50:53.495295Z",
     "iopub.status.busy": "2025-05-19T16:50:53.495028Z",
     "iopub.status.idle": "2025-05-19T16:50:53.936362Z",
     "shell.execute_reply": "2025-05-19T16:50:53.935805Z",
     "shell.execute_reply.started": "2025-05-19T16:50:53.495274Z"
    },
    "trusted": true
   },
   "outputs": [
    {
     "data": {
      "text/plain": [
       "'Left-leaning'"
      ]
     },
     "execution_count": 32,
     "metadata": {},
     "output_type": "execute_result"
    }
   ],
   "source": [
    "### Tough to classify Left-leaning\n",
    "\n",
    "headline = \"Policy Experts Urge Focus on Inclusive Growth as Inequality Trends Persist\"\n",
    "\n",
    "content = \"\"\"As India reports a steady uptick in quarterly GDP figures, economists and policy researchers are calling for a parallel emphasis on equity-oriented reforms to ensure that growth reaches all segments of society. Recent data from the National Sample Survey indicates that while urban incomes have grown by 8.3%, rural wage growth remains sluggish, with certain informal sectors still recovering from the economic shock of the pandemic.\n",
    "\n",
    "“No one is denying the importance of growth, but the distributional aspect cannot be ignored,” said a senior researcher at a Delhi-based think tank. “We need to prioritize foundational services — healthcare, education, food security — especially in underserved areas.”\n",
    "\n",
    "The government has increased capital spending and incentivized private infrastructure projects, which many analysts agree is crucial for long-term productivity. However, experts warn that without concurrent investment in human capital, the demographic dividend may remain underutilized.\n",
    "\n",
    "Independent surveys show a widening gender gap in labor participation and a decline in formal employment opportunities for recent graduates — trends that have persisted despite broader macroeconomic gains. Several policy briefs recommend targeted interventions such as conditional cash transfers, rural employment guarantees, and education-linked subsidies to bridge these gaps.\n",
    "\n",
    "With India poised to become the world’s third-largest economy, analysts argue that a dual focus on competitiveness and inclusion will be essential for maintaining long-term social cohesion and political stability.\"\"\"\n",
    "\n",
    "predict_bias(headline, content) ## Still giving perfect classification"
   ]
  },
  {
   "cell_type": "code",
   "execution_count": 24,
   "id": "f709c048-0165-4e69-b382-790d5894abfc",
   "metadata": {
    "execution": {
     "iopub.execute_input": "2025-05-19T16:42:02.974624Z",
     "iopub.status.busy": "2025-05-19T16:42:02.974355Z",
     "iopub.status.idle": "2025-05-19T16:42:03.438704Z",
     "shell.execute_reply": "2025-05-19T16:42:03.438054Z",
     "shell.execute_reply.started": "2025-05-19T16:42:02.974604Z"
    },
    "trusted": true
   },
   "outputs": [
    {
     "data": {
      "text/plain": [
       "'Left-leaning'"
      ]
     },
     "execution_count": 24,
     "metadata": {},
     "output_type": "execute_result"
    }
   ],
   "source": [
    "##Centrist Example\n",
    "\n",
    "headline = \"New Economic Reforms Spark Debate Over Growth Strategy and Social Impact\"\n",
    "\n",
    "content = \"\"\"The Indian government has announced a new set of economic reforms aimed at boosting investment and accelerating GDP growth. The policy includes further privatization of state-owned enterprises and regulatory changes designed to improve the ease of doing business.\n",
    "\n",
    "Supporters argue that these measures are necessary to modernize India’s economy and attract foreign capital. \"These reforms send a strong signal that India is open for business,\" said a senior official from the Ministry of Finance. \"We expect increased job creation and long-term economic benefits.\"\n",
    "\n",
    "However, labor unions and civil society groups have raised concerns about the potential social costs. Critics worry that the reforms could reduce labor protections and widen the gap between rich and poor. They also caution against weakening the public sector in areas such as healthcare and education.\n",
    "\n",
    "Economists remain divided. While some applaud the government's market-oriented approach, others stress the importance of maintaining inclusive growth. Independent data indicates that while overall investment has increased, income inequality also remains a pressing issue.\n",
    "\n",
    "As the country moves forward, the success of the reform package will likely depend on its implementation and the balance struck between economic efficiency and social equity.\"\"\"\n",
    "\n",
    "predict_bias(headline, content) ## Mis-classifying as expected"
   ]
  },
  {
   "cell_type": "code",
   "execution_count": 34,
   "id": "8c7599a8-3862-4aca-9af9-f364ae7e0a10",
   "metadata": {
    "execution": {
     "iopub.execute_input": "2025-05-19T16:52:34.954474Z",
     "iopub.status.busy": "2025-05-19T16:52:34.953897Z",
     "iopub.status.idle": "2025-05-19T16:52:35.406159Z",
     "shell.execute_reply": "2025-05-19T16:52:35.405525Z",
     "shell.execute_reply.started": "2025-05-19T16:52:34.954453Z"
    },
    "trusted": true
   },
   "outputs": [
    {
     "data": {
      "text/plain": [
       "'Right-leaning'"
      ]
     },
     "execution_count": 34,
     "metadata": {},
     "output_type": "execute_result"
    }
   ],
   "source": [
    "## Republic News\n",
    "\n",
    "headline = \"India Rules Out Quick Thaw in Ties with Turkey After Ankara Backs Pakistan\"\n",
    "\n",
    "content = \"\"\"Briefing the Standing Committee on External Affairs on Monday, Foreign Secretary Vikram Misri told MPs that New Delhi does not expect a thaw with Ankara any time soon. According to people present at the closed‑door meeting, Misri noted that Turkey “made its stand very clear in its support to Pakistan” and India therefore “does not see the relations … becoming normalised in the near future.”\n",
    "\n",
    "Committee members from across party lines—including Shashi Tharoor, Asaduddin Owaisi and Abhishek Banerjee—attended the briefing, which focused on the objectives and results of Operation Sindoor.\n",
    "\n",
    "Why relations soured\n",
    "Operation Sindoor: Launched on 7 May after a terror attack killed 26 civilians in Pahalgam, the Indian operation struck nine terrorist camps inside Pakistan and Pakistan‑occupied Jammu and Kashmir.\n",
    "\n",
    "Turkish support for Pakistan: Ankara publicly criticised India’s strikes as “provocative” and, according to Indian officials, supplied Turkish‑made Baykar Yiha III kamikaze drones that Pakistan later used in cross‑border attacks.\n",
    "\n",
    "Drone interceptions: India’s air‑defence network—featuring S‑400 and Akash systems—shot down multiple drones and missiles between 7 and 10 May.\n",
    "\n",
    "The episode came barely a year after India’s humanitarian “Operation Dost” sent relief teams to Turkey following the February 2023 earthquake.\n",
    "\n",
    "Wider diplomatic backdrop\n",
    "Turkish President Recep Tayyip Erdoğan has also made disturbing comments on Kashmir, recently telling Pakistani Prime Minister Shehbaz Sharif that Ankara is ready to “explore ways to assist” on the issue—remarks India views as interference in its internal affairs.\n",
    "\n",
    "During Monday’s committee session, MPs pressed the foreign secretary on several related topics, including:\n",
    "\n",
    "US President Donald Trump’s claim of brokering last week’s cease‑fire.\n",
    "\n",
    "Domestic criticism from Congress MP Rahul Gandhi over India’s diplomatic handling of the crisis.\n",
    "\n",
    "Misri underscored that any future provocations—whether via drones, missiles or terror strikes—would be met with “strong” action by India’s armed forces.\n",
    "\n",
    "What happens next?\n",
    "Officials in New Delhi expect bilateral engagement with Ankara to remain minimal. Any near‑term improvement will likely depend on Turkey distancing itself from Pakistan‑based terrorist activity—a prospect Indian diplomats currently consider remote.\"\"\"\n",
    "\n",
    "predict_bias(headline, content)"
   ]
  },
  {
   "cell_type": "code",
   "execution_count": null,
   "id": "e5bf6f14-5661-45ba-b761-1beadcefb933",
   "metadata": {
    "trusted": true
   },
   "outputs": [],
   "source": []
  }
 ],
 "metadata": {
  "kaggle": {
   "accelerator": "nvidiaTeslaT4",
   "dataSources": [
    {
     "datasetId": 7457735,
     "sourceId": 11867683,
     "sourceType": "datasetVersion"
    }
   ],
   "isGpuEnabled": true,
   "isInternetEnabled": true,
   "language": "python",
   "sourceType": "notebook"
  },
  "kernelspec": {
   "display_name": "Python 3",
   "language": "python",
   "name": "python3"
  },
  "language_info": {
   "codemirror_mode": {
    "name": "ipython",
    "version": 3
   },
   "file_extension": ".py",
   "mimetype": "text/x-python",
   "name": "python",
   "nbconvert_exporter": "python",
   "pygments_lexer": "ipython3",
   "version": "3.11.11"
  }
 },
 "nbformat": 4,
 "nbformat_minor": 5
}
