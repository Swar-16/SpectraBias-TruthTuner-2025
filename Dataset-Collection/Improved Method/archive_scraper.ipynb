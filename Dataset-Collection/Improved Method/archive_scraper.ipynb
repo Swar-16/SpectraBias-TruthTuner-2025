{
 "cells": [
  {
   "cell_type": "code",
   "execution_count": null,
   "id": "8f296d0b",
   "metadata": {},
   "outputs": [],
   "source": [
    "from bs4 import BeautifulSoup\n",
    "from requests import get\n",
    "from random import choice \n",
    "from selenium import webdriver  \n",
    "from selenium.webdriver.chrome.options import Options\n",
    "import pandas as pd\n",
    "from tqdm import tqdm\n",
    "from datetime import datetime, timedelta\n",
    "import html\n",
    "import re\n"
   ]
  },
  {
   "cell_type": "code",
   "execution_count": null,
   "id": "26aff7fd",
   "metadata": {},
   "outputs": [],
   "source": [
    "BASE_URL = \"https://timesofindia.indiatimes.com\"\n",
    "\n",
    "USER_AGENTS = [\n",
    "    \"Mozilla/5.0 (Windows NT 10.0; Win64; x64) AppleWebKit/537.36 (KHTML, like Gecko) Chrome/124.0.0.0 Safari/537.36\",\n",
    "    \"Mozilla/5.0 (Macintosh; Intel Mac OS X 10_15_7) AppleWebKit/605.1.15 (KHTML, like Gecko) Version/17.0 Safari/605.1.15\",\n",
    "    \"Mozilla/5.0 (Windows NT 10.0; Win64; x64; rv:109.0) Gecko/20100101 Firefox/117.0\",\n",
    "    \"Mozilla/5.0 (X11; Ubuntu; Linux x86_64; rv:109.0) Gecko/20100101 Firefox/117.0\",\n",
    "    \"Mozilla/5.0 (Macintosh; Intel Mac OS X 10_14_6) AppleWebKit/537.36 (KHTML, like Gecko) Chrome/91.0.4472.114 Safari/537.36\",\n",
    "    \"Mozilla/5.0 (Windows NT 6.1; Win64; x64) AppleWebKit/537.36 (KHTML, like Gecko) Chrome/92.0.4515.159 Safari/537.36\",\n",
    "    \"Mozilla/5.0 (Windows NT 10.0; Win64; x64) AppleWebKit/537.36 (KHTML, like Gecko) Chrome/120.0.0.0 Safari/537.36\",\n",
    "    \"Mozilla/5.0 (Macintosh; Intel Mac OS X 13_3_1) AppleWebKit/537.36 (KHTML, like Gecko) Chrome/113.0.0.0 Safari/537.36\",\n",
    "    \"Mozilla/5.0 (X11; Linux x86_64) AppleWebKit/537.36 (KHTML, like Gecko) Chrome/119.0.0.0 Safari/537.36\",\n",
    "    \"Mozilla/5.0 (Windows NT 10.0; Win64; x64; rv:115.0) Gecko/20100101 Firefox/115.0\",\n",
    "    \"Mozilla/5.0 (Macintosh; Intel Mac OS X 12_6_3) AppleWebKit/605.1.15 (KHTML, like Gecko) Version/16.3 Safari/605.1.15\"\n",
    "]\n",
    "\n",
    "news_orgs = [\n",
    "    \"Times of India\",\n",
    "]\n",
    "\n",
    "fname = \"proxyscrape_premium_http_proxies.txt\"\n",
    "\n",
    "PROXIES = []\n",
    "with open(fname, 'r') as f:\n",
    "    for line in f:\n",
    "        PROXIES.append(line.strip())\n",
    "\n",
    "# print(PROXIES)\n",
    "\n",
    "\n",
    "INITIAL_START_TIME = 44562  #1/1/2022\n",
    "START_YEAR = 2022"
   ]
  },
  {
   "cell_type": "code",
   "execution_count": null,
   "id": "c05a154d",
   "metadata": {},
   "outputs": [],
   "source": [
    "#TOI arcive URL generator\n",
    "def generate_url(target_date, start_year = START_YEAR):\n",
    "    # Base parameters\n",
    "    start_date = datetime(start_year, 1, 1)\n",
    "    \n",
    "    # Calculate days difference\n",
    "    days_diff = (target_date - start_date).days\n",
    "    \n",
    "    # Calculate starttime for target date\n",
    "    starttime = INITIAL_START_TIME + days_diff\n",
    "    \n",
    "    # Generate URL\n",
    "    url = f\"{BASE_URL}/{target_date.year}/{target_date.month}/{target_date.day}/archivelist/year-{target_date.year},month-{target_date.month},starttime-{starttime}.cms\"\n",
    "    \n",
    "    return url    "
   ]
  },
  {
   "cell_type": "code",
   "execution_count": null,
   "id": "2ae62a20",
   "metadata": {},
   "outputs": [],
   "source": [
    "#Date generator\n",
    "def generate_dates(start_year = START_YEAR):\n",
    "    start_date = datetime(start_year, 1, 1)\n",
    "    end_date = datetime.now()  # Current date\n",
    "    \n",
    "    date = start_date\n",
    "    dates = []\n",
    "    \n",
    "    while date <= end_date:\n",
    "        dates.append(date)\n",
    "        date += timedelta(days=1)\n",
    "    \n",
    "    return dates\n"
   ]
  },
  {
   "cell_type": "code",
   "execution_count": null,
   "id": "12d876a2",
   "metadata": {},
   "outputs": [],
   "source": [
    "def get_details(url):\n",
    "    chrome_options = Options()\n",
    "    chrome_options.add_argument(\"--headless\")\n",
    "    chrome_options.add_argument(\"--disable-gpu\")\n",
    "    chrome_options.add_argument(\"--window-size=1920,1080\")\n",
    "    chrome_options.add_argument(\"--no-sandbox\")\n",
    "    \n",
    "    chrome_options.add_argument(f'user-agent={choice(USER_AGENTS)}')\n",
    "    chrome_options.add_argument(f'--proxy-server=http://{choice(PROXIES)}')\n",
    "\n",
    "    session = webdriver.Chrome(options=chrome_options)\n",
    "    try:\n",
    "        session.get(url)\n",
    "        # time.sleep(3)  # Time for JS to load\n",
    "\n",
    "        html = session.page_source\n",
    "        soup = BeautifulSoup(html, \"html.parser\")\n",
    "        # with open(\"response_log_1.txt\", \"a\", encoding=\"utf-8\") as f:\n",
    "        #     f.write(soup.prettify() + \"\\n\")\n",
    "\n",
    "        article_links = []\n",
    "\n",
    "        for a in soup.find_all(\"a\", href=True):\n",
    "            if \"/articleshow/\" in a[\"href\"]:\n",
    "                article_links.append(a[\"href\"])\n",
    "\n",
    "        return article_links\n",
    "\n",
    "    except Exception as e:\n",
    "        with open (\"error_log.txt\", \"a\") as f:\n",
    "            f.write(f\"Error fetching {url}: {e}\\n\")\n",
    "        return []\n",
    "    finally:\n",
    "        session.quit()"
   ]
  },
  {
   "cell_type": "code",
   "execution_count": 15,
   "id": "1199747c",
   "metadata": {},
   "outputs": [],
   "source": [
    "def get_details_basic(url):\n",
    "\n",
    "    try:\n",
    "        headers = {\n",
    "            \"User-Agent\": choice(USER_AGENTS)\n",
    "        }\n",
    "        proxy_addr = choice(PROXIES)\n",
    "        proxies = {\n",
    "            \"http\": f\"http://{proxy_addr}\",\n",
    "            \"https\": f\"http://{proxy_addr}\"\n",
    "        }\n",
    "\n",
    "        response = get(url, headers=headers, proxies=proxies, timeout=5)\n",
    "        soup = BeautifulSoup(response.text, 'html.parser')\n",
    "        # with open(\"response_log.txt\", \"a\", encoding=\"utf-8\") as f:\n",
    "        #     f.write(soup.prettify() + \"\\n\")\n",
    "\n",
    "        article_links = []\n",
    "\n",
    "        for a in soup.find_all(\"a\", href=True):\n",
    "            if \"/articleshow/\" in a[\"href\"]:\n",
    "                article_links.append(a[\"href\"])\n",
    "\n",
    "        return article_links\n",
    "\n",
    "    except Exception as e:\n",
    "        with open (\"error_log.txt\", \"a\") as f:\n",
    "            f.write(f\"Error fetching {url}: {e}\\n\")\n",
    "        return []\n"
   ]
  },
  {
   "cell_type": "code",
   "execution_count": null,
   "id": "11c9980c",
   "metadata": {},
   "outputs": [],
   "source": [
    "dates = generate_dates(start_year=START_YEAR)\n",
    "dates = dates[:5]  #testing with 5 days\n",
    "\n",
    "urls = []\n",
    "for date in dates : \n",
    "    url = generate_url(date, start_year=START_YEAR)\n",
    "    urls.append(url)\n"
   ]
  },
  {
   "cell_type": "code",
   "execution_count": 18,
   "id": "9997d4de",
   "metadata": {},
   "outputs": [
    {
     "data": {
      "text/plain": [
       "['/business/india-business/india-to-benefit-from-easier-uk-visa-rules/articleshow/120980145.cms',\n",
       " '/business/india-business/under-cyberattack-nse-bse-curb-website-access-from-abroad/articleshow/120980127.cms',\n",
       " '/world/rest-of-world/south-korea-says-north-korea-has-fired-several-missiles-towards-its-eastern-waters/articleshow/120980116.cms',\n",
       " '/business/international-business/musks-starlink-gets-loi-for-satcom-licence/articleshow/120979946.cms',\n",
       " '/india/operation-name-and-two-women-send-powerful-message/articleshow/120979869.cms',\n",
       " '/india/hal-on-high-alert-for-iaf-fighter-fleet-care/articleshow/120979494.cms',\n",
       " '/india/husbands-killed-by-terrorists-justice-delivered-by-operation-sindoor/articleshow/120979410.cms',\n",
       " '/india/muslim-clerics-netas-back-operation-against-pakistan-terror-infra/articleshow/120979319.cms',\n",
       " '/rbi-board-needs-to-play-like-rahul-dravid-not-sidhu-raghuram-rajan/articleshow/66524299.cms',\n",
       " '/karnataka-bypolls-congress-shocks-bjp-in-ballari-lok-sabha-seat/articleshow/66524123.cms',\n",
       " '/ducati-unveils-3-new-motorcycles-ahead-of-eicma-2018/articleshow/66523500.cms',\n",
       " '/weve-planned-well-for-australia-tour-murali-vijay/articleshow/66523486.cms',\n",
       " '/world/rest-of-world/xi-meets-putin-in-moscow-as-ukraine-reports-truce-violations/articleshow/120992792.cms',\n",
       " '/world/us/us-uk-expected-to-make-announcements-after-trump-touts-major-trade-deal/articleshow/120992472.cms',\n",
       " '/world/europe/locals-gather-for-red-wine-spritz-and-conclave-watch-in-a-cardinals-hometown/articleshow/120992278.cms',\n",
       " '/world/europe/x-restricts-access-to-jailed-istanbul-mayors-account-after-turkeys-request/articleshow/120991935.cms',\n",
       " '/world/europe/how-black-germans-fight-for-recognition-of-nazi-era-crimes/articleshow/120990929.cms',\n",
       " '/world/europe/80-years-after-wwii-is-the-us-turning-its-back-on-europe/articleshow/120990391.cms',\n",
       " '/world/us/operation-sindoor-indian-american-lawmakers-voice-their-support-back-indias-right-to-self-defence/articleshow/120988602.cms',\n",
       " '/world/europe/cardinals-return-to-the-sistine-chapel-to-vote-on-a-new-pope-after-the-first-ballot-fails/articleshow/120989991.cms',\n",
       " '/world/europe/why-the-eus-push-to-cut-russian-energy-ties-is-so-difficult/articleshow/120992519.cms',\n",
       " '/world/middle-east/yemen-is-the-us-houthi-deal-the-end-of-red-sea-attacks/articleshow/120991913.cms',\n",
       " '/world/middle-east/syria-says-qatar-to-fund-public-sector-salaries/articleshow/120991976.cms',\n",
       " '/world/europe/mediterranean-migrant-rescues-suffer-under-lacking-eu-policy/articleshow/120991355.cms',\n",
       " '/world/europe/why-chinas-temu-and-shein-are-europes-new-trade-threat/articleshow/120991025.cms',\n",
       " '/world/europe/are-german-teenage-boys-falling-out-of-love-with-football/articleshow/120990463.cms',\n",
       " '/world/rest-of-world/cop30-can-be-a-turning-point-in-climate-fight-says-brazils-un-cop30-president/articleshow/120990192.cms',\n",
       " '/business/india-business/trade-unions-seek-increase-in-min-epfo-pension-to-rs-5000/articleshow/117005352.cms',\n",
       " '/business/india-business/modi-nadella-hold-talks-on-ai-tech-data-privacy/articleshow/117005129.cms',\n",
       " '/business/india-business/rupee-hits-record-low-of-85-84-vs-/articleshow/117005091.cms',\n",
       " '/business/india-business/jsw-in-talks-to-buy-out-pe-everstones-8-in-mg-india/articleshow/117005047.cms',\n",
       " '/business/india-business/small-packs-in-demand-as-fmcg-companies-hike-prices/articleshow/117004882.cms',\n",
       " '/business/india-business/sensex-slumps-over-1200-points-as-q3-results-signal-economic-woes/articleshow/117004879.cms',\n",
       " '/business/india-business/india-emerges-as-second-largest-gold-buyer-adds-8-tons-gold-to-its-reserve-world-gold-council/articleshow/117001745.cms',\n",
       " '/business/international-business/bitcoin-back-at-100k-as-congress-set-to-ratify-trump-win/articleshow/117005341.cms',\n",
       " '/business/india-business/table-space-ceo-amit-banerji-dies-at-45/articleshow/117005262.cms',\n",
       " '/business/india-business/survey-services-sector-activity-at-4-month-high/articleshow/117005211.cms',\n",
       " '/business/international-business/elon-musks-kekius-maximus-meme-coin-sparks-wild-4800-surge-is-this-future-of-crypto/articleshow/117003835.cms',\n",
       " '/business/india-business/india-becomes-second-largest-buyer-of-gold-after-poland-in-2024-world-gold-council/articleshow/117000889.cms',\n",
       " '/business/india-business/securitisation-hikes-by-80-deals-worth-rs-2-4-lakh-cr-likely-in-fy25-icra/articleshow/117000836.cms',\n",
       " '/business/india-business/investors-lost-more-than-rs-10-lakh-crore-as-market-ended-in-red/articleshow/116999571.cms',\n",
       " '/technology/tech-news/elon-musk-clarifies-no-money-comment-to-satya-nadella-microsoft-ceo-responds/articleshow/117491852.cms',\n",
       " '/technology/tech-news/elon-musks-ex-girlfriend-grimes-i-would-like-to-state-that-the-father-of-my-children-was-/articleshow/117491068.cms',\n",
       " '/technology/tech-news/cheq-launches-indias-first-ai-powered-credit-card-expert-cheq-wisor/articleshow/117494700.cms',\n",
       " '/technology/appliances/haier-india-announces-republic-day-discounts-avail-up-to-25-instant-discount-on-purchases/articleshow/117494456.cms',\n",
       " '/technology/gaming/four-hours-in-assassins-creed-shadows-feels-like-franchise-finding-its-soul-again/articleshow/117497604.cms',\n",
       " '/technology/tech-news/samsung-president-takes-aim-at-chinese-smartphone-companies-says-there-are-trust-issues/articleshow/117496614.cms',\n",
       " '/technology/tech-news/pakistan-lawmakers-to-elon-musk-apologise-first-then-seek-approval/articleshow/117496002.cms',\n",
       " '/technology/tech-news/chatgpt-maker-openai-to-delhi-hc-no-legal-obligation-in-india-as-no-office-or-permanent-establishment-here-servers-too-located-outside-india/articleshow/117491870.cms',\n",
       " '/technology/gaming/garena-free-fire-max-redeem-codes-for-january-24-how-to-redeem-codes-and-win-rewards/articleshow/117509233.cms',\n",
       " '/technology/gaming/nyt-connections-hints-and-answers-for-today-january-24-puzzle-solved/articleshow/117508793.cms',\n",
       " '/technology/times-techies/should-india-build-its-own-ai-foundation-models/articleshow/117503028.cms',\n",
       " '/technology/times-techies/india-must-rise-to-americas-500-billion-stargate-challenge/articleshow/117503038.cms',\n",
       " '/technology/times-techies/agentic-ai-opportunities-for-indian-tech/articleshow/117503017.cms',\n",
       " '/technology/gaming/nyt-strands-january-24-2025-clues-answers-spangram-for-today/articleshow/117494801.cms',\n",
       " '/technology/gaming/wordle-today-1315-clues-and-hints-for-january-24-2025/articleshow/117487918.cms',\n",
       " '/sports/cricket/icc-champions-trophy-2025/rain-plays-spoilsport-in-rawalpindi-pakistan-and-bangladesh-exit-champions-trophy-winless/articleshow/118603107.cms',\n",
       " '/sports/cricket/icc-champions-trophy-2025/how-much-prize-money-pakistan-take-home-after-champions-trophy-group-stage-elimination/articleshow/118603024.cms',\n",
       " '/sports/more-sports/others/exclusive-from-broken-olympics-dream-to-beating-olympian-for-senior-national-tt-title-the-diya-chitale-story/articleshow/118600131.cms',\n",
       " '/sports/cricket/icc-champions-trophy-2025/champions-trophy-you-think-we-came-here-to-play-only-maxwell-says-irked-afghanistan-captain-ahead-of-australia-clash/articleshow/118600037.cms',\n",
       " '/sports/cricket/icc-champions-trophy-2025/rohit-sharma-has-matured-as-a-leader-over-the-years-shikhar-dhawan/articleshow/118597594.cms',\n",
       " '/sports/cricket/icc-champions-trophy-2025/afghanistans-wins-are-not-upsets-anymore-sachin-tendulkar/articleshow/118594050.cms',\n",
       " '/sports/cricket/icc-champions-trophy-2025/champions-trophy-group-b-scenarios-will-afghanistan-spoil-big-brothers-party/articleshow/118591898.cms',\n",
       " '/sports/cricket/icc-champions-trophy-2025/champions-trophy-afghanistan-are-never-going-to-be-taken-lightly-ever-again/articleshow/118599144.cms',\n",
       " '/sports/mlb/news/alex-vestas-wife-kayla-takes-a-friendly-jab-at-gavin-luxs-wife-molly-at-reds-vs-dodgers/articleshow/118605843.cms',\n",
       " '/sports/mlb/news/its-on-us-freddie-freeman-justifies-la-dodgers-massive-400-million-payroll-spree/articleshow/118602254.cms',\n",
       " '/sports/wwe/top-stories/is-jey-uso-inching-towards-becoming-the-richest-wwe-superstar-from-the-anoai-family/articleshow/118590387.cms',\n",
       " '/sports/esports/news/master-the-marvel-rivals-top-tips-outfits-exclusive-twitch-drops-revealed/articleshow/118605524.cms',\n",
       " '/sports/nhl/news/hes-gonna-eventually-conclude-tsn-analysts-says-sidney-crosby-could-reconsider-his-future-with-the-penguins-after-teaming-up-with-nathan-mackinnon/articleshow/118604270.cms',\n",
       " '/sports/esports/pokemon/how-to-get-reshiram-in-pokmon-go-and-can-it-be-shiny/articleshow/118605374.cms',\n",
       " '/sports/wwe/top-stories/not-everyone-is-against-ranveer-allahbadia-after-indias-got-latent-controversy-amid-former-wwe-stars-threat-samay-raina-gets-a-shout-out-from-seedhe-maut/articleshow/118602787.cms',\n",
       " '/entertainment/hindi/bollywood/news/bollywoods-portrayal-of-mental-health-have-we-covered-the-distance-from-stigma-to-sensitivity/articleshow/118575994.cms',\n",
       " '/entertainment/hindi/bollywood/news/aruna-irani-bangkok-mein-shopping-karna-bhari-pad-gaya-exclusive/articleshow/118575908.cms',\n",
       " '/entertainment/hindi/bollywood/news/sanjay-dutt-shot-vaastav-while-attending-court-faced-financial-hurdles-reveals-mahesh-manjrekar/articleshow/118581766.cms',\n",
       " '/entertainment/hindi/bollywood/news/john-abraham-says-people-get-sadistic-pleasure-in-bollywood-when-a-film-flops-we-have-a-tendency-to-write-people-off/articleshow/118580665.cms',\n",
       " '/entertainment/hindi/bollywood/news/paresh-rawal-on-bollywoods-past-remakes-says-hum-toh-chori-ka-maal-hi-uthaate-the/articleshow/118580870.cms',\n",
       " '/entertainment/hindi/bollywood/news/tripti-dimri-showers-love-for-vicky-kaushals-performance-in-chhaava-he-gives-it-his-soul-/articleshow/118580603.cms',\n",
       " '/entertainment/hindi/bollywood/news/when-govinda-said-he-is-attracted-to-divya-bharti-and-is-resisting-her-charm-sunita-would-be-upset-but-there-is-second-marriage-in-my-kundli/articleshow/118580452.cms',\n",
       " '/entertainment/hindi/bollywood/news/prajakta-koli-gets-emotional-as-she-walks-down-the-aisle-to-marry-beau-vrishank-khanal-watch-inside-video/articleshow/118579823.cms',\n",
       " '/entertainment/hindi/bollywood/news/dhanush-melts-hearts-with-a-rare-photo-of-himself-and-son-linga/articleshow/118581937.cms',\n",
       " '/entertainment/hindi/bollywood/news/vicky-kaushals-chhaava-gears-up-for-a-grand-telugu-release-after-a-blockbuster-run/articleshow/118580863.cms',\n",
       " '/entertainment/english/hollywood/news/patrick-wilson-joins-amy-adams-starrer-cape-fear-cast/articleshow/118580772.cms',\n",
       " '/entertainment/events/chandigarh/a-bureaucrat-a-filmmaker-jashanpreet-aka-rose-gill/articleshow/118580608.cms',\n",
       " '/entertainment/hindi/bollywood/news/yuzvendra-chahal-resumes-work-dhanashree-verma-posts-a-cryptic-message-amid-divorce-rumors-when-you-think-its-all-over-he-begins/articleshow/118580571.cms',\n",
       " '/entertainment/events/delhi/parikrama-to-collaborate-with-over-40-musicians-at-a-festival/articleshow/118580264.cms',\n",
       " '/entertainment/tamil/movies/news/kayadu-lohars-self-made-meme-sparks-debate/articleshow/118579766.cms',\n",
       " '/tv/news/hindi/newly-launched-show-jaadu-teri-nazar-makes-a-smashing-entry-in-top-5-most-watched-tv-shows-of-the-week/articleshow/118605210.cms',\n",
       " '/tv/news/hindi/people-might-assume-there-is-more-to-my-friendship-with-nishi-saxena-but-we-are-just-friends-sagar-parekh/articleshow/118599853.cms',\n",
       " '/tv/news/hindi/celebrity-masterchef-tejasswi-prakashs-mimicry-of-her-mother-leaves-chefs-vikas-khanna-and-ranveer-brar-in-splits-see-video/articleshow/118600926.cms',\n",
       " '/tv/news/hindi/shark-tank-india-4-peyush-bansal-slams-aman-gupta-for-shaming-a-founder-comparing-his-brand-with-former-pitcher-says-lines-were-crossed/articleshow/118599455.cms',\n",
       " '/tv/news/hindi/unnati-tomar-responds-to-digvijay-rathees-number-getting-leaked-says-i-even-apologised-for-that-why-are-they-targeting-me/articleshow/118598753.cms',\n",
       " '/tv/news/hindi/celebrity-masterchef-usha-nadkarni-breaks-down-amid-archana-gautam-and-rajiv-adatias-quarrel-former-fears-elimination-says-meri-koi-sunn-nahi-raha-hai/articleshow/118597733.cms',\n",
       " '/tv/news/hindi/hina-khan-expresses-gratitude-to-dia-mirza-for-her-heartfelt-support-amid-stage-three-breast-cancer-diagnosis-see-post/articleshow/118597459.cms',\n",
       " '/anupamaas-princy-prajapati-buys-a-luxurious-car-on-dhanteras-at-a-young-age-says-im-delighted-that-my-wait-is-over-and-we-got-our-new-car-exclusive/articleshow/114735387.cms',\n",
       " '/arti-singh-and-beau-dipak-chauhan-beam-with-joy-as-they-pose-ahead-of-their-starry-sangeet-night/articleshow/109541395.cms',\n",
       " '/life-style/food-news/4000-kg-adulterated-ghee-worth-rs-17-5-lakh-seized-in-this-state/articleshow/118608704.cms',\n",
       " '/etimes/trending/japans-inunaki-village-the-place-from-where-no-one-has-ever-returned/articleshow/118607780.cms',\n",
       " '/etimes/trending/whats-the-story-behind-chinas-puppy-mountain-heres-why-tourists-are-flocking-to-see-it/articleshow/118607602.cms',\n",
       " '/etimes/trending/zebras-are-black-with-white-stripes-or-white-with-black-stripes/articleshow/118599931.cms',\n",
       " '/etimes/trending/was-lord-shivas-mighty-vasuki-naag-real-fossils-of-a-prehistoric-50-foot-snake-found-in-india/articleshow/118597457.cms',\n",
       " '/etimes/trending/worlds-top-10-super-billionaires-and-their-net-worth/articleshow/118606772.cms',\n",
       " '/life-style/relationships/work/5-habits-to-borrow-from-elon-musk-that-make-him-successful/articleshow/118604688.cms',\n",
       " '/life-style/health-fitness/health-news/grandfather-85-suffered-for-two-years-before-fatal-medical-mistake-was-discovered-by-doctors/articleshow/118597030.cms',\n",
       " '/life-style/health-fitness/health-news/7-early-signs-that-indicate-your-heart-arteries-are-blocked/articleshow/118608390.cms',\n",
       " '/life-style/health-fitness/de-stress/optical-illusion-only-a-person-with-a-strong-iq-can-tell-whats-wrong-on-this-tea-table/articleshow/118608116.cms',\n",
       " '/life-style/health-fitness/health-news/surprising-study-uncovers-serious-lung-damage-in-children-and-teens-with-long-covid/articleshow/118607873.cms',\n",
       " '/life-style/health-fitness/health-news/4-common-medicines-that-increase-the-risk-of-skin-cancer/articleshow/118607531.cms',\n",
       " '/life-style/health-fitness/health-news/a-simple-phone-hack-can-improve-mental-health-as-much-as-antidepressants-heres-how/articleshow/118607425.cms',\n",
       " '/life-style/travel/news/skip-the-long-mumbai-goa-drive-ropax-ferry-service-in-the-pipeline/articleshow/118606340.cms',\n",
       " 'http://photogallery.indiatimes.com/celebs/celeb-themes/anant-ambani-and-radhika-merchants-shubh-ashirwad-ceremony/articleshow/111758243.cms',\n",
       " 'http://photogallery.indiatimes.com/celebs/celeb-themes/anant-ambani-and-radhika-merchants-shubh-ashirwad-ceremony/articleshow/111758243.cms',\n",
       " 'http://photogallery.indiatimes.com/celebs/celeb-themes/anant-ambani-and-radhika-merchants-grand-celebration-brings-bollywood-and-global-icons-together/articleshow/111709301.cms',\n",
       " 'http://photogallery.indiatimes.com/celebs/celeb-themes/anant-ambani-and-radhika-merchants-grand-celebration-brings-bollywood-and-global-icons-together/articleshow/111709301.cms',\n",
       " 'http://photogallery.indiatimes.com/celebs/celeb-themes/joyous-celebrations-as-the-ambani-family-unites-in-the-grand-wedding-of-anant-ambani-and-radhika-merchant/articleshow/111712916.cms',\n",
       " 'http://photogallery.indiatimes.com/celebs/celeb-themes/joyous-celebrations-as-the-ambani-family-unites-in-the-grand-wedding-of-anant-ambani-and-radhika-merchant/articleshow/111712916.cms',\n",
       " 'http://photogallery.indiatimes.com/celebs/celeb-themes/from-sanjay-dutt-and-ms-dhoni-to-ananya-panday-and-janhvi-kapoor-stars-grace-anant-ambani-and-radhika-merchants-special-puja-ceremony/articleshow/111644848.cms',\n",
       " 'http://photogallery.indiatimes.com/celebs/celeb-themes/from-sanjay-dutt-and-ms-dhoni-to-ananya-panday-and-janhvi-kapoor-stars-grace-anant-ambani-and-radhika-merchants-special-puja-ceremony/articleshow/111644848.cms',\n",
       " 'http://photogallery.indiatimes.com/celebs/celeb-themes/star-studded-haldi-celebration-for-anant-ambani-and-radhika-merchant/articleshow/111606656.cms',\n",
       " 'http://photogallery.indiatimes.com/celebs/celeb-themes/star-studded-haldi-celebration-for-anant-ambani-and-radhika-merchant/articleshow/111606656.cms',\n",
       " 'http://photogallery.indiatimes.com/celebs/celeb-themes/radhika-merchants-second-look-from-sangeet-ceremony-radiates-glamour-in-manish-malhotra-chainmail-saree/articleshow/111550488.cms',\n",
       " 'http://photogallery.indiatimes.com/celebs/celeb-themes/radhika-merchants-second-look-from-sangeet-ceremony-radiates-glamour-in-manish-malhotra-chainmail-saree/articleshow/111550488.cms',\n",
       " 'http://photogallery.indiatimes.com/celebs/celeb-themes/from-salman-khan-to-ranveer-singh-janhvi-kapoor-stars-grace-anant-ambani-and-radhika-merchants-haldi-ceremony/articleshow/111589308.cms',\n",
       " 'http://photogallery.indiatimes.com/celebs/celeb-themes/from-salman-khan-to-ranveer-singh-janhvi-kapoor-stars-grace-anant-ambani-and-radhika-merchants-haldi-ceremony/articleshow/111589308.cms',\n",
       " 'http://photogallery.indiatimes.com/news/events/ambani-family-kicks-off-anant-and-radhikas-wedding-celebrations-with-mass-wedding-for-underprivileged-couples/articleshow/111515341.cms',\n",
       " 'http://photogallery.indiatimes.com/news/events/ambani-family-kicks-off-anant-and-radhikas-wedding-celebrations-with-mass-wedding-for-underprivileged-couples/articleshow/111515341.cms',\n",
       " '/education/news/new-utah-bill-sparks-debate-nazi-and-confederate-flags-permitted-in-schools-pride-flags-banned/articleshow/118250832.cms',\n",
       " '/education/news/heres-what-the-us-education-department-does-and-why-trump-wants-it-dismantled/articleshow/118245431.cms',\n",
       " '/education/news/oklahoma-governor-rejects-controversial-plan-to-collect-students-immigration-status-citing-public-safety-concerns/articleshow/118240661.cms',\n",
       " '/education/news/17-us-states-move-to-strip-gender-dysphoria-from-federal-disability-protections-in-a-major-legal-battle/articleshow/118237547.cms',\n",
       " '/education/news/trump-administration-begins-massive-federal-layoffs-targeting-220000-probationary-workers-and-signaling-more-cuts-ahead/articleshow/118247723.cms',\n",
       " '/education/news/university-of-utah-could-lose-43-5m-in-nih-funding-for-cancer-research-under-new-trump-administration-cuts/articleshow/118247187.cms',\n",
       " '/home/education/study-abroad/short-term-study-visa-in-the-uk-eligibility-criteria-fees-and-steps-to-apply/articleshow/114241074.cms',\n",
       " '/home/education/study-abroad/studying-quantitative-and-computational-finance-at-georgia-institute-of-technology-check-eligibility-criteria-curriculum-and-placement-records/articleshow/114240580.cms',\n",
       " '/home/education/study-abroad/sir-ratan-tata-post-doctoral-fellowship-at-lse-check-eligibility-criteria-duration-grant-amount-and-other-details/articleshow/114218100.cms',\n",
       " '/home/education/study-abroad/yale-vs-cambridge-where-should-you-study-english-literature/articleshow/114046841.cms',\n",
       " '/home/education/jobs/amazon-alphabet-and-jpmorgan-chase-among-the-best-us-employers-in-2024-what-attracts-professionals-to-these-companies/articleshow/113601767.cms',\n",
       " '/home/education/study-abroad/gmat-vs-gre-which-one-is-tougher/articleshow/113292423.cms',\n",
       " '/home/education/times-study-abroad/europe/france-blow-for-le-pen-as-voters-give-leftists-most-seats-over-far-right/articleshow/111564200.cms',\n",
       " '/science/getting-ready-for-space-war-5-chinese-satellites-spotted-dogfighting/articleshow/119204885.cms',\n",
       " '/world/us/thousands-of-government-scientists-face-dismissal-threat-under-trumps-federal-workforce-plan/articleshow/119185432.cms',\n",
       " '/science/30000-year-old-vulture-that-reveals-completely-new-type-of-fossilisation/articleshow/119189906.cms',\n",
       " '/science/sunita-williams-becomes-the-second-astronaut-to-spend-the-longest-time-in-space-see-the-astronauts-who-spent-the-most-time-aboard-the-iss/articleshow/119171125.cms',\n",
       " '/science/watch-moment-nasa-astronauts-sunita-williams-and-butch-wilmore-made-spectacular-splashdown-after-286-days-in-space/articleshow/119179649.cms',\n",
       " '/india/sunita-williams-ancestral-village-in-gujarat-offers-prayers-plans-diwali-like-celebrations-to-welcome-her-return-to-earth/articleshow/119165137.cms',\n",
       " '/science/heres-what-nasa-astronauts-sunita-williams-and-butch-wilmore-cant-wait-to-do-after-landing-on-earth/articleshow/119156942.cms',\n",
       " '/science/sunita-williams-return-to-earth-why-spacexs-dragon-takes-17-hours-while-russias-soyuz-returns-in-just-3-5-hours/articleshow/119155334.cms',\n",
       " '/science/merton-science-covid-19-scientists/articleshow/119215582.cms',\n",
       " '/science/from-fireball-to-splashdown-sunita-williams-dramatic-return-to-earth/articleshow/119205028.cms',\n",
       " '/science/sunita-williams-and-butch-wilmore-nasa-astronauts-carried-on-stretchers-after-their-landing-find-out-why/articleshow/119203117.cms',\n",
       " '/science/who-is-sunita-williams-husband-everything-you-need-to-know-about-their-love-story-her-family-background-nasa-journey-and-more/articleshow/119198255.cms',\n",
       " '/science/watch-dolphins-welcome-crew-9-astronauts-as-sunita-williams-spacecraft-splashes-down-safely/articleshow/119180450.cms',\n",
       " '/first-look/detective-byomkesh-bakshy/articleshow/20874151.cms',\n",
       " '/first-look/first-look-of-ranbir-kapoors-roy-also-starring-arjun-rampal-and-jacqueline-fernandez/articleshow/21526875.cms',\n",
       " '/entertainment/english/hollywood/previews/edge-of-tomorrow/articleshow/21100378.cms',\n",
       " 'https://timesofindia.indiatimes.com/sports/cricket/news/bloody-face-covered-with-towel-rachin-ravindra-carried-off-the-field-against-pakistan-watch/articleshow/118079708.cms',\n",
       " 'https://timesofindia.indiatimes.com/sports/cricket/news/poor-lights-of-gaddafi-stadium-pakistan-cricket-board-faces-backlash-after-rachin-ravindra-injury/articleshow/118080050.cms',\n",
       " 'https://timesofindia.indiatimes.com/education/news/cbse-class-10-english-exam-25-literature-questions-students-should-practise-for-top-notch-preparation/articleshow/117969684.cms',\n",
       " 'https://timesofindia.indiatimes.com/education/news/canadas-new-open-work-permit-rules-what-spouses-of-international-students-and-workers-need-to-know/articleshow/118012760.cms',\n",
       " 'https://timesofindia.indiatimes.com/sports/cricket/england-tour-of-india-2025/2nd-odi-virat-kohlis-in-but-whos-out-selection-dilemma-as-india-look-to-seal-series-against-england/articleshow/118081041.cms',\n",
       " 'https://timesofindia.indiatimes.com/sports/nfl/news/hailee-steinfelds-gesture-towards-josh-allen-at-the-nfl-honors-has-the-internet-talking-and-says-a-lot-about-their-relationship/articleshow/118073393.cms',\n",
       " 'https://timesofindia.indiatimes.com/sports/nba/top-stories/will-anthony-edwards-play-tonight-against-the-portland-trail-blazers-latest-update-on-the-minnesota-timberwolves-stars-injury-report-february-8-2025/articleshow/118074066.cms',\n",
       " 'https://timesofindia.indiatimes.com/sports/nba/top-stories/golden-state-warriors-vs-chicago-bulls-02/08-starting-five-injury-report-start-time-how-to-watch-and-more/articleshow/118073780.cms',\n",
       " 'https://timesofindia.indiatimes.com/india/delhi-results-2025-linkedin-lessons-from-brand-bjps-win-and-brand-aaps-loss/articleshow/118066797.cms',\n",
       " 'https://timesofindia.indiatimes.com/india/manipur-cm-n-biren-singh-resigns-submits-letter-to-governor/articleshow/118090748.cms',\n",
       " 'https://timesofindia.indiatimes.com/city/delhi/who-is-parvesh-verma-new-delhi-assembly-constituency-delhi-election-bjp-candidate-vs-arvind-kejriwal-aap-vs-congress-sandeep-dikshit/articleshow/118049764.cms',\n",
       " 'https://timesofindia.indiatimes.com/city/delhi/delhi-election-results-2025-aap-lost-reasons-arvind-kejriwal-new-delhi-manish-sisodia-bjp-modi-incumbency-corruptio-sheesh-mahal-liquor-freebies-congress-rahul/articleshow/118023276.cms',\n",
       " 'https://timesofindia.indiatimes.com/entertainment/tamil/movies/news/shiva-rajkumar-breaks-his-silence-on-language-row-kamal-haasan-is-like-a-father-but-kannada-needs-more-than-words/articleshow/121482988.cms',\n",
       " 'https://timesofindia.indiatimes.com/tv/news/hindi/indian-idol-12-winner-pawandeep-rajan-gets-discharged-from-hospital-shares-picture-from-the-flight-writes-going-back-home/articleshow/121511116.cms',\n",
       " 'https://timesofindia.indiatimes.com/life-style/travel/news/delhi-weather-orange-alert-in-place-for-rain-thunderstorms-and-strong-winds/articleshow/121509594.cms',\n",
       " 'https://timesofindia.indiatimes.com/life-style/health-fitness/health-news/bowel-cancer-is-rising-rapidly-in-younger-people-what-are-the-causes-and-symptoms-of-the-disease/articleshow/121452261.cms',\n",
       " 'https://timesofindia.indiatimes.com/etimes/trending/this-anaconda-rivers-helicopter-view-will-haunt-your-nightmares-netizens-question-if-its-real-or-ai-generated-watch-now/articleshow/121465859.cms',\n",
       " 'https://timesofindia.indiatimes.com/education/news/ou-results-2025-osmania-university-declares-april-may-2025-ug-results-for-b-sc-bba-ba-and-b-com-programmes/articleshow/121494873.cms',\n",
       " 'https://timesofindia.indiatimes.com/education/news/rbse-class-5th-result-2025-declared-direct-link-to-download-rajasthan-class-5th-results-here/articleshow/121510500.cms',\n",
       " 'https://timesofindia.indiatimes.com/education/study-abroad/1-8-million-and-rising-here-is-why-indian-students-prefer-studying-at-international-destinations/articleshow/121489474.cms',\n",
       " 'https://timesofindia.indiatimes.com/education/news/ts-dost-2025-phase-1-seat-allotment-list-released-check-direct-link-to-download-here/articleshow/121492248.cms',\n",
       " 'https://timesofindia.indiatimes.com/education/news/hp-tet-june-2025-hpbose-releases-admit-cards-for-tgt-arts-medical-subjects-on-hpbose-org-check-schedule-and-direct-link-here/articleshow/121466046.cms',\n",
       " 'https://timesofindia.indiatimes.com/sports/cricket/ipl/top-stories/virat-kohli-the-force-behind-rcbs-dominant-march-to-ipl-2025-final/articleshow/121502906.cms',\n",
       " 'https://timesofindia.indiatimes.com/sports/cricket/india-tour-of-england/i-am-ready-cheteshwar-pujara-breaks-silence-on-gautam-gambhirs-call-for-england-tour/articleshow/121488605.cms',\n",
       " 'https://timesofindia.indiatimes.com/sports/cricket/ipl/top-stories/rcb-enter-ipl-2025-final-how-to-buy-tickets-for-the-summit-clash-in-ahmedabad/articleshow/121506301.cms',\n",
       " 'https://timesofindia.indiatimes.com/sports/cricket/ipl/top-stories/who-is-anushka-sharmas-friend-in-rcbs-qualifier-win-over-pbks-internet-wants-to-know/articleshow/121506875.cms',\n",
       " 'https://timesofindia.indiatimes.com/sports/cricket/ipl/top-stories/what-happens-if-gujarat-titans-vs-mumbai-indians-ipl-eliminator-gets-washed-out-in-mullanpur/articleshow/121507966.cms',\n",
       " 'https://timesofindia.indiatimes.com/education/news/ou-results-2025-osmania-university-declares-april-may-2025-ug-results-for-b-sc-bba-ba-and-b-com-programmes/articleshow/121494873.cms',\n",
       " 'https://timesofindia.indiatimes.com/sports/cricket/ipl/top-stories/ipl-match-today-gt-vs-mi-team-prediction-head-to-head-pitch-report-mullanpur-weather-update/articleshow/121509838.cms',\n",
       " 'https://timesofindia.indiatimes.com/india/not-a-single-project-completed-on-time-air-chiefs-blunt-warning-over-delays-in-defence-procurements/articleshow/121486643.cms',\n",
       " 'https://timesofindia.indiatimes.com/sports/nfl/news/miami-dolphins-reluctant-to-trade-jalen-ramsey-due-to-his-expensive-contract-and-trade-market-challenges/articleshow/121497366.cms',\n",
       " 'https://timesofindia.indiatimes.com/sports/cricket/india-tour-of-england/india-a-vs-england-lions-live-streaming-where-to-watch-and-full-schedule/articleshow/121497522.cms',\n",
       " 'https://timesofindia.indiatimes.com/india/operation-sindoor-how-indias-homegrown-weapons-outclassed-chinese-arms/articleshow/121485763.cms',\n",
       " 'https://timesofindia.indiatimes.com/city/bhubaneswar/cash-rains-from-bhubaneswar-flat-chief-engineer-throws-bundles-of-rs-500-notes-from-flat-during-raid/articleshow/121505434.cms',\n",
       " 'https://timesofindia.indiatimes.com/city/bhopal/i-know-impact-of-electrocution-convicted-chemistry-professor-contests-husbands-autopsy-report-in-madhya-pradesh-hc/articleshow/121501690.cms',\n",
       " 'https://timesofindia.indiatimes.com/city/indore/6-days-on-no-signs-of-indore-honeymooners-in-shillong/articleshow/121472109.cms',\n",
       " '/india/dnpa-code-of-ethics-for-digital-news-websites/articleshow/78840462.cms']"
      ]
     },
     "execution_count": 18,
     "metadata": {},
     "output_type": "execute_result"
    }
   ],
   "source": [
    "# get_details_basic('https://timesofindia.indiatimes.com/2022/1/5/archivelist/year-2022,month-1,starttime-44566.cms')\n",
    "get_details('https://timesofindia.indiatimes.com/2022/1/5/archivelist/year-2022,month-1,starttime-44566.cms')"
   ]
  },
  {
   "cell_type": "code",
   "execution_count": null,
   "id": "909e3f8d",
   "metadata": {},
   "outputs": [
    {
     "name": "stderr",
     "output_type": "stream",
     "text": [
      "Fetching article links:   0%|          | 0/5 [00:00<?, ?it/s]"
     ]
    },
    {
     "name": "stdout",
     "output_type": "stream",
     "text": [
      "Fetching links from: https://timesofindia.indiatimes.com/2022/1/1/archivelist/year-2022,month-1,starttime-44562.cms\n"
     ]
    },
    {
     "name": "stderr",
     "output_type": "stream",
     "text": [
      "Fetching article links:  20%|██        | 1/5 [00:02<00:11,  2.83s/it]"
     ]
    },
    {
     "name": "stdout",
     "output_type": "stream",
     "text": [
      "Fetching links from: https://timesofindia.indiatimes.com/2022/1/2/archivelist/year-2022,month-1,starttime-44563.cms\n"
     ]
    },
    {
     "name": "stderr",
     "output_type": "stream",
     "text": [
      "Fetching article links:  40%|████      | 2/5 [00:05<00:08,  2.88s/it]"
     ]
    },
    {
     "name": "stdout",
     "output_type": "stream",
     "text": [
      "Fetching links from: https://timesofindia.indiatimes.com/2022/1/3/archivelist/year-2022,month-1,starttime-44564.cms\n"
     ]
    },
    {
     "name": "stderr",
     "output_type": "stream",
     "text": [
      "Fetching article links:  60%|██████    | 3/5 [00:09<00:06,  3.26s/it]"
     ]
    },
    {
     "name": "stdout",
     "output_type": "stream",
     "text": [
      "Fetching links from: https://timesofindia.indiatimes.com/2022/1/4/archivelist/year-2022,month-1,starttime-44565.cms\n"
     ]
    },
    {
     "name": "stderr",
     "output_type": "stream",
     "text": [
      "Fetching article links:  80%|████████  | 4/5 [00:13<00:03,  3.61s/it]"
     ]
    },
    {
     "name": "stdout",
     "output_type": "stream",
     "text": [
      "Fetching links from: https://timesofindia.indiatimes.com/2022/1/5/archivelist/year-2022,month-1,starttime-44566.cms\n"
     ]
    },
    {
     "name": "stderr",
     "output_type": "stream",
     "text": [
      "Fetching article links: 100%|██████████| 5/5 [00:15<00:00,  3.18s/it]\n"
     ]
    },
    {
     "data": {
      "application/vnd.microsoft.datawrangler.viewer.v0+json": {
       "columns": [
        {
         "name": "index",
         "rawType": "int64",
         "type": "integer"
        },
        {
         "name": "link",
         "rawType": "object",
         "type": "string"
        },
        {
         "name": "date",
         "rawType": "object",
         "type": "string"
        }
       ],
       "ref": "e356892d-6500-4f23-8dac-7ee4c7056c8a",
       "rows": [
        [
         "0",
         "/first-look/detective-byomkesh-bakshy/articleshow/20874151.cms",
         "2022-01-01"
        ],
        [
         "1",
         "/first-look/first-look-of-ranbir-kapoors-roy-also-starring-arjun-rampal-and-jacqueline-fernandez/articleshow/21526875.cms",
         "2022-01-01"
        ],
        [
         "2",
         "/entertainment/english/hollywood/previews/edge-of-tomorrow/articleshow/21100378.cms",
         "2022-01-01"
        ],
        [
         "3",
         "https://timesofindia.indiatimes.com/sports/cricket/news/bloody-face-covered-with-towel-rachin-ravindra-carried-off-the-field-against-pakistan-watch/articleshow/118079708.cms",
         "2022-01-01"
        ],
        [
         "4",
         "https://timesofindia.indiatimes.com/sports/cricket/news/poor-lights-of-gaddafi-stadium-pakistan-cricket-board-faces-backlash-after-rachin-ravindra-injury/articleshow/118080050.cms",
         "2022-01-01"
        ],
        [
         "5",
         "https://timesofindia.indiatimes.com/education/news/cbse-class-10-english-exam-25-literature-questions-students-should-practise-for-top-notch-preparation/articleshow/117969684.cms",
         "2022-01-01"
        ],
        [
         "6",
         "https://timesofindia.indiatimes.com/education/news/canadas-new-open-work-permit-rules-what-spouses-of-international-students-and-workers-need-to-know/articleshow/118012760.cms",
         "2022-01-01"
        ],
        [
         "7",
         "https://timesofindia.indiatimes.com/sports/cricket/england-tour-of-india-2025/2nd-odi-virat-kohlis-in-but-whos-out-selection-dilemma-as-india-look-to-seal-series-against-england/articleshow/118081041.cms",
         "2022-01-01"
        ],
        [
         "8",
         "https://timesofindia.indiatimes.com/sports/nfl/news/hailee-steinfelds-gesture-towards-josh-allen-at-the-nfl-honors-has-the-internet-talking-and-says-a-lot-about-their-relationship/articleshow/118073393.cms",
         "2022-01-01"
        ],
        [
         "9",
         "https://timesofindia.indiatimes.com/sports/nba/top-stories/will-anthony-edwards-play-tonight-against-the-portland-trail-blazers-latest-update-on-the-minnesota-timberwolves-stars-injury-report-february-8-2025/articleshow/118074066.cms",
         "2022-01-01"
        ],
        [
         "10",
         "https://timesofindia.indiatimes.com/sports/nba/top-stories/golden-state-warriors-vs-chicago-bulls-02/08-starting-five-injury-report-start-time-how-to-watch-and-more/articleshow/118073780.cms",
         "2022-01-01"
        ],
        [
         "11",
         "https://timesofindia.indiatimes.com/india/delhi-results-2025-linkedin-lessons-from-brand-bjps-win-and-brand-aaps-loss/articleshow/118066797.cms",
         "2022-01-01"
        ],
        [
         "12",
         "https://timesofindia.indiatimes.com/india/manipur-cm-n-biren-singh-resigns-submits-letter-to-governor/articleshow/118090748.cms",
         "2022-01-01"
        ],
        [
         "13",
         "https://timesofindia.indiatimes.com/city/delhi/who-is-parvesh-verma-new-delhi-assembly-constituency-delhi-election-bjp-candidate-vs-arvind-kejriwal-aap-vs-congress-sandeep-dikshit/articleshow/118049764.cms",
         "2022-01-01"
        ],
        [
         "14",
         "https://timesofindia.indiatimes.com/city/delhi/delhi-election-results-2025-aap-lost-reasons-arvind-kejriwal-new-delhi-manish-sisodia-bjp-modi-incumbency-corruptio-sheesh-mahal-liquor-freebies-congress-rahul/articleshow/118023276.cms",
         "2022-01-01"
        ],
        [
         "15",
         "https://timesofindia.indiatimes.com/entertainment/tamil/movies/news/shiva-rajkumar-breaks-his-silence-on-language-row-kamal-haasan-is-like-a-father-but-kannada-needs-more-than-words/articleshow/121482988.cms",
         "2022-01-01"
        ],
        [
         "16",
         "https://timesofindia.indiatimes.com/tv/news/hindi/indian-idol-12-winner-pawandeep-rajan-gets-discharged-from-hospital-shares-picture-from-the-flight-writes-going-back-home/articleshow/121511116.cms",
         "2022-01-01"
        ],
        [
         "17",
         "https://timesofindia.indiatimes.com/life-style/travel/news/delhi-weather-orange-alert-in-place-for-rain-thunderstorms-and-strong-winds/articleshow/121509594.cms",
         "2022-01-01"
        ],
        [
         "18",
         "https://timesofindia.indiatimes.com/life-style/health-fitness/health-news/bowel-cancer-is-rising-rapidly-in-younger-people-what-are-the-causes-and-symptoms-of-the-disease/articleshow/121452261.cms",
         "2022-01-01"
        ],
        [
         "19",
         "https://timesofindia.indiatimes.com/etimes/trending/this-anaconda-rivers-helicopter-view-will-haunt-your-nightmares-netizens-question-if-its-real-or-ai-generated-watch-now/articleshow/121465859.cms",
         "2022-01-01"
        ],
        [
         "20",
         "https://timesofindia.indiatimes.com/education/news/ou-results-2025-osmania-university-declares-april-may-2025-ug-results-for-b-sc-bba-ba-and-b-com-programmes/articleshow/121494873.cms",
         "2022-01-01"
        ],
        [
         "21",
         "https://timesofindia.indiatimes.com/education/news/rbse-class-5th-result-2025-declared-direct-link-to-download-rajasthan-class-5th-results-here/articleshow/121510500.cms",
         "2022-01-01"
        ],
        [
         "22",
         "https://timesofindia.indiatimes.com/education/study-abroad/1-8-million-and-rising-here-is-why-indian-students-prefer-studying-at-international-destinations/articleshow/121489474.cms",
         "2022-01-01"
        ],
        [
         "23",
         "https://timesofindia.indiatimes.com/education/news/ts-dost-2025-phase-1-seat-allotment-list-released-check-direct-link-to-download-here/articleshow/121492248.cms",
         "2022-01-01"
        ],
        [
         "24",
         "https://timesofindia.indiatimes.com/education/news/hp-tet-june-2025-hpbose-releases-admit-cards-for-tgt-arts-medical-subjects-on-hpbose-org-check-schedule-and-direct-link-here/articleshow/121466046.cms",
         "2022-01-01"
        ],
        [
         "25",
         "https://timesofindia.indiatimes.com/sports/cricket/ipl/top-stories/virat-kohli-the-force-behind-rcbs-dominant-march-to-ipl-2025-final/articleshow/121502906.cms",
         "2022-01-01"
        ],
        [
         "26",
         "https://timesofindia.indiatimes.com/sports/cricket/india-tour-of-england/i-am-ready-cheteshwar-pujara-breaks-silence-on-gautam-gambhirs-call-for-england-tour/articleshow/121488605.cms",
         "2022-01-01"
        ],
        [
         "27",
         "https://timesofindia.indiatimes.com/sports/cricket/ipl/top-stories/rcb-enter-ipl-2025-final-how-to-buy-tickets-for-the-summit-clash-in-ahmedabad/articleshow/121506301.cms",
         "2022-01-01"
        ],
        [
         "28",
         "https://timesofindia.indiatimes.com/sports/cricket/ipl/top-stories/who-is-anushka-sharmas-friend-in-rcbs-qualifier-win-over-pbks-internet-wants-to-know/articleshow/121506875.cms",
         "2022-01-01"
        ],
        [
         "29",
         "https://timesofindia.indiatimes.com/sports/cricket/ipl/top-stories/what-happens-if-gujarat-titans-vs-mumbai-indians-ipl-eliminator-gets-washed-out-in-mullanpur/articleshow/121507966.cms",
         "2022-01-01"
        ],
        [
         "30",
         "https://timesofindia.indiatimes.com/education/news/ou-results-2025-osmania-university-declares-april-may-2025-ug-results-for-b-sc-bba-ba-and-b-com-programmes/articleshow/121494873.cms",
         "2022-01-01"
        ],
        [
         "31",
         "https://timesofindia.indiatimes.com/sports/cricket/ipl/top-stories/ipl-match-today-gt-vs-mi-team-prediction-head-to-head-pitch-report-mullanpur-weather-update/articleshow/121509838.cms",
         "2022-01-01"
        ],
        [
         "32",
         "https://timesofindia.indiatimes.com/india/not-a-single-project-completed-on-time-air-chiefs-blunt-warning-over-delays-in-defence-procurements/articleshow/121486643.cms",
         "2022-01-01"
        ],
        [
         "33",
         "https://timesofindia.indiatimes.com/sports/nfl/news/miami-dolphins-reluctant-to-trade-jalen-ramsey-due-to-his-expensive-contract-and-trade-market-challenges/articleshow/121497366.cms",
         "2022-01-01"
        ],
        [
         "34",
         "https://timesofindia.indiatimes.com/sports/cricket/india-tour-of-england/india-a-vs-england-lions-live-streaming-where-to-watch-and-full-schedule/articleshow/121497522.cms",
         "2022-01-01"
        ],
        [
         "35",
         "https://timesofindia.indiatimes.com/india/operation-sindoor-how-indias-homegrown-weapons-outclassed-chinese-arms/articleshow/121485763.cms",
         "2022-01-01"
        ],
        [
         "36",
         "https://timesofindia.indiatimes.com/city/bhubaneswar/cash-rains-from-bhubaneswar-flat-chief-engineer-throws-bundles-of-rs-500-notes-from-flat-during-raid/articleshow/121505434.cms",
         "2022-01-01"
        ],
        [
         "37",
         "https://timesofindia.indiatimes.com/city/bhopal/i-know-impact-of-electrocution-convicted-chemistry-professor-contests-husbands-autopsy-report-in-madhya-pradesh-hc/articleshow/121501690.cms",
         "2022-01-01"
        ],
        [
         "38",
         "https://timesofindia.indiatimes.com/city/indore/6-days-on-no-signs-of-indore-honeymooners-in-shillong/articleshow/121472109.cms",
         "2022-01-01"
        ],
        [
         "39",
         "/india/dnpa-code-of-ethics-for-digital-news-websites/articleshow/78840462.cms",
         "2022-01-01"
        ],
        [
         "40",
         "/first-look/detective-byomkesh-bakshy/articleshow/20874151.cms",
         "2022-01-02"
        ],
        [
         "41",
         "/first-look/first-look-of-ranbir-kapoors-roy-also-starring-arjun-rampal-and-jacqueline-fernandez/articleshow/21526875.cms",
         "2022-01-02"
        ],
        [
         "42",
         "/entertainment/english/hollywood/previews/edge-of-tomorrow/articleshow/21100378.cms",
         "2022-01-02"
        ],
        [
         "43",
         "https://timesofindia.indiatimes.com/sports/cricket/news/bloody-face-covered-with-towel-rachin-ravindra-carried-off-the-field-against-pakistan-watch/articleshow/118079708.cms",
         "2022-01-02"
        ],
        [
         "44",
         "https://timesofindia.indiatimes.com/sports/cricket/news/poor-lights-of-gaddafi-stadium-pakistan-cricket-board-faces-backlash-after-rachin-ravindra-injury/articleshow/118080050.cms",
         "2022-01-02"
        ],
        [
         "45",
         "https://timesofindia.indiatimes.com/education/news/cbse-class-10-english-exam-25-literature-questions-students-should-practise-for-top-notch-preparation/articleshow/117969684.cms",
         "2022-01-02"
        ],
        [
         "46",
         "https://timesofindia.indiatimes.com/education/news/canadas-new-open-work-permit-rules-what-spouses-of-international-students-and-workers-need-to-know/articleshow/118012760.cms",
         "2022-01-02"
        ],
        [
         "47",
         "https://timesofindia.indiatimes.com/sports/cricket/england-tour-of-india-2025/2nd-odi-virat-kohlis-in-but-whos-out-selection-dilemma-as-india-look-to-seal-series-against-england/articleshow/118081041.cms",
         "2022-01-02"
        ],
        [
         "48",
         "https://timesofindia.indiatimes.com/sports/nfl/news/hailee-steinfelds-gesture-towards-josh-allen-at-the-nfl-honors-has-the-internet-talking-and-says-a-lot-about-their-relationship/articleshow/118073393.cms",
         "2022-01-02"
        ],
        [
         "49",
         "https://timesofindia.indiatimes.com/sports/nba/top-stories/will-anthony-edwards-play-tonight-against-the-portland-trail-blazers-latest-update-on-the-minnesota-timberwolves-stars-injury-report-february-8-2025/articleshow/118074066.cms",
         "2022-01-02"
        ]
       ],
       "shape": {
        "columns": 2,
        "rows": 204
       }
      },
      "text/html": [
       "<div>\n",
       "<style scoped>\n",
       "    .dataframe tbody tr th:only-of-type {\n",
       "        vertical-align: middle;\n",
       "    }\n",
       "\n",
       "    .dataframe tbody tr th {\n",
       "        vertical-align: top;\n",
       "    }\n",
       "\n",
       "    .dataframe thead th {\n",
       "        text-align: right;\n",
       "    }\n",
       "</style>\n",
       "<table border=\"1\" class=\"dataframe\">\n",
       "  <thead>\n",
       "    <tr style=\"text-align: right;\">\n",
       "      <th></th>\n",
       "      <th>link</th>\n",
       "      <th>date</th>\n",
       "    </tr>\n",
       "  </thead>\n",
       "  <tbody>\n",
       "    <tr>\n",
       "      <th>0</th>\n",
       "      <td>/first-look/detective-byomkesh-bakshy/articles...</td>\n",
       "      <td>2022-01-01</td>\n",
       "    </tr>\n",
       "    <tr>\n",
       "      <th>1</th>\n",
       "      <td>/first-look/first-look-of-ranbir-kapoors-roy-a...</td>\n",
       "      <td>2022-01-01</td>\n",
       "    </tr>\n",
       "    <tr>\n",
       "      <th>2</th>\n",
       "      <td>/entertainment/english/hollywood/previews/edge...</td>\n",
       "      <td>2022-01-01</td>\n",
       "    </tr>\n",
       "    <tr>\n",
       "      <th>3</th>\n",
       "      <td>https://timesofindia.indiatimes.com/sports/cri...</td>\n",
       "      <td>2022-01-01</td>\n",
       "    </tr>\n",
       "    <tr>\n",
       "      <th>4</th>\n",
       "      <td>https://timesofindia.indiatimes.com/sports/cri...</td>\n",
       "      <td>2022-01-01</td>\n",
       "    </tr>\n",
       "    <tr>\n",
       "      <th>...</th>\n",
       "      <td>...</td>\n",
       "      <td>...</td>\n",
       "    </tr>\n",
       "    <tr>\n",
       "      <th>199</th>\n",
       "      <td>https://timesofindia.indiatimes.com/india/oper...</td>\n",
       "      <td>2022-01-05</td>\n",
       "    </tr>\n",
       "    <tr>\n",
       "      <th>200</th>\n",
       "      <td>https://timesofindia.indiatimes.com/city/bhuba...</td>\n",
       "      <td>2022-01-05</td>\n",
       "    </tr>\n",
       "    <tr>\n",
       "      <th>201</th>\n",
       "      <td>https://timesofindia.indiatimes.com/city/bhopa...</td>\n",
       "      <td>2022-01-05</td>\n",
       "    </tr>\n",
       "    <tr>\n",
       "      <th>202</th>\n",
       "      <td>https://timesofindia.indiatimes.com/city/indor...</td>\n",
       "      <td>2022-01-05</td>\n",
       "    </tr>\n",
       "    <tr>\n",
       "      <th>203</th>\n",
       "      <td>/india/dnpa-code-of-ethics-for-digital-news-we...</td>\n",
       "      <td>2022-01-05</td>\n",
       "    </tr>\n",
       "  </tbody>\n",
       "</table>\n",
       "<p>204 rows × 2 columns</p>\n",
       "</div>"
      ],
      "text/plain": [
       "                                                  link        date\n",
       "0    /first-look/detective-byomkesh-bakshy/articles...  2022-01-01\n",
       "1    /first-look/first-look-of-ranbir-kapoors-roy-a...  2022-01-01\n",
       "2    /entertainment/english/hollywood/previews/edge...  2022-01-01\n",
       "3    https://timesofindia.indiatimes.com/sports/cri...  2022-01-01\n",
       "4    https://timesofindia.indiatimes.com/sports/cri...  2022-01-01\n",
       "..                                                 ...         ...\n",
       "199  https://timesofindia.indiatimes.com/india/oper...  2022-01-05\n",
       "200  https://timesofindia.indiatimes.com/city/bhuba...  2022-01-05\n",
       "201  https://timesofindia.indiatimes.com/city/bhopa...  2022-01-05\n",
       "202  https://timesofindia.indiatimes.com/city/indor...  2022-01-05\n",
       "203  /india/dnpa-code-of-ethics-for-digital-news-we...  2022-01-05\n",
       "\n",
       "[204 rows x 2 columns]"
      ]
     },
     "execution_count": 22,
     "metadata": {},
     "output_type": "execute_result"
    }
   ],
   "source": [
    "all_links = []\n",
    "for url in tqdm(urls, desc=\"Fetching article links\"):\n",
    "    print(f\"Fetching links from: {url}\")\n",
    "\n",
    "    # #using basic requests.get method to reduce processing time as JS render not needed\n",
    "    # links = get_details_basic(url)\n",
    "\n",
    "    links = get_details(url)\n",
    "    date = dates[urls.index(url)].strftime(\"%Y-%m-%d\")\n",
    "    for link in links : \n",
    "        all_links.append({\"link\": link, \"date\" : date})\n",
    "\n",
    "df = pd.DataFrame(all_links)\n",
    "df"
   ]
  },
  {
   "cell_type": "code",
   "execution_count": null,
   "id": "ca83672c",
   "metadata": {},
   "outputs": [
    {
     "data": {
      "application/vnd.microsoft.datawrangler.viewer.v0+json": {
       "columns": [
        {
         "name": "index",
         "rawType": "int64",
         "type": "integer"
        },
        {
         "name": "link",
         "rawType": "object",
         "type": "string"
        },
        {
         "name": "date",
         "rawType": "object",
         "type": "string"
        },
        {
         "name": "publisher",
         "rawType": "object",
         "type": "string"
        }
       ],
       "ref": "863b4218-92f9-4982-90fe-01933affef3c",
       "rows": [
        [
         "0",
         "https://timesofindia.indiatimes.com/first-look/detective-byomkesh-bakshy/articleshow/20874151.cms",
         "2022-01-01",
         "Times of India"
        ],
        [
         "1",
         "https://timesofindia.indiatimes.com/first-look/first-look-of-ranbir-kapoors-roy-also-starring-arjun-rampal-and-jacqueline-fernandez/articleshow/21526875.cms",
         "2022-01-01",
         "Times of India"
        ],
        [
         "2",
         "https://timesofindia.indiatimes.com/entertainment/english/hollywood/previews/edge-of-tomorrow/articleshow/21100378.cms",
         "2022-01-01",
         "Times of India"
        ],
        [
         "3",
         "https://timesofindia.indiatimes.com/sports/cricket/news/bloody-face-covered-with-towel-rachin-ravindra-carried-off-the-field-against-pakistan-watch/articleshow/118079708.cms",
         "2022-01-01",
         "Times of India"
        ],
        [
         "4",
         "https://timesofindia.indiatimes.com/sports/cricket/news/poor-lights-of-gaddafi-stadium-pakistan-cricket-board-faces-backlash-after-rachin-ravindra-injury/articleshow/118080050.cms",
         "2022-01-01",
         "Times of India"
        ],
        [
         "5",
         "https://timesofindia.indiatimes.com/education/news/cbse-class-10-english-exam-25-literature-questions-students-should-practise-for-top-notch-preparation/articleshow/117969684.cms",
         "2022-01-01",
         "Times of India"
        ],
        [
         "6",
         "https://timesofindia.indiatimes.com/education/news/canadas-new-open-work-permit-rules-what-spouses-of-international-students-and-workers-need-to-know/articleshow/118012760.cms",
         "2022-01-01",
         "Times of India"
        ],
        [
         "7",
         "https://timesofindia.indiatimes.com/sports/cricket/england-tour-of-india-2025/2nd-odi-virat-kohlis-in-but-whos-out-selection-dilemma-as-india-look-to-seal-series-against-england/articleshow/118081041.cms",
         "2022-01-01",
         "Times of India"
        ],
        [
         "8",
         "https://timesofindia.indiatimes.com/sports/nfl/news/hailee-steinfelds-gesture-towards-josh-allen-at-the-nfl-honors-has-the-internet-talking-and-says-a-lot-about-their-relationship/articleshow/118073393.cms",
         "2022-01-01",
         "Times of India"
        ],
        [
         "9",
         "https://timesofindia.indiatimes.com/sports/nba/top-stories/will-anthony-edwards-play-tonight-against-the-portland-trail-blazers-latest-update-on-the-minnesota-timberwolves-stars-injury-report-february-8-2025/articleshow/118074066.cms",
         "2022-01-01",
         "Times of India"
        ],
        [
         "10",
         "https://timesofindia.indiatimes.com/sports/nba/top-stories/golden-state-warriors-vs-chicago-bulls-02/08-starting-five-injury-report-start-time-how-to-watch-and-more/articleshow/118073780.cms",
         "2022-01-01",
         "Times of India"
        ],
        [
         "11",
         "https://timesofindia.indiatimes.com/india/delhi-results-2025-linkedin-lessons-from-brand-bjps-win-and-brand-aaps-loss/articleshow/118066797.cms",
         "2022-01-01",
         "Times of India"
        ],
        [
         "12",
         "https://timesofindia.indiatimes.com/india/manipur-cm-n-biren-singh-resigns-submits-letter-to-governor/articleshow/118090748.cms",
         "2022-01-01",
         "Times of India"
        ],
        [
         "13",
         "https://timesofindia.indiatimes.com/city/delhi/who-is-parvesh-verma-new-delhi-assembly-constituency-delhi-election-bjp-candidate-vs-arvind-kejriwal-aap-vs-congress-sandeep-dikshit/articleshow/118049764.cms",
         "2022-01-01",
         "Times of India"
        ],
        [
         "14",
         "https://timesofindia.indiatimes.com/city/delhi/delhi-election-results-2025-aap-lost-reasons-arvind-kejriwal-new-delhi-manish-sisodia-bjp-modi-incumbency-corruptio-sheesh-mahal-liquor-freebies-congress-rahul/articleshow/118023276.cms",
         "2022-01-01",
         "Times of India"
        ],
        [
         "15",
         "https://timesofindia.indiatimes.com/entertainment/tamil/movies/news/shiva-rajkumar-breaks-his-silence-on-language-row-kamal-haasan-is-like-a-father-but-kannada-needs-more-than-words/articleshow/121482988.cms",
         "2022-01-01",
         "Times of India"
        ],
        [
         "16",
         "https://timesofindia.indiatimes.com/tv/news/hindi/indian-idol-12-winner-pawandeep-rajan-gets-discharged-from-hospital-shares-picture-from-the-flight-writes-going-back-home/articleshow/121511116.cms",
         "2022-01-01",
         "Times of India"
        ],
        [
         "17",
         "https://timesofindia.indiatimes.com/life-style/travel/news/delhi-weather-orange-alert-in-place-for-rain-thunderstorms-and-strong-winds/articleshow/121509594.cms",
         "2022-01-01",
         "Times of India"
        ],
        [
         "18",
         "https://timesofindia.indiatimes.com/life-style/health-fitness/health-news/bowel-cancer-is-rising-rapidly-in-younger-people-what-are-the-causes-and-symptoms-of-the-disease/articleshow/121452261.cms",
         "2022-01-01",
         "Times of India"
        ],
        [
         "19",
         "https://timesofindia.indiatimes.com/etimes/trending/this-anaconda-rivers-helicopter-view-will-haunt-your-nightmares-netizens-question-if-its-real-or-ai-generated-watch-now/articleshow/121465859.cms",
         "2022-01-01",
         "Times of India"
        ],
        [
         "20",
         "https://timesofindia.indiatimes.com/education/news/ou-results-2025-osmania-university-declares-april-may-2025-ug-results-for-b-sc-bba-ba-and-b-com-programmes/articleshow/121494873.cms",
         "2022-01-01",
         "Times of India"
        ],
        [
         "21",
         "https://timesofindia.indiatimes.com/education/news/rbse-class-5th-result-2025-declared-direct-link-to-download-rajasthan-class-5th-results-here/articleshow/121510500.cms",
         "2022-01-01",
         "Times of India"
        ],
        [
         "22",
         "https://timesofindia.indiatimes.com/education/study-abroad/1-8-million-and-rising-here-is-why-indian-students-prefer-studying-at-international-destinations/articleshow/121489474.cms",
         "2022-01-01",
         "Times of India"
        ],
        [
         "23",
         "https://timesofindia.indiatimes.com/education/news/ts-dost-2025-phase-1-seat-allotment-list-released-check-direct-link-to-download-here/articleshow/121492248.cms",
         "2022-01-01",
         "Times of India"
        ],
        [
         "24",
         "https://timesofindia.indiatimes.com/education/news/hp-tet-june-2025-hpbose-releases-admit-cards-for-tgt-arts-medical-subjects-on-hpbose-org-check-schedule-and-direct-link-here/articleshow/121466046.cms",
         "2022-01-01",
         "Times of India"
        ],
        [
         "25",
         "https://timesofindia.indiatimes.com/sports/cricket/ipl/top-stories/virat-kohli-the-force-behind-rcbs-dominant-march-to-ipl-2025-final/articleshow/121502906.cms",
         "2022-01-01",
         "Times of India"
        ],
        [
         "26",
         "https://timesofindia.indiatimes.com/sports/cricket/india-tour-of-england/i-am-ready-cheteshwar-pujara-breaks-silence-on-gautam-gambhirs-call-for-england-tour/articleshow/121488605.cms",
         "2022-01-01",
         "Times of India"
        ],
        [
         "27",
         "https://timesofindia.indiatimes.com/sports/cricket/ipl/top-stories/rcb-enter-ipl-2025-final-how-to-buy-tickets-for-the-summit-clash-in-ahmedabad/articleshow/121506301.cms",
         "2022-01-01",
         "Times of India"
        ],
        [
         "28",
         "https://timesofindia.indiatimes.com/sports/cricket/ipl/top-stories/who-is-anushka-sharmas-friend-in-rcbs-qualifier-win-over-pbks-internet-wants-to-know/articleshow/121506875.cms",
         "2022-01-01",
         "Times of India"
        ],
        [
         "29",
         "https://timesofindia.indiatimes.com/sports/cricket/ipl/top-stories/what-happens-if-gujarat-titans-vs-mumbai-indians-ipl-eliminator-gets-washed-out-in-mullanpur/articleshow/121507966.cms",
         "2022-01-01",
         "Times of India"
        ],
        [
         "30",
         "https://timesofindia.indiatimes.com/sports/cricket/ipl/top-stories/ipl-match-today-gt-vs-mi-team-prediction-head-to-head-pitch-report-mullanpur-weather-update/articleshow/121509838.cms",
         "2022-01-01",
         "Times of India"
        ],
        [
         "31",
         "https://timesofindia.indiatimes.com/india/not-a-single-project-completed-on-time-air-chiefs-blunt-warning-over-delays-in-defence-procurements/articleshow/121486643.cms",
         "2022-01-01",
         "Times of India"
        ],
        [
         "32",
         "https://timesofindia.indiatimes.com/sports/nfl/news/miami-dolphins-reluctant-to-trade-jalen-ramsey-due-to-his-expensive-contract-and-trade-market-challenges/articleshow/121497366.cms",
         "2022-01-01",
         "Times of India"
        ],
        [
         "33",
         "https://timesofindia.indiatimes.com/sports/cricket/india-tour-of-england/india-a-vs-england-lions-live-streaming-where-to-watch-and-full-schedule/articleshow/121497522.cms",
         "2022-01-01",
         "Times of India"
        ],
        [
         "34",
         "https://timesofindia.indiatimes.com/india/operation-sindoor-how-indias-homegrown-weapons-outclassed-chinese-arms/articleshow/121485763.cms",
         "2022-01-01",
         "Times of India"
        ],
        [
         "35",
         "https://timesofindia.indiatimes.com/city/bhubaneswar/cash-rains-from-bhubaneswar-flat-chief-engineer-throws-bundles-of-rs-500-notes-from-flat-during-raid/articleshow/121505434.cms",
         "2022-01-01",
         "Times of India"
        ],
        [
         "36",
         "https://timesofindia.indiatimes.com/city/bhopal/i-know-impact-of-electrocution-convicted-chemistry-professor-contests-husbands-autopsy-report-in-madhya-pradesh-hc/articleshow/121501690.cms",
         "2022-01-01",
         "Times of India"
        ],
        [
         "37",
         "https://timesofindia.indiatimes.com/city/indore/6-days-on-no-signs-of-indore-honeymooners-in-shillong/articleshow/121472109.cms",
         "2022-01-01",
         "Times of India"
        ],
        [
         "38",
         "https://timesofindia.indiatimes.com/india/dnpa-code-of-ethics-for-digital-news-websites/articleshow/78840462.cms",
         "2022-01-01",
         "Times of India"
        ],
        [
         "39",
         "https://timesofindia.indiatimes.com/etimes/trending/a-massive-tsunami-wave-as-tall-as-1000-feet-might-soon-hit-and-wipe-out-the-entire-us-study/articleshow/121391183.cms",
         "2022-01-02",
         "Times of India"
        ],
        [
         "40",
         "https://timesofindia.indiatimes.com/life-style/health-fitness/fitness/nasa-says-this-10-min-exercise-is-70-more-effective-than-running-jogging/articleshow/121501298.cms",
         "2022-01-02",
         "Times of India"
        ],
        [
         "41",
         "https://timesofindia.indiatimes.com/life-style/travel/news/travel-alert-imd-predicts-heavy-rains-in-chennai-tamil-nadu-orange-alert-for-17-districts/articleshow/121515999.cms",
         "2022-01-02",
         "Times of India"
        ],
        [
         "42",
         "https://timesofindia.indiatimes.com/life-style/travel/flying-to-turkey-this-one-annoying-in-flight-habit-might-earn-you-a-hefty-fine/articleshow/121520890.cms",
         "2022-01-02",
         "Times of India"
        ],
        [
         "43",
         "https://timesofindia.indiatimes.com/life-style/travel/america-tightens-social-media-vetting-is-your-online-profile-putting-your-student-visa-at-risk/articleshow/121515087.cms",
         "2022-01-02",
         "Times of India"
        ],
        [
         "44",
         "https://timesofindia.indiatimes.com/entertainment/tamil/movies/news/wont-apologise-unless-im-wrong-says-kamal-haasan-amid-thug-life-ban-in-karnataka/articleshow/121512481.cms",
         "2022-01-02",
         "Times of India"
        ],
        [
         "45",
         "https://timesofindia.indiatimes.com/sports/cricket/ipl/top-stories/watch-ashish-nehras-son-shubman-gills-sister-reduced-to-tears-after-gujarat-titans-lose-eliminator-to-mumbai-indians/articleshow/121528677.cms",
         "2022-01-02",
         "Times of India"
        ],
        [
         "46",
         "https://timesofindia.indiatimes.com/sports/cricket/ipl/top-stories/jasprit-bumrah-is-like-mumbai-housing-prices-hardik-pandya/articleshow/121524600.cms",
         "2022-01-02",
         "Times of India"
        ],
        [
         "47",
         "https://timesofindia.indiatimes.com/sports/cricket/ipl/top-stories/1st-unofficial-test-karun-nair-nears-a-double-century-sarfaraz-khan-silences-critics-as-india-a-post-409/3-vs-england-lions/articleshow/121523259.cms",
         "2022-01-02",
         "Times of India"
        ],
        [
         "48",
         "https://timesofindia.indiatimes.com/sports/cricket/india-tour-of-england/sai-sudharsan-banks-on-county-experience-to-excel-in-england/articleshow/121529075.cms",
         "2022-01-02",
         "Times of India"
        ],
        [
         "49",
         "https://timesofindia.indiatimes.com/sports/cricket/ipl/top-stories/ipl-2025-playoffs-rohit-sharma-punishes-gts-butter-fingers-in-eliminator/articleshow/121523643.cms",
         "2022-01-02",
         "Times of India"
        ]
       ],
       "shape": {
        "columns": 3,
        "rows": 78
       }
      },
      "text/html": [
       "<div>\n",
       "<style scoped>\n",
       "    .dataframe tbody tr th:only-of-type {\n",
       "        vertical-align: middle;\n",
       "    }\n",
       "\n",
       "    .dataframe tbody tr th {\n",
       "        vertical-align: top;\n",
       "    }\n",
       "\n",
       "    .dataframe thead th {\n",
       "        text-align: right;\n",
       "    }\n",
       "</style>\n",
       "<table border=\"1\" class=\"dataframe\">\n",
       "  <thead>\n",
       "    <tr style=\"text-align: right;\">\n",
       "      <th></th>\n",
       "      <th>link</th>\n",
       "      <th>date</th>\n",
       "      <th>publisher</th>\n",
       "    </tr>\n",
       "  </thead>\n",
       "  <tbody>\n",
       "    <tr>\n",
       "      <th>0</th>\n",
       "      <td>https://timesofindia.indiatimes.com/first-look...</td>\n",
       "      <td>2022-01-01</td>\n",
       "      <td>Times of India</td>\n",
       "    </tr>\n",
       "    <tr>\n",
       "      <th>1</th>\n",
       "      <td>https://timesofindia.indiatimes.com/first-look...</td>\n",
       "      <td>2022-01-01</td>\n",
       "      <td>Times of India</td>\n",
       "    </tr>\n",
       "    <tr>\n",
       "      <th>2</th>\n",
       "      <td>https://timesofindia.indiatimes.com/entertainm...</td>\n",
       "      <td>2022-01-01</td>\n",
       "      <td>Times of India</td>\n",
       "    </tr>\n",
       "    <tr>\n",
       "      <th>3</th>\n",
       "      <td>https://timesofindia.indiatimes.com/sports/cri...</td>\n",
       "      <td>2022-01-01</td>\n",
       "      <td>Times of India</td>\n",
       "    </tr>\n",
       "    <tr>\n",
       "      <th>4</th>\n",
       "      <td>https://timesofindia.indiatimes.com/sports/cri...</td>\n",
       "      <td>2022-01-01</td>\n",
       "      <td>Times of India</td>\n",
       "    </tr>\n",
       "    <tr>\n",
       "      <th>...</th>\n",
       "      <td>...</td>\n",
       "      <td>...</td>\n",
       "      <td>...</td>\n",
       "    </tr>\n",
       "    <tr>\n",
       "      <th>73</th>\n",
       "      <td>https://timesofindia.indiatimes.com/sports/nba...</td>\n",
       "      <td>2022-01-03</td>\n",
       "      <td>Times of India</td>\n",
       "    </tr>\n",
       "    <tr>\n",
       "      <th>74</th>\n",
       "      <td>https://timesofindia.indiatimes.com/sports/nba...</td>\n",
       "      <td>2022-01-03</td>\n",
       "      <td>Times of India</td>\n",
       "    </tr>\n",
       "    <tr>\n",
       "      <th>75</th>\n",
       "      <td>https://timesofindia.indiatimes.com/sports/nfl...</td>\n",
       "      <td>2022-01-03</td>\n",
       "      <td>Times of India</td>\n",
       "    </tr>\n",
       "    <tr>\n",
       "      <th>76</th>\n",
       "      <td>https://timesofindia.indiatimes.com/sports/nfl...</td>\n",
       "      <td>2022-01-03</td>\n",
       "      <td>Times of India</td>\n",
       "    </tr>\n",
       "    <tr>\n",
       "      <th>77</th>\n",
       "      <td>https://timesofindia.indiatimes.com/sports/nfl...</td>\n",
       "      <td>2022-01-03</td>\n",
       "      <td>Times of India</td>\n",
       "    </tr>\n",
       "  </tbody>\n",
       "</table>\n",
       "<p>78 rows × 3 columns</p>\n",
       "</div>"
      ],
      "text/plain": [
       "                                                 link        date  \\\n",
       "0   https://timesofindia.indiatimes.com/first-look...  2022-01-01   \n",
       "1   https://timesofindia.indiatimes.com/first-look...  2022-01-01   \n",
       "2   https://timesofindia.indiatimes.com/entertainm...  2022-01-01   \n",
       "3   https://timesofindia.indiatimes.com/sports/cri...  2022-01-01   \n",
       "4   https://timesofindia.indiatimes.com/sports/cri...  2022-01-01   \n",
       "..                                                ...         ...   \n",
       "73  https://timesofindia.indiatimes.com/sports/nba...  2022-01-03   \n",
       "74  https://timesofindia.indiatimes.com/sports/nba...  2022-01-03   \n",
       "75  https://timesofindia.indiatimes.com/sports/nfl...  2022-01-03   \n",
       "76  https://timesofindia.indiatimes.com/sports/nfl...  2022-01-03   \n",
       "77  https://timesofindia.indiatimes.com/sports/nfl...  2022-01-03   \n",
       "\n",
       "         publisher  \n",
       "0   Times of India  \n",
       "1   Times of India  \n",
       "2   Times of India  \n",
       "3   Times of India  \n",
       "4   Times of India  \n",
       "..             ...  \n",
       "73  Times of India  \n",
       "74  Times of India  \n",
       "75  Times of India  \n",
       "76  Times of India  \n",
       "77  Times of India  \n",
       "\n",
       "[78 rows x 3 columns]"
      ]
     },
     "execution_count": 30,
     "metadata": {},
     "output_type": "execute_result"
    }
   ],
   "source": [
    "df_1 = df.copy()\n",
    "\n",
    "df.drop_duplicates(subset=[\"link\"], inplace=True)\n",
    "df[\"link\"] = df[\"link\"].apply(lambda index: index if \"http\" in index else BASE_URL + index)\n",
    "df[\"publisher\"] = \"Times of India\"\n",
    "\n",
    "\n",
    "df.to_csv(\"df.csv\", index=False)\n",
    "df"
   ]
  },
  {
   "cell_type": "code",
   "execution_count": 44,
   "id": "b593520b",
   "metadata": {},
   "outputs": [],
   "source": [
    "df = pd.read_csv(\"df.csv\")"
   ]
  },
  {
   "cell_type": "code",
   "execution_count": null,
   "id": "599aa39e",
   "metadata": {},
   "outputs": [],
   "source": [
    "def process(title, content):\n",
    "    def clean_text(text):\n",
    "        if not (type(text) is str):\n",
    "            return text\n",
    "\n",
    "        # 1. Whitespace trimming\n",
    "        text = text.strip()\n",
    "\n",
    "        # 2. Converts HTML entities and special characters to plain text\n",
    "        text = html.unescape(text)\n",
    "\n",
    "        # 3. Removes <iframe>, <script>, <div>, <style> tags and their content\n",
    "        text = re.sub(r'<(iframe|script|div|style)[^>]*>.*?</\\1>', '', text, flags=re.DOTALL|re.IGNORECASE)\n",
    "\n",
    "        # 4. Removes promotional/unwanted phrases\n",
    "        promotions = [\n",
    "            'click here', 'Click Here', 'advertisement', 'Ad', 'Subscribe', \n",
    "            'Read More', 'Learn More', 'Join Now', 'Get Started', 'Sign Up', \n",
    "            'Click to Learn More', 'Buy Now', 'Limited Time Offer', 'Act Now', \n",
    "            'Don’t Miss Out', 'Exclusive Deal', 'Shop Now', 'Download Now', \n",
    "            'Try for Free', 'Free Trial', 'Register Now', 'See More', \n",
    "            'Follow Us', 'Stay Updated', 'Get Updates', 'Explore More', \n",
    "            'More Info', 'This Just In', 'Breaking News', 'Today’s Deals',\n",
    "            'YOU MAY LIKE', 'Post comment', 'You can now subscribe to our Economic Times WhatsApp channel',\n",
    "            'like and share', 'subscribe to our', 'follow us on', 'for more updates',\n",
    "            'copyright', 'publisher:', 'advertisements', 'SUBSCRIBE NOW!'\n",
    "        ]\n",
    "        for phrase in promotions :\n",
    "            text = text.replace(phrase, '')\n",
    "\n",
    "        # 5. Removes \"views are personal\"\n",
    "        text = re.sub(r'views?\\s+are\\s+personal', '', text, flags=re.IGNORECASE)\n",
    "\n",
    "        # 6. Removes JS (function(){...})(...); blocks\n",
    "        text = re.sub(r'\\(function\\s*\\([^\\)]*\\)\\s*\\{.*?\\}\\s*\\)\\s*\\([^\\)]*\\)\\s*;?', '', text, flags=re.DOTALL)\n",
    "\n",
    "        # 7. Removes https and www. links\n",
    "        text = re.sub(r'https?://\\S+|www\\.\\S+', '', text)\n",
    "\n",
    "        # 8. Removes twitter links (pic.twitter.com)\n",
    "        text = re.sub(r'pic\\.twitter\\.com/\\S+', '', text)\n",
    "\n",
    "        # 9. Removes news organization names\n",
    "        for org in news_orgs:\n",
    "            text = re.sub(rf'\\b{re.escape(org)}\\b', '', text, flags=re.IGNORECASE)\n",
    "\n",
    "        # 10. Remove any remaining HTML tags\n",
    "        text = re.sub(r'<[^>]+>', '', text)\n",
    "\n",
    "        # 11. Remove invalid characters (non-ASCII and words containing unusual symbols)\n",
    "        text = re.sub(r'[^\\x00-\\x7F]+', '', text)\n",
    "\n",
    "        # 12. Clean up formatting\n",
    "        text = re.sub(r'\\s+', ' ', text)  # Replace multiple whitespace with a single space\n",
    "        text = re.sub(r'(?<=[a-zA-Z])(?=\\d)', ' ', text)  # Add space before digits\n",
    "\n",
    "        return text\n",
    "\n",
    "    return clean_text(title), clean_text(content)"
   ]
  },
  {
   "cell_type": "code",
   "execution_count": 34,
   "id": "d7f55064",
   "metadata": {},
   "outputs": [],
   "source": [
    "def extract_article_id(link):\n",
    "    match = re.search(r'articleshow/(\\d+)\\.cms', link)\n",
    "    if match:\n",
    "        return match.group(1)\n",
    "    return None"
   ]
  },
  {
   "cell_type": "code",
   "execution_count": 47,
   "id": "461c6c36",
   "metadata": {},
   "outputs": [
    {
     "name": "stdout",
     "output_type": "stream",
     "text": [
      "Extracting articles...\n"
     ]
    },
    {
     "name": "stderr",
     "output_type": "stream",
     "text": [
      "  1%|▏         | 1/78 [00:02<03:34,  2.79s/it]"
     ]
    },
    {
     "name": "stdout",
     "output_type": "stream",
     "text": [
      "[INFO] Article https://timesofindia.indiatimes.com/first-look/detective-byomkesh-bakshy/articleshow/20874151.cms extracted\n"
     ]
    },
    {
     "name": "stderr",
     "output_type": "stream",
     "text": [
      "  3%|▎         | 2/78 [00:05<03:19,  2.63s/it]"
     ]
    },
    {
     "name": "stdout",
     "output_type": "stream",
     "text": [
      "[INFO] Article https://timesofindia.indiatimes.com/first-look/first-look-of-ranbir-kapoors-roy-also-starring-arjun-rampal-and-jacqueline-fernandez/articleshow/21526875.cms extracted\n"
     ]
    },
    {
     "name": "stderr",
     "output_type": "stream",
     "text": [
      "  4%|▍         | 3/78 [00:07<02:51,  2.29s/it]"
     ]
    },
    {
     "name": "stdout",
     "output_type": "stream",
     "text": [
      "[INFO] Article https://timesofindia.indiatimes.com/entertainment/english/hollywood/previews/edge-of-tomorrow/articleshow/21100378.cms extracted\n"
     ]
    },
    {
     "name": "stderr",
     "output_type": "stream",
     "text": [
      "  5%|▌         | 4/78 [00:09<02:57,  2.40s/it]"
     ]
    },
    {
     "name": "stdout",
     "output_type": "stream",
     "text": [
      "[INFO] Article https://timesofindia.indiatimes.com/sports/cricket/news/bloody-face-covered-with-towel-rachin-ravindra-carried-off-the-field-against-pakistan-watch/articleshow/118079708.cms extracted\n"
     ]
    },
    {
     "name": "stderr",
     "output_type": "stream",
     "text": [
      "  6%|▋         | 5/78 [00:12<02:53,  2.37s/it]"
     ]
    },
    {
     "name": "stdout",
     "output_type": "stream",
     "text": [
      "[INFO] Article https://timesofindia.indiatimes.com/sports/cricket/news/poor-lights-of-gaddafi-stadium-pakistan-cricket-board-faces-backlash-after-rachin-ravindra-injury/articleshow/118080050.cms extracted\n"
     ]
    },
    {
     "name": "stderr",
     "output_type": "stream",
     "text": [
      "  8%|▊         | 6/78 [00:14<02:48,  2.34s/it]"
     ]
    },
    {
     "name": "stdout",
     "output_type": "stream",
     "text": [
      "[INFO] Article https://timesofindia.indiatimes.com/education/news/cbse-class-10-english-exam-25-literature-questions-students-should-practise-for-top-notch-preparation/articleshow/117969684.cms extracted\n"
     ]
    },
    {
     "name": "stderr",
     "output_type": "stream",
     "text": [
      "  9%|▉         | 7/78 [00:16<02:43,  2.31s/it]"
     ]
    },
    {
     "name": "stdout",
     "output_type": "stream",
     "text": [
      "[INFO] Article https://timesofindia.indiatimes.com/education/news/canadas-new-open-work-permit-rules-what-spouses-of-international-students-and-workers-need-to-know/articleshow/118012760.cms extracted\n"
     ]
    },
    {
     "name": "stderr",
     "output_type": "stream",
     "text": [
      " 10%|█         | 8/78 [00:18<02:40,  2.29s/it]"
     ]
    },
    {
     "name": "stdout",
     "output_type": "stream",
     "text": [
      "[INFO] Article https://timesofindia.indiatimes.com/sports/cricket/england-tour-of-india-2025/2nd-odi-virat-kohlis-in-but-whos-out-selection-dilemma-as-india-look-to-seal-series-against-england/articleshow/118081041.cms extracted\n"
     ]
    },
    {
     "name": "stderr",
     "output_type": "stream",
     "text": [
      " 12%|█▏        | 9/78 [00:21<02:37,  2.28s/it]"
     ]
    },
    {
     "name": "stdout",
     "output_type": "stream",
     "text": [
      "[INFO] Article https://timesofindia.indiatimes.com/sports/nfl/news/hailee-steinfelds-gesture-towards-josh-allen-at-the-nfl-honors-has-the-internet-talking-and-says-a-lot-about-their-relationship/articleshow/118073393.cms extracted\n"
     ]
    },
    {
     "name": "stderr",
     "output_type": "stream",
     "text": [
      " 13%|█▎        | 10/78 [00:23<02:35,  2.29s/it]"
     ]
    },
    {
     "name": "stdout",
     "output_type": "stream",
     "text": [
      "[INFO] Article https://timesofindia.indiatimes.com/sports/nba/top-stories/will-anthony-edwards-play-tonight-against-the-portland-trail-blazers-latest-update-on-the-minnesota-timberwolves-stars-injury-report-february-8-2025/articleshow/118074066.cms extracted\n"
     ]
    },
    {
     "name": "stderr",
     "output_type": "stream",
     "text": [
      " 14%|█▍        | 11/78 [00:25<02:38,  2.37s/it]"
     ]
    },
    {
     "name": "stdout",
     "output_type": "stream",
     "text": [
      "[INFO] Article https://timesofindia.indiatimes.com/sports/nba/top-stories/golden-state-warriors-vs-chicago-bulls-02/08-starting-five-injury-report-start-time-how-to-watch-and-more/articleshow/118073780.cms extracted\n"
     ]
    },
    {
     "name": "stderr",
     "output_type": "stream",
     "text": [
      " 15%|█▌        | 12/78 [00:28<02:34,  2.35s/it]"
     ]
    },
    {
     "name": "stdout",
     "output_type": "stream",
     "text": [
      "[INFO] Article https://timesofindia.indiatimes.com/india/delhi-results-2025-linkedin-lessons-from-brand-bjps-win-and-brand-aaps-loss/articleshow/118066797.cms extracted\n"
     ]
    },
    {
     "name": "stderr",
     "output_type": "stream",
     "text": [
      " 17%|█▋        | 13/78 [00:30<02:30,  2.32s/it]"
     ]
    },
    {
     "name": "stdout",
     "output_type": "stream",
     "text": [
      "[INFO] Article https://timesofindia.indiatimes.com/india/manipur-cm-n-biren-singh-resigns-submits-letter-to-governor/articleshow/118090748.cms extracted\n"
     ]
    },
    {
     "name": "stderr",
     "output_type": "stream",
     "text": [
      " 18%|█▊        | 14/78 [00:32<02:29,  2.33s/it]"
     ]
    },
    {
     "name": "stdout",
     "output_type": "stream",
     "text": [
      "[INFO] Article https://timesofindia.indiatimes.com/city/delhi/who-is-parvesh-verma-new-delhi-assembly-constituency-delhi-election-bjp-candidate-vs-arvind-kejriwal-aap-vs-congress-sandeep-dikshit/articleshow/118049764.cms extracted\n"
     ]
    },
    {
     "name": "stderr",
     "output_type": "stream",
     "text": [
      " 19%|█▉        | 15/78 [00:35<02:26,  2.32s/it]"
     ]
    },
    {
     "name": "stdout",
     "output_type": "stream",
     "text": [
      "[INFO] Article https://timesofindia.indiatimes.com/city/delhi/delhi-election-results-2025-aap-lost-reasons-arvind-kejriwal-new-delhi-manish-sisodia-bjp-modi-incumbency-corruptio-sheesh-mahal-liquor-freebies-congress-rahul/articleshow/118023276.cms extracted\n"
     ]
    },
    {
     "name": "stderr",
     "output_type": "stream",
     "text": [
      " 21%|██        | 16/78 [00:37<02:30,  2.42s/it]"
     ]
    },
    {
     "name": "stdout",
     "output_type": "stream",
     "text": [
      "[INFO] Article https://timesofindia.indiatimes.com/entertainment/tamil/movies/news/shiva-rajkumar-breaks-his-silence-on-language-row-kamal-haasan-is-like-a-father-but-kannada-needs-more-than-words/articleshow/121482988.cms extracted\n"
     ]
    },
    {
     "name": "stderr",
     "output_type": "stream",
     "text": [
      " 22%|██▏       | 17/78 [00:40<02:25,  2.38s/it]"
     ]
    },
    {
     "name": "stdout",
     "output_type": "stream",
     "text": [
      "[INFO] Article https://timesofindia.indiatimes.com/tv/news/hindi/indian-idol-12-winner-pawandeep-rajan-gets-discharged-from-hospital-shares-picture-from-the-flight-writes-going-back-home/articleshow/121511116.cms extracted\n"
     ]
    },
    {
     "name": "stderr",
     "output_type": "stream",
     "text": [
      " 23%|██▎       | 18/78 [00:42<02:21,  2.36s/it]"
     ]
    },
    {
     "name": "stdout",
     "output_type": "stream",
     "text": [
      "[INFO] Article https://timesofindia.indiatimes.com/life-style/travel/news/delhi-weather-orange-alert-in-place-for-rain-thunderstorms-and-strong-winds/articleshow/121509594.cms extracted\n"
     ]
    },
    {
     "name": "stderr",
     "output_type": "stream",
     "text": [
      " 24%|██▍       | 19/78 [00:44<02:17,  2.33s/it]"
     ]
    },
    {
     "name": "stdout",
     "output_type": "stream",
     "text": [
      "[INFO] Article https://timesofindia.indiatimes.com/life-style/health-fitness/health-news/bowel-cancer-is-rising-rapidly-in-younger-people-what-are-the-causes-and-symptoms-of-the-disease/articleshow/121452261.cms extracted\n"
     ]
    },
    {
     "name": "stderr",
     "output_type": "stream",
     "text": [
      " 26%|██▌       | 20/78 [00:46<02:13,  2.30s/it]"
     ]
    },
    {
     "name": "stdout",
     "output_type": "stream",
     "text": [
      "[INFO] Article https://timesofindia.indiatimes.com/etimes/trending/this-anaconda-rivers-helicopter-view-will-haunt-your-nightmares-netizens-question-if-its-real-or-ai-generated-watch-now/articleshow/121465859.cms extracted\n"
     ]
    },
    {
     "name": "stderr",
     "output_type": "stream",
     "text": [
      " 27%|██▋       | 21/78 [00:49<02:10,  2.30s/it]"
     ]
    },
    {
     "name": "stdout",
     "output_type": "stream",
     "text": [
      "[INFO] Article https://timesofindia.indiatimes.com/education/news/ou-results-2025-osmania-university-declares-april-may-2025-ug-results-for-b-sc-bba-ba-and-b-com-programmes/articleshow/121494873.cms extracted\n"
     ]
    },
    {
     "name": "stderr",
     "output_type": "stream",
     "text": [
      " 28%|██▊       | 22/78 [00:51<02:12,  2.37s/it]"
     ]
    },
    {
     "name": "stdout",
     "output_type": "stream",
     "text": [
      "[INFO] Article https://timesofindia.indiatimes.com/education/news/rbse-class-5th-result-2025-declared-direct-link-to-download-rajasthan-class-5th-results-here/articleshow/121510500.cms extracted\n"
     ]
    },
    {
     "name": "stderr",
     "output_type": "stream",
     "text": [
      " 29%|██▉       | 23/78 [00:53<02:08,  2.33s/it]"
     ]
    },
    {
     "name": "stdout",
     "output_type": "stream",
     "text": [
      "[INFO] Article https://timesofindia.indiatimes.com/education/study-abroad/1-8-million-and-rising-here-is-why-indian-students-prefer-studying-at-international-destinations/articleshow/121489474.cms extracted\n"
     ]
    },
    {
     "name": "stderr",
     "output_type": "stream",
     "text": [
      " 31%|███       | 24/78 [00:56<02:04,  2.31s/it]"
     ]
    },
    {
     "name": "stdout",
     "output_type": "stream",
     "text": [
      "[INFO] Article https://timesofindia.indiatimes.com/education/news/ts-dost-2025-phase-1-seat-allotment-list-released-check-direct-link-to-download-here/articleshow/121492248.cms extracted\n"
     ]
    },
    {
     "name": "stderr",
     "output_type": "stream",
     "text": [
      " 32%|███▏      | 25/78 [00:58<02:02,  2.30s/it]"
     ]
    },
    {
     "name": "stdout",
     "output_type": "stream",
     "text": [
      "[INFO] Article https://timesofindia.indiatimes.com/education/news/hp-tet-june-2025-hpbose-releases-admit-cards-for-tgt-arts-medical-subjects-on-hpbose-org-check-schedule-and-direct-link-here/articleshow/121466046.cms extracted\n"
     ]
    },
    {
     "name": "stderr",
     "output_type": "stream",
     "text": [
      " 33%|███▎      | 26/78 [01:00<01:58,  2.28s/it]"
     ]
    },
    {
     "name": "stdout",
     "output_type": "stream",
     "text": [
      "[INFO] Article https://timesofindia.indiatimes.com/sports/cricket/ipl/top-stories/virat-kohli-the-force-behind-rcbs-dominant-march-to-ipl-2025-final/articleshow/121502906.cms extracted\n"
     ]
    },
    {
     "name": "stderr",
     "output_type": "stream",
     "text": [
      " 35%|███▍      | 27/78 [01:03<01:57,  2.29s/it]"
     ]
    },
    {
     "name": "stdout",
     "output_type": "stream",
     "text": [
      "[INFO] Article https://timesofindia.indiatimes.com/sports/cricket/india-tour-of-england/i-am-ready-cheteshwar-pujara-breaks-silence-on-gautam-gambhirs-call-for-england-tour/articleshow/121488605.cms extracted\n"
     ]
    },
    {
     "name": "stderr",
     "output_type": "stream",
     "text": [
      " 36%|███▌      | 28/78 [01:05<01:58,  2.37s/it]"
     ]
    },
    {
     "name": "stdout",
     "output_type": "stream",
     "text": [
      "[INFO] Article https://timesofindia.indiatimes.com/sports/cricket/ipl/top-stories/rcb-enter-ipl-2025-final-how-to-buy-tickets-for-the-summit-clash-in-ahmedabad/articleshow/121506301.cms extracted\n"
     ]
    },
    {
     "name": "stderr",
     "output_type": "stream",
     "text": [
      " 37%|███▋      | 29/78 [01:07<01:55,  2.36s/it]"
     ]
    },
    {
     "name": "stdout",
     "output_type": "stream",
     "text": [
      "[INFO] Article https://timesofindia.indiatimes.com/sports/cricket/ipl/top-stories/who-is-anushka-sharmas-friend-in-rcbs-qualifier-win-over-pbks-internet-wants-to-know/articleshow/121506875.cms extracted\n"
     ]
    },
    {
     "name": "stderr",
     "output_type": "stream",
     "text": [
      " 38%|███▊      | 30/78 [01:10<01:52,  2.34s/it]"
     ]
    },
    {
     "name": "stdout",
     "output_type": "stream",
     "text": [
      "[INFO] Article https://timesofindia.indiatimes.com/sports/cricket/ipl/top-stories/what-happens-if-gujarat-titans-vs-mumbai-indians-ipl-eliminator-gets-washed-out-in-mullanpur/articleshow/121507966.cms extracted\n"
     ]
    },
    {
     "name": "stderr",
     "output_type": "stream",
     "text": [
      " 40%|███▉      | 31/78 [01:12<01:51,  2.37s/it]"
     ]
    },
    {
     "name": "stdout",
     "output_type": "stream",
     "text": [
      "[INFO] Article https://timesofindia.indiatimes.com/sports/cricket/ipl/top-stories/ipl-match-today-gt-vs-mi-team-prediction-head-to-head-pitch-report-mullanpur-weather-update/articleshow/121509838.cms extracted\n"
     ]
    },
    {
     "name": "stderr",
     "output_type": "stream",
     "text": [
      " 41%|████      | 32/78 [01:15<01:50,  2.41s/it]"
     ]
    },
    {
     "name": "stdout",
     "output_type": "stream",
     "text": [
      "[INFO] Article https://timesofindia.indiatimes.com/india/not-a-single-project-completed-on-time-air-chiefs-blunt-warning-over-delays-in-defence-procurements/articleshow/121486643.cms extracted\n"
     ]
    },
    {
     "name": "stderr",
     "output_type": "stream",
     "text": [
      " 42%|████▏     | 33/78 [01:17<01:46,  2.37s/it]"
     ]
    },
    {
     "name": "stdout",
     "output_type": "stream",
     "text": [
      "[INFO] Article https://timesofindia.indiatimes.com/sports/nfl/news/miami-dolphins-reluctant-to-trade-jalen-ramsey-due-to-his-expensive-contract-and-trade-market-challenges/articleshow/121497366.cms extracted\n"
     ]
    },
    {
     "name": "stderr",
     "output_type": "stream",
     "text": [
      " 44%|████▎     | 34/78 [01:20<01:49,  2.50s/it]"
     ]
    },
    {
     "name": "stdout",
     "output_type": "stream",
     "text": [
      "[INFO] Article https://timesofindia.indiatimes.com/sports/cricket/india-tour-of-england/india-a-vs-england-lions-live-streaming-where-to-watch-and-full-schedule/articleshow/121497522.cms extracted\n"
     ]
    },
    {
     "name": "stderr",
     "output_type": "stream",
     "text": [
      " 45%|████▍     | 35/78 [01:22<01:45,  2.44s/it]"
     ]
    },
    {
     "name": "stdout",
     "output_type": "stream",
     "text": [
      "[INFO] Article https://timesofindia.indiatimes.com/india/operation-sindoor-how-indias-homegrown-weapons-outclassed-chinese-arms/articleshow/121485763.cms extracted\n"
     ]
    },
    {
     "name": "stderr",
     "output_type": "stream",
     "text": [
      " 46%|████▌     | 36/78 [01:25<01:44,  2.50s/it]"
     ]
    },
    {
     "name": "stdout",
     "output_type": "stream",
     "text": [
      "[INFO] Article https://timesofindia.indiatimes.com/city/bhubaneswar/cash-rains-from-bhubaneswar-flat-chief-engineer-throws-bundles-of-rs-500-notes-from-flat-during-raid/articleshow/121505434.cms extracted\n"
     ]
    },
    {
     "name": "stderr",
     "output_type": "stream",
     "text": [
      " 47%|████▋     | 37/78 [01:27<01:44,  2.55s/it]"
     ]
    },
    {
     "name": "stdout",
     "output_type": "stream",
     "text": [
      "[INFO] Article https://timesofindia.indiatimes.com/city/bhopal/i-know-impact-of-electrocution-convicted-chemistry-professor-contests-husbands-autopsy-report-in-madhya-pradesh-hc/articleshow/121501690.cms extracted\n"
     ]
    },
    {
     "name": "stderr",
     "output_type": "stream",
     "text": [
      " 49%|████▊     | 38/78 [01:29<01:31,  2.28s/it]"
     ]
    },
    {
     "name": "stdout",
     "output_type": "stream",
     "text": [
      "[INFO] Article https://timesofindia.indiatimes.com/city/indore/6-days-on-no-signs-of-indore-honeymooners-in-shillong/articleshow/121472109.cms extracted\n"
     ]
    },
    {
     "name": "stderr",
     "output_type": "stream",
     "text": [
      " 50%|█████     | 39/78 [01:32<01:31,  2.35s/it]"
     ]
    },
    {
     "name": "stdout",
     "output_type": "stream",
     "text": [
      "[INFO] Article https://timesofindia.indiatimes.com/india/dnpa-code-of-ethics-for-digital-news-websites/articleshow/78840462.cms extracted\n"
     ]
    },
    {
     "name": "stderr",
     "output_type": "stream",
     "text": [
      " 51%|█████▏    | 40/78 [01:34<01:28,  2.34s/it]"
     ]
    },
    {
     "name": "stdout",
     "output_type": "stream",
     "text": [
      "[INFO] Article https://timesofindia.indiatimes.com/etimes/trending/a-massive-tsunami-wave-as-tall-as-1000-feet-might-soon-hit-and-wipe-out-the-entire-us-study/articleshow/121391183.cms extracted\n"
     ]
    },
    {
     "name": "stderr",
     "output_type": "stream",
     "text": [
      " 53%|█████▎    | 41/78 [01:35<01:18,  2.11s/it]"
     ]
    },
    {
     "name": "stdout",
     "output_type": "stream",
     "text": [
      "[INFO] Article https://timesofindia.indiatimes.com/life-style/health-fitness/fitness/nasa-says-this-10-min-exercise-is-70-more-effective-than-running-jogging/articleshow/121501298.cms extracted\n"
     ]
    },
    {
     "name": "stderr",
     "output_type": "stream",
     "text": [
      " 54%|█████▍    | 42/78 [01:38<01:20,  2.24s/it]"
     ]
    },
    {
     "name": "stdout",
     "output_type": "stream",
     "text": [
      "[INFO] Article https://timesofindia.indiatimes.com/life-style/travel/news/travel-alert-imd-predicts-heavy-rains-in-chennai-tamil-nadu-orange-alert-for-17-districts/articleshow/121515999.cms extracted\n"
     ]
    },
    {
     "name": "stderr",
     "output_type": "stream",
     "text": [
      " 55%|█████▌    | 43/78 [01:40<01:20,  2.31s/it]"
     ]
    },
    {
     "name": "stdout",
     "output_type": "stream",
     "text": [
      "[INFO] Article https://timesofindia.indiatimes.com/life-style/travel/flying-to-turkey-this-one-annoying-in-flight-habit-might-earn-you-a-hefty-fine/articleshow/121520890.cms extracted\n"
     ]
    },
    {
     "name": "stderr",
     "output_type": "stream",
     "text": [
      " 56%|█████▋    | 44/78 [01:43<01:18,  2.30s/it]"
     ]
    },
    {
     "name": "stdout",
     "output_type": "stream",
     "text": [
      "[INFO] Article https://timesofindia.indiatimes.com/life-style/travel/america-tightens-social-media-vetting-is-your-online-profile-putting-your-student-visa-at-risk/articleshow/121515087.cms extracted\n"
     ]
    },
    {
     "name": "stderr",
     "output_type": "stream",
     "text": [
      " 58%|█████▊    | 45/78 [01:45<01:14,  2.27s/it]"
     ]
    },
    {
     "name": "stdout",
     "output_type": "stream",
     "text": [
      "[INFO] Article https://timesofindia.indiatimes.com/entertainment/tamil/movies/news/wont-apologise-unless-im-wrong-says-kamal-haasan-amid-thug-life-ban-in-karnataka/articleshow/121512481.cms extracted\n"
     ]
    },
    {
     "name": "stderr",
     "output_type": "stream",
     "text": [
      " 59%|█████▉    | 46/78 [01:47<01:12,  2.27s/it]"
     ]
    },
    {
     "name": "stdout",
     "output_type": "stream",
     "text": [
      "[INFO] Article https://timesofindia.indiatimes.com/sports/cricket/ipl/top-stories/watch-ashish-nehras-son-shubman-gills-sister-reduced-to-tears-after-gujarat-titans-lose-eliminator-to-mumbai-indians/articleshow/121528677.cms extracted\n"
     ]
    },
    {
     "name": "stderr",
     "output_type": "stream",
     "text": [
      " 60%|██████    | 47/78 [01:50<01:10,  2.28s/it]"
     ]
    },
    {
     "name": "stdout",
     "output_type": "stream",
     "text": [
      "[INFO] Article https://timesofindia.indiatimes.com/sports/cricket/ipl/top-stories/jasprit-bumrah-is-like-mumbai-housing-prices-hardik-pandya/articleshow/121524600.cms extracted\n"
     ]
    },
    {
     "name": "stderr",
     "output_type": "stream",
     "text": [
      " 62%|██████▏   | 48/78 [01:52<01:07,  2.25s/it]"
     ]
    },
    {
     "name": "stdout",
     "output_type": "stream",
     "text": [
      "[INFO] Article https://timesofindia.indiatimes.com/sports/cricket/ipl/top-stories/1st-unofficial-test-karun-nair-nears-a-double-century-sarfaraz-khan-silences-critics-as-india-a-post-409/3-vs-england-lions/articleshow/121523259.cms extracted\n"
     ]
    },
    {
     "name": "stderr",
     "output_type": "stream",
     "text": [
      " 63%|██████▎   | 49/78 [01:53<00:59,  2.05s/it]"
     ]
    },
    {
     "name": "stdout",
     "output_type": "stream",
     "text": [
      "[INFO] Article https://timesofindia.indiatimes.com/sports/cricket/india-tour-of-england/sai-sudharsan-banks-on-county-experience-to-excel-in-england/articleshow/121529075.cms extracted\n"
     ]
    },
    {
     "name": "stderr",
     "output_type": "stream",
     "text": [
      " 64%|██████▍   | 50/78 [01:56<01:00,  2.14s/it]"
     ]
    },
    {
     "name": "stdout",
     "output_type": "stream",
     "text": [
      "[INFO] Article https://timesofindia.indiatimes.com/sports/cricket/ipl/top-stories/ipl-2025-playoffs-rohit-sharma-punishes-gts-butter-fingers-in-eliminator/articleshow/121523643.cms extracted\n"
     ]
    },
    {
     "name": "stderr",
     "output_type": "stream",
     "text": [
      " 65%|██████▌   | 51/78 [01:58<01:00,  2.25s/it]"
     ]
    },
    {
     "name": "stdout",
     "output_type": "stream",
     "text": [
      "[INFO] Article https://timesofindia.indiatimes.com/sports/cricket/ipl/top-stories/pm-narendra-modi-meets-teen-sensation-vaibhav-suryavanshi-at-patna-airport/articleshow/121512469.cms extracted\n"
     ]
    },
    {
     "name": "stderr",
     "output_type": "stream",
     "text": [
      " 67%|██████▋   | 52/78 [02:01<01:01,  2.35s/it]"
     ]
    },
    {
     "name": "stdout",
     "output_type": "stream",
     "text": [
      "[INFO] Article https://timesofindia.indiatimes.com/sports/cricket/ipl/top-stories/calm-down-im-here-jasprit-bumrah-gestures-to-mi-coach-mahela-jayawardene-in-win-against-gt/articleshow/121529636.cms extracted\n"
     ]
    },
    {
     "name": "stderr",
     "output_type": "stream",
     "text": [
      " 68%|██████▊   | 53/78 [02:03<00:54,  2.18s/it]"
     ]
    },
    {
     "name": "stdout",
     "output_type": "stream",
     "text": [
      "[INFO] Article https://timesofindia.indiatimes.com/education/news/brain-boosters-5-powerful-exercises-to-enhance-memory-and-creativity-in-students/articleshow/121466113.cms extracted\n"
     ]
    },
    {
     "name": "stderr",
     "output_type": "stream",
     "text": [
      " 69%|██████▉   | 54/78 [02:05<00:54,  2.28s/it]"
     ]
    },
    {
     "name": "stdout",
     "output_type": "stream",
     "text": [
      "[INFO] Article https://timesofindia.indiatimes.com/education/news/over-69000-indian-students-face-deportation-risk-as-us-tightens-opt-unemployment-rules/articleshow/121484604.cms extracted\n"
     ]
    },
    {
     "name": "stderr",
     "output_type": "stream",
     "text": [
      " 71%|███████   | 55/78 [02:07<00:52,  2.30s/it]"
     ]
    },
    {
     "name": "stdout",
     "output_type": "stream",
     "text": [
      "[INFO] Article https://timesofindia.indiatimes.com/education/news/ap-dsc-hall-ticket-2025-check-where-and-how-to-download-mega-dsc-admit-card-online/articleshow/121505245.cms extracted\n"
     ]
    },
    {
     "name": "stderr",
     "output_type": "stream",
     "text": [
      " 72%|███████▏  | 56/78 [02:10<00:50,  2.30s/it]"
     ]
    },
    {
     "name": "stdout",
     "output_type": "stream",
     "text": [
      "[INFO] Article https://timesofindia.indiatimes.com/education/study-abroad/after-harvard-ban-and-us-visa-curb-these-top-japanese-universities-step-in-is-asia-the-future-of-global-education/articleshow/121507451.cms extracted\n"
     ]
    },
    {
     "name": "stderr",
     "output_type": "stream",
     "text": [
      " 73%|███████▎  | 57/78 [02:12<00:48,  2.31s/it]"
     ]
    },
    {
     "name": "stdout",
     "output_type": "stream",
     "text": [
      "[INFO] Article https://timesofindia.indiatimes.com/education/news/neet-pg-2025-in-one-shift-supreme-court-trashes-the-two-shift-format-slams-it-as-arbitrary-and-unfair/articleshow/121511631.cms extracted\n"
     ]
    },
    {
     "name": "stderr",
     "output_type": "stream",
     "text": [
      " 74%|███████▍  | 58/78 [02:14<00:45,  2.30s/it]"
     ]
    },
    {
     "name": "stdout",
     "output_type": "stream",
     "text": [
      "[INFO] Article https://timesofindia.indiatimes.com/education/news/icai-ca-september-2025-exam-timetable-released-for-final-inter-and-foundation-at-icai-org-check-here/articleshow/121518696.cms extracted\n"
     ]
    },
    {
     "name": "stderr",
     "output_type": "stream",
     "text": [
      " 76%|███████▌  | 59/78 [02:17<00:44,  2.32s/it]"
     ]
    },
    {
     "name": "stdout",
     "output_type": "stream",
     "text": [
      "[INFO] Article https://timesofindia.indiatimes.com/education/news/mumbai-university-second-merit-list-2025-releasing-today-at-muugadmission-samarth-edu-in-check-details-here/articleshow/121529780.cms extracted\n"
     ]
    },
    {
     "name": "stderr",
     "output_type": "stream",
     "text": [
      " 77%|███████▋  | 60/78 [02:19<00:41,  2.31s/it]"
     ]
    },
    {
     "name": "stdout",
     "output_type": "stream",
     "text": [
      "[INFO] Article https://timesofindia.indiatimes.com/india/he-was-visibly-emotional-what-pm-modi-told-kin-of-pahalgam-attack-victim-shubham-dwivedi/articleshow/121517602.cms extracted\n"
     ]
    },
    {
     "name": "stderr",
     "output_type": "stream",
     "text": [
      " 78%|███████▊  | 61/78 [02:21<00:38,  2.28s/it]"
     ]
    },
    {
     "name": "stdout",
     "output_type": "stream",
     "text": [
      "[INFO] Article https://timesofindia.indiatimes.com/india/incapable-of-waging-war-for-quite-some-time-amit-shah-lauds-bsf-for-destroying-118-pakistani-posts-and-communication-system/articleshow/121514484.cms extracted\n"
     ]
    },
    {
     "name": "stderr",
     "output_type": "stream",
     "text": [
      " 79%|███████▉  | 62/78 [02:23<00:36,  2.28s/it]"
     ]
    },
    {
     "name": "stdout",
     "output_type": "stream",
     "text": [
      "[INFO] Article https://timesofindia.indiatimes.com/india/strategic-shift-beyond-us-india-seeks-new-allies-for-next-gen-fighter-jets/articleshow/121520722.cms extracted\n"
     ]
    },
    {
     "name": "stderr",
     "output_type": "stream",
     "text": [
      " 81%|████████  | 63/78 [02:26<00:34,  2.31s/it]"
     ]
    },
    {
     "name": "stdout",
     "output_type": "stream",
     "text": [
      "[INFO] Article https://timesofindia.indiatimes.com/etimes/trending/i-froze-im-still-restless-woman-shares-harrowing-delhi-metro-encounter/articleshow/121518733.cms extracted\n"
     ]
    },
    {
     "name": "stderr",
     "output_type": "stream",
     "text": [
      " 82%|████████▏ | 64/78 [02:28<00:32,  2.29s/it]"
     ]
    },
    {
     "name": "stdout",
     "output_type": "stream",
     "text": [
      "[INFO] Article https://timesofindia.indiatimes.com/tv/news/hindi/saba-ibrahim-shares-sister-in-law-dipika-kakars-advice-on-taking-care-of-their-newborn-says-we-will-celebrate-after-bhabhi-recovers/articleshow/121536867.cms extracted\n"
     ]
    },
    {
     "name": "stderr",
     "output_type": "stream",
     "text": [
      " 83%|████████▎ | 65/78 [02:30<00:29,  2.30s/it]"
     ]
    },
    {
     "name": "stdout",
     "output_type": "stream",
     "text": [
      "[INFO] Article https://timesofindia.indiatimes.com/sports/cricket/ipl/top-stories/after-shubman-gill-hardik-pandya-also-shuts-down-rumours-of-rift-with-gujarat-titans-captain/articleshow/121544844.cms extracted\n"
     ]
    },
    {
     "name": "stderr",
     "output_type": "stream",
     "text": [
      " 85%|████████▍ | 66/78 [02:33<00:27,  2.28s/it]"
     ]
    },
    {
     "name": "stdout",
     "output_type": "stream",
     "text": [
      "[INFO] Article https://timesofindia.indiatimes.com/sports/football/top-stories/psg-fans-unfurl-banner-honouring-luis-enriques-daughter-who-passed-away-from-cancer/articleshow/121544643.cms extracted\n"
     ]
    },
    {
     "name": "stderr",
     "output_type": "stream",
     "text": [
      " 86%|████████▌ | 67/78 [02:35<00:25,  2.32s/it]"
     ]
    },
    {
     "name": "stdout",
     "output_type": "stream",
     "text": [
      "[INFO] Article https://timesofindia.indiatimes.com/sports/football/top-stories/watch-paris-goes-wild-after-psg-win-maiden-champions-league-title/articleshow/121544579.cms extracted\n"
     ]
    },
    {
     "name": "stderr",
     "output_type": "stream",
     "text": [
      " 87%|████████▋ | 68/78 [02:38<00:23,  2.37s/it]"
     ]
    },
    {
     "name": "stdout",
     "output_type": "stream",
     "text": [
      "[INFO] Article https://timesofindia.indiatimes.com/sports/football/top-stories/psg-win-first-champions-league-title-with-historic-5-0-victory-over-inter-milan/articleshow/121544471.cms extracted\n"
     ]
    },
    {
     "name": "stderr",
     "output_type": "stream",
     "text": [
      " 88%|████████▊ | 69/78 [02:40<00:22,  2.46s/it]"
     ]
    },
    {
     "name": "stdout",
     "output_type": "stream",
     "text": [
      "[INFO] Article https://timesofindia.indiatimes.com/education/news/bseb-10th-12th-compartmental-result-2025-declared-at-results-biharboardonline-com-check-direct-link-here/articleshow/121534620.cms extracted\n"
     ]
    },
    {
     "name": "stderr",
     "output_type": "stream",
     "text": [
      " 90%|████████▉ | 70/78 [02:42<00:17,  2.18s/it]"
     ]
    },
    {
     "name": "stdout",
     "output_type": "stream",
     "text": [
      "[INFO] Article https://timesofindia.indiatimes.com/sports/cricket/ipl/top-stories/jasprit-bumrah-rahul-tewatia-engage-in-heated-exchange-during-ipl-2025-eliminator/articleshow/121535216.cms extracted\n"
     ]
    },
    {
     "name": "stderr",
     "output_type": "stream",
     "text": [
      " 91%|█████████ | 71/78 [02:44<00:16,  2.29s/it]"
     ]
    },
    {
     "name": "stdout",
     "output_type": "stream",
     "text": [
      "[INFO] Article https://timesofindia.indiatimes.com/sports/cricket/ipl/top-stories/ipl-2025-qualifier-2-punjab-kings-likely-to-get-yuzvendra-chahal-boost-against-mumbai-indians/articleshow/121544984.cms extracted\n"
     ]
    },
    {
     "name": "stderr",
     "output_type": "stream",
     "text": [
      " 92%|█████████▏| 72/78 [02:47<00:13,  2.29s/it]"
     ]
    },
    {
     "name": "stdout",
     "output_type": "stream",
     "text": [
      "[INFO] Article https://timesofindia.indiatimes.com/education/news/rrb-ntpc-admit-card-expected-to-release-soon-check-steps-to-download-and-other-key-details-here/articleshow/121545338.cms extracted\n"
     ]
    },
    {
     "name": "stderr",
     "output_type": "stream",
     "text": [
      " 94%|█████████▎| 73/78 [02:49<00:11,  2.28s/it]"
     ]
    },
    {
     "name": "stdout",
     "output_type": "stream",
     "text": [
      "[INFO] Article https://timesofindia.indiatimes.com/sports/nfl/news/messy-ass-handwriting-taylor-swifts-heartfelt-letter-sparks-backlash-fans-say-her-handwriting-is-painful-to-read/articleshow/121544161.cms extracted\n"
     ]
    },
    {
     "name": "stderr",
     "output_type": "stream",
     "text": [
      " 95%|█████████▍| 74/78 [02:51<00:09,  2.40s/it]"
     ]
    },
    {
     "name": "stdout",
     "output_type": "stream",
     "text": [
      "[INFO] Article https://timesofindia.indiatimes.com/sports/nba/top-stories/new-york-knicks-vs-indiana-pacers-05/31-box-score-player-stats-game-summary-and-more/articleshow/121544972.cms extracted\n"
     ]
    },
    {
     "name": "stderr",
     "output_type": "stream",
     "text": [
      " 96%|█████████▌| 75/78 [02:54<00:07,  2.35s/it]"
     ]
    },
    {
     "name": "stdout",
     "output_type": "stream",
     "text": [
      "[INFO] Article https://timesofindia.indiatimes.com/sports/nba/top-stories/just-unbelievable-pascal-siakam-gives-candid-reaction-after-winning-2025-eastern-conference-finals-mvp-as-indiana-pacers-punch-ticket-to-the-nba-finals/articleshow/121545112.cms extracted\n"
     ]
    },
    {
     "name": "stderr",
     "output_type": "stream",
     "text": [
      " 97%|█████████▋| 76/78 [02:56<00:04,  2.31s/it]"
     ]
    },
    {
     "name": "stdout",
     "output_type": "stream",
     "text": [
      "[INFO] Article https://timesofindia.indiatimes.com/sports/nfl/news/stefon-diggs-sends-two-word-flirtatious-message-to-cardi-b-amid-backlash-over-viral-yacht-party-video/articleshow/121545177.cms extracted\n"
     ]
    },
    {
     "name": "stderr",
     "output_type": "stream",
     "text": [
      " 99%|█████████▊| 77/78 [02:58<00:02,  2.35s/it]"
     ]
    },
    {
     "name": "stdout",
     "output_type": "stream",
     "text": [
      "[INFO] Article https://timesofindia.indiatimes.com/sports/nfl/news/from-dating-rumors-to-i-do-inside-hailee-steinfeld-and-josh-allens-intimate-fairytale-wedding/articleshow/121544868.cms extracted\n"
     ]
    },
    {
     "name": "stderr",
     "output_type": "stream",
     "text": [
      "100%|██████████| 78/78 [03:01<00:00,  2.32s/it]"
     ]
    },
    {
     "name": "stdout",
     "output_type": "stream",
     "text": [
      "[INFO] Article https://timesofindia.indiatimes.com/sports/nfl/news/aaron-rodgers-leaves-steelers-hanging-as-potential-signing-remains-shrouded-in-silence-and-speculation/articleshow/121538722.cms extracted\n"
     ]
    },
    {
     "name": "stderr",
     "output_type": "stream",
     "text": [
      "\n"
     ]
    }
   ],
   "source": [
    "print(\"Extracting articles...\")\n",
    "news = []\n",
    "\n",
    "for url in tqdm(df[\"link\"]):\n",
    "\n",
    "    article_id = extract_article_id(url)\n",
    "    if not article_id:\n",
    "        news.append([\"\", \"\"])\n",
    "\n",
    "    try:\n",
    "\n",
    "        headers = {\n",
    "            \"User-Agent\": choice(USER_AGENTS)\n",
    "        }\n",
    "        proxy_addr = choice(PROXIES)\n",
    "        proxies = {\n",
    "            \"http\": f\"http://{proxy_addr}\",\n",
    "            \"https\": f\"http://{proxy_addr}\"\n",
    "        }\n",
    "\n",
    "        response = get(url, headers=headers, proxies=proxies, timeout=5)\n",
    "        soup = BeautifulSoup(response.text, 'html.parser')\n",
    "\n",
    "\n",
    "        try:\n",
    "            main_div = soup.find('div', id=f'toi-article-container-{article_id}', class_='clearfix rel')\n",
    "        \n",
    "            if main_div:\n",
    "            \n",
    "                # Extract title from h1 tag with class 'HNMDR'\n",
    "                title_element = main_div.find('h1', class_='HNMDR')\n",
    "                title = title_element.get_text(strip=True) if title_element else \"\"\n",
    "            \n",
    "                # Extract content from div with class '_s30J clearfix'\n",
    "                content_element = main_div.find('div', class_='_s30J clearfix')\n",
    "                if content_element:\n",
    "                    content = content_element.get_text(separator=\" \", strip=True)\n",
    "                else:\n",
    "                    content = \"\"\n",
    "\n",
    "            news.append([title, content])\n",
    "            print(f\"[INFO] Article {url} extracted.\")\n",
    "            \n",
    "        except Exception as E:\n",
    "            news.append([\"\", \"\"])\n",
    "            print(f\"Error fetching {url} inside article : {E}\")\n",
    "\n",
    "    except Exception as e:\n",
    "        news.append([\"\", \"\"])\n",
    "        print(f\"Error fetching {url} : {e}\")  \n",
    "\n"
   ]
  },
  {
   "cell_type": "code",
   "execution_count": 63,
   "id": "e259a1a2",
   "metadata": {},
   "outputs": [],
   "source": [
    "df = pd.read_csv(\"df.csv\")"
   ]
  },
  {
   "cell_type": "code",
   "execution_count": 64,
   "id": "91b5ee9b",
   "metadata": {},
   "outputs": [
    {
     "data": {
      "application/vnd.microsoft.datawrangler.viewer.v0+json": {
       "columns": [
        {
         "name": "index",
         "rawType": "int64",
         "type": "integer"
        },
        {
         "name": "link",
         "rawType": "object",
         "type": "string"
        },
        {
         "name": "date",
         "rawType": "object",
         "type": "string"
        },
        {
         "name": "publisher",
         "rawType": "object",
         "type": "string"
        },
        {
         "name": "title",
         "rawType": "object",
         "type": "string"
        },
        {
         "name": "content",
         "rawType": "object",
         "type": "string"
        }
       ],
       "ref": "0387630c-b876-4a5c-b772-01ee4324d45c",
       "rows": [
        [
         "0",
         "https://timesofindia.indiatimes.com/first-look/detective-byomkesh-bakshy/articleshow/20874151.cms",
         "2022-01-01",
         "Times of India",
         "Detective Byomkesh Bakshy!",
         "Credits Director: Dibakar Banerjee Cast: Sushant Singh Rajput Banner: Yash Raj Films , Dibakar Banerjee Productions Release Date: December 12, 2014 Synopsis The co-production venture of YRF & Dibakar Banerjee Productions (DBP) announces its first directorial outing with Dibakar â âDetective Byomkesh Bakshy!â \"We are rebooting Byomkesh. Right back to his first ever case. We could have called this Byomkesh Begins. Everything else from now on will follow us!\" says Dibakar, tongue in cheek. In a contemporary interpretation of war torn Calcutta during the 1940âs, the film follows the first adventure of Byomkesh, fresh out of college, as he pits himself against an evil genius who is out to destroy the world. \"Itâs his wits against the most villainous arch criminal the world has seen, in a world of murder, international political intrigue and seduction\" This is the first in a series that will feature Bengali bestseller writer Saradindu Banerjee's most famous creation and India's widest read and best known detective character for the first time in a Hindi feature. \"Sushant Singh Rajput has that dormant volcano thing about him that is just right for my Byomkesh.\" Says Dibakar of his leading man, âHe looks so quiet, so self-absorbed and withdrawn â till you challenge him. Then he explodes and becomes the most dangerous man in the world â at least for the criminals.\" The director and the lead are working hard to get the character, feel and the spectacle of the period thriller that starts shooting January 2014."
        ],
        [
         "1",
         "https://timesofindia.indiatimes.com/first-look/first-look-of-ranbir-kapoors-roy-also-starring-arjun-rampal-and-jacqueline-fernandez/articleshow/21526875.cms",
         "2022-01-01",
         "Times of India",
         "Roy",
         "Credits Director: Vikramjit Singh Cast: Ranbir Kapoor , Arjun Rampal , Jacqueline Fernandez Producer: Divya Kumar , Bhushan Kumar , Krishan Kumar Banner: T-Series Release Date: June 20, 2014 Synopsis Post the super hit success of Aashiqui 2, T-Series brings to floors ROY . After a love story itâs time to see action, romance and drama. Venturing in genres like youth film, relationships, thriller, T-Series announced a romantic-action-drama with Ranbir Kapoor playing the title role of Roy. Ranbir will share screen space with Arjun Rampal and Jacqueline Fernandez. A slick and larger than life film, will see portray a character he hasnât done before. Roy is a directed by Vikramjit Singh produced by Divya Kumar, Bhushan Kumar and Krishan Kumar under the banner of T-Series. Roy marks the directorial debut of Vikramjit Singh who has also written the script for the film. Roy will be released on 20th June 2014."
        ],
        [
         "2",
         "https://timesofindia.indiatimes.com/entertainment/english/hollywood/previews/edge-of-tomorrow/articleshow/21100378.cms",
         "2022-01-01",
         "Times of India",
         "Edge of Tomorrow",
         "Credits Director: Doug Liman Cast: Tom Cruise , Emily Blunt , Bill Paxton , Kick Gurry , Dragomir Mrsic , Charlotte Riley , Jonas Armstrong , Franz Drameh Screenplay: Dante Harper, Christopher McQuarrie , Joby Harold Producer: Erwin Stoff, Gregory Jacobs, Jeffrey Silver Director of photography: Dion Beebe Production Designer: Oliver Scholl Editor: James Herbert Release Date: June 6, 2014 Synopsis Tom Cruise and Emily Blunt star in the epic sci-fi thriller â Edge of Tomorrow ,â under the direction of Doug Liman. The story unfolds in a near future in which a hive-like alien race, called Mimics, have hit the Earth in an unrelenting assault, shredding great cities to rubble and leaving millions of human casualties in their wake. No army in the world can match the speed, brutality or seeming prescience of the weaponized Mimic fighters or their telepathic commanders. But now the worldâs armies have joined forces for a last stand offensive against the alien horde, with no second chances. Lt. Col. Bill Cage (Cruise) is an officer who has never seen a day of combat when he is unceremoniously demoted and then droppedâuntrained and ill-equippedâinto what amounts to little more than a suicide mission. Cage is killed within minutes, managing to take an Alpha down with him. But, impossibly, he awakens back at the beginning of the same hellish day, and is forced to fight and die againâ¦and again. Direct physical contact with the alien has thrown him into a time loopâdooming him to live out the same brutal combat over and over. But with each pass, Cage becomes tougher, smarter, and able to engage the Mimics with increasing skill, alongside Special Forces warrior Rita Vrataski (Blunt), who has lain waste to more Mimics than anyone on Earth. As Cage and Rita take the fight to the aliens, each repeated battle becomes an opportunity to find the key to annihilating the alien invaders and saving the Earth."
        ],
        [
         "3",
         "https://timesofindia.indiatimes.com/sports/cricket/news/bloody-face-covered-with-towel-rachin-ravindra-carried-off-the-field-against-pakistan-watch/articleshow/118079708.cms",
         "2022-01-01",
         "Times of India",
         "Bloody! Face covered with towel, Rachin Ravindra carried off the field against Pakistan - Watch",
         "Rachin Ravindra (Screengrab) NEW DELHI: During the first One Day International (ODI) cricket match against Pakistan on Saturday, New Zealand's player Rachin Ravindra experienced a distressing incident where he was hit in the head by a cricket ball. The 25-year-old was positioned at deep square leg when the accident occurred, seemingly having difficulty tracking the ball under the floodlights of Lahore's Gaddafi Stadium , as he attempted to catch out Pakistan's Khushdil Shah. Poll What Should Be the Key Focus for Player Safety in Cricket Matches? Better Protective Gear and Medical Support Improved Ground and Lighting Conditions The impact resulted in a visible injury, with Ravindra bleeding from his forehead, causing immediate concern among spectators. Go Beyond The Boundary with our YouTube channel. SUBSCRIBE NOW! Following the incident, medical personnel attended to Ravindra on the field, after which he was seen leaving the playing area with a bandage applied to his forehead to manage the bleeding. With his face covered in towel, Ravindra, accompanied by security personnel, was taken off the field. Watch: \"Ravindra was forced from the field after being struck in the forehead by the ball attempting a catch in the 38th over,\" a New Zealand Cricket spokesman told ESPNCricinfo. \"He sustained a laceration to the forehead which has been addressed and treated at the ground, but is otherwise well. He came through his first HIA (Head Injury Assessment) well and will continue to be monitored under HIA processes.\" 'ILT20 is great for UAE cricket': Sehwag anticipates thrilling finale Before the unfortunate event, Ravindra contributed to his team's performance by scoring 25 runs off 19 balls. His efforts were part of New Zealand's innings, where they set a formidable total of 330-6. New Zealand ultimately secured a victory by a margin of 78 runs in the match. This game was part of a tri-nation series , also involving South Africa, serving as preparation for the upcoming Champions Trophy. Stay updated with the latest sports news and find out how to watch the ICC Champions Trophy live in Canada and the USA . Donât miss the highly anticipated India vs Pakistan and India vs New Zealand clashes. Check the live cricket scores here."
        ],
        [
         "4",
         "https://timesofindia.indiatimes.com/sports/cricket/news/poor-lights-of-gaddafi-stadium-pakistan-cricket-board-faces-backlash-after-rachin-ravindra-injury/articleshow/118080050.cms",
         "2022-01-01",
         "Times of India",
         "'Poor lights of Gaddafi Stadium': Pakistan Cricket Board faces backlash after Rachin Ravindra injury",
         "Rachin Ravindra (Screengrabs) NEW DELHI: During the latest ODI tri-series match against Pakistan , New Zealand cricketer Rachin Ravindra suffered a forehead injury on Saturday after being hit by the ball while attempting a catch. The incident, which took place in the 38th over, has raised concerns about the adequacy of the floodlighting at Gaddafi Stadium , with many attributing the mishap to the poor lighting conditions. Poll What Should Be the Top Priority for Ensuring Player Safety in Stadiums? Regular Ground and Infrastructure Inspections Improved Lighting and Visibility Checks According to a statement from New Zealand Cricket , Ravindra received immediate medical attention on the field for a laceration to his forehead and underwent a Head Injury Assessment (HIA), which he initially passed. He will continue to be monitored as per HIA protocols. Go Beyond The Boundary with our YouTube channel. SUBSCRIBE NOW! \"Ravindra was forced from the field after being struck in the forehead by the ball attempting a catch in the 38th over,\" a New Zealand Cricket statement reads. \"He sustained a laceration to the forehead which has been addressed and treated at the ground, but is otherwise well. He came through his first HIA (Head Injury Assessment) well and will continue to be monitored under HIA processes.\" The injury occurred when Pakistan's Khushdil Shah hit a powerful shot towards Ravindra, who was positioned at deep backward square leg. Misjudging the trajectory of the ball under the lights, Ravindra was struck in the face, leading to immediate medical intervention as he was visibly injured and bleeding. ALSO SEE: Bloody! Face covered with towel, Rachin Ravindra carried off the field against Pakistan - Watch Following the incident, he was escorted off the field by the New Zealand team's medical staff for further treatment. The quality of the floodlights at the venue has come under scrutiny, with fans expressing their dissatisfaction and concern for player safety on social media platforms. Many have called for the Pakistan Cricket Board (PCB) to enhance the lighting conditions at the stadium, especially in light of the upcoming Champions Trophy . \"PCB should improve the Quality of light in the Ground. Rachin Ravindra misjudges the ball under bad lights and takes a brutal hit near the eye. Hope he recovers soon....à¥¤à¥¤à¥¤\" said a fan on X (formerly Twitter). \"Rachin Ravindra is a far better fielder than the whole team of Pakistan, still can't see the ball while catching?? Poor lights of Gaddafi Stadium,\" opined another fan. \"How did @ICC allow Pakistan's ground to host international matches?? ICC should ensure players' safety and if Pakistan can't provide shift CHAMPIONS TROPHY to Dubai. Prayers for Rachin Ravindra,\" penned another fan. The incident has sparked a wider conversation about the standards of infrastructure and safety measures in place for international cricket matches, with some fans suggesting that the International Cricket Council (ICC) should reassess the suitability of venues based on such criteria. The match concluded with New Zealand defeating Pakistan by 78 runs, setting a challenging target of 330/6 in their 50 overs, bolstered by significant contributions from Glenn Phillips, Kane Williamson , and Daryl Mitchell. Prior to his injury, Ravindra had contributed a quick 25 runs off 19 balls. ALSO READ: Phillips, Santner shine as New Zealand crush Pakistan by 78 runs Stay updated with the latest sports news and find out how to watch the ICC Champions Trophy live in Canada and the USA . Donât miss the highly anticipated India vs Pakistan and India vs New Zealand clashes. Check the live cricket scores here."
        ],
        [
         "5",
         "https://timesofindia.indiatimes.com/education/news/cbse-class-10-english-exam-25-literature-questions-students-should-practise-for-top-notch-preparation/articleshow/117969684.cms",
         "2022-01-01",
         "Times of India",
         "CBSE Class 10 English exam: 25 Literature questions students should practise for top-notch preparation",
         "CBSE Board Exam 2025: The CBSE class 10 board exams are close at hand, it is crucial that students buckle up their preparation for a crucial academic assessment. The class 10 English exam is scheduled to take place on February 15, 2025. It is a subject that not only gauges linguistic prowess but also nurtures creativity and writing skills. Given its significance in both academics and professional workspace, having a hold of English is more than just an exam requirement, it is a treasured life skill. The English exam is divided into three sections: Reading Comprehension, Writing and Grammar, and Literature. The Literature section, carrying 40 marks, plays a crucial role in language proficiency. It requires students to analyze themes, characters, and literary devices while honing critical thinking skills. Success in this section depends on deep comprehension, analytical insight, and structured responses, rather than rote memorization. To help students outperform in the Literature section, Ritu Sharma, a Post Graduate Teacher at ITL Public School in Delhi, has compiled a set of practice questions designed to reflect the exam format. These carefully crafted questions help students develop a nuanced understanding of texts, improving their ability to construct well-articulated answers under timed conditions. CBSE Class 10 English exam preparation: Important Literature questions Students must practise CBSE Class 10 exam questions pertaining to the Literature section. Here are a few questions suggested by Ms Sharma: Question 1 : The story of the two boys, as revealed by the nurse, deeply impacts the narrator. He decides to write a diary entry, recording how he feels inspired by the grit, determination, and selfless actions of the two gentlemen of Verona. As the narrator, write the entry. Question 2 : A person who is vain is full of self-importance can only think of himself/herself and can go to great lengths to prove his/her superiority. Do you think Mrs Packletide is vain? Give reasons in support of your answer. Question 3 : Ali displays qualities of love and patienceâ. Give evidence from the story to support the statement. Question 4 : âAli came out very slowly, turning after every few steps to gaze at the post office. His eyes were filled with tears of helplessness, for his patience was exhausted, even though he still had faith.â Why were Aliâs eyes filled with tears of helplessness? What had exhausted his patience but not his faith? Question 5 : âTortured by doubt and remorse, he sat down in the glow of the charcoal sigri to wait.â Who is tortured by doubt and remorse? Why? What is he waiting for? Question 6 : When confronted by Lavinia about his flirtations over the Ouija Board, John insists that âthe affair was quite above-board, I assure you, my loveâ. Bring out the pun in Johnâs statement. Question 7 : Johnâs apprehensions about his wifeâs reaction to her encounter with the ghost are unfounded. Justify. Question 8 : Patol Babu is an amateur actor for whom a walk-on part in a movie turns into an ultimate challenge. Discuss. Question 9 : Do you agree with the statement that Patol Babu is a practical man who comes to terms with whatever life has to offer? Give reasons for your answer. Question 10 : Sebastian Shultz had a close brush with death. After he recovers, he returns to school and narrates his experience to his classmates. As Sebastian Shultz, narrate your experience. Question 11 : Contradict the fact that the nightingale did not deserve the frogâs wrath. Question 12 : Bring out the irony in the frogâs statement â âYour song must be your ownâ. Question 13 : Inspite of having a melodious voice and being a crowd-puller, the nightingale turns out to be a loser and dies. How far is she responsible for her own downfall? Question 14 : The nightingale has scaled the heights of success. But now the audience is dwindling, the frog is unhappy and reprimands her all the time. She is mentally and physically exhausted and fears failure. As the nightingale, write a diary entry highlighting her fears and analyzing the reasons for her failure. Question 15 : âYou live in this, and dwell in lovers eyes.â (a) How can he dwell in loversâ eyes? (b) What values are highlighted in the above line? Question 16 : Overarching ambition can lead to great leaders and their downfall. Substantiate your position in favour or in opposition to this statement. (Ozymandias) Question 17 : The crew hangs the albatross around the sailorâs neck. What was the significance of this act? Question 18 : âThe sailors are fickle-minded.â Justify this statement with reference to the poem. Question 19 : The poem is full of strange, uncanny, or supernatural elements. Discuss how these elements appear in the poem, âThe Rime of the Ancient Marinerâ. Write a paragraph about the supernatural elements in the poem and how they add to the events that take place in the poem. Question 20 : âReptiles like snakes generate both horror and fascination.â Have you ever felt fascinated yet scared by snakes like the poet? Describe your thoughts and experiences based on the poem. Question 21 : The poet is filled with horror and protest when the snake prepares to retreat and bury itself in the âhorrid blackâ, âdreadfulâ hole. In light of this statement, bring out the irony of his act of throwing a log at the snake. Question 22 : The poet has a dual attitude towards the snake. Why does he experience conflicting emotions on seeing the snake? Question 23 : Ben appreciates grandfather saying âitâsâ a good thing he didâ. Later he calls him a âdrunken old beggarâ. Why does he change his opinion about grandfather? Question 24 : Morals and ethics seem to have perished in modern society. The character of Victoria is a moral check to all the adults in the lesson, hence she is a stark contrast to that of her parents. Analyze this thought and describe your opinion in a brief synopsis of the story. Question 25 : âThe moral values are degraded in respect and care within the members of the family itself.â Explain this statement with reference to Mrs. Slater and Mrs. Jordan. Effective tips for scoring high in Literature section You need to read and practise well to outperform in this section. Here are some tips that will help you to strengthen your learning in the last leg of preparation. Understand the Themes and Messages Superficial understanding will not be of huge help to you. Go beneath the surface-level plots. Keenly analyse deeper themes, connotations, values, and social messages that poems and stories want to convey. For example, The Diary of Anne Frank, focuses on themes like resilience, hope, and the impact of war on individuals. Master Character Analysis Pick character traits, motivations, and development. Use right adjectives to elucidate characters and back your answers with textual evidences. Practise Contextual Questions Literature has no rulebooks. You need to penetrate into the stories and pick out the vital significance of lines or dialogues. Remember, every line has an intended and at times hidden meaning. Comprehend the context in which they are quoted and their relevance to the story or poem. You can connect the lessons learnt with the real-world to establish a link between the fable and real. Example: In A Tiger in the Zoo, explain the contrast between the tigerâs life in the wild and in captivity. Focus on Literary Devices Literary devices are cornerstones of literature. Identify and explain literary devices such as metaphors, similies, personification, alliteration, and irony. This will help you score well in the poetry and prose sections. For example, in The Ball Poem, discuss the symbolism of the lost ball and its connection to loss and growing up. Revise Important Quotes Supporting your answers with the key quotes from poems, stories, and plays can help you earn those extra marks. Yes, brownie points! It will showcase your in-depth understanding of the text. Example: In Julius Caesar, quotes like âEt tu, Brute?â or âCowards die many times before their deathsâ are pivotal. Work on Answer Presentation While âwhatâ you write matters, but do not overlook âhowâ you present it. Structure your answers clearly with an introduction, body, and conclusion. Use bullet points or paragraphs as required. For long-answer questions, start with a brief summary, analyze the question, and conclude with your interpretation. Read Between the Lines Develop the habit of inferring meanings that are not explicitly stated. This skill is crucial for answering higher-order thinking questions. Example: In The Midnight Visitor, deduce why Ausable was confident despite the dangerous situation. Enhance Vocabulary Vocabulary is your saviour and ally in English Literature, this statement needs no testament. Try to pick words from your literature texts and incorporate them into your answers to make them look more impressive and impactful. For instance, words like âmelancholy,â âresilience,â or âforeshadowingâ can elevate your writing. Focus on Authorâs Intent It is crucial to dig deeper than what you read. Understand what the author is trying to explain through her writing. Is it a criticism, a stanza to evoke emotions, or a universal truth? The perspective will undoubtedly sprinkle your answer with remarkable insights. Stay updated with the latest education news on Times of India . Explore the CBSE date sheet for Class 10 and 12 across Arts , Science , and Commerce streams."
        ],
        [
         "6",
         "https://timesofindia.indiatimes.com/education/news/canadas-new-open-work-permit-rules-what-spouses-of-international-students-and-workers-need-to-know/articleshow/118012760.cms",
         "2022-01-01",
         "Times of India",
         "Canadaâs new Open Work Permit rules: What spouses of international students and workers need to know",
         "Canadaâs Spousal Open Work Permit (SOWP) program, which has long been a source of financial relief for families of international students and foreign workers, is undergoing sweeping changes. For years, spouses and common-law partners of international students and skilled foreign workers have been able to obtain open work permits, allowing them to contribute to Canadaâs economy while supporting their partners. The recent changes, however, draw clearer lines on who qualifiesâand who doesnât. Effective from January 21, 2025, the new regulations significantly restrict eligibility, a move officials say aligns with Canadaâs labor market needs but leaves many families scrambling for alternatives. Spouses of international students: Whoâs in, whoâs out? Under the previous rules, spouses of all international students were eligible for open work permits, regardless of their partnerâs academic level. That is no longer the case. Who qualifies now? Spouses of students enrolled in graduate programs (masterâs degrees of at least 16 months and PhD programs) and select professional degrees will remain eligible. These include: Doctor of Medicine (MD) Doctor of Dental Surgery (DDS, DMD) Bachelor of Law or Juris Doctor (LLB, JD, BCL) Doctor of Optometry (OD) Pharmacy (PharmD, BS, BSc, BPharm) Bachelor of Engineering (BEng, BE, BASc) Bachelor of Education (BEd) Bachelor of Science in Nursing (BScN, BSN, BNSc) Doctor of Veterinary Medicine (DVM) Who no longer qualifies? Spouses of international students pursuing undergraduate degrees or non-qualifying programs will no longer be eligible for work permits. The change cuts off a major source of financial stability for many families who had planned on dual-income support while in Canada. Spouses of foreign workers: Tightening the rules The landscape for spouses of foreign workers is shifting just as dramatically. Previously, any foreign workerâs spouse could apply for an open work permit. Under the new guidelines, eligibility is tied to the foreign workerâs occupation. Eligible: Spouses of workers in TEER 0 and 1 occupations, which include executive and managerial positions, as well as specialized technical roles. Conditionally Eligible: Spouses of workers in TEER 2 and 3 occupationsâincluding construction, healthcare, education, and natural resourcesâmay still qualify, but only if their partnerâs job is deemed critical to labor market shortages. New Requirement: The principal foreign worker must have at least 16 months remaining on their work permit at the time of application. Biggest Shift: Dependent children of foreign workers are no longer eligible for open work permits. SOWP: How to apply If you still qualify under the updated SOWP rules, hereâs how to apply. Determine Eligibility: Verify that your spouseâs study or work program qualifies under the new restrictions. Gather Documents: Required documents include proof of relationship, proof of your spouseâs study or work status, and evidence of their eligibility. Apply Online: Applications must be submitted through the Immigration, Refugees and Citizenship Canada (IRCC) portal. Prepare for Processing Delays: Given the volume of expected applications and potential policy adjustments, applying early is advisable. Stay updated with the latest education news on Times of India . Explore the CBSE date sheet for Class 10 and 12 across Arts , Science , and Commerce streams."
        ],
        [
         "7",
         "https://timesofindia.indiatimes.com/sports/cricket/england-tour-of-india-2025/2nd-odi-virat-kohlis-in-but-whos-out-selection-dilemma-as-india-look-to-seal-series-against-england/articleshow/118081041.cms",
         "2022-01-01",
         "Times of India",
         "2nd ODI: Virat Kohli's in, but who's out? Selection dilemma as India look to seal series against England",
         "Virat Kohli during a practice session. (PTI Photo) CUTTACK: One look at the stands on Saturday evening at the Barabati Stadium , and one could have been forgiven for mistaking it for match day instead of match eve. The Odisha Cricket Association 's (OCA) decision to open part of the stands for fans to watch India train, for free, ahead of the crucial second ODI against England here was a hit, with the stadium nearly half full. Go Beyond The Boundary with our YouTube channel. SUBSCRIBE NOW! The loudest cheers from the 20,000-plus crowd were reserved for the man who missed the first ODI in Nagpur with a sore right knee â Virat Kohli . Saturday's nets, however, suggested Kohli was not going to sit out another game. One of the fittest cricketers around, the former India captain last missed a match â before the Nagpur ODI â more than three years ago, the Johannesburg Test against South Africa in Jan 2022. Fit and raring to go, the star batter was the first to hit the nets and batted for nearly an hour before leaving the ground first, shouldering his cricket coffin. 'Itâs a slightly two-paced pitch': Harshit Rana after claiming three-wicket haul on ODI debut While England completely skipped Saturday's practice, many India players also skipped the optional session, including last-match hero Shreyas Iyer , vice-captain Shubman Gill , debutant Harshit Rana, comeback man Mohammed Shami, Hardik Pandya and Axar Patel. \"Virat Kohli is fit to play. He has come for practice and is good to go,\" batting coach Sitanshu Kotak said during the prematch media interaction. With a fit-again Kohli back in the playing XI, India will face a selection dilemma as they prepare to tick all the boxes ahead of the Champions Trophy and seal the series before going to Ahmedabad. Will Iyer lose his place to Kohli if the team management decides to continue with Yashasvi Jaiswal to keep the left-right opening combination going with captain Rohit Sharma ? Kotak, however, bypassed any queries on who should make way for Kohli on Sunday. \"I think that's what the head coach and captain can talk about. But yes, definitely a lefty-righty combination is there. But I would say that question is not something which I would like to answer, to be very honest,\" was Kotak's diplomatic answer. Rohit's form will certainly also be a concern for the side, no matter how the management tries to brush aside any doubts regarding his continuous run of poor form. Rohit, incidentally, got out after scoring only two runs in the first ODI of this series. Rohit coming back into form will certainly be a big boost for the hosts ahead of the ICC event starting on Feb 19. The track looks a belter and could well be the right platform for the âHitman' to get some much-needed runs under his belt. Meanwhile, KL Rahul is likely to get another look-in as the wicketkeeper-batter ahead of Rishabh Pant, who batted for long in the nets. However, left-arm pacer Arshdeep Singh bowled long spells during the practice session and could replace Shami, who might be rested to manage his workload following a long injury layoff. Although dew factor is unlikely to come into play here, batting second will be the preferred choice, as chasing teams have won 12 out of the 19 ODIs played here over the years. Stay updated with the latest sports news and find out how to watch the ICC Champions Trophy live in Canada and the USA . Donât miss the highly anticipated India vs Pakistan and India vs New Zealand clashes. Check the live cricket scores here."
        ],
        [
         "8",
         "https://timesofindia.indiatimes.com/sports/nfl/news/hailee-steinfelds-gesture-towards-josh-allen-at-the-nfl-honors-has-the-internet-talking-and-says-a-lot-about-their-relationship/articleshow/118073393.cms",
         "2022-01-01",
         "Times of India",
         "Hailee Steinfeldâs gesture towards Josh Allen at the NFL Honors has the internet talking and says a lot about their relationship",
         "Image via Axelle/Bauer-Griffin/FilmMagic Hailee Steinfeld has been in a pretty happy relationship with NFL star, Josh Allen, for close to two years now. Both of them were recently spotted at the NFL Honors 2025 when Josh Allen won the NFL MVP Award. With Josh Allen winning the trophy, it raised many eyebrows, but all eyes were on Hailee Steinfeld as Josh Allen credited her for his win when he went on stage. But now, a video from the NFL Honors 2017 has gone viral and fans cannot stop talking about Hailee Steinfeldâs gesture. Hailee Steinfeld's Gesture Towards Josh Allen At The NFL Honors 2025 Has Fans Talking About It A fan account of Hailee Steinfeld posted the viral video on X and Haileeâs gesture towards Josh has melted everyoneâs hearts. In the viral video, Hailee Steinfeld looks stunning in a black strapless dress as she accompanies Josh Allen but what fans noticed was the fact that she held his hand even when she was holding on to his arm. This was not it; the way Hailee Steinfeld looks at Josh Allen has fans losing their minds. It is quite evident how deeply the two are in love with each other and how proud Hailee Steinfeld is of Josh Allenâs achievements. A fan took to X and wrote, âHow everyone wants to be looked at by their significant otherâ, while another fan wrote, âSo love them together!â A third fan wrote, âThis is what Iâm saying people, your girlfriend, boyfriend, wife, husband should be your best friend. You start as best friends and it evolves into a relationship while maintaining that best friend feeling.â Josh Allen Has Credited Hailee Steinfeld Multiple Times For The Success He Has Achieved Josh Allen and Hailee Steinfeld are one of the most popular couples in the world of NFL. Another video from the NFL Honors 2025 has gone viral where Hailee Steinfeld looks proud as Josh Allen goes on stage to receive his award for NFL MVP 2025. Josh credited Hailee for his success on field and said, âMy fiancÃ© hailee, youâve been my rock, youâre my best friend.â This is actually not the first time that Josh Allen has credited Hailee Steinfeld for the success he has achieved on the field this season, despite losing at the NFL Playoffs to the Kansas City Chiefs. Shortly after proposing to Hailee Steinfeld in November 2024, Josh Allen in an interview said In an interview with the Associated Press in December 2024, Josh Allen said, âSheâs been a huge part. The morale, the support. When I get home, sheâs my biggest fan, my biggest supporter. Sheâs just the best.â Josh Allen and Hailee Steinfeld have a loyal fanbase who cannot get over how deeply the two are in love with each other. The couple is pretty private about their personal loves and have not confirmed their wedding dates yet. Also Read: Taylor Swift humbly admits to being ânot a proâ amid Blake Lively-Justin Baldoni drama, as she gears up for Super Bowl LIX Stay updated with the latest sports news and find out how to watch the ICC Champions Trophy live in Canada and the USA . Donât miss the highly anticipated India vs Pakistan and India vs New Zealand clashes. Check the live cricket scores here."
        ],
        [
         "9",
         "https://timesofindia.indiatimes.com/sports/nba/top-stories/will-anthony-edwards-play-tonight-against-the-portland-trail-blazers-latest-update-on-the-minnesota-timberwolves-stars-injury-report-february-8-2025/articleshow/118074066.cms",
         "2022-01-01",
         "Times of India",
         "Will Anthony Edwards play tonight against the Portland Trail Blazers? Latest update on the Minnesota Timberwolves star's injury report (February 8, 2025)",
         "Is Anthony Edwards playing tonight? (Image via Getty) Minnesota Timberwolves star guard Anthony Edwards is listed as questionable with a hip injury ahead of Saturdayâs matchup against the Portland Trail Blazers. As the Timberwolves (29-23) prepare to defend home court at Target Center, Edwardsâ availability remains uncertain, adding intrigue to a crucial Western Conference clash. Is Anthony Edwards playing tonight? Minnesota Timberwolves injury report and recent performance (February 8, 2025) Anthony Edwards has been a key force for Minnesota this season, and his status could significantly impact their game plan. The 22-year-old is coming off a stellar 41-point performance in the Timberwolvesâ recent 127-114 victory over the Houston Rockets. His scoring ability and leadership have been vital for the team, making his potential absence a significant concern. The Timberwolvesâ official injury report lists Anthony Edwards as questionable with a hip injury, indicating that his status will likely be a game-time decision. Alongside him, Mike Conley (finger) is considered day-to-day, while Donte DiVincenzo (toe) and Julius Randle (groin) have been ruled out. Portland Trail Blazersâ injury report for the game against the Minnesota Timberwolves tonight (February 8, 2025) Anthony Edwards of Minnesota Timberwolves (Image via Getty) The Trail Blazers (23-29) are also dealing with injury concerns. Deni Avdija (hand) and Scoot Henderson (ankle) are both questionable, while Matisse Thybulle (ankle) has been ruled out. Portland is coming off a hard-fought 108-102 win over the Sacramento Kings, with Anfernee Simons leading the way with 30 points. Anthony Edwardsâ impact on then Minnesota Timberwolves If Anthony Edwards is unable to play, the Timberwolves will need to rely on alternative scoring options to fill the void. Karl-Anthony Towns and Rudy Gobert may take on larger offensive roles, while Conleyâs availability will also be key in managing the teamâs backcourt depth. Minnesota currently holds a solid position in the playoff race, but every game counts in the highly competitive Western Conference. Edwardsâ injury status will be closely monitored leading up to tip-off at 8:00 PM ET. How to watch Timberwolves vs Trail Blazers tonight Fans looking to catch the Minnesota Timberwolves take on the Portland Trail Blazers can tune in live as the game tips off at 8:00 PM ET from Target Center in Minneapolis. Whether watching on TV or streaming online, there are several ways to follow the action. TV Broadcast The game will be televised on the following channels: â¢ KATU â¢ KUNP â¢ FDSN Check local listings to confirm availability in your area. Live Streaming Options For those who prefer streaming, multiple services provide access to the game: â¢ Fubo â A subscription-based streaming service offering live NBA games. Regional restrictions may apply. â¢ NBA League Pass â Provides access to live and on-demand games throughout the season. Also read: Will Trae Young play tonight against the Washington Wizards? Latest update on the Atlanta Hawks star's injury report (February 8, 2025) Radio Broadcast Timberwolves and Trail Blazers fans can also listen to live commentary via their teamâs official radio networks. With both teams battling injuries, this game could have a significant impact on their playoff positioning. Be sure to tune in and see how it unfolds. Stay updated with the latest sports news and find out how to watch the ICC Champions Trophy live in Canada and the USA . Donât miss the highly anticipated India vs Pakistan and India vs New Zealand clashes. Check the live cricket scores here."
        ],
        [
         "10",
         "https://timesofindia.indiatimes.com/sports/nba/top-stories/golden-state-warriors-vs-chicago-bulls-02/08-starting-five-injury-report-start-time-how-to-watch-and-more/articleshow/118073780.cms",
         "2022-01-01",
         "Times of India",
         "Golden State Warriors vs Chicago Bulls (02/08): Starting five, injury report, start time, how to watch, and more",
         "(Image Via NBA.Com) The Warriors and Bulls are ready to face each other, and both teams really need a win. Golden State is at 21-21, trying to get back in the race, while Chicago is sitting at 19-25, fighting to keep their playoff hopes alive. The big news? The Warriors just picked up five-time All-NBA forward Jimmy Butler, which shakes things up for their team. Will he make a splash right away? Watch tonight's game from the United Center on NBC Sports Bay Area. Coverage begins at 1:00 AM IST on February 8, 2025. Golden State Warriors vs Chicago Bulls: Projected Starting Five Golden State Projected Starting five Position Player Point Guard Stephen Curry Shooting Guard Brandin Podziemski Small Forward Andrew Wiggins Power Forward Jonathan Kuminga Center Draymond Green Chicago Bulls Projected Starting five Position Player Point Guard Josh Giddey Shooting Guard Coby White Small Forward Ayo Dosunmu Power Forward Patrick Williams Center Nikola Vucevic Golden State Warriors vs Chicago Bulls: Key Players to Watch Golden State Warriors: Stephen Curry: The dynamic point guard continues to be a scoring powerhouse, recently posting back-to-back games with over 30 points and six three-pointers. Jimmy Butler: While he hasn't played since January 21, his veteran presence and defensive prowess could provide a substantial boost. Chicago Bulls: Coby White: With the recent trade of Zach LaVine, White has stepped up offensively, averaging 20 or more points in four of the last five games. Nikola Vucevic: The reliable center has been a consistent force, recording double-doubles in his last four outings, and showcasing his scoring and rebounding abilities. Golden State Warriors vs Indiana Pacers: Injury Report Golden State Warriors Injury Report Player Status Injury Report Stephen Curry Questionable Bilateral knee injury management Draymond Green Out Left calf strain Jonathan Kuminga Out Ankle injury De'Anthony Melton Out Underwent season-ending surgery to repair a partially torn ACL in his left knee. Chicago Bulls Injury Report Player Status Injury Report Coby White Questionable Right ankle soreness Ayo Dosunmu Questionable Right soleus strain Torrey Craig Out Right ankle sprain Golden State Warriors vs Chicago Bulls: Team Stats Statistic Golden State Warriors Chicago Bulls Points Per Game 112.0 (#16) 117.6 (#6) Points Allowed Per Game 110.5 (#10) 121.4 (#29) Average Score Margin +1.5 (#14) -3.8 (#22) Fastbreak Points Per Game 15.7 (#15) 17.5 (#4) Points in the Paint Per Game 46.9 (#19) 47.9 (#17) Assists per Game 28.6 (#7) 29.4 (#4) Total Rebounds Per Game 56.4 (#3) 52.0 (#14) Effective Field Goal Percentage 52.8% (#22) 56.0% (#8) Three-Point Percentage 36.2% (#16) 37.5% (#9) Turnovers Per Game 14.3 (#13) 15.0 (#17) Golden State Warriors vs Chicago Bulls: Previous Matchups The Golden State Warriors and Chicago Bulls have a storied history, with the Bulls leading the all-time regular-season series 86â81. In their most recent encounter on January 23, 2025, the Warriors secured a decisive 131â106 victory over the Bulls. Golden State Warriors vs Chicago Bulls: Date, Time and Venue The Golden State Warriors and Chicago Bulls will share the court at the United Center on Saturday, February 8, 2025. The game will start at 7:00 PM CST on Saturday. Golden State Warriors vs Chicago Bulls: Streaming Details and More The game broadcast appears on NBC Sports Bay Area along with Chicago Sports Network Plus. The live stream of the game is available through FuboTV alongside several potential regional streaming limitations. Viewers who subscribe to NBA League Pass can watch games live but restrictions may apply regarding certain venues. Also Read : Indiana Pacers vs Los Angeles Lakers (02/08): Starting five, injury report, start time, how to watch, and more Stay updated with the latest sports news and find out how to watch the ICC Champions Trophy live in Canada and the USA . Donât miss the highly anticipated India vs Pakistan and India vs New Zealand clashes. Check the live cricket scores here."
        ],
        [
         "11",
         "https://timesofindia.indiatimes.com/india/delhi-results-2025-linkedin-lessons-from-brand-bjps-win-and-brand-aaps-loss/articleshow/118066797.cms",
         "2022-01-01",
         "Times of India",
         "Delhi Results 2025: 'LinkedIn Lessons' from Brand BJP's win and Brand AAP's loss",
         "Ah, another election, another flood of LinkedIn wisdom postsâwhere every poll result is a \"case study,\" every political leader is a \"CEO,\" and every campaign is an \"MBA-level lesson in leadership.\" Some call it democracy, but on LinkedIn, itâs all about business jargon and corporate analogies. So, letâs break this down the LinkedIn way. AAP: From Disruptor to Establishment to Decline AAP was the ultimate political startupâthe kind that raises Series A, B, and C funding at record speed, becomes a unicorn, and then implodes under its own weight. It was supposed to be the alternative to traditional politics, the fresh face in a crowded market, a party that rejected caste, religion, and dynasty-driven politics. But somewhere along the way, it stopped being a startup and started behaving like an old-school corporate giantâbloated, bureaucratic, and overconfident . 1) From Lean & Agile to Bureaucratic & Slow AAP started with hyperlocal engagement, grassroots activism, and direct voter outreachâthe political equivalent of a D2C brand shaking up a legacy market. Over time, it became centralized and top-heavy, with decision-making confined to a handful of leaders. MLAs became inaccessible, the leadership became distant, and ground-level mobilization weakened. No succession planning. Kejriwal remained the sole face of the party, and there was no second-rung leadership strong enough to carry the brand forward. It failed to expand beyond Delhi and Punjabâdespite trying in Goa, Gujarat, and Karnataka. The inability to scale beyond its original USP made it a regional player rather than a national force. The result? Voters saw it as just another party, not the disruptor it once was. 2) A Reputation Built on Ethics, Lost to Scandals AAP built its brand on fighting corruptionâbut its own leadership got embroiled in one of the biggest scandals of its time, the liquor policy scam. Manish Sisodia, Sanjay Singh, and even Kejriwal himself faced corruption allegations, undoing years of anti-corruption positioning. The Sheesh Mahal controversyâwhere Kejriwalâs residence was allegedly renovated with â¹45 crore of taxpayer moneyâcompletely shattered the âhumble leaderâ narrative. AAPâs response? Defensive, aggressive, and dismissive. Instead of damage control, it doubled down on denialâa classic PR blunder. The perception shift was swift and brutalâfrom âanti-corruption warriorsâ to just another power-hungry political entity. 3) Ignoring the Middle-Class Voter That Built Its Base AAP was originally the party of the middle classâfrustrated taxpayers who wanted clean governance and economic relief. Over time, its focus shifted to freebies and populist policies, leaving the middle class feeling ignored. BJP stepped in at the right timeâoffering tax reliefs, infrastructure promises, and a governance model that reassured middle-class voters. Kejriwalâs pre-election outreach to the middle class felt forced and last-minuteâwhile BJP had already solidified its positioning. Takeaway ? A business (or party) that forgets its core customer will eventually lose them. 4) Blaming External Factors Instead of Owning Failures For 10 years, AAP blamed the Centre, the LG, and opposition parties for everything. The âvictim cardâ was effective in the early years but wore thin by 2025âvoters expected governance, not excuses. BJP flipped this weakness into an advantage, promising that with a BJP-led government, there would be no Centre-state conflicts, leading to âseamless governance.â The narrative changed from âAAP vs. BJPâ to âAAP vs. Results.â Lesson? Leaders who constantly shift blame instead of delivering solutions lose credibility. 5) Strategic Missteps and Lack of Political Alliances AAP contested separately from Congress, which led to a split in the anti-BJP vote. Rahul Gandhiâs direct attacks on Kejriwal made matters worseâAAP was getting hit from both sides. Internal conflicts weakened the party further. Atishi and Saurabh Bharadwaj were seen as Kejriwalâs successors, but there was no clear transition strategy. BJP, on the other hand, had a structured, disciplined campaign with clear messaging and no internal rifts. In politics and business, a divided team rarely wins. BJP: A Masterclass in Strategic Adaptation BJPâs 2025 win in Delhi was not a Modi-centric sweep but a well-calibrated organizational comeback. After a lackluster 2024 Lok Sabha performance (by their standards), the party realized it had become too dependent on a single leader. Unlike AAP, BJP adapted, restructured, and executed flawlessly. 1) Moving Beyond Modi Dependency BJP understood that Delhiâs electorate needed a more localized approach. Instead of making the election about Modi, it focused on governance, urban issues, and direct voter engagement. No CM face? It didnât matter. The party projected collective leadership instead of relying on one individual. By decentralizing its campaign, BJP looked more stable and future-ready. 2) Adopting AAPâs Own Strategies Against It BJP neutralized AAPâs welfare advantageâpromising free electricity, continued subsidies, and additional financial support for women. Middle-class tax reliefs were announced just before the elections, ensuring they won over voters that AAP had neglected. The manifesto focused on real urban issuesâpollution control, traffic congestion, and infrastructureâexactly what AAP had failed to address convincingly. Lesson? The best way to beat a competitor is to adopt their strengths while exposing their weaknesses. 3) Letting Congress Do The Attacking BJP didnât need to attack AAP aggressivelyâRahul Gandhi and Congress did that for them. By letting AAP and Congress fight it out, BJP consolidated its voter base while the opposition split. AAPâs credibility suffered more because the attacks came from within the anti-BJP camp. A strategic win, without unnecessary effort. 4) A Disciplined, Focused, and Well-Executed Campaign BJP stayed on message, focusing on corruption, governance, and economic stability. The campaign was structured and well-planned, unlike AAPâs which seemed reactive and disorganized. The promise to investigate AAPâs corruption cases resonated with voters, reinforcing BJPâs stance on accountability. In business terms? BJP had a clear marketing strategy, strong brand positioning, and flawless execution. 5) Final Takeaways Adaptability is key. BJP recalibrated after its 2024 Lok Sabha setbacks, while AAP remained stagnant. Brand trust is fragile. AAP built its image on honesty but lost credibility due to scandals and mismanagement. Execution matters more than rhetoric. BJP delivered a disciplined, well-structured campaign. Leadership succession planning is critical. AAP failed to build second-line leadership, while BJP showcased organizational depth. Voters reward governance, not excuses. After a decade in power, AAPâs blame game no longer worked. Politics, like business, rewards those who adapt, execute, and deliver. Stay informed with the latest India news, updates on public holidays , and bank holidays in March ."
        ],
        [
         "12",
         "https://timesofindia.indiatimes.com/india/manipur-cm-n-biren-singh-resigns-submits-letter-to-governor/articleshow/118090748.cms",
         "2022-01-01",
         "Times of India",
         "Manipur CM N Biren Singh resigns, submits letter to governor",
         "NEW DELHI: Manipur chief minister N Biren Singh on Sunday resigned from his post, submitting his resignation letter to Governor Ajay Kumar Bhalla at the Raj Bhavan in Imphal. Singh, who led the BJP government in the state, stepped down amid ongoing political developments. His resignation comes after months of unrest and internal party discussions. Earlier in the day, Singh met Union home minister Amit Shah in Delhi. Later, he, along with BJP MP Sambit Patra, state ministers, and MLAs, went to meet the Manipur governor. In his resignation letter, Singh expressed gratitude to the central government for its \"timely actions, interventions, developmental work, and implementation of various projects for safeguarding the interest of every single Manipuri.\" He urged the Centre to continue its support and listed key priorities: Maintaining Manipurâs territorial integrity, which has a \"rich and diverse civilizational history over thousands of years.\" Cracking down on border infiltration and formulating a policy for deporting illegal immigrants. Continuing the fight against drugs and narco-terrorism. Strict implementation of the revised Free Movement Regime (FMR) with biometric monitoring. Ensuring the timely completion of border infrastructure projects. The governor is expected to take a decision on the next course of action soon. Stay informed with the latest India news, updates on public holidays , and bank holidays in March ."
        ],
        [
         "13",
         "https://timesofindia.indiatimes.com/city/delhi/who-is-parvesh-verma-new-delhi-assembly-constituency-delhi-election-bjp-candidate-vs-arvind-kejriwal-aap-vs-congress-sandeep-dikshit/articleshow/118049764.cms",
         "2022-01-01",
         "Times of India",
         "Who is Parvesh Sahib Singh Verma? Meet giant slayer BJP leader who has defeated AAP's Arvind Kejriwal in New Delhi assembly constituency",
         "Parvesh hails from a prominent Delhi political family, being the son of former BJP leader and Delhi chief minister Sahib Singh Verma. Delhi election results 2025 : Who is Parvesh Sahib Singh Verma , the BJP leader who has emerged as a giant slayer by winning against former Delhi chief minister Arvind Kejriwal in the New Delhi assembly constituency ? It was a tough fight between Kejriwal and Verma with the leading and trailing numbers changing with each round of counting. Parvesh Verma has won against Arvind Kejriwal with a margin of 4,089 votes. Congress's Sandeep Dikshit was also fighting in the constituency. Here is the final vote count as per the Election Commission of India website: PARTY NAME CANDIDATE VOTES AAP Arvind Kejriwal 25999 BJP Parvesh Verma 30088 CONGRESS Sandeep Dikshit 4568 After his victory, Parvesh Verma when asked about being BJP's CM face said, \"In our party, the legislative party decides (CM's face) and then the party leadership approves it. So the party's decision will be acceptable to everyone. I thank the voters of New Delhi, lakhs of hard-working workers and PM Narendra Modi. This is truly his victory. People have expressed their trust in him... Our priority will be to give Rs 2500 to women, create SIT to investigate corruption, Yamuna riverfront, reduce pollution, reduce traffic congestion... we will build such a capital that everyone will be proud of.\" Who is Parvesh Verma? Parvesh hails from a prominent Delhi political family, being the son of former BJP leader and Delhi chief minister Sahib Singh Verma. His uncle Azad Singh served as the North Delhi Municipal Corporation mayor and contested from Mundka constituency on a BJP ticket during the 2013 assembly polls. Delhi Assembly Elections 2025: Live coverage Born in 1977, Parvesh Verma completed his schooling at Delhi Public School, R.K. Puram, and subsequently obtained his Bachelor of Arts from Kirori Mal College, University of Delhi. Also Check | New Delhi election results 2025: It's Arvind Kejriwal vs Parvesh Sahib Singh Verma vs Sandeep Dikshit Following this, he pursued an MBA at the Fore School of Management. His entry into politics commenced in 2013 when he secured victory in the Delhi Legislative Assembly representing the Mehrauli constituency. He achieved further success by winning the West Delhi parliamentary seat in 2014, followed by a landslide re-election victory in 2019 where he won with a margin of 5.78 lakh. Delhi Election Results 2025 Live Updates During his tenure as an MP, he has been a member of the Joint Committee on Salaries and Allowances of Members of Parliament and has served on the Standing Committee on Urban Development. Prior to the 2025 Delhi elections, Parvesh Verma initiated a campaign called \"Remove Kejriwal, Save the Nation,\" criticising the current AAP administration for not fulfilling their primary commitments. In his campaign, Verma strongly condemned the Delhi government's administrative performance, specifically regarding their handling of pollution concerns, security for women, and civic infrastructure development. He specifically pointed out their unmet commitment to purify the Yamuna River, which remains a significant environmental challenge for the city. Delhi assembly election results 2025 highlights Stay updated with breaking news , bank holidays and upcoming public holidays in march ."
        ],
        [
         "14",
         "https://timesofindia.indiatimes.com/city/delhi/delhi-election-results-2025-aap-lost-reasons-arvind-kejriwal-new-delhi-manish-sisodia-bjp-modi-incumbency-corruptio-sheesh-mahal-liquor-freebies-congress-rahul/articleshow/118023276.cms",
         "2022-01-01",
         "Times of India",
         "Delhi election results 2025: 10 reasons why AAP lost",
         "The BJP on Saturday pulled off a major political upset by unseating the Aam Aadmi Party ( AAP ) from Delhi after over 10 years. As per the latest Election Commission data, the BJP may win around 48 seats and the Kejriwal-led party may secure around 22 seats in the 70-seat Assembly. BJP's Parvesh Verma emerged as a giant-slayer with his victory against AAP supremo and former Delhi chief minister Arvind Kejriwal in a fierce contest from the New Delhi seat by a margin of 4,089 votes. Verma, 47, bagged 30,088 votes, while Kejriwal and Congress' Sandeep Dikshit got 25,999 votes and 4,568 votes. Kejriwal conceded his defeat and hoped that the BJP will fulfill all its promises. \"We accept the mandate of the people with great humility. I congratulate the BJP for this victory and I hope they will fulfil all the promises for which people have voted for them,\" Kejriwal said in a video address posted on X. In the evening as the results were decalred, PM Modi kicked off his victory speech with a powerful chant of \"Yamuna Maiya ki Jai\". PM Modi declared that the people of Delhi were experiencing both relief and joy -- relief from the \"disaster\" (AAP-da governance) and joy in embracing a new era under BJP rule. \"I had written a letter to every Delhi resident, urging them to give the BJP a chance to serve in the 21st century...Today, I bow my head in gratitude to every family in Delhi for trusting us. You have given us love with an open heart, and I assure you that we will return it manifold through rapid development,\" PM Modi said. The Prime Minister also attacked the AAP over allegations of corruption against its leaders, saying that all links of such charges will be probed and those who \"looted\" money will have to return it. With the BJP set to regain control of Delhi after 27 years, what went wrong for the Aam Aadmi Party? Here are 10 reasons behind AAP's defeat: Ten years of incumbency After governing Delhi for a decade, the Aam Aadmi Party (AAP) faced significant anti-incumbency. While AAP achieved impressive results in health and education during its first two terms, and kept voters happy with power and water subsidies, unfulfilled promises, such as improved air quality, became major poll issues. The AAP's assertion that the BJP government at the Centre was creating roadblocks in its functioning began to be increasingly seen by voters as excuses, especially after ten years in power. The BJP's \"double engine\" promise, suggesting seamless governance between the central and state levels, appealed to voters against the backdrop of AAP's constant conflicts with the Centre. Furthermore, internal disarray within the AAP, with senior leaders facing jail time, added to the challenges of incumbency . Liquor scam, Sheesh Mahal dent Kejriwal's 'imandaar' image The image of Arvind Kejriwal as an anti-corruption crusader suffered a setback due to several factors, most notably the controversy surrounding the now-scrapped liquor policy. The BJP accused the AAP government of turning Delhi into a \"city of drunkards\" with the new policy, and receiving crores in kickbacks from those who opened the vends. Probes by central agencies led to the arrest of top AAP leaders, including Arvind Kejriwal, Manish Sisodia, and Sanjay Singh. These arrests forced Sisodia to step down as deputy chief minister and kept the AAP in \"firefighting mode\", distracting from fulfilling its 2020 poll promises. Additionally, the \"Sheesh Mahal\" controversy, referring to the renovated residence of the chief minister, further dented Kejriwal's image. The BJP further highlighted a Comptroller and Auditor General of India (CAG) report that indicated the renovation cost had increased from an initial estimate of Rs 7.91 crore to Rs 33.66 crore by completion. AAP has been synonymous with Arvind Kejriwal since its inception. Kejriwal, initially seen as an agent of change with his untucked shirt and no-nonsense demeanor, resonated with the common person. However, the anti-corruption image of Kejriwal and his party suffered irreparable damage, specially after the AAP leader's arrest in March 2024 on corruption allegations and his subsequent resignation as CM. While he was later granted bail, the leadership transition to Atishi and the circumstances surrounding Kejriwal's arrest damaged the party's image and cohesion. No tie-up, Congress did strategic campaigning The absence of an alliance with the Congress party and the Congress's strategic campaigning likely contributed to the AAP's loss. In previous elections, the AAP had significantly reduced the Congress's presence in the Delhi assembly. Attempts to convince Congress workers to collaborate with AAP volunteers reportedly led to an \"existential crisis\" among them. The Congress decided to campaign aggressively against the AAP, sensing \"anger building up against the AAP\". Rahul Gandhi and Priyanka Gandhi Vadra attacked the AAP in the final days of the Delhi campaign. The Congress further claimed the AAP did not want an alliance, with Kejriwal announcing all 70 candidates early on. The rise of AAP in Delhi has been congruous with the decline of the Congress. In 2013, AAP won 28 seats with a 29.49% vote share, while the Congress tally decreased to 8 seats from 43 in 2008. In 2015, Congress suffered a 15% decline in its vote share, while the AAP saw its support base rise by around 15%. Flood of freebies but no next-level of development While AAP's welfare schemes, such as free electricity and bus travel for women, initially garnered support, a lack of focus on infrastructure development and maintenance became a significant issue. The poor condition of roads and sewers across Delhi angered voters. Overflowing drains, potholed roads, and irregular garbage collection contributed to the party's unpopularity. The AAP's control over the Municipal Corporation of Delhi (MCD) meant it could not deflect blame for these issues onto the BJP. Voters in middle- and upper-middle-class areas were particularly affected by the deteriorating infrastructure. AAP's origins trace back to Anna Hazareâs anti-corruption movement, positioning the party as an alternative to the Congress in 2013. While AAP secured mandates in 2015 and 2020, their repeated promises and \"freebies\" seem to have lost their appeal. The promise of piped water connections for all in 2015 remains unfulfilled, as does the promise of full statehood for Delhi and the \"Rozgar Budget\" aimed at creating 20 lakh jobs. Kejriwal himself admitted that he had failed to fulfill three promises: cleaning the Yamuna, providing clean drinking water, and upgrading Delhi's roads. This acknowledgment gave the BJP an opportunity to attack the AAP, with Amit Shah mocking Kejriwal's promise to purify the Yamuna. BJP focuses on Kejriwal, Hindutva takes back seat The BJP's campaign strategy focused primarily on targeting Arvind Kejriwal and his government, rather than emphasising Hindutva, as it has often done during campainging in other state elections as well as previous Delhi polls. This approach likely resonated with a broader segment of the population, including those who may not have been inclined to support a religiously charged campaign. By focusing on issues such as corruption and governance, the BJP effectively undermined AAP's credibility and appealed to a wider range of voters. The BJP also focused on hyper-local issues such as air pollution, traffic, and public safety, and engaged with local Resident Welfare Associations. They also promoted central government schemes. The BJP also targeted specific demographics, including Purvanchalis and slum dwellers, and utilised an aggressive digital campaign with AI-enhanced content and memes targeting AAP. BJP's latent vote The BJP's consistent performance in the Lok Sabha polls in Delhi indicated a latent voter base that the party successfully mobilised this time around for the assembly elections. Despite AAP's strong performance in the assembly elections, the BJP had consistently swept Lok Sabha elections in the national capital, winning all seven seats. This pre-existing support base provided a foundation for the BJP's campaign and likely contributed to their victory. The BJP also strategically fielded Parvesh Verma, a strong Jat leader, in the New Delhi constituency, signaling their intention to win back the confidence of the Jat community, which had previously favoured AAP in Delhi elections. Rahul roasted Kejriwal as payback for Haryana During the Delhi Assembly elections, Congress leader Rahul Gandhi launched strong criticisms against Arvind Kejriwal, which may have been payback for events in Haryana. Gandhi's attacks covered a range of issues, including alleged corruption, unfulfilled promises, and inaction on key issues. Like the BJP, Gandhi attacked Kejriwal over the alleged liquor scam and accused him of living in a \"Sheesh Mahal\" while engaging in corrupt practices. Gandhi said that Kejriwal made false promises, \"similar to Prime Minister Narendra Modi\", particularly regarding cleaning the Yamuna River. He also challenged Kejriwal to drink Delhi's tap water, implying it was still polluted despite promises to clean it. MCD with AAP: No excuses The Aam Aadmi Party's (AAP) win in the Municipal Corporation of Delhi (MCD) in 2022 proved to be a double-edged sword, ultimately hurting the party instead of helping it. AAP had promised a cleaner city with world-class roads, but it fell short on both accounts. The MCD House was in limbo, and the Standing Committee, which controls all financial powers, was never formed. The AAP repeatedly accused the Centre of creating hurdles through the Lieutenant Governor and stalling projects. This time around, voters held the AAP accountable for the deteriorating civic infrastructure across Delhi. AAP's performance in the MCD was a letdown for the people of Delhi. The party failed to address critical issues such as clearing garbage, repairing roads, and cleaning clogged sewers. Erratic water supply and overflowing sewers that were never repaired because Rs 4,000 crore for the Delhi Jal Board was not released further hurt the party. Senior party leaders stated that the MCD functioning had collapsed under the AAP, and no work was being done, leading to frustration among councillors. Steady exodus of AAP leaders The steady departure of senior leaders from AAP over time might have also weakened the party's organisational structure and public image. The exit of prominent figures like Prashant Bhushan, Yogendra Yadav, Mayank Gandhi, and Kumar Vishwas, who had dared to disagree with Arvind Kejriwal, and repeatedly accused Kejriwal of having an \"autocratic\" style of leadership. Resignation of senior leaders like Kailash Gahlot, who cited the party's focus on political agenda over fulfilling promises, along with internal challenges, signalled internal discord. The BJP had termed Gahlot's resignation a \"courageous move\". AAP goes negative Negative campaigning by the Aam Aadmi Party (AAP) centered on issues like Yamuna River pollution, the Delhi Police, and the Election Commission (EC) may have affected public perception of the AAP government. In the lead up to the polls, Kejriwal accused the BJP-led Haryana government of poisoning the Yamuna River, which supplies drinking water to Delhi. He claimed that the Haryana government deliberately sent polluted waters to Delhi to create an artificial water scarcity and blame the AAP. The AAP also repeatedly levelled accusations of voter fraud and irregularities against the BJP as well as the EC. AAP alleged that the Election Commission and Delhi Police were shielding BJP workers and accused them of \"hooliganism\". Kejriwal wrote to the Chief Election Commissioner, expressing concern over the intimidation and harassment of AAP volunteers by BJP workers. The EC responded that no written complaints could be traced in most cases but assured that all registered complaints are investigated. Kejriwal further criticised the Election Commission for allegedly refusing to make Form 17C public, a document detailing the number of votes polled at each booth. AAP then launched a website, transparentelections.in, claiming to upload Form 17C data for all constituencies to present the data in an accessible format. The EC dismissed Kejriwal's claims regarding Form 17C, stating that copies had already been provided to polling agents at each booth after voting, as per Rule 49S of the Conduct of Election Rules, 1961. Stay updated with breaking news , bank holidays and upcoming public holidays in march ."
        ],
        [
         "15",
         "https://timesofindia.indiatimes.com/entertainment/tamil/movies/news/shiva-rajkumar-breaks-his-silence-on-language-row-kamal-haasan-is-like-a-father-but-kannada-needs-more-than-words/articleshow/121482988.cms",
         "2022-01-01",
         "Times of India",
         "Shiva Rajkumar breaks his silence on language row: âKamal Haasan is like a father, but Kannada needs more than wordsâ",
         "Kannada actor Shiva Rajkumar has broken his silence on the ongoing controversy surrounding Kamal Haasan âs remarks at the 'Thug Life' audio launch. Haasanâs comment that âKannada evolved from Tamilâ, sparked backlash from various groups and even drew criticism from Karnatakaâs Chief Minister and other political parties. The actor later clarified his stance, refusing to apologize and stating his words came from a place of love and were based on what language historians had taught him. Kamal Haasan Faces Backlash Over 'Kannada Born From Tamil' Remark at Thug Life Event 'Father figure and Inspiration' Addressing the issue during the latest public event, Shiva Rajkumar spoke with both affection and firmness. He began by acknowledging Haasanâs respect for Kannada and Bengaluru, calling him one of his long-time idols. \"I grew up watching Kamal Haasan. How can I say Iâm proud of him? Thatâs like saying Iâm proud of my father,\" he said, likening Kamalâs influence to that of a family elder. He recalled attending the 'Thug Life' event where the screen legend welcomed everyone warmly and added that Haasan always puts in his 100% and commands respect. Urging genuine support for Kannada Shiva Rajkumar also highlighted an important point, that love for a language should not be limited to symbolic gestures. âWhen someone speaks about their love for Kannada, it shouldnât be momentary. It should be consistent and visible,â he said. He expressed that genuine support for Kannada should go beyond speeches and include a long-term commitment to the culture, language, and local cinema. âYou have to ask yourselves what you're doing for Kannada regularly, not just on special occasions,â he emphasized. Promoting Kannada language and cinema In conclusion, Rajkumar urged fans and media not to misunderstand the essence of whatâs being debated. He made it clear he didnât want to pass judgment on Kamal Haasan but instead wanted everyone to reflect on their own contributions to Kannada language and cinema. Recently as per a Pinkvilla report, during a press meet Kamal Haasan addressed the ongoing controversy with a firm but composed response. He stated, \"This is a democratic countryâI believe in law, justice, and the idea that love will always prevail. My love for Karnataka, Andhra, and Kerala is genuine, and only those with an agenda would question that.\" When asked if he would consider apologizing, especially in light of the Karnataka government's threat to ban 'Thug Life' Haasan stood his ground. \"I've faced threats before,\" he said. \"If I'm wrong, I will apologize. If Iâm not, I won't. That's the way I live, please donât tamper with it.\" Meanwhile, Kamal, during a promotional event in Kerala, stood firm, saying that only historians and linguists should discuss language origins and reiterated that what he said stemmed from affection â and that âlove never apologises.â On the other hand, Kamal Haasan's previous outing was the Shankar's directorial 'Indian 2'. On the work front, Shiva Rajkumar will be seen in the upcoming film, 'Peddi' starring Ram Charan and Janhvi Kapoor in lead. The is directed by Buchi Babu Sana and includes music by AR Rahman. Looking ahead he has multiple projects set to hit theaters with release dates spread throughout the year from April to December. It includes films directed by Rohit Padaki, Arjun Janya, K. Madesh, and more. Check out our list of the latest Hindi , English , Tamil , Telugu , Malayalam , and Kannada movies . Donât miss our picks for the best Hindi movies , best Tamil movies, and best Telugu films ."
        ],
        [
         "16",
         "https://timesofindia.indiatimes.com/tv/news/hindi/indian-idol-12-winner-pawandeep-rajan-gets-discharged-from-hospital-shares-picture-from-the-flight-writes-going-back-home/articleshow/121511116.cms",
         "2022-01-01",
         "Times of India",
         "Indian Idol 12 winner Pawandeep Rajan gets discharged from hospital; shares picture from the flight, writes 'going back home'",
         "Pawandeep Rajan was involved in an accident on May 5. Since then, he's been admitted to the hospital and had several procedures. On May 30, the singer turned to Instagram, sharing a photo of himself smiling and informing fans that he had been discharged and would be returning home. He wrote, \"Discharged and going back home Thank you everyone for all the support, blessings & prayers.\" Regarding the accident, as his team previously stated, \"Pawandeep Rajan was involved in a tragic road accident on May 5th early morning near Moradabad , UP, while on his way to Delhi to catch a flight to Ahmedabad for an event.\" He was initially treated at a facility close by, but was later transferred to a larger hospital in Delhi NCR.\" At the time, his team released an update on his condition, noting that Pawandeep had suffered multiple severe fractures as well as a few smaller injuries and that he was taken into surgery after a battery of medical examinations. After a six-hour procedure, surgeons were able to treat several severe fractures. On May 9, his team yet again published a fresh statement updating about the Indian Idol 12 singer's surgeries and health. According to the statement, Pawandeep underwent 3 more surgeries and was later shifted to ICU for recovery.. His team shared another update, \"Hi Everyone, Pawan underwent three more surgeries yesterday. Early in the morning, he was taken into the OT, and after eight long hours, all his remaining fractures were successfully operated on. Though he is still in the ICU under observation, he will remain there for a few more days. As the doctor rightly said, now the healing and recovery process has started. Let's just pray for his speedy recovery. Once again, thank you everyone for all the blessings and prayers.\" As Pawandeep began to recover, he sang songs in his melodious voice, which went viral. He even wrote, \"Recovery mode on, thank you all for the prayers and blessings.\""
        ],
        [
         "17",
         "https://timesofindia.indiatimes.com/life-style/travel/news/delhi-weather-orange-alert-in-place-for-rain-thunderstorms-and-strong-winds/articleshow/121509594.cms",
         "2022-01-01",
         "Times of India",
         "Delhi weather: Orange alert in place for rain, thunderstorms, and strong winds",
         "The India Meteorological Department (IMD) has issued an orange alert for Delhi and the National Capital Region (NCR) for Friday, May 30, forecasting thunderstorms, lightning, and gusty winds reaching speeds of 50â60 km/h. This alert follows a series of intense weather events that have marked May 2025 as Delhi's wettest on record, with the city receiving 186.4 mm of rainfall, surpassing the previous high of 165 mm set in 2008. Stormy conditions are predicted to last through the weekend, with mild to moderate rainfall and thunderstorms possible in different parts of Delhi, the IMD advises. It is recommended that residents secure loose things to minimise accidents, stay indoors during stormy periods, and avoid taking cover under trees. Read more: 8 places in India to to spot migratory birds These weather patterns are part of a broader trend affecting northwest India, including Himachal Pradesh, Uttarakhand, Punjab, Haryana, and Uttar Pradesh, where varying intensities of rainfall and thunderstorms are expected over the next few days. The present weather has been influenced by the early arrival of the southwest monsoon, which reached Kerala and parts of Northeast India on May 24âeight days earlier than usual. The weather is still conducive to the monsoon's continued progress throughout the nation in the days ahead. As Delhi braces for continued stormy weather, authorities urge residents to remain vigilant, follow safety advisories, and stay updated on the latest weather forecasts. This weather pattern isnât unique to Delhi. The IMD has forecast rainfall and thunderstorms for much of northwest India, including Himachal Pradesh, Uttarakhand, Punjab, Haryana, and Uttar Pradesh. Meanwhile, southern states such as Kerala and coastal Karnataka are on red alert due to extremely heavy rainfall. Read more: Countries offering quick visas to Indian travellers In the event of an emergency, authorities in Delhi and the neighbouring territories are ready. During past storms, there were reports of traffic jams and power outages in several areas of the city. Before leaving, commuters are urged to check for road closures and transport delays. Over the next few days, the IMD is anticipated to release new advisories as it continues to keep an eye on the situation. Delhi residents are currently preparing for more wind, rain, and perhaps even a turbulent monsoon respite. One step to a healthier youâjoin Times Health+ Yoga and feel the change"
        ],
        [
         "18",
         "https://timesofindia.indiatimes.com/life-style/health-fitness/health-news/bowel-cancer-is-rising-rapidly-in-younger-people-what-are-the-causes-and-symptoms-of-the-disease/articleshow/121452261.cms",
         "2022-01-01",
         "Times of India",
         "Bowel cancer: Young people at high risk, symptoms that easily go unnoticed",
         "Bowel cancer in young people is on the rise. As per a recent study , scientists have found that a bacterial toxin called colibactin may be causing the rise in bowel cancer among young adults. As per them, being exposed to this toxin in childhood could increase the risk of developing cancer later in life. Although researchers are not certain how this exposure occurs, they know that colibactin is produced by certain strains of Escherichia coli bacteria in the gut. They suggest that damaging exposure likely happens within the first 10 years of life. What is bowel cancer? King Charles ADMITS Struggling With Cancer: 'Most Difficult Of Times' Bowel cancer, also known as colorectal cancer, is a type of cancer that develops in the colon or rectum. It can be caused by the abnormal growth of cells in the lining of the colon or rectum, often starting as small polyps. Symptoms can include blood in the stool, changes in bowel habits, abdominal pain, and sudden weight loss. How is colibactin linked to bowel cancer? Colibactin has been linked to bowel cancer before, but researchers had not specifically studied its effects on people under 50 until now. This link may help explain why bowel cancer is expected to be the leading cancer-related cause of death for young adults in the coming years. One possibility is that childhood infections produce colibactin, which then harms DNA in the bowel. These mutations can increase the chance of developing cancer later on, often many years after the colibactin is gone. Colibactin-related DNA mutations were found to be 3.3 times more common in adults diagnosed with cancer before age 40 compared to those diagnosed at 70 or older. In older patients, the DNA patterns were more often linked to normal aging. Causes of bowel cancer : Bowel cancer is a complex disease with multiple potential causes and risk factors, including age, family history, diet, lifestyle, and certain medical conditions. While the exact cause is not always known, certain factors can increase the likelihood of developing bowel cancer. Key risk factors: Age: The risk of bowel cancer increases significantly with age, with most cases occurring in individuals over 50. However, younger adults of the age group 25-49 are getting more susceptible to the disease with the passing days. Family history: A family history of bowel cancer or certain inherited conditions like Lynch syndrome or familial adenomatous polyposis (FAP) can increase the risk. Diet: A diet low in fiber and high in fat can increase the risk of bowel cancer. Consuming large amounts of red meat and processed meats has been linked to an increased risk. Lifestyle: Lack of regular physical activity, i.e., a sedentary lifestyle is associated with a higher risk of bowel cancer. Being overweight or obese increases the risk of developing bowel cancer. Smoking and alcohol consumption: Smoking tobacco is a known risk factor for bowel cancer. Excessive alcohol use can also increase the risk. Medical conditions: Inflammatory Bowel Disease (IBD): Individuals with chronic ulcerative colitis or Crohn's disease, which cause inflammation in the colon, have an increased risk of developing bowel cancer. Polyps: Bowel polyps, which are small growths on the lining of the colon, can sometimes develop into cancer. Radiation therapy: Previous radiation therapy to the abdomen can increase the risk of bowel cancer. Symptoms of bowel cancer : Bowel cancer symptoms can include changes in bowel habits, such as diarrhea, constipation, or a change in the frequency or appearance of stools. Other common symptoms include rectal bleeding or blood in the stool, abdominal pain or cramping, and a feeling that the bowel doesn't empty completely. Fatigue, unexplained weight loss, and weakness are also possible symptoms. Detailed look at symptoms: Changes in bowel habits: This can include diarrhea, constipation, or alternating between the two. You might also notice changes in the frequency or appearance of your stools, such as thinner than normal stools or ribbon-like stools. Rectal bleeding or blood in the stool (can range from bright red blood to dark, tarry blood) is also indicative of the disease. Abdominal pain or cramping: If the pain is persistent or intermittent and accompanied by bloating, youâre advised to consult a healthcare professional. Feeling of incomplete bowel evacuation: You might feel like you need to defecate even after having a bowel movement. Tiredness and weakness: Fatigue and weakness can be caused by anemia, which can result from blood loss in the digestive tract. Unexplained weight loss: Weight loss without trying can be a sign of cancer. Other symptoms: Some people may experience other symptoms like a lump in the abdomen or back passage, nausea, vomiting, or a change in appetite. Bowel cancer, also known as colorectal cancer, frequently presents without noticeable symptoms in its nascent stages. This characteristic makes regular screening and heightened awareness crucial for early detection. As the disease progresses, individuals may begin to experience a range of symptoms, though these can often be subtle and easily mistaken for less serious conditions. Certain types of dietary fibre cause inflammatory response in some patients: Study Diet plays a crucial role in gut health. Hence, eating a diet that is nutritious and gut-friendly will do just the trick. Also, limiting ultra-processed foods, processed meats, sugary drink, can help. One step to a healthier youâjoin Times Health+ Yoga and feel the change"
        ],
        [
         "19",
         "https://timesofindia.indiatimes.com/etimes/trending/this-anaconda-rivers-helicopter-view-will-haunt-your-nightmares-netizens-question-if-its-real-or-ai-generated-watch-now/articleshow/121465859.cms",
         "2022-01-01",
         "Times of India",
         "This anaconda riverâs helicopter view will haunt your nightmares; netizens question if itâs real or AI generated | Watch now",
         "Source: X Artificial Intelligence has pushed digital creativity to new heights with a video many are calling the spookiest online. Trending rapidly, this AI-generated footage showcases hyper-realistic images that tap into deep-rooted fears and phobias. Unlike traditional videos filmed by humans, this clip is entirely created by AI, yet it elicits intense emotional reactions due to its haunting visuals and near-photorealistic quality. Eerie landscapes, distorted faces, uncanny movements, and surreal settings amplify the terror. This unsettling blend of technology and terror demonstrates AIâs growing power to craft scenes that feel disturbingly real, blurring the line between imagination and reality in ways that both captivate and frighten viewers worldwide. Viral helicopter footage reveals massive anacondas beneath river The footage shows a man sitting quietly within a helicopter that is hovering over an expansive, thick forest. Beneath the helicopter, rather than a peaceful river, one sees an eerie view â a river full of massive anacondas, snakes that are so huge and dense that the vision presents itself as dangerous right away. Even though a man flying by a helicopter is a commonplace thing, the appearance of such enormous snakes in the water is anything but normal or natural and gives a strange and terrifying turn to the video. Why the video is so frightening is not just the material but the quality of its presentation. The AI-generated imagery is so real that the viewer's mind automatically attempts to perceive the scene as real, triggering a gut fear reaction. A normal situation coupled with nightmare-like material creates such a sharp contrast that it unsettles viewers on a deep level. Social media reacts with fear, confusion, and fascination The instant the video was uploaded to the Internet, it immediately went viral, spreading like wildfire on social networking sites. Netizens responded in many ways â some were simply horrified, while others were confused and did not know if what they were watching was real or manipulated digitally. The realism of the video was sufficient to confuse many into wondering if giant anacondas actually exist under that river, even if the image was so fantastical. This doubt triggered public debate. Some individuals admitted that viewing the video reawakened ancient fears of snakes and made them feel uneasy and nervous. Others were amazed at how real the AI had made natural components and movement, nearly deceiving people into thinking the impossible. AI or real? Viral âanaconda riverâ clip divides viewers The initial post was on the social media site X (previously known as Twitter), posted by user 'official_Sheye.' Within days of posting, the video had received a staggering 11 million likes, a sign of its viral appeal and powerful emotional draw on viewers. The caption of the post defined the video as a \"helicopter view of anaconda river,\" and cautioned viewers of the frightening scene, heightening the curiosity. The dramatic caption helped boost engagement, making the video an instant click magnet. Its popularity reflects how shock value and mystery fuel virality on social platforms. As viewers interacted with the video, the comment space transformed into an interesting blend of reactions. Most viewers reacted in disbelief, constantly questioning whether the video was authentic. Some indicated visual anomalies that betrayed its AI nature, including a two-headed snakeâsomething impossible in biology but a frequent occurrence in AI-generated imagery glitches. This generated a blend of skepticism and amusement among the viewers. The presence of digital artifacts sparked a wider conversation on AI and misinformation. Many users used the opportunity to discuss the growing challenge of spotting fake content. Others shared humorous takes, joking about their fears of flying helicopters or their villageâs chances against giant snakes, lightening the mood despite the eerie nature of the clip, which had quickly gone viral across multiple social media platforms. In the end, the viral âanaconda riverâ clip is a striking example of how powerful and convincing AI-generated content has become. Blending fear, fascination, and realism, the video shows just how easily digital creations can blur the line between fact and fictionâleaving viewers both amazed and uneasy. Also Read | 66-year-old handwritten love letter in a bottle found among WWII-era beach ruins in Poland, sparking a lost love mystery"
        ],
        [
         "20",
         "https://timesofindia.indiatimes.com/education/news/ou-results-2025-osmania-university-declares-april-may-2025-ug-results-for-b-sc-bba-ba-and-b-com-programmes/articleshow/121494873.cms",
         "2022-01-01",
         "Times of India",
         "OU Results 2025: Osmania University declares April- May 2025 UG results for B.Sc, BBA, BA, and B.Com programmes",
         "Osmania University announces results for UG B.Sc, BBA, BA, and B.Com courses, April/May 2025 Osmania University results 2025: Osmania University, one of the oldest and most prestigious educational institutions in India, has officially declared the results for its undergraduate courses for the April/May 2025 examination session. The results encompass various programs, including B.Sc (Hons), B.Sc (CBCS), BBA, BA, and B.Com (CBCS), across multiple semesters. The examination results for UG-B.Sc (Hons) Semesters-IV & VI, as well as the UG-B.Sc (CBCS) Semesters-IV & VI (Regular and Backlog), were released today. Additionally, the results for UG-BBA (CBCS) (All Streams) Semesters-IV & VI, and UG-BA (CBCS) (All Streams) Semesters-IV & VI (Regular and Backlog), were also announced. The University has been highly focused on ensuring transparency and ease of access to results, with the official website providing real-time updates. Students can check their individual scores by logging into the university portal with their roll number and other necessary credentials. How to Check Osmania University Results for April-May 2025 Visit the official results portal â Go to the designated URL mentioned above for Osmania University results.Enter your Hall Ticket Number â You will need to input your unique 12-digit Hall Ticket Number in the provided field.Click on \"Submit\" â After entering the Hall Ticket Number, click on the \"Submit\" button to proceed.View Your Result â Your result will be displayed on the screen. Review your marks and performance for the respective examination.Save or Print the Result â For future reference, you can save the result on your device or take a printout for offline documentation. Ensure that you have all the necessary details and a stable internet connection to check your results without interruptions. Direct link to check the OU Reuslts 2025 Osmania Universityâs continuous emphasis on quality education is evident in its latest accreditation, where the institution received a prestigious âAâ Grade from the National Assessment and Accreditation Council (NAAC). This achievement underscores the universityâs commitment to maintaining high academic standards, offering world-class resources, and providing students with an environment conducive to learning. Ready to empower your child for the AI era? Join our program now! Hurry, only a few seats left."
        ],
        [
         "21",
         "https://timesofindia.indiatimes.com/education/news/rbse-class-5th-result-2025-declared-direct-link-to-download-rajasthan-class-5th-results-here/articleshow/121510500.cms",
         "2022-01-01",
         "Times of India",
         "RBSE Class 5th Result 2025 Declared: Direct link to download Rajasthan class 5th results here",
         "The Rajasthan Board of Secondary Education (RBSE) has announced the Class 5th exam results for the year 2025. The results were officially declared by the Education Minister, Madan Dilawar, via video conferencing on May 30, 2025, at 12:30 PM. Students who appeared for the exams can now check their results on the official websites â rajshaladarpan.rajasthan.gov.in. To view their results, students need to enter their roll number, district, and block information. Where to check RBSE class 5th result? Students can easily check their results online using their roll numbers by visiting the official RBSE websites: rajshaladarpan.rajasthan.gov.in rajpsp.nic.in Once on the website, students need to select the Class 5 result link, enter their roll number and other necessary details, and submit the form to view their marksheets. It is advised to download and save a copy of the result for future reference. How to Check RBSE Class 5th Result? The direct link to download RBSE class 5th result is now active. Students and parents can access the results by following the steps mentioned below: Visit the official Shala Darpan portal . Click on the link titled âClass 5 Result 2025.â Enter your roll number and other required details. Submit the information to view your result. Download and print your marksheet for future reference. Ready to empower your child for the AI era? Join our program now! Hurry, only a few seats left."
        ],
        [
         "22",
         "https://timesofindia.indiatimes.com/education/study-abroad/1-8-million-and-rising-here-is-why-indian-students-prefer-studying-at-international-destinations/articleshow/121489474.cms",
         "2022-01-01",
         "Times of India",
         "1.8 million and rising: Here is why Indian students prefer studying at international destinations",
         "In a world increasingly defined by global mobility and knowledge economies, Indian students are emerging as one of the most significant forces shaping international education. According to the latest data from the Ministry of External Affairs (MEA), over 1.8 million Indian students are currently studying abroad in 2025âa staggering rise from 1.3 million just two years ago. This dramatic increase is more than a statistical spike; it reflects deep shifts in educational aspirations, economic realities, and global migration patterns. The surge speaks volumes about the evolving mindset of India's youth, who are now looking beyond borders not just for academic credentials, but for global exposure, career opportunities, and a future they believe may be better built elsewhere. But what explains this exodus in such large numbers? Which countries are gaining, and which are falling out of favour? And how are changing visa rules, economic pressures, and political priorities shaping this landscape? Letâs find answers here. 3 destinations Indian students love According to the MEA report 2025, the top destinations for Indian students in 2025 are the US, Canada, and UK. Here is what the report suggests. The United States Hosting 331,602 Indian students, the US has seen a 23% year-on-year increase since the academic year 2023-24. Notably, India has overtaken China as the largest source of international students in the US for the first time. While the US is currently experiencing a crackdown for international students, statistics released by the MEA show that it still remains one of the top international destinations hosting Indian students. This may be on the verge of change, as the Trump administration continues to make significant changes for international students. Canada Although Canada has long held its place as one of the most preferred destinations for Indian studentsâthanks to its multicultural society, high-quality education, and clear pathways to permanent residencyâit has recently seen a noticeable dip in Indian student enrolments. According to the Ministry of External Affairs, Canada hosted 233,532 Indian students in 2023, but this number declined to 137,608 in 2024, representing a significant 41% decrease. This decline is linked to stricter visa rules, higher financial requirements, and diplomatic tensions between the two countries. Despite these setbacks, Canada remains a favored destination, though many students are now exploring more accessible alternatives. United Kingdom The UK follows closely with 98,890 Indian students, also down from previous years. In 2024, the number of Indian students in the UK declined by approximately 28% compared to the previous year. Specifically, the count dropped from 136,921 in 2023 to 98,890 in 2024, marking a decrease of 38,031 students. Stricter visa rules, especially restrictions on bringing dependents, along with rising tuition and living costs have made the UK less attractive. Despite this, its prestigious universities and one-year masterâs programs continue to draw many students. Why are more Indian students choosing to study abroad? Indian students are constantly looking for opportunities to move abroad for higher education and work. Here is why: Limited seats at home Premier Indian institutions like the IITs, IIMs, and AIIMS offer high-quality education but have limited seats. The stiff competition drives many qualified students to explore overseas options where they have a better chance of accessing elite education. Better career and migration opportunities International degrees are often seen as gateways to global employment markets. Countries like the US and Canada offer pathways to post-study work and permanent residency, enhancing the long-term value of studying abroad. Affordable education in Europe With rising costs in traditional destinations, many Indian students are turning to Germany, where most public universities charge little or no tuition. Scholarships and living cost subsidies also make countries like France and Italy increasingly appealing. Financial support and scholarships Many foreign universities, especially in the UK and Australia, are increasing scholarships for Indian students. These financial incentives reduce the burden on families and improve access to quality education. Global exposure and cultural diversity Studying abroad offers more than just academic learningâit provides students with a chance to experience global cultures, improve communication skills, and build international networks that can last a lifetime. As immigration policies continue to evolve and new education hubs emerge, Indian students are navigating the global education map with more defined strategies than ever before. Ready to empower your child for the AI era? Join our program now! Hurry, only a few seats left."
        ],
        [
         "23",
         "https://timesofindia.indiatimes.com/education/news/ts-dost-2025-phase-1-seat-allotment-list-released-check-direct-link-to-download-here/articleshow/121492248.cms",
         "2022-01-01",
         "Times of India",
         "TS DOST 2025 phase 1 seat allotment list released: Check direct link to download here",
         "The Telangana State Council of Higher Education (TSCHE) has released the phase 1 seat allotment result for Degree Online Services, Telangana (DOST) today, May 29. Candidates who registered for admissions at the TS DOST 2025 portal can now access the phase 1 results by visiting the official website, dost.cgg.gov.in. Candidates who have been allotted seats in the phase 1 will have to complete their self reporting process to confirm their admission. The last date for reporting for TS DOST round 1 is June 9, 2025. Failing to report before the deadline will result in disqualification. Meanwhile, candidates who are not allotted seats in round 1 will be eligible for round 2. How to check TS DOST round 1 seat allotment result? Candidates who participated in TS DOST round 1 seat allotment can check the results by following the steps below: Visit the official website, dost.cgg.gov.in. Click on the link to login to the candidate portal Enter the required details and submit Now, navigate and click on the link for phase 1 seat allotment results Once the result is displayed, confirm your allotment and download the PDF for future reference Documents required for TS DOST verification To confirm their admission in TS DOST phase 1, candidates are required to report to their respective colleges before June 9, 2025. Students are required to submit the following list of documents for verification: Class 10th and 12th marksheets/certificates TS DOST seat allotment letter Valid ID proof (preferably Aadhar) Transfer certificate Caste certificate (if applicable) PwD certificate (if applicable) Whatâs next? Candidates who are not allotted seats in round 1 are eligible for round 2. The TS DOST round 2 registration process will begin on May 30, 2025 and will continue till June 6, 2025. Candidates will be able to apply till June 8 with a late fee of Rs. 400. Following the registration process, TS DOST round 2 seat allotment result will be published on June 13, 2025 at dost.cgg.gov.in. For more information about TS DOST seat allotment results, candidates are advised to visit the official website. Ready to empower your child for the AI era? Join our program now! Hurry, only a few seats left."
        ],
        [
         "24",
         "https://timesofindia.indiatimes.com/education/news/hp-tet-june-2025-hpbose-releases-admit-cards-for-tgt-arts-medical-subjects-on-hpbose-org-check-schedule-and-direct-link-here/articleshow/121466046.cms",
         "2022-01-01",
         "Times of India",
         "HP TET June 2025: HPBOSE admit cards for TGT Arts, Medical subjects released on hpbose.org; check schedule and direct link here",
         "HPBOSE releases admit cards for TET June 2025 exams for TGT Arts, Medical subjects HPBOSE TET June 2025 admit card: The Himachal Pradesh Board of School Education (HPBOSE) has officially released the admit cards for the upcoming Teacher Eligibility Test (TET) for June 2025. The highly anticipated exams, which will be conducted for Trained Graduate Teacher (TGT) Arts and TGT Medical subjects, are scheduled for June 1, 2025. Candidates who have registered for the exams can now download their admit cards from the official HPBOSE website. In its recent press release, HPBOSE outlined the details of the examination, including the schedule, timings, and number of candidates appearing for each subject. Along with this, the board highlighted the importance of the admit card, which is an essential document for entry to the exam centre. Candidates are encouraged to download their admit cards at the earliest to avoid any last-minute hassles. Important dates and timings for the exam The TET June 2025 exams will take place on June 1, 2025, with separate time slots for TGT Arts and TGT Medical subjects. The TGT Arts exam will begin at 10:00 AM and end at 12:30 PM, while the TGT Medical exam will be held from 2:00 PM to 4:30 PM. Both exams are of 2.5 hours in duration. The Arts exam is expected to have 12,519 candidates, while 4,510 candidates will appear for the Medical exam. HPBOSE TET June 2025: Important dates and timings Event Date TET Exam for TGT Arts June 1, 2025 TET Exam for TGT Medical June 1, 2025 Admit Card Availability Available now ( Direct Link ) Exam Timings (TGT Arts) 10:00 AM - 12:30 PM Exam Timings (TGT Medical) 2:00 PM - 4:30 PM How to download the HPBOSE TET June 2025 admit card Candidates who are appearing for the TET June 2025 exams can access their admit cards through the official HPBOSE website at www.hpbose.org. To download the admit card, candidates will need to enter their application number and date of birth. It is important to carry a printed copy of the admit card to the exam centre on the day of the examination. Direct link to download the HPBOSE TET June 2025 admit card In case of any issues with downloading the admit card, candidates can contact the HPBOSE helpline at 01892-242192, 01892-242, or 229037. Additionally, candidates may also reach out to the Boardâs email address at hpbose2011@gmail.com for assistance. Ready to empower your child for the AI era? Join our program now! Hurry, only a few seats left."
        ],
        [
         "25",
         "https://timesofindia.indiatimes.com/sports/cricket/ipl/top-stories/virat-kohli-the-force-behind-rcbs-dominant-march-to-ipl-2025-final/articleshow/121502906.cms",
         "2022-01-01",
         "Times of India",
         "Virat Kohli: The force behind RCB's dominant march to IPL 2025 final",
         "Virat Kohli (Pic credit: IPL) TimesofIndia.com in Mullanpur: Virat Kohli wears his heart on his sleeve. After Royal Challengers Bengaluru's (RCB) thumping eight-wicket win over Punjab Kings (PBKS) in Qualifier 1, Kohli was seen gesturing \"just one more to go.\" Go Beyond The Boundary with our YouTube channel. SUBSCRIBE NOW! Could 2025 finally be the year RCB break their title drought? Will it be the year the curse is lifted? Will Kohli finally lay his hands on the elusive title he has been chasing since the inaugural edition now? Everything will be answered on June 3 in Ahmedabad. Who's that IPL player? On Thursday night, Kohli gave a glimpse of why this is a tournament where he refuses to lose. He is the leading run-getter for RCB in this year's IPL and seemed to run on something extra, call it a desire, a resolve, or a motivation. And it was no different last night. The aggression and intensity Virat showed in the field made him look like a wounded lion who had tasted blood. Poll Will 2025 be the year RCB finally breaks their title drought? Yes, definitely! No, they will fall short again. The energy with which he was patrolling the RCB troops gives you a reminder of Kohli, the \"in-your-face captain.\" He displayed a range of emotions in a single match: the thumping of the RCB badge, which holds a special place in his heart; the jubilation after fall of every PBKS wicket; the fist pump in the air; rushing from the boundary line to celebrate every wicket â Kohli was at his cinematic best. As RCB's pace trio of Josh Hazlewood , Yash Dayal, and Bhuvneshwar Kumar came all guns blazing, it seemed Kohli forgot that he was not the captain of RCB as he was calling all the shots. He may no longer wear the captainâs armband, but on the field, he continues to lead. His energy is relentless, his presence impossible to ignore. He was central to every tactical move â constantly in the bowlersâ ears, or in the fieldersâ eyeline when they erred. A growl, a stare â his expressions spoke volumes without a single word. Physically, he remains a remarkable athlete â enduring long spells under the punishing sun with unwavering stamina. His boundless energy continues to offset the natural decline in reflexes that comes with age. RCB pacer Hazlewood summed up Kohli's energy in just one short sentence: \"Virat's always up and about in the field,\" he told reporters after the match. He was at his theatrical best in the field, but on a wicket which had something to offer for the fast bowlers, his recurring susceptibility outside the off-stump was on display as well. The extra bounce on the sixth-stump line, which he ended up poking, did the trick. It was a dismissal reminiscent of those that kind of put the last nail in his Test career in Australia. Virat Kohliâs Playful Side Lights Up Chandigarh Airport with Anushka Sharma But come June 3 in Ahmedabad, the pitch won't have this amount of bounce. The Narendra Modi Stadium favours batters, and RCB will bank on Kohli to not just guide them to their first title but also to achieve redemption by winning a trophy in front of one hundred thousand spectators. So tighten your seatbelt, as we might be in for \"one last dance\" from one of the all-time greats."
        ],
        [
         "26",
         "https://timesofindia.indiatimes.com/sports/cricket/india-tour-of-england/i-am-ready-cheteshwar-pujara-breaks-silence-on-gautam-gambhirs-call-for-england-tour/articleshow/121488605.cms",
         "2022-01-01",
         "Times of India",
         "'Have you received a phone call from Gambhir yet?' Cheteshwar Pujara answers ahead of England tour",
         "Gautam Gambhir and Cheteshwar Pujara NEW DELHI: Indiaâs batting mainstays Virat Kohli and Rohit Sharma, along with ace spinner Ravichandran Ashwin, have retired from Test cricket, while star pacer Mohammed Shami will miss the crucial five-match series in England due to fitness issues. All eyes are now on the Shubman Gill-led Indian side, widely regarded as one of the most inexperienced teams to tour England in recent memory. India Test squad vs England: Ajit Agarkar full press conference In the absence of Kohli and Rohit, India's batting line-up appears quite thin in experience. So, could the selectors consider recalling experienced campaigners like Cheteshwar Pujara or Ajinkya Rahane , who are yet to retire from the traditional format, to strengthen the top order? Go Beyond The Boundary with our YouTube channel. SUBSCRIBE NOW! During a recent interview, Pujara was asked whether Gautam Gambhir had reached out to him regarding the England tour. Poll How do you feel about Shubman Gill being appointed as Test captain at just 25 years old? Excited for his leadership Concerned about his inexperience \"No, not yet,\" Pujara told Lallantop when asked, \"Have you received a phone call from Gambhir yet?\" Also See: MI vs GT IPL Live Score The 103-Test veteran expressed his readiness to return if given the opportunity. RCB vs PBKS, IPL 2025, Qualifier 1: Quick singles from Mullanpur \"I am ready. I don't know if they will take me or not. But if I get a chance, yes, it will be an honour to represent the country again. As a cricketer, you always feel that as long as you are fit, as long as you are contributing, and if I have a good performance in domestic cricket, and I am preparing well, if I get a chance, yes, I will be more than happy to be part of the team,\" Pujara said. Shubman Gill has been handed the responsibility of leading the Indian Test team through a âmassive transitionâ period, with the dynamic Rishabh Pant appointed as his deputy for what is expected to be a stern challenge in English conditions. At just 25, Gill becomes Indiaâs fifth youngest Test captain, following in the footsteps of Mansoor Ali Khan Pataudi (21), Sachin Tendulkar (23), Kapil Dev (24), and Ravi Shastri (25). The first Test against England is scheduled to begin on June 20 in Leeds. India Test squad vs England: Ajit Agarkar full press conference \"Last year or so we have looked at Shubman (for leadership). We are hopeful he is the guy who is going (to take the team forward). It is a high pressure job but he is a terrific player. We wish him all the best,\" said chief selector Ajit Agarkar after announcing the 18-member squad, which included no major surprises. Explaining Pantâs appointment as vice-captain, Agarkar added: \"Pant is one of our best batters in Test cricket over the last four-five years. A wicketkeeper can see the game well and that's why he is Shubman's deputy.\" The squad also features maiden Test call-ups for promising left-hander B Sai Sudharsan and left-arm pacer Arshdeep Singh."
        ],
        [
         "27",
         "https://timesofindia.indiatimes.com/sports/cricket/ipl/top-stories/rcb-enter-ipl-2025-final-how-to-buy-tickets-for-the-summit-clash-in-ahmedabad/articleshow/121506301.cms",
         "2022-01-01",
         "Times of India",
         "RCB enter IPL 2025 final: How to buy tickets for the summit clash in Ahmedabad",
         "RCB players (IPL Photo) Royal Challengers Bengaluru (RCB) stormed into their fourth Indian Premier League ( IPL ) final with a dominant eight-wicket win over Punjab Kings in Qualifier 1 on Thursday. With a maiden title now just one win away, RCB fans are scrambling for tickets to witness the grand finale on June 3 at the Narendra Modi Stadium in Ahmedabad. Go Beyond The Boundary with our YouTube channel. SUBSCRIBE NOW! Virat Kohliâs side, three-time runners-up (2009, 2011, 2016), delivered a clinical performance at the Maharaja Yadavindra Singh International Cricket Stadium in Mullanpur to book their spot in the IPL 2025 final. Who's that IPL player? As anticipation soars, here's all you need to know about securing tickets for the much-awaited clash. Poll Are you planning to attend the IPL 2025 Final in Ahmedabad? Yes, got my tickets! No, can't make it. The BCCI had earlier confirmed that tickets for the IPL 2025 playoffs would be available starting May 24. However, tickets for the final, along with Qualifier 2, officially went on sale from May 26. Josh Hazlewood - we picked up momentum from Jiteshâs knock in Lucknow How to Buy IPL 2025 Final Tickets Official Partner: District by Zomato is the official ticketing platform for the IPL 2025 playoff stage. RuPay Cardholders: Enjoyed a 24-hour exclusive priority window on May 26 to book tickets for Qualifier 2 (June 1) and the Final (June 3). General Sales: Opened on May 27 for all users through District by Zomatoâs website and app. Fans are advised to act fast, as high demand is expected. The final phase of IPL 2025 features RCB, Punjab Kings, Gujarat Titans and Mumbai Indians. After thrilling fixtures in Chandigarh, all eyes now turn to Ahmedabad, where Kohliâs men aim to end their long title drought in front of a packed house."
        ],
        [
         "28",
         "https://timesofindia.indiatimes.com/sports/cricket/ipl/top-stories/who-is-anushka-sharmas-friend-in-rcbs-qualifier-win-over-pbks-internet-wants-to-know/articleshow/121506875.cms",
         "2022-01-01",
         "Times of India",
         "Who is Anushka Sharma's friend in RCB's Qualifier 1 win over PBKS? Internet wants to know",
         "Anushka Sharma with her fan during RCB vs PBKS match. (X Photo) Bollywood star Anushka Sharma once again made headlines â not just for her spirited presence at the stadium cheering for husband Virat Kohli â but also for the mystery surrounding her companion during Royal Challengers Bengaluru's (RCB) emphatic win over Punjab Kings in Qualifier 1 of IPL 2025. RCB secured a commanding eight-wicket victory on Thursday in Mullanpur to book a spot in their fourth IPL final. Go Beyond The Boundary with our YouTube channel. SUBSCRIBE NOW! While fans celebrated the on-field action, online chatter centered around the woman seated next to Anushka in the stands. Social media platforms like X were flooded with curious queries like, âWho is sitting with Anushka Sharma?â and âWho is the woman next to her?â Who's that IPL player? The woman in question is Malvika Nayak, a long-time friend of Anushka Sharma. The duo share a close bond and are often seen attending matches together or going on outings with their respective spouses. Malvika was also spotted alongside Anushka during RCB's recent clash against Lucknow Super Giants. Poll Are you excited to see RCB in the IPL final? Super Excited! Cautiously Optimistic Not a Fan of RCB According to her LinkedIn profile, Malvika is an MBA graduate from Manipal Academy of Higher Education and currently oversees Business Development & Partnerships at Innoz Technologies Pvt. Ltd. Malvika is married to Nikhil Sosale, who serves as the Head of Marketing & Revenue for RCB at Diageo India. Anushka, Virat, Malvika and Nikhil have previously been seen hanging out together, making them one of the more recognisable friend circles off the pitch. Virat Kohliâs Playful Side Lights Up Chandigarh Airport with Anushka Sharma Anushka's consistent presence during RCB matches in IPL 2025 has been heartwarming for fans. With RCB now just one win away from a historic maiden title, the star actor's support from the stands remains a lucky charm."
        ],
        [
         "29",
         "https://timesofindia.indiatimes.com/sports/cricket/ipl/top-stories/what-happens-if-gujarat-titans-vs-mumbai-indians-ipl-eliminator-gets-washed-out-in-mullanpur/articleshow/121507966.cms",
         "2022-01-01",
         "Times of India",
         "What happens if Gujarat Titans vs Mumbai Indians IPL Eliminator gets washed out in Mullanpur?",
         "Hardik Pandya and Shubman Gill The IPL 2025 playoffs continue with a blockbuster Eliminator clash between Gujarat Titans (GT) and Mumbai Indians (MI) at the Maharaja Yadavindra Singh International Cricket Stadium in Mullanpur on Friday. Go Beyond The Boundary with our YouTube channel. SUBSCRIBE NOW! With Royal Challengers Bengaluru (RCB) already sealing a place in the final after their emphatic win over Punjab Kings in Qualifier 1, todayâs winner will earn the right to face PBKS in Qualifier 2 on June 1 in Ahmedabad. Who's that IPL player? However, even as fans gear up for the high-octane encounter between the two former champions, the lingering question remains: What if rain plays spoilsport? Poll Who do you think will win the Eliminator clash between Gujarat Titans and Mumbai Indians? Gujarat Titans Mumbai Indians It's too close to call Weather Update: According to the Indian Meteorological Department (IMD), Mullanpur may witness partly cloudy skies with chances of brief rain or thundershowers in certain areas. Temperatures could reach 40Â°C during the day before dipping to the low 20s in the evening. Also See: MI vs GT IPL Live Score Fortunately, forecasts from AccuWeather suggest a 0% chance of rain during the match, though the skies are expected to remain cloudy. Earlier in the day, Mullanpur did receive a spell of heavy rain, but conditions have significantly improved leading into the game. Shubman Gill story: From a remote village near the border to Indiaâs Test captain What happens if rain disrupts play? There is no reserve day for the Eliminator. If weather interferes and prevents even the minimum required five overs per side from being bowled, the match will be declared a no-result. In such a scenario, Gujarat Titans, having finished higher on the league stage points table, will progress to Qualifier 2, while Mumbai Indians will be eliminated from IPL 2025. The cut-off time for a reduced-overs match will follow IPL's standard playing conditions, with the organisers attempting to squeeze in the maximum possible action before that limit is reached."
        ],
        [
         "30",
         "https://timesofindia.indiatimes.com/sports/cricket/ipl/top-stories/ipl-match-today-gt-vs-mi-team-prediction-head-to-head-pitch-report-mullanpur-weather-update/articleshow/121509838.cms",
         "2022-01-01",
         "Times of India",
         "IPL match today, GT vs MI: Team prediction, head-to-head, pitch report, Mullanpur weather update",
         "Gujarat Titans captain Shubman Gill with his Mumbai Indians counterpart Hardik Pandya. (IPL Photo) Shubman Gill âs Gujarat Titans will clash with five-time champions Mumbai Indians in a high-stakes IPL 2025 Eliminator in Mullanpur on Friday. While both teams boast playoff experience, they also enter the knockout fixture with notable concerns. Gujarat Titans, who won the title in 2022, have lost momentum, particularly in their bowling department. They have conceded 465 runs in their last two games, and the absence of Jos Buttler, who returned for national duty, further weakens their batting lineup. Gill, along with key players like Sai Sudharsan and Kusal Mendis, will need to anchor the innings, as the middle order lacks consistency. Go Beyond The Boundary with our YouTube channel. SUBSCRIBE NOW! Mumbai Indians, led by Hardik Pandya , are also grappling with the exit of foreign players such as Ryan Rickelton and Will Jacks. Jonny Bairstow is expected to fill the gap at the top alongside Rohit Sharma, while Suryakumar Yadav remains their standout batter with 640 runs. Concerns persist over the form of Tilak Varma and the pace of scoring when batting first. However, Mumbaiâs strong bowling lineup continues to be a major weapon. Poll Which team do you think will win the IPL 2025 Eliminator between Gujarat Titans and Mumbai Indians? Gujarat Titans Mumbai Indians Who's that IPL player? With no room for error, both Gill and Pandya have much to prove as they seek to guide their teams into Qualifier 2 and inch closer to the IPL 2025 title. Also See: MI vs GT IPL Eliminator Live Score GT vs MI Head-to-Head Total matches played: 7 Gujarat Titans: 5 Mumbai Indians: 2 GT vs MI: Pitch Report The pitch at Mullanpur features square boundaries of 62 and 65 metres, with a straight boundary of 73 metres, making it deceptively large. The pitch is grassy, assisting batters with good bounce and carry. One end has extra grass aiding pacers, while the other has bare patches where spinners may operate, potentially offering some grip. Dew is expected due to moisture in the air. Batting first is the preferred option for captains after winning the toss. 'I don't want to be a one-season wonder': Punjab Kings' Shashank Singh GT vs MI: Predicted XIs Gujarat Titans predicted XI: Shubman Gill (c), Sai Sudharsan, Sherfane Rutherford, Shahrukh Khan, Rahul Tewatia, Anuj Rawat (w), Rashid Khan, Gerald Coetzee, Ravisrinivasan Sai Kishore, Mohammed Siraj, Prasidh Krishna Impact Sub: Ishant Sharma Mumbai Indians predicted XI: Jonny Bairstow (w), Rohit Sharma, Corbin Bosch, Suryakumar Yadav, Tilak Varma, Hardik Pandya (c), Naman Dhir, Mitchell Santner, Deepak Chahar, Trent Boult, Jasprit Bumrah Impact Sub: Karn Sharma GT vs MI: Mullanpur Weather update As per the Indian Meteorological Department (IMD), Mullanpur is likely to experience partly cloudy skies, with the possibility of short spells of rain or thundershowers in isolated areas. Daytime temperatures may peak around 40Â°C, cooling down to the low 20s by evening. However, AccuWeather offers a more optimistic outlook for match time, predicting a 0% chance of rainfall despite persistent cloud cover. While the region saw a bout of heavy rain earlier in the day, weather conditions have markedly improved in the lead-up to the game. GT vs MI: Live Streaming details The GT vs MI Eliminator match will be played at the Maharaja Yadavindra Singh International Cricket Stadium, Mullanpur, Chandigarh. The match will start at 7:30 pm. The match will be telecasted on Star Sports Network and live streaming will be on JioHotstar. GT vs MI squads Gujarat Titans: Shubman Gill (captain), Sai Sudharsan, Kumar Kushagra, Anuj Rawat, Rashid Khan, Rahul Tewatia, Shahrukh Khan, Nishant Sindhu, Ravisrinivasan Sai Kishore, Gerald Coetzee, Jayant Yadav, Arshad Khan, Karim Janat, Sherfane Rutherford, Mahipal Lomror, Washington Sundar, Manav Suthar, Gurnoor Brar, Ishant Sharma, Kagiso Rabada, Prasidh Krishna, Kulwant Khejroliya, Mohammed Siraj, Dasun Shanaka, Kusal Mendis, Jos Buttler. Mumbai Indians: Hardik Pandya (captain), Suryakumar Yadav, Rohit Sharma, Tilak Varma, Bevon Jacobs, Robin Minz, Krishnan Shrijith, Naman Dhir, Raj Bawa, Mitchell Santner, Jasprit Bumrah, Arjun Tendulkar, Ashwani Kumar, Reece Topley, Karn Sharma, Trent Boult, Deepak Chahar, Satyanarayana Raju, Mujeeb Ur Rahman, Raghu Sharma, Jonny Bairstow, Richard Gleeson, Charith Asalanka."
        ],
        [
         "31",
         "https://timesofindia.indiatimes.com/india/not-a-single-project-completed-on-time-air-chiefs-blunt-warning-over-delays-in-defence-procurements/articleshow/121486643.cms",
         "2022-01-01",
         "Times of India",
         "'Not a single project completed on time': Air Chief's blunt warning over delays in defence procurements",
         "NEW DELHI: Air Chief Marshal Amar Preet Singh on Thursday issued a strong call for accountability and urgency within Indiaâs defence procurement and manufacturing ecosystem, citing constant delays in project timelines. Speaking at an event in Delhi, Air Chief expressed deep concern over the consistent failure of defence projects to meet delivery deadlines. \"Many times, we know while signing contracts that those systems will never come. Not a single project that I can think of has been completed on time,\" he said, questioning why unrealistic timelines are promised at the time of contract signing. \"Why should we promise something which cannot be achieved?\" he said. Act East, Act Fast: PM Modi's MEGA PUSH For Development in Sikkim, launches multiple infra projects He highlighted the detrimental effects such practices have on capacity-building and the broader strategic posture of the armed forces. \"The process gets vitiated,â Singh noted, urging all stakeholders to reflect seriously on the credibility of their commitments. Poll What is more important for strengthening India's defence sector? Timely delivery of defence projects Focus on indigenous design and development Air Chief called for a stronger partnership between the armed forces and Indian industry, stressing the need to move beyond manufacturing and focus on indigenous design and development in defence. âWe must begin designing and developing defence systems in India, not just producing them,â he said. âOnce we reach the stage of mass production, capacity naturally follows. But the foundation must be trust, between the forces and industry, to make this possible.â Quoting famous Salman Khan dialogue to underline the seriousness of commitment, he added: â Ek baar jo humne commit kiya hain, fir mein apne aap ki bhi nahi sunta .â (Once weâve made a commitment, we donât even listen to ourselves.) Singh also emphasised the enduring centrality of air power in military operations. âWhether itâs land or naval warfare, air power remains indispensable. Any kind of operation, as demonstrated in Operation Sindoor, is incomplete without it,â he said. In a rare moment of candour, the Air Chief also touched upon the culture of restraint within the defence forces, saying the services have often refrained from calling out underperformance explicitly. âEven defence forces have been keeping this restraint of not calling, you know, a black sheep, a black sheep,â he said, warning that such restraint cannot continue indefinitely. The Chiefâs remarks come as India increasingly looks to the private sector to shoulder a greater role in defence production under the âAatmanirbhar Bharatâ initiative. Quoting Winston Churchill, Singh urged the private sector to seize this pivotal moment. âEach day comes in their lifetime a special moment when they are figuratively tapped on the shoulder and offered a chance to do something special,â he said. âWhat a tragedy if that moment finds them unprepared for that which could have been their finest hour.â In a passionate appeal, he challenged Indian industry leaders to rise above short-term profits and contribute meaningfully to the countryâs defence preparedness. âIf today somebody is manufacturing world-class cars, world-class electronics, world-class equipment in the civil domain, why can't that industry or some of the industry join together and say we will make world-class military equipment?â he said. âThis is your tap on the shoulder. Please rise to the occasion,â he said. âWe must now focus on becoming future-readyâthat is the real concern,â Singh said. He noted that while the Indian industry and the Defence Research and Development Organisation (DRDO) may deliver more over the next decade, the immediate needs of today cannot be postponed. Earlier, the Air Chief had said his confidence in defence PSU Hindustan Aeronautics Ltd (HAL) continues to erode over its failure to fix delays in delivery and upgrades to the light combat aircraft Tejas. \"You have to alleviate (our) worries and make us more confident. At the moment, I am just not confident of HAL, which is a very wrong thing to happen,\" Singh had said in February. \"I can tell you (HAL) what our requirements and worries are,\" he was heard saying in a video, purportedly referring to the PSU."
        ],
        [
         "32",
         "https://timesofindia.indiatimes.com/sports/nfl/news/miami-dolphins-reluctant-to-trade-jalen-ramsey-due-to-his-expensive-contract-and-trade-market-challenges/articleshow/121497366.cms",
         "2022-01-01",
         "Times of India",
         "Miami Dolphins reluctant to trade Jalen Ramsey due to his expensive contract and trade market challenges",
         "Jalen Ramsey trade standoff as Dolphins resist contract terms (Image via: Getty Images) The Miami Dolphins and Jalen Ramsey saga is quickly turning into one of the most talked-about stories in the NFL. Once a key player in Miamiâs defense, Ramsey now faces a turning point. His relationship with the team has become strained, and his big contract is making a trade complicated. But is Miami holding back only because of the money, or is there more to this situation that fans and experts havenât figured out yet? The real reason behind Jalen Ramsey trade deadlock Jalen Ramseyâs time in Miami is undeniably strained. Rumors swirl that his locker room relationships have soured, and the Dolphins appear ready to move on. Yet, the real obstacle isnât just about player dynamics, itâs about the massive financial burden Ramseyâs contract places on Miamiâs salary cap. The Dolphins are clear: they want to trade Ramsey but refuse to shoulder much of his guaranteed money, creating a complicated dance with potential suitors. ESPN insider Jeremy Fowler shed light on the hold-up, emphasizing that while interest in Ramsey is high, teams are wary of taking on the full financial weight of his deal. This isnât just a minor negotiation; itâs a power play over millions in guaranteed cash. Miamiâs strategy is to wait until after June 1, a date when the NFLâs salary cap rules allow them to free up significant cap space by moving Ramsey. This waiting game has frustrated many, as it delays the inevitable. A dam Schefterâs reports underline this growing impatience, noting that a trade announcement could come as soon as June but wonât be processed until the post-June 1 window opens. Meanwhile, Dolphins coach Mike McDaniel keeps a tight lip on the matter, focusing publicly on the current roster and refusing to elaborate on Ramseyâs uncertain future. Amid all this, Ramsey himself took to social media, trying to defuse fan backlash and clarify his mindset. His message was a rare glimpse into his perspective, he hasnât lost respect for the cities and fans heâs played for, but heâs clearly ready to turn the page. Also Read: Pittsburgh Steelers risk 2025 season by choosing rookie Will Howard over Aaron Rodgers Whatever happens next, Jalen Ramseyâs Miami chapter is closing amid controversy and financial chess, setting the stage for a high-stakes move that could redefine both the playerâs career and the Dolphinsâ future defense. Fans are watching closely, waiting to see if Miami can finally cut ties without paying too high a price and whether Ramsey can find redemption elsewhere."
        ],
        [
         "33",
         "https://timesofindia.indiatimes.com/sports/cricket/india-tour-of-england/india-a-vs-england-lions-live-streaming-where-to-watch-and-full-schedule/articleshow/121497522.cms",
         "2022-01-01",
         "Times of India",
         "India A vs England Lions: Live Streaming, Where to Watch and Full Schedule",
         "Abhimanyu Easwaran (AFP Photo) NEW DELHI: Ahead of the crucial five-match Test series between India and England, India A will face off against the England Lions in the first of two Unofficial Tests starting May 30, Friday, at the St. Lawrence Ground, Canterbury. Leading India A is captain Abhimanyu Easwaran , who will be backed by a strong squad featuring notable players such as Yashasvi Jaiswal, Karun Nair, Ruturaj Gaikwad and Shardul Thakur. Go Beyond The Boundary with our YouTube channel. SUBSCRIBE NOW! India A Squad: Captain: Abhimanyu Easwaran Vice-Captain & Wicketkeeper: Dhruv Jurel Batters: Yashasvi Jaiswal, Karun Nair, Ruturaj Gaikwad, Sarfaraz Khan All-rounders: Nitish Kumar Reddy, Shardul Thakur, Manav Suthar, Tanush Kotian Wicketkeeper: Ishan Kishan Bowlers: Mukesh Kumar, Akash Deep, Harshit Rana, Anshul Kamboj, Khaleel Ahmed, Tushar Deshpande, Harsh Dubey The England Lions, led by Somersetâs James Rew, bring a balanced mix of emerging talents and experienced campaigners. Notably, all-rounder Chris Woakes returns after recovering from an ankle injury ahead of the five-match series. Why no Shreyas Iyer for England tour? Coach Gautam Gambhir opens up Poll Who do you think will win the first Unofficial Test between India A and England Lions? India A England Lions England Lions Squad: Captain: James Rew Batters: Jordan Cox, Emilio Gay, Tom Haines, Ben McKinney All-rounders: George Hill, Dan Mousley, Rehan Ahmed, Chris Woakes Bowlers: Sonny Baker, Ajeet Singh Dale, Rocky Flintoff, Josh Hull, Eddie Jack, Farhan Ahmed Where to watch India A vs England Lions 2025 live: The matches will be live-streamed on the ECB website and app but wonât be broadcast on any TV channels in India. Match Schedule: May 30, Friday: 1st Unofficial Test â St. Lawrence Ground, Canterbury, 3:30 PM IST June 6, Friday: 2nd Unofficial Test â County Cricket Ground, Northampton, 3:30 PM IST This series offers a valuable platform for both sidesâ fringe and upcoming players to stake their claim ahead of the main India-England Test clash."
        ],
        [
         "34",
         "https://timesofindia.indiatimes.com/india/operation-sindoor-how-indias-homegrown-weapons-outclassed-chinese-arms/articleshow/121485763.cms",
         "2022-01-01",
         "Times of India",
         "Operation Sindoor: How India's homegrown weapons outclassed Chinese arms",
         "India's Operation Sindoor was more than a stunningly successful military campaign; it was a showcase of cutting-edge technology, a clear message to global defence markets, and a strategic model for the future. According to military expert John Spencer , India demonstrated to the world the true meaning of self-reliance in modern warfare, proving that the vision of \"Atmanirbhar Bharat\" stands strong even in the heat of battle. Pakistan: China's proxy In a post on X, Spencer said India engaged the conflict as a sovereign power, utilising precision weaponry that it independently designed, manufactured, and deployed with superior battlefield command. In contrast, Pakistan operated as a proxy force, relying heavily on Chinese military hardware â equipment produced primarily for export rather than for battlefield superiority. Poll In your opinion, which country poses a greater challenge to India's defense strategy? China Pakistan Both are equally challenging. When put to the test, these systems faltered, revealing the fundamental weaknesses in Islamabadâs defense strategy and shortcomings of Chinese-made weapons systems. India wins market battle too The global financial markets also responded swiftly. Indian defense stocks soared, with Paras Defence & Space climbing 49% in May, while MTAR Technologies and Data Patterns also gained significant investor confidence. Conversely, Chinese defense companies such as AVIC, NORINCO, and CETC experienced sharp declines as the realities on the battlefield undermined their market claims. Operation Sindoor transcended a mere military engagement; it served as a powerful demonstration of technological prowess, a clear signal to markets, and a strategic roadmap. India showcased the strength of self-reliance in modern warfare, affirming that the vision of 'Atmanirbhar Bharat' holds true even under the most demanding conditions. How Indian weapons trumped Chinese arms In a long post on X titled ' Indiaâs Operation Sindoor: A Battlefield Verdict on Chinese WeaponsâAnd Indiaâs Victory ', Spencer went into detail on how India-made defence systems easily intercepted and destroyed Chinese weapons, and how India was able to bypass Chinese defence systemts to effectively strike all terror and military targets deep inside Pakistan. Spencer credited initiatives such as 'Make in India' and 'Atmanirbhar Bharat' for India's stellar performance during Operation Sindoor. \"Indiaâs transformation into a modern defense power began in 2014, when PM Modi launched the \"Make in India\" initiative. Within a few years, systems like the BrahMos missile, K9 Vajra howitzer, and AK-203 rifle were being produced inside India â many with technology partnerships but increasing domestic control.\" \"Then came a second wave. In 2020, the combined shock of the Covid-19 pandemic and the Galwan Valley clash with China exposed the fragility of foreign supply chains and the urgency of operational self-reliance. In response, PM Modi unveiled Atmanirbhar Bharat. By 2025, India had increased domestic content in defense procurement from 30% to 65%, with a goal of 90% by the decadeâs end.\" \"Operation Sindoor pitted India's indigenously developed weapons systems against Chinese-supplied platforms fielded by Pakistan. And India didnât just win on the battlefield â it won the technology referendum. What unfolded was not just retaliation, but the strategic debut of a sovereign arsenal built under the twin doctrines of Make in India and Atmanirbhar Bharat,\" said Spencer. India's homegrown, battle-tested weapons BrahMos supersonic cruise missile Jointly developed with Russia but largely manufactured in India, the BrahMos is one of the fastest and most precise cruise missiles in the world. Flying at Mach 2.8â3.0 with a 290â500 km range, it was used to strike high-value targets like radar stations and hardened bunkers. Its speed and low radar cross-section make it nearly impossible to intercept. Akash SAM + Akashteer system The Akash surface-to-air missile, developed by DRDO (Defence Research and Development Organisation) and Bharat Dynamics, is an all-weather, mobile air defense system with a range of 25â30 km. It was integrated with the Akashteer Command & Control System, an AI-enhanced air defense network that provides real-time data fusion, enabling coordinated response to multiple airborne threatsâincluding drones, cruise missiles, and aircraft. Rudram anti-radiation missile India's first indigenously developed anti-radiation missile, Rudram-1 homes in on enemy radar emissions and neutralizes air defense networks. It was deployed to silence Pakistani ground-based radars and degrade situational awareness in key sectors of the Line of Control (LoC). BATTLEFIELD ISR: Netra Airborne Early Warning and Control (AEW&C) Built by DRDO on an Embraer platform, Netra is Indiaâs indigenous airborne early warning and control aircraft. It provided real-time tracking of enemy aircraft and missiles, vectoring Indian jets for deep-strike missions. Its effectiveness was evident when Pakistanâs Swedish Saab 2000 AEW&C was destroyed by a long-range missile. Loitering munitions (SkyStriker, Harop) India deployed Harop and SkyStriker dronesâprecision-guided âkamikazeâ munitions that loiter over the battlefield and dive onto enemy targets. Harop is manufactured under license by Israel Aerospace Industries (IAI) and Bharat Electronics Limited (BEL) aka IAI-BEL; SkyStriker is assembled domestically through an Elbit JV. They were used to destroy mobile radars, convoys, and high-value enemy infrastructure with minimal collateral damage. D4S Counter-Unmanned Aerial Vehicle (UAV) System An indigenous multi-layer drone defense system integrating radar, radio frequency (RF) jammers, Electro-Optical/Infrared (EO/IR) sensors, and kinetic kill options. India's Drone Detect, Deter, and Destroy System (D4S) neutralized dozens of Chinese-made Pakistani drones. The system reflects Indiaâs transition from reactive air defense to proactive electronic warfare dominance. M777 Ultra-Light Howitzer Imported from the US but integrated into Indian mountain warfare doctrine, this howitzer was used with Excalibur precision-guided shells to strike terrorist camps without crossing the LoC. Its airliftability and rapid deployment made it ideal for high-altitude operations. T-72 Main Battle Tanks and Zorawar Light Tanks India deployed upgraded T-72s along the LoC for overwatch roles. The Zorawar, a new light tank optimized for high-altitude terrain, is under development. These systems signal Indiaâs continued investment in mobility and firepower in challenging Himalayan terrain. Airborne platforms: Rafale, Su-30MKI, Mirage 2000 India deployed some of its most advanced fighter jets during Operation Sindoor. The Rafale, a French-made multirole combat aircraft, led deep precision strikes using SCALP long-range cruise missiles to hit fortified enemy positions. It also carried Meteor air-to-air missiles, capable of hitting targets over 100 kilometers awayâgiving India a decisive edge in air combat. The Su-30MKI, a Russian-designed twin-engine heavy fighter built under license in India, and the Mirage 2000, another versatile French jet, provided firepower and flexibility, launching multiple strike packages and ensuring airspace control. These jets flew under the protective umbrella of the Netra Airborne Early Warning and Control (AEW&C) system, which acted like an eye in the skyâtracking enemy aircraft and coordinating the battlespace. Meanwhile, Rudram anti-radiation missiles were used in Suppression of Enemy Air Defenses (SEAD) missions, disabling enemy radar and air defense systems to ensure safe air operations. Pakistanâs China-made arsenal JF-17 Thunder (Block II/III) Produced in Pakistan but designed and built by Chinaâs AVIC, the JF-17 relies on Chinese avionics, radar, engine (RD-93), and weapons. During Sindoor, these aircraft failed to gain air superiority or contest Indian strikes. Their limited payload, outdated radar, and poor survivability were evident under Indian EW and air defense pressure. F-16 Fighting Falcons (US) Though technically superior to JF-17s, Pakistanâs F-16s are restricted by U.S. end-user agreements, barring their use against India. As a result, they were sidelined during Sindoorâleaving Pakistan without a frontline air dominance platform. HQ-9 / HQ-16 SAM Systems Chinese imitations of Russiaâs S-300 and Buk systems, the HQ-9 and HQ-16 were deployed to intercept Indian air and missile attacks. However, they failed under Indiaâs jamming and deception operations. These systems were easily bypassed by BrahMos and loitering drones, revealing critical weaknesses. LY-80 & FM-90 Air Defense Older short- and medium-range SAM systems, also Chinese-made. Both were unable to detect or stop India's low-flying drones and precision munitions. This forced Pakistan to rely on passive air defense rather than any credible kinetic response. CH-4 Drones (China) Used extensively by Pakistan for ISR and light strike roles, CH-4s were repeatedly downed or jammed. They underperformed in terrain and electronic environments dominated by Indiaâs D4S system. Reports emerged that Turkish drone operators had to be brought in to manage UAVsârevealing both equipment and personnel dependency. Saab 2000 AEW&C (Sweden) Pakistanâs key airborne early warning platform. One was destroyedâlikely by an S-400 systemâcrippling Pakistanâs airspace awareness and blinding command and control functions. By the end of the campaign, Pakistan had lost key radar stations, its premier AEW&C aircraft, dozens of drones, and its ability to contest Indian airspace."
        ],
        [
         "35",
         "https://timesofindia.indiatimes.com/city/bhubaneswar/cash-rains-from-bhubaneswar-flat-chief-engineer-throws-bundles-of-rs-500-notes-from-flat-during-raid/articleshow/121505434.cms",
         "2022-01-01",
         "Times of India",
         "'Cash rains from Bhubaneswar flat': Chief engineer throws bundles of Rs 500 notes from flat during raid",
         "Credit: TOI BHUBNESWAR: The Odisha Vigilance Department has recovered around Rs 2.1 crore in cash during simultaneous raids at seven locations linked to Baikuntha Nath Sarangi, chief engineer in the stateâs Rural Development Department. The searches were carried out following allegations that Sarangi possessed assets disproportionate to his known sources of income. In a dramatic sequence of events, officials say Sarangi attempted to dispose of bundles of Rs 500 notes by throwing them out of the window of his flat in Bhubaneswar as vigilance officers arrived. Poll Do you think stricter monitoring can reduce corruption among government officials? Yes No The raids were conducted by teams comprising eight deputy superintendents of Police, 12 inspectors and six assistant sub-inspectors. They acted on search warrants issued by the Special Judge, Vigilance, Angul. âScammedâ By AI Trump? Deepfake Scam That Conned 200 in India's Karnataka EXPOSED | WATCH Properties searched included a double-storied house in Karadagadia (Angul), a flat in Dumduma (Bhubaneswar) and another in Siula (Pipili, Puri), among others. Of the total cash recovered, Rs 1 crore was seized from Sarangiâs Bhubaneswar flat and Rs 1.1 crore was found at his residence in Angul. Officials used currency counting machines to confirm the amounts. The investigation is ongoing, and further details are awaited."
        ],
        [
         "36",
         "https://timesofindia.indiatimes.com/city/bhopal/i-know-impact-of-electrocution-convicted-chemistry-professor-contests-husbands-autopsy-report-in-madhya-pradesh-hc/articleshow/121501690.cms",
         "2022-01-01",
         "Times of India",
         "âI know impact of electrocutionâ: Madhya Pradesh professor convicted of killing husband contests autopsy report in HC",
         "Mamta Pathak, a 60-year-old chemistry professor convicted of her husband's murder, is challenging the autopsy report in court. Arguing her case, she questions the differentiation between electric and thermal burn marks without chemical analysis. BHOPAL/JABALPUR: A 60-year-old professor, sentenced to 20 years in jail for killing her husband, has challenged the autopsy report saying that as a chemistry professor, she knows what impact electrocution has on the body. The court heard her arguments recently and reserved judgment, pending which her sentence has been suspended. The convict, Mamta Pathak of Chhatarpur, is arguing her case before an HC division bench of Justices Vivek Agarwal and Devnarayan Mishra. Videos of her argument are being shared widely on social media. She is seen trying to drive home her contention that it's not possible to differentiate between 'electric and thermal burn marks' in an autopsy, and this can be done only through chemical analysis. Poll Should courts consider new scientific arguments even after a verdict is given? Yes, to ensure justice is served No, verdicts should be final HC tells chem prof it's hearing her arguments with an 'open mind' Justice Agarwal asks her if she is a professor of chemistry; she nods and says, \"Yes.\" The judge then asks her why her counsel did not ask the question of the doctor who had conducted the post-mortem examination during cross-examination in the trial court. She says, \"I was in jail then.\" Justice Agarwal points out her error when she mixes up nitric acid and hydrochloric acid. According to the prosecution, Mamta's husband, Dr Neeraj Pathak (63), was found dead in his house in Chhatarpur on April 29, 2021. Electric burn marks were detected at five places on his body. Mamta, who teaches chemistry in a Chhatarpur college, lived separately from her husband but had returned to him a few months before his death. Although the couple had started living together again, they often fought over her suspicion that Neeraj had had an affair, the prosecution said. On the day of the incident, Neeraj called up a relative and told him that Mamta had been \"torturing\" him for two-three days; that she had not given him food and kept him locked in the bathroom. According to the prosecution, Neeraj said he suffered head injuries when she \"thrust him into the bathroom\". The relative contacted police, and Mamta released him from the bathroom when the cops intervened, says the prosecution. The relative, who is a witness in the case, called Neeraj later in the day to check on him. A recording of their phone conversation was presented in the trial court. The same night, Neeraj died around 9pm. According to Mamta, she went to ask him for food but found that his pulse had stopped and he was dead. The next day, she went to Jhansi for dialysis but it couldn't be done in the absence of a Covid certificate. She returned at 9pm and only then informed police that her husband was dead, police said. Investigators found sleeping pills in her husband's room. The trial court held her guilty on the basis of circumstantial evidence and sentenced her to 20 years' rigorous imprisonment. In her argument, Mamta said her husband had got his house insured and it was safe from any kind of accident due to a short circuit or leak. She claimed that no expert inspected the house following the death of her husband. The prof also questioned why there was no mention of foul smell emanating from her husband's body in the autopsy report or anywhere else as the postmortem examination was conducted 36 hours after his death and the body starts decomposing after 18 hours. The bench told Mamta that they are hearing her \"out of turn\" and with an \"open mind\" but cases are decided on the \"touchstone of evidence\". The verdict has been reserved."
        ],
        [
         "37",
         "https://timesofindia.indiatimes.com/city/indore/6-days-on-no-signs-of-indore-honeymooners-in-shillong/articleshow/121472109.cms",
         "2022-01-01",
         "Times of India",
         "Newly-wed Indore couple on honeymoon goes missing in Shillong; rented scooter, bags found in hills",
         "Raja and Sonam Raghuwanshi, a newly married couple from Indore, went missing during their honeymoon in Meghalaya. Their scooter was found abandoned near Osara Hills. Search teams are combing the area near Shillong. INDORE: What was meant to be a joyful beginning of a new chapter in life has turned into a nightmare for the families of Raja and Sonam Raghuwanshi â a young couple from Indore who disappeared during their honeymoon in Meghalaya. For the past six days, their loved ones have been clinging to hope, while search teams comb the rain-drenched forests and dangerous cliffs near Shillong, praying for a sign of life. In desperation, the family has announced a reward of Rs 5 lakh for any information about their whereabouts. Madhya Pradesh chief minister Mohan Yadav spoke with Meghalaya CM Conrad Sangma on Tuesday, requesting swift action to locate the couple. Raja, a 30-year-old transport businessman, and Sonam, whom he had married just weeks earlier, left Indore for Guwahati on May 20. Missing coupleâs rented vehicle, bag found in âcrime-proneâ hills They were excited to explore the lush hills of the Northeast â a dream trip for both. After two days in Guwahati, they headed to Shillong. The last time the family heard from them was on May 23. âWe were in touch with them until that day. After that, their phones were switched off. We knew something was wrong,â said Govind Raghuwanshi, Sonamâs brother. âThey were newly married, just beginning a future together. We never imagined this.â The worry turned to dread when their rented scooter was found abandoned near Osara Hills in Sohra Rim â a remote area notorious for being unsafe and prone to criminal activity. Two bags belonging to the couple were later discovered in a nearby gorge, partially hidden in the bushes on Tuesday. Despite the rain and treacherous terrain, more than 50 people â including police officers, local villagers, and members of the village defence party â have been tirelessly searching for the couple. Their family has refused to give up. âWe will not stop until we find them,â said Govind, who flew to Shillong along with Rajaâs brother Vipin a day later. Indore MP Shankar Lalwani travelled to Shillong on Wednesday and met the stateâs DGP Idashisha Nongrang. âAll evidence so far points to foul play,â he said. âThis wasnât an accident. The couple had four phones, including two iPhones â all are switched off. They were also wearing jewellery.â Piecing together the last known movements of the couple has been haunting. They reportedly visited the famous Double Decker Living Root Bridge in Nongriat village, a challenging trek that takes hours. Itâs believed they spent the night nearby and were seen the next morning having tea at a small roadside kiosk. After that they went missing. âIt takes at least four to five hours to descend towards Nongrait village and people usually stay there for the night before returning. We found out that they had returned and had also had tea at a kiosk on the way after which they went missing,â said Govind, fearing that they were attacked by robbers. The distances between where their scooter was found, their bags, and their last known tea stop have only deepened the mystery. âThereâs a big gap in the timeline. Something happened between those points. Maybe they were followed. Maybe they were robbed,â Govind said. The search is now concentrated around a gorge near the Root Bridge, about 50km from Shillong."
        ],
        [
         "38",
         "https://timesofindia.indiatimes.com/india/dnpa-code-of-ethics-for-digital-news-websites/articleshow/78840462.cms",
         "2022-01-01",
         "Times of India",
         "DNPA code of ethics for digital news websites",
         "The Digital News Publishers Association has voluntarily drawn up a Code of Ethics for its members as outlined below, which demonstrates their commitment to responsible digital publishing â even as it, in order to protect our 19 (1) (a) and other Constitutionally mandated freedoms, keeps under review and scrutinizes any developments likely to restrict the gathering and dissemination of news and current affairs or any other content. The object of this Code is to outline high standards, ethics and practices in digital news publishing, and does not constitute any attempt to involve itself in the day to day operations of the publishers â who have complete editorial and content independence. The basic precepts of the Code of Ethics are to maintain the standards of digital publishing as well as protect and maintain the independence of journalists, content entities and publishers. 1. Digital news websites follow the laws of the land including the Constitution of India, the over 30 laws relating to the media, relevant provisions of IPC, CrPC as well as the Information Technology Act, 2000 , where applicable. 2. They also diligently adhere to accepted norms of journalistic ethics and practices and maintain the highest standards of professional conduct. There are several layers of these self-regulatory ethics and codes â including as outlined by specific entities as well as rigorous processes in newsrooms at the level of journalists and editors. 3. Accuracy, Transparency & Fairness Members should eschew publication of inaccurate, baseless or distorted material. Pre-publication verification should be mandatory. Defamation should be avoided. Adherence to applicable laws and rules is necessary. 4. Right of reply a. News reports and articles should incorporate comments or version of person or party in respect of whom allegations are carried. If not carried, the person or partyâs response, if received later, to be incorporated. b. If there are developments in the news, and the concerned person or party requests an update, the same must be carried appropriately. Date of update should also appear in the news item published. 5. Take down, delete or edit If news report or article is found to contain false or inaccurate information, then on approach by the concerned person or party, providing correct information, identifying himself or herself, providing required documents or material, the portion of the news report or article should be edited or deleted. If entire news report is found to contain false, inaccurate information, the entire article should be deleted. 6. Respect Intellectual Property Rights a. Copyright in text, photographs, plans, diagrams, cartoons, etc must be respected. If copyrighted material is used, then prior permission should be taken and publication must acknowledge moral and ownership rights. b. If permission requires payment of fee or royalty, the same must be paid. c. Trade Marks and Service Marks of third parties not to be used except with prior permission or if such use constitutes fair use. d. In case infringement of intellectual property â upon receiving any request and after getting the necessary documents, the concerned content should be edited, deleted or take down if necessary. 7. Care to be taken for reporting sensational matters and crime. Presumption of innocence must be preserved. Comments and speculation on evidence, witness and witness conduct, accused and victim and their respective conduct to be avoided. Such reporting should be based on facts and unbiased. 8. Special care to be taken while reporting on sexual harassment in workplace, child abuse, rape, where accused or victims are minors, matrimonial, riots and communal disputes / clashes, divorce and custody cases, adoption matters, etc. a. Care to be taken, to follow Sections 67, 67A and 67B of the Information Technology Act, 2000 where applicable â which provide for penalties for publishing or transmitting obscene material, sexually explicit material and also material depicting children in sexually explicit acts, in electronic form. 9. Grievance Redressal Mechanism Members âwhen intermediaries as defined under the Information Technology Act, 2000â follow the grievance redressal mechanism as outlined therein and are cognizant of the liabilities and safe harbor protections under Section 79 of the IT Act 2000. Hence, as relevant, they follow the Information Technology (Intermediary Guidelines) Rules, 2011 including appointing a grievance officer whose contact details are displayed on the website and who acts within 36 hours of receipt of complaint by affected person and redresses the complaint within one month from its receipt. 10. Training and Awareness Programs Conduct periodic training and awareness programs with editorial staff about existing laws including Constitution of India, the over 30 laws relating to the media like The Indecent Representation of Women (Prohibition) Act, Copyright Act, Right to Information Act, relevant provisions of Indian Penal Code and CrPC, civil and criminal defamation, IPR, Juvenile justice, POCSO, relevant provisions relating to reporting on rape and molestation, harassment in the work place, caste or gender related crime, domestic violence, etc. a. Names of victims and details leading to identification of victims or perpetrator, if juvenile or in the workplace, to be strictly avoided. b. Photographs of victims, their residence, workplace, etc to be avoided. c. Special care and caution must be exercised at all times while reporting matters related to communal or religious disputes/clashes. Such news items shall be published only after a proper verification of facts and should be presented with due caution and restraint, ensuring an environment that is conducive to promoting communal harmony, amity and peace. d. Special care in reporting on Courts and judicial matters. Create awareness among editorial staff about legislative privileges and correct reporting of Court hearings, judicial matters, etc. To ensure that versions of victim and accused are covered, without comments thereon. e. Respect for privacy especially persons not in public life."
        ],
        [
         "39",
         "https://timesofindia.indiatimes.com/etimes/trending/a-massive-tsunami-wave-as-tall-as-1000-feet-might-soon-hit-and-wipe-out-the-entire-us-study/articleshow/121391183.cms",
         "2022-01-02",
         "Times of India",
         "A massive tsunami wave as tall as 1000 feet can soon hit and wipe out the entire US: Study",
         "Imagine a wall of water nearly 1,000 feet tall rushing towards your nationâs coastline with the force of an unstoppable train, no time to run, no time to prepare. This might seem like an opening scene of a Hollywood disaster movie, but in reality, it is a very real disaster being taken seriously by researchers. While the idea of a âmega-tsunamiâ might sound like science fiction, geologists and disaster experts have warned about its potential threat. The world is already coping with rising sea levels and more frequent natural disasters, and this time, unlike gradual climate change, a mega-tsunami would strike suddenly, within minutes of a triggering event. Entire cities could be wiped away, floodplains could expand overnight, and recovery would take years, if not decades. A new study from Virginia Tech has brought this alarming possibility back into the spotlight, revealing what could happen if a massive earthquake hits a specific fault line off the Pacific Northwest. And surprisingly, the threat isnât just theoretical, itâs backed by centuries of seismic history and supported by modern research. What does the theory suggest A recent study published in the Proceedings of the National Academy of Sciences by geoscientists at Virginia Tech has raised awareness over the potential for a devastating mega-tsunami if a powerful earthquake hits the Cascadia Subduction Zone. This fault line, stretching approximately 700 miles from northern California to British Columbia, is one of the most active seismic regions in North America. The researchers warn that there is a 15% chance of a magnitude 8.0 earthquake hitting the region within the next 50 years. If such a quake occurs, parts of the coastline could sink by up to 6.5 feet. Lead author Tina Dura, assistant professor at Virginia Techâs Department of Geosciences, talked about the long-term implications of such an event. âThe expansion of the coastal floodplain following a Cascadia subduction zone earthquake has not been previously quantified, and the impacts to land use could significantly increase the timeline to recovery,â she said in a university press release. According to the study, the worst-hit areas would likely be southern Washington, northern Oregon, and northern California. Cities like Seattle and Portland could face catastrophic damage. Even regions farther afield, like Alaska and Hawaii, are not clear from the potential impact of the massive disaster, due to their own history of tsunamis and volcanic activity. The 1958 Lituya Bay mega-tsunami in Alaska which was triggered by a landslide following a strong quake, remains the tallest ever recorded at 1,719 feet. Hawaii has been a witness of ancient mega-tsunamis caused by collapsing volcanic slopes, including a 1,000-foot wave that struck Lanai around 105,000 years ago. Unlike typical tsunamis, which may produce waves only a few feet high, mega-tsunamis can reach hundreds or even over a thousand feet and travel miles inland. The speed and magnitude of such waves leave little time for warning or evacuation, making early alert systems crucial but still insufficient in some cases. Tsunamis are usually caused by underwater earthquakes, but can also result from volcanic eruptions, landslides, or meteorite impacts. The 2004 Indian Ocean tsunami was one of the deadliest natural disasters in history, killing over 230,000 people in 14 countries. Early warning systems have been developed in many parts of the world to detect tsunamis and help save lives, though constant technological improvements and community preparedness remain equally important factors. While mega-tsunamis are rare, the risk is real and backed by science. With rising concerns over seismic activity in places like the Cascadia Subduction Zone, experts stress the need for better preparedness, early warning systems, and public awarenessâbecause when disaster strikes, every second counts."
        ],
        [
         "40",
         "https://timesofindia.indiatimes.com/life-style/health-fitness/fitness/nasa-says-this-10-min-exercise-is-70-more-effective-than-running-jogging/articleshow/121501298.cms",
         "2022-01-02",
         "Times of India",
         "NASA says this 10-min exercise is 70% more effective than running, jogging",
         "With schedules more packed than ever, squeezing in a workout can feel like a luxury. Sure, we all get the same 24 hours in a dayâbut between commutes, meetings, and endless to-do lists, who really has time for the gym? If pounding the pavement isnât your thing and home exercises still bring back lockdown-era dread, NASA might have just the answer to your cardio woes. Rebounding. NASA research shows that just 10 minutes of reboundingâa form of aerobic exercise performed on a mini-trampolineâcan be up to 68% more effective than 30 minutes of jogging. Thatâs right: shorter, smarter workouts could be your new go-to, both in orbit and right here on Earth. Unlike jogging, rebounding distributes impact across the entire body, which means less strain on your joints. Yet it still builds stamina, endurance, and cardiovascular strength. Itâs a high-return workout thatâs low on time and impact. How to do it? All you need is a mini-trampolineâeasy to tuck away at home. Whether you're doing simple âhealth bounces,â jumping jacks, twists, or even dance-inspired moves, rebounding can be tailored to your fitness level. If youâre old enough to remember the 1980s fitness craze, yesâthis is a nostalgic throwback that actually works. Rebounding is also gentler on the body than other exercises. It absorbs up to 85% of the impact stress compared to running, which means less soreness and quicker recovery. No wonder it's enjoying a resurgence, especially with the rise of trendy kangaroo jumping boots taking over TikTok. Health benefits Rebounding is basically bouncing on a mini-trampoline, and yes, itâs as simple (and fun) as it sounds. But donât be fooled by how easy it looksâitâs actually a killer full-body workout. One of the best things about rebounding is that itâs low-impact, which means itâs gentle on your joints. Unlike running, which can be hard on your knees and ankles, rebounding spreads out the force, making it a great option if youâre recovering from an injury or just want to avoid one. It also boosts your balance, coordination, and core strength, since youâre constantly adjusting your body while bouncing. Plus, it gets your lymphatic system going, which helps flush out toxins and keeps your immune system in check. The best part? You can do it at homeârain or shine, no gym required. Throw on your favorite playlist, bounce for 10â15 minutes, and youâve got a solid cardio session that actually feels fun. So whether you're short on time, hate running, or just want something new, give rebounding a shot. Itâs playful, effective, and way more exciting than another jog around the block. So next time the weatherâs miserable or your schedule is tight, skip the run and dust off that old mini-trampoline in the attic. Just 10 minutes of rebounding might be all you need to stay fit without burning out. Yoga in regular fitness routine enhances cardiovascular health, wellbeing See more: 5 signs of increased uric acid seen in body-- 3 simple steps to fix it One step to a healthier youâjoin Times Health+ Yoga and feel the change"
        ],
        [
         "41",
         "https://timesofindia.indiatimes.com/life-style/travel/news/travel-alert-imd-predicts-heavy-rains-in-chennai-tamil-nadu-orange-alert-for-17-districts/articleshow/121515999.cms",
         "2022-01-02",
         "Times of India",
         "Travel Alert: IMD predicts heavy rains in Chennai, Tamil Nadu; orange alert for 17 districts",
         "Travellers planning a trip to Tamil Nadu must reconsider their plans as the India Meteorological Department (IMD) has issued an orange alert for Chennai along with 16 other districts in the state for heavy rainfall. This could disrupt travel and daily life with waterlogging, traffic delays, and other conditions. Travellers should expect potential delays and road disruptions, especially in low-lying and flood-prone areas. Orange Alert districts The IMD has listed Thiruvallur, Coimbatore, Nilgiris, Tenkasi, Dindigul, Theni, Thoothukudi, Sivagangai, Pudukkottai, Thanjavur, Thiruvarur, Nagapattinam, Ramanathapuram, Tirunelveli, Tiruppur, Kanniyakumari, and Chennai under this high-risk category. Meanwhile, Madurai and Virudhunagar are under a yellow alert, signaling moderate rainfall. While not as severe as orange alert areas, travelers should still stay cautious and keep an eye on local weather updates. The current rainfall activity is driven by a cyclonic circulation over the Southeast Bay of Bengal and the adjoining South Andaman Sea. This weather system is expected to influence the regionâs climate over the next five days. What to expect in Chennai for next five days: Chennai, an important centre for both domestic and international travellers, will experience fluctuating weather patterns through the week. The IMD forecast includes: May 31: Cloudy skies, 28Â°C to 34Â°C June 1: Partly cloudy June 2: Light rain with patchy clouds June 3: Thundershowers expected, 29Â°C to 34Â°C June 4: Partly cloudy skies As of now, the city is experiencing high humidity (71%) and overcast conditions with southwest winds at 19 km/h. Travel Advisory Travellers are advised to avoid unnecessary travel during peak rainfall hours and exercise caution on wet roads. With no closures announced for schools or offices yet, itâs essential to monitor local news and IMD bulletins for real-time updates. Those with travel plans in Tamil Nadu should consider checking with transport operators and planning contingencies. Stay safe, stay informed, and be prepared for potential weather-related disruptions across Tamil Nadu in the days ahead. One step to a healthier youâjoin Times Health+ Yoga and feel the change"
        ],
        [
         "42",
         "https://timesofindia.indiatimes.com/life-style/travel/flying-to-turkey-this-one-annoying-in-flight-habit-might-earn-you-a-hefty-fine/articleshow/121520890.cms",
         "2022-01-02",
         "Times of India",
         "Flying to Turkey? This one annoying in-flight habit might earn you a hefty fine",
         "Flying to Turkey? This one annoying in-flight habit might earn you a hefty fine In the evolving world of air travel, passenger conduct has become as important as ticketing, boarding, and security protocols. While most aviation safety regulations focus on in-flight behavior and emergency preparedness, Turkey is now turning its attention to a different, often-overlooked part of the journeyâthe moments immediately after landing. In an unprecedented move that is stirring debate across travel communities, the Directorate General of Civil Aviation (DGCA) in Turkey has introduced a new directive that allows for the imposition of fines on passengers who stand up prematurely after the aircraft touches down. This long-overdue regulation addresses one of the most universally irritating aspects of flyingâthe chaotic aisle rush. Whether due to impatience or a desire to grab overhead baggage early, many passengers unbuckle their seatbelts and jump to their feet before the aircraft has even come to a complete stop. While previously dismissed as a mere inconvenience or social faux pas, Turkish authorities now view this behavior as a breach of safety and aviation discipline, worthy of financial penalty. According to The Economic Times report, the new regulation, issued by DGCA chief Kemal YÃ¼ksek, introduces fines of up to 2,603 Turkish Lira (approximately $70 or Rs 5,700) for offenders. Turkey to fine passengers for standing too soon after landing Itâs a familiar scenario on virtually every commercial flight: the moment the wheels touch the tarmac, a chorus of seatbelt clicks erupts. Passengers leap to their feet, pushing into the narrow aisle in a frantic attempt to retrieve their luggage and be the first to exit. This behavior is so ingrained in travel culture that many have stopped questioning its safety implications. However, the DGCA has called attention to the real risks involved: Passenger safety : Abrupt movements during taxiing can result in falls or injuries, particularly during sudden stops or sharp turns. Baggage hazards : Prematurely opened overhead bins pose a risk of falling items, potentially causing injury to seated passengers. Emergency interference : In the event of a sudden emergency or pilot communication, standing passengers can obstruct crew members and emergency protocols. Flight delays and disruptions : Disorderly deplaning may delay aircraft turnaround and cause issues for connecting flights. The Turkish aviation authority now argues that standing early is not just rudeâitâs dangerous and disruptive. New Turkish aviation rule: $70 fine for rushing the aisle According to reports, the new policy was introduced in early 2025 through an official communication from Kemal YÃ¼ksek, head of the DGCA. The directive states that any passenger who: Unbuckles their seatbelt while the plane is still taxiing, Opens overhead bins before the aircraft has come to a complete stop at the gate, Pushes ahead of others in line, ignoring disembarkation order, will be subject to penalties under existing civil aviation codes. The fine for violations has been capped at 2,603 Turkish Lira, or approximately $70 (Rs 5,700)âa figure calibrated to be significant enough to act as a deterrent, yet not excessively punitive. Turkeyâs in-flight fine rule: Hereâs how it will be enforced The success of such a regulation hinges on enforcement, which raises logistical questions: Monitoring : Flight crews will be trained to monitor and report violations as they occur. Surveillance footage may also be reviewed in extreme cases. Reporting protocol : Airlines are required to submit incident reports to the DGCA if passengers violate the rule. Issuance of fines : Once reported, the DGCA will issue administrative fines to passengers, potentially via the contact information provided during ticket booking. Appeals process : A provision is being developed for passengers to contest fines if they believe they were wrongly accused. According to The Economic Times report, Turkish carriers such as Turkish Airlines, Pegasus Airlines, and AnadoluJet are expected to begin rolling out onboard announcements and training sessions to inform passengers and crew. Is Turkey leading a new global trend While Turkey is among the first countries to monetize penalties for post-landing misconduct, the issue of unruly passenger behavior has been on the rise globally: FAA (United States): The Federal Aviation Administration recorded over 2,000 incidents of unruly passengers in 2023 alone, prompting fines exceeding $8 million. European Union: EU aviation regulators have discussed uniform penalties for various onboard disruptions, including non-compliance with crew instructions. India and UAE: Authorities in these countries have urged stricter action against in-flight misconduct but have yet to implement fines for post-landing behavior. Given these global developments, Turkeyâs initiative may serve as a template for future policies elsewhere. International aviation bodies such as the International Air Transport Association (IATA) and ICAO may also weigh in if such practices gain traction across nations. Public reaction: Necessary regulation or overreach The Turkish public and global travel community are divided on the directive. Social media platforms have become hotbeds of debate: Supporters argue: âFinally, someone is doing something about the chaos. Itâs dangerous and selfish behavior.â âThis will teach frequent offenders to be more considerate of others.â Critics claim: âFining passengers for standing up is overkill. The airlines should focus on better communication.â âThere are bigger problems in aviationâthis seems like a distraction.â Despite the mixed reception, surveys conducted by Turkish travel blogs indicate that over 58% of passengers support the measure, especially if it leads to safer and more orderly deplaning. Airline responsibility: Educating before penalising Experts believe that for the policy to succeed, airlines must emphasize education over punishmentâat least initially. Suggested approaches include: Updated announcements: Clear in-flight instructions in multiple languages before landing. Onboard videos: Short clips explaining the safety rationale behind waiting until full stop. First-time warnings: Allowing a one-time warning for violators before issuing fines. Such proactive steps could ensure that the rule is seen as a means to enhance safetyânot as a mere revenue tool. Cultural implications: Challenging the norm of impatience This policy also represents a cultural shift. In an age where immediacy is often rewarded, waiting for oneâs turnâeven in an airplane aisleâgoes against the grain of modern impatience. The DGCAâs stance sends a clear message: Civility and discipline matter, even in mundane moments. Turkeyâs approach could influence not only airline policy but also traveler mindset. If successful, it could help re-establish norms of mutual respect, especially in crowded, shared spaces like airplanes. Also read | America tightens social media vetting: Is your online profile putting your visa at risk One step to a healthier youâjoin Times Health+ Yoga and feel the change"
        ],
        [
         "43",
         "https://timesofindia.indiatimes.com/life-style/travel/america-tightens-social-media-vetting-is-your-online-profile-putting-your-student-visa-at-risk/articleshow/121515087.cms",
         "2022-01-02",
         "Times of India",
         "America tightens social media vetting: Is your online profile putting your student visa at risk",
         "America tightens social media vetting: Is your online profile putting your student visa at risk In a significant and controversial shift in US immigration policy, Secretary of State Marco Rubio has ordered the suspension of student visa processing across all US consular posts worldwide. The move, prompted by the Trump administrationâs decision to expand social media screening of applicants, marks a major escalation in the government's efforts to tighten entry protocols for international students. An internal State Department cable confirmed that effective immediately, consular officials must halt the scheduling of new appointments for F (academic), M (vocational), and J (exchange visitor) visa categories. This decision comes in the wake of widespread campus protests across the United States in support of Palestine, which the administration appears to link to growing concerns over national security and online radicalization. By intensifying scrutiny of visa applicantsâ digital footprints, the administration aims to enforce ideological vettingâa move critics argue could suppress free expression and disproportionately impact students from Muslim-majority countries and politically active regions. Here you can go through the policyâs implications, the social media vetting mechanism, and what international students should expect moving forward. US halts new student visa appointments amid expanded social media vetting An internal cable issued by the State Department directed all consular sections to âimmediatelyâ suspend adding appointment capacity for student and exchange visitor visas. It reads: âEffective immediately, in preparation for an expansion of required social media screening and vetting, consular sections should not add any additional student or exchange visitor (F, M, and J) visa appointment capacity until further guidance is issued septel.â The term âseptelâ, short for separate telegram, refers to another classified or internal communication that will provide detailed implementation guidelines. While this cable did not outline the specifics of the new screening parameters, it confirms that broader executive-level policy changes are imminent. Understanding social media vetting: What will be screened Social media vetting is a process through which immigration and consular officials review an applicantâs public digital presence to assess potential risks to US national security, public order, or ideological alignment. The Trump administration first introduced limited social media checks in 2019 under the âextreme vettingâ framework. Now, under this renewed push: Applicants will likely be required to list all social media handles used over the past five years on platforms including Twitter (now X), Facebook, Instagram, TikTok, YouTube, and LinkedIn. Officials will scrutinize public posts, comments, likes, group affiliations, and hashtags for signs of âextremist ideology,â anti-US sentiment, or participation in protest movements. Encrypted or private messaging services like WhatsApp and Signal may not be directly accessible, but metadata and public group activity could be reviewed through indirect means or third-party tools. The expanded vetting system is expected to rely heavily on algorithmic risk profiling and pattern detection, raising concerns among privacy experts and civil rights advocates. US tightens visa rules amid controversy over student protests and social media checks The timing of the visa freeze is critical. It follows weeks of high-profile student-led protests on American college campuses condemning US support for Israel and expressing solidarity with Palestinian civilians affected by the Gaza conflict. Some lawmakers and conservative commentators have labeled these protests as antisemitic or âpro-terrorist,â fueling a political push to screen international students for ideological alignment with US values. Sources inside the administration suggest the expanded screening aims to identify: Foreign students with links to political movements deemed hostile to US interests Online behavior suggesting support for extremism or anti-Semitic ideologies Content criticizing US foreign policy that may be interpreted as subversive However, critics argue that equating online political expression with extremism risks violating First Amendment values and may alienate talented students who would otherwise contribute significantly to US academic and research communities. Who is affected by the pause in visa appointments The suspension affects: All new applicants for F (academic), M (vocational), and J (exchange visitor) visas Applicants awaiting interview appointments at US embassies and consulates globally Academic programs with upcoming summer or fall 2025 enrollment periods Consular staff have been instructed not to release additional appointment slots until detailed guidance arrives from the State Department. While students who already have appointments scheduled may still attend them (subject to discretion), there is growing uncertainty over whether those applications will be processed without delays or denials under the new system. What this means for universities and international programs American universitiesâmany of which rely heavily on international students for both diversity and revenueâare facing renewed pressure to provide clarity and support to affected applicants. The Association of American Universities (AAU) and the American Council on Education (ACE) have both called for immediate transparency from the State Department. This suspension may have significant consequences: Enrollment declines in STEM and research fields, which typically draw a high volume of international students. Delays in issuing I-20 and DS-2019 forms required for visa applications. Financial challenges for universities dependent on full-tuition international students. Earlier in 2025, the Trump administration had already demanded sensitive academic data from institutions like Harvard and MIT regarding international student activity, as part of a broader surveillance initiative. Concerns over privacy, profiling, and political targeting Civil rights organizations such as the ACLU and the Center for Democracy & Technology (CDT) have condemned the move, warning that social media vetting: Violates privacy rights Encourages racial and religious profiling Deters political speech and engagement They argue that such policies disproportionately impact students from the Middle East, South Asia, and North Africa, many of whom use social media as a primary channel for activism and community engagement. Experts also point out the ambiguity in what constitutes a âred flagâ in online behaviorâraising fears of misinterpretation or algorithmic bias. What comes next? Awaiting the âseptelâ instructions As of now, consulates are in a holding pattern, awaiting further instructions. The promised âseptelâ telegram is expected to: Define the new criteria for social media risk scoring Provide guidance on acceptable and disqualifying content Explain how long the visa freeze will remain in place Until that information is released, both students and universities are in limbo, unsure of how to proceed with summer and fall 2025 planning. The State Department has not issued a public comment on the cable or its immediate implications. One step to a healthier youâjoin Times Health+ Yoga and feel the change"
        ],
        [
         "44",
         "https://timesofindia.indiatimes.com/entertainment/tamil/movies/news/wont-apologise-unless-im-wrong-says-kamal-haasan-amid-thug-life-ban-in-karnataka/articleshow/121512481.cms",
         "2022-01-02",
         "Times of India",
         "'Wonât apologise unless Iâm wrongâ,' says Kamal Haasan amid 'Thug Life' ban in Karnataka",
         "Amid growing backlash over his recent remark that âTamil gave birth to Kannadaâ during the 'Thug Life' audio launch in Chennai, Kamal Haasan has finally responded. The veteran actor-politician stated firmly that he will only apologise if he genuinely believes he is wrong. Speaking to the Press and Media outside the DMK party headquarters in Chennai, Kamal Haasan said, âIf Iâm wrong, Iâll apologise. If Iâm not, I wonât. This is my lifestyle, please donât tamper with it.â He also emphasised his faith in democratic values and the Indian legal system, adding, âIndia is a democratic country, and I believe in law and justice.â Kannada organisations condemn Kamal Haasanâs remark on language origins His statement comes in the wake of intense protests in Karnataka , where various Kannada organisations, including Karnataka Rakshana Vedike, have taken strong offence to his comment. The controversy escalated when protestors gathered in cities like Belagavi, demanding an apology from Haasan, arguing that his comment undermined the linguistic and cultural pride of Kannada speakers. Karnataka Film Chamber of Commerce imposes ban on âThug Lifeâ The matter reached a tipping point when the Karnataka Film Chamber of Commerce (KFCC) officially announced a ban on the release of 'Thug Life' across the state. In a press meet held in Bengaluru, KFCC representative Sa Ra Govindu said the decision was made in solidarity with Kannada organisations. âThere has been no apology from Kamal Haasan. We stand with the people of Karnataka and wonât allow the release of 'Thug Life' unless he addresses this issue respectfully,â he declared. The future of Mani Ratnam âs 'Thug Life' in Karnataka remains uncertain 'Thug Life,' directed by Mani Ratnam and starring Kamal Haasan, Trisha, and Silambarasan, was highly anticipated across South India. However, with tensions mounting in Karnataka and calls for cultural accountability growing louder, the filmâs regional release now hangs in uncertainty. Check out our list of the latest Hindi , English , Tamil , Telugu , Malayalam , and Kannada movies . Donât miss our picks for the best Hindi movies , best Tamil movies, and best Telugu films ."
        ],
        [
         "45",
         "https://timesofindia.indiatimes.com/sports/cricket/ipl/top-stories/watch-ashish-nehras-son-shubman-gills-sister-reduced-to-tears-after-gujarat-titans-lose-eliminator-to-mumbai-indians/articleshow/121528677.cms",
         "2022-01-02",
         "Times of India",
         "Watch: Ashish Nehra's son, Shubman Gill's sister reduced to tears after Gujarat Titans lose Eliminator to Mumbai Indians",
         "Gujarat Titans fans were left disappointed after the team was beaten by Mumbai Indians in the IPL 2025 Eliminator match. (Screenshots) Gujarat Titans crashed out of IPL 2025 after losing to Mumbai Indians by 20 runs in the Eliminator match at Maharaja Yadavindra Singh International Cricket Stadium in Mullanpur. The defeat triggered emotional responses from players' families in the stands, including head coach Ashish Nehra's son and captain Shubman Gill 's sister Shahneel, who were seen crying after the match. The loss marked Gujarat Titans' third consecutive defeat, following setbacks against Lucknow Super Giants and Chennai Super Kings in their final league-stage matches. Despite leading the table for most of the league stage, these losses pushed them into the Eliminator against Mumbai Indians. Go Beyond The Boundary with our YouTube channel. SUBSCRIBE NOW! Mumbai Indians, led by Hardik Pandya, won the toss and chose to bat. The decision proved successful as they posted a formidable total of 228/5 in their 20 overs. Poll Did the Gujarat Titans' late-season decline surprise you? Yes, they were performing well initially. No, it was expected after their recent losses. Rohit Sharma and Jonny Bairstow provided Mumbai Indians with a strong start, forming an opening partnership of 84 runs. Bairstow, who joined as a replacement player for Ryan Rickelton, contributed 47 runs before being dismissed by Sai Kishore. Gujarat Titans' fielding lapses proved costly as they dropped two crucial catches of Rohit Sharma, with both Gerald Coetzee and Kusal Mendis failing to hold onto relatively straightforward opportunities. Rohit Sharma capitalised on these reprieves, scoring 81 runs off 50 deliveries, including 9 fours and 4 sixes, helping Mumbai Indians set a challenging target. In response, Gujarat Titans' chase suffered an early setback when captain Shubman Gill was dismissed in the first over. Sai Sudharsan (80) and Washington Sundar (48) mounted a resistance, but their efforts fell short against the disciplined bowling of Jasprit Bumrah and Trent Boult in the crucial final overs. The defeat's emotional impact was evident in the stands as Ashish Nehra's son was seen crying inconsolably after the final ball. Others attempted to console him as the reality of elimination set in. Similar scenes unfolded elsewhere in the stadium as Shubman Gill's sister Shahneel was also overcome with emotion and required consolation from fellow spectators. The victory advanced Mumbai Indians to Qualifier 2, where they will face Punjab Kings at the Narendra Modi Stadium in Ahmedabad on Sunday, June 1. Sai Sudharsanâs T20 Evolution: Where skill meets science | TOI Sports Exclusive The result marked a disappointing end for Gujarat Titans, who had shown promising form throughout the league stage of IPL 2025 before their late-season decline resulted in elimination."
        ],
        [
         "46",
         "https://timesofindia.indiatimes.com/sports/cricket/ipl/top-stories/jasprit-bumrah-is-like-mumbai-housing-prices-hardik-pandya/articleshow/121524600.cms",
         "2022-01-02",
         "Times of India",
         "'Jasprit Bumrah is like Mumbai housing prices': Hardik Pandya",
         "Jasprit Bumrah It was a night that saw Mumbai Indians flex their championship mettle once again. In a record-breaking IPL Eliminator in Mullanpur â where both teams combined for a staggering 436 runs, the highest ever in playoff history â MI held their nerve to beat Gujarat Titans by 20 runs and march into Qualifier 2. While the scoreboard lit up with sixes and boundaries, it was Mumbaiâs ability to win the clutch moments that stood out. Skipper Hardik Pandya , facing his former franchise in a high-pressure knockout, was full of praise for his teamâs temperament and timing. âAt one point of time the game was even-stevens,â Pandya said after the win. âI thought the wicket got better in the second innings. It started to come on well, they got into rhythm and we realised we need to hold our nerves and back our boys.â Poll What aspect of Mumbai Indians' game impressed you the most in their recent victory? Batting Performance Bowling Performance He singled out Jonny Bairstowâs explosive debut knock and Rohit Sharma âs composed 81 as pivotal. âThe way Jonny batted and started... for him to make his debut for us, it's a special franchise, coming in and playing the way he played. The way Ro batted â he took his time and once he got into rhythm, it was beautiful.â Pandya also praised his bowling unit, particularly Richard Gleesonâs final over under injury duress and Jasprit Bumrah âs clinical spell. âThe way Gleeson bowled. Jassi being Jassi. Ashwani... everyone chipped in well and we held our nerves. I would've liked couple more (big hits). The little margins help. We wanted to push in batting and I think we were able to do that.â Asked when he decides to bowl Bumrah, Pandya smiled: âIt's very simple. Whenever you think the game is going away, just bring him. When you have that it's a luxury. It's like Mumbai housing prices â he's that expensive.â The final overs were tense, but Pandya had it planned. âI was just watching the scoreboard and I thought if we can keep extra runs at the end, I had the bowlers to bowl it. It was important that Jassi comes and bowls that over so that the margin becomes longer (the 18th over). Very important to recover well. Looking forward to the next game.â With this victory, Mumbai Indians set up a Qualifier 2 clash against Punjab Kings in Ahmedabad on June 1. The winner will face Royal Challengers Bengaluru in the IPL 2025 Final."
        ],
        [
         "47",
         "https://timesofindia.indiatimes.com/sports/cricket/ipl/top-stories/1st-unofficial-test-karun-nair-nears-a-double-century-sarfaraz-khan-silences-critics-as-india-a-post-409/3-vs-england-lions/articleshow/121523259.cms",
         "2022-01-02",
         "Times of India",
         "1st Unofficial Test: Karun Nair nears a double century, Sarfaraz Khan silences critics as India A post 409/3 vs England Lions",
         "Karun Nair NEW DELHI: Karun Nair oozed elegance with a sublime unbeaten 186, issuing a timely reminder to the Gautam Gambhir-led team management as India A piled on 409/3 against a lacklustre England Lions side on the opening day of the first 'Unofficial' Test in Canterbury on Friday. Although traditionally slotted at No. 4 or lower in first-class cricket, Nair looked at complete ease throughout his masterclass innings, rendering the Lions attack â including their Test spinner Rehan Ahmed â largely ineffective. Go Beyond The Boundary with our YouTube channel. SUBSCRIBE NOW! India A batters capitalised on an underwhelming bowling effort on a docile pitch, but the lack of resistance from the Lions and the nature of the surface may not offer an accurate gauge of Test-level conditions. Poll Should Karun Nair be considered for Indiaâs Test squad after this knock? Yes, he deserves a chance No, one innings isnât enough Now representing Vidarbha, the Bengaluru-born Nair put his county experience with Northamptonshire to good use, notching up his 24th first-class century. His classy knock, laced with 24 boundaries and a six, couldnât have come at a better time as the Indian think-tank weighs up its options for the opening Test against England at Leeds on June 20. Sarfaraz Khan, who smashed a vibrant 92 off 119 balls , mixed audacity with finesse but fell short of a well-deserved hundred after doing all the hard work. Together, Sarfaraz and Nair stitched a 181-run stand for the third wicket. Later, Dhruv Jurel joined the party with an unbeaten 82 off 104 balls, forming a 177-run unbroken partnership with Nair to end the day on a commanding note for India A. 'I don't want to be a one-season wonder': Punjab Kings' Shashank Singh Ironically, much like in the selection race for the Test squad where Nair edged out Sarfaraz, he once again outshone the Mumbai batter on a pitch offering little for the bowlers. The Lions attack, toothless for the most part, leaked 51 boundaries and three sixes across 90 overs â an alarming stat. Earlier, Yashasvi Jaiswal (24 off 55) saw off the first hour but failed to convert the start, while Abhimanyu Easwaran (8) once again raised questions about his suitability for the top level despite being handed another opportunity. Despite the greenish tinge on the Canterbury County ground surface, there was barely any lateral movement. Nair, with ample time to play his shots, was ruthless on anything short and majestic with square-of-the-wicket play. His pull shots were particularly commanding, while against off-spinner Dan Mousley, he reverse-swept with nonchalant ease. Why no Shreyas Iyer for England tour? Coach Gautam Gambhir opens up Rehan Ahmed had a forgettable outing, conceding 95 runs in 16 overs. Sarfaraz took him on confidently â reaching his fifty with an inside-out boundary and later lofting him straight for a six. Against pace, he was equally inventive, using the bounce to ramp deliveries over the slips. Sarfaraz eventually fell chasing a wide one down leg-side off Hull, a wicket even the Lions bowlers didnât seem to expect. But the joy was fleeting for the home side as Nair and Jurel pressed on relentlessly, showing no signs of easing up."
        ],
        [
         "48",
         "https://timesofindia.indiatimes.com/sports/cricket/india-tour-of-england/sai-sudharsan-banks-on-county-experience-to-excel-in-england/articleshow/121529075.cms",
         "2022-01-02",
         "Times of India",
         "Sai Sudharsan banks on County experience to excel in England",
         "Gujarat Titans batter Sai Sudharsan will shift focus to red ball cricket after the team's exit from IPL 2025. (AP) TimesofIndia.com in Mullanpur: Gujarat Titans (GT) opener Sai Sudharsan was gutted after Gujarat Titans' (GT) 20-run loss in the Eliminator against Mumbai Indians (MI) at the New PCA Stadium on Friday. The southpaw, who finished the tournament with 759 runs, did not confirm whether he would be joining the India A squad for the second unofficial Test in Northampton, starting from June 6, which the BCCI had mentioned in a statement. Go Beyond The Boundary with our YouTube channel. SUBSCRIBE NOW! \"In our minds, we were planning only to leave on the 4th (June) from IPL, so we were not thinking about when to leave from India for the Test team. If that was the plan for the Test team, we would have left on the 6th, but now we will have to have a conversation and see how it goes,\" he told reporters in the post-match press conference. Poll Will Sai Sudharsan succeed in red-ball cricket in England? Yes, his basics and mindset will help No, the switch from white-ball will be tough Sai Sudharsan: 'County stints reminded me that basics are most important part of batting' The 23-year-old is banking on the English County experience he gained with Surrey last season to do well in the upcoming five-match Test series. \"I think I played seven games, so it gave me great experience, to be honest. It improved my batting multiple-fold in terms of technique and basics. The most important lesson I have learned is that basics are the most important thing in batting, so I think it should help me,\" he said. \"I will focus more on what I learned, and I will try to be aware and create that awareness before going into the series,\" he added. Meanwhile, Mumbai Indians head coach Mahela Jayawardene has warned Sai Sudharsan about the challenges he would face in England. \"I have enjoyed his batting. I have to be honest, he is a good lefty, plays good cricketing shots, and has a good head on his shoulders as well. So, I am sure he will do well. \"It will be a challenge in England, like we have all done in the past, but I think he will find a way to do what he needs to do in England, and I am pretty sure that he is a very talented cricketer,\" said Jayawardene. Sai Sudharsan has admitted that switching from white-ball to red-ball cricket will be his biggest challenge in England. \"I think it is all about mindset and decision-making. So, definitely, after a long three months of white-ball tournaments, certain things would have changed in your batting,\" said Sai Sudharsan. \"I think focusing more on basics and bringing those back to red-ball cricket will take some time. I think we will have some good time before the series starts.\""
        ],
        [
         "49",
         "https://timesofindia.indiatimes.com/sports/cricket/ipl/top-stories/ipl-2025-playoffs-rohit-sharma-punishes-gts-butter-fingers-in-eliminator/articleshow/121523643.cms",
         "2022-01-02",
         "Times of India",
         "IPL 2025 Playoffs: Rohit Sharma punishes GT's butter-fingers in Eliminator",
         "Image credit: BCCI/IPL TimesofIndia.com in Mullanpur: A day after a one-sided affair in Qualifier 1, the Eliminator between Gujarat Titans (GT) and Mumbai Indians (MI) proved to be exactly what the doctor ordered at the New PCA Stadium in Mullanpur. It went down to the wire as MI defeated GT by 20 runs. MI will now take on Punjab Kings in Qualifier 2 on Sunday at the Narendra Modi Stadium in Gujarat. Rohit rides his luck Rohit Sharma (81 off 50 balls; 9x4, 4x6) made the most of two reprieves offered by GT fielders as the five-time champions delivered a strong statement in the must-win match. After winning the toss, MI posted a formidable 228 for 5. Go Beyond The Boundary with our YouTube channel. SUBSCRIBE NOW! Rohit was dropped twiceâfirst by Gerald Coetzee and then by Kusal Mendisâand he made GT pay for those missed chances. In the second over, Prasidh Krishna banged one in short, and Rohit miscued a pull high into the air. Coetzee had enough time, kept his eyes on the ball, but shelled the skier. Rohit was on 4 at the time, looking to break free with a swivel pull. Poll Do you think MI's win against GT was a result of their batting strength? Yes, they dominated with the bat No, it was GT's poor fielding In the next over, Rohit dispatched two delightful boundaries off Mohammed Siraj. Siraj couldâve had the last laugh, but Mendis fumbled a thick edge behind the stumpsâfailing to grab it in two attempts. The fourth over completely turned the tide in MIâs favour, as Jonny Bairstow hammered 26 runs off Prasidh Krishnaâs second overâfeaturing three sixes, including a monster hit into the second tier at Mullanpur. Making his first appearance of the season, Bairstow came out firing on all cylinders. He and Rohit forged a rollicking 84-run opening partnership, with 79 of those runs coming in the powerplay. Bairstow blazed his way to a 22-ball 47 before falling to Sai Kishore. The powerplay onslaught set the tone, and the rest of the MI batting unit kept the momentum going. Suryakumar Yadav (33 off 20 balls; 1x4, 3x6) and Tilak Varma (25 off 11; 3x6) chipped in with impactful cameos. Captain Hardik Pandya (22* off 9; 3x6) provided the finishing touches, smashing Coetzee for 22 runs in the final over. Prasidh Krishna (2/53) and Sai Kishore (2/42) took two wickets each, but most of GTâs bowlers proved expensive. However, Team India management and Test captain Shubman Gill may be concerned after Mohammed Siraj, who dismissed Tilak Varma in the 18th over, appeared to pull his hamstring later in the same over. Sai sizzles again Sai Sudharsan continues to redefine orthodoxy in T20 cricket. His classical technique offers a refreshing counter to the notion that T20 cricket is eroding traditional skills. In this IPL season, Sudharsan has shown that the two formatsâTest and T20âcan indeed coexist. While broadcasters may try to strip away the âcricketâ from T20, players like Sudharsan keep putting it right back in. On Friday, the 23-year-old produced yet another masterclass. He scored a classy 80 off 49 balls, laced with 10 boundaries and a six. Despite his aggressive approach, Sudharsan rarely loses shape, showcasing a full range of proper cricketing shots. GTâs chase began on a poor note, with Trent Boult removing skipper Shubman Gill for just 1. But Sudharsan continued in red-hot form, hitting a six off Boult and finding support in Kusal Mendis, who launched two sixes in the same over. The duo kept the momentum going, especially as Sudharsan struck two boundaries off Richard Gleesonâs first over. 'I don't want to be a one-season wonder': Punjab Kings' Shashank Singh Hardik Pandya brought himself on but was welcomed with two boundaries from Sudharsan and one from Mendis, who narrowly escaped a run-out at the end of the powerplay. However, Mendis was soon out in bizarre fashionâhit wicket after stepping on the stumps and falling flat on his back. Sudharsan found another able partner in Washington Sundar (48 off 24), and together they stitched an 84-run stand off just 46 balls. At that point, GT looked well on course to make Qualifier 2. But Jasprit Bumrah, the ultimate T20 cheat code, yorked Sundar to break the stand. Shortly after, Gleeson dismissed Sudharsan, effectively ending GTâs hopes. Lower-order efforts from Sherfane Rutherford (24), Rahul Tewatia (16), and Shahrukh Khan (16) werenât enough, as MI held their nerves and marched on to the next round."
        ]
       ],
       "shape": {
        "columns": 5,
        "rows": 78
       }
      },
      "text/html": [
       "<div>\n",
       "<style scoped>\n",
       "    .dataframe tbody tr th:only-of-type {\n",
       "        vertical-align: middle;\n",
       "    }\n",
       "\n",
       "    .dataframe tbody tr th {\n",
       "        vertical-align: top;\n",
       "    }\n",
       "\n",
       "    .dataframe thead th {\n",
       "        text-align: right;\n",
       "    }\n",
       "</style>\n",
       "<table border=\"1\" class=\"dataframe\">\n",
       "  <thead>\n",
       "    <tr style=\"text-align: right;\">\n",
       "      <th></th>\n",
       "      <th>link</th>\n",
       "      <th>date</th>\n",
       "      <th>publisher</th>\n",
       "      <th>title</th>\n",
       "      <th>content</th>\n",
       "    </tr>\n",
       "  </thead>\n",
       "  <tbody>\n",
       "    <tr>\n",
       "      <th>0</th>\n",
       "      <td>https://timesofindia.indiatimes.com/first-look...</td>\n",
       "      <td>2022-01-01</td>\n",
       "      <td>Times of India</td>\n",
       "      <td>Detective Byomkesh Bakshy!</td>\n",
       "      <td>Credits Director: Dibakar Banerjee Cast: Susha...</td>\n",
       "    </tr>\n",
       "    <tr>\n",
       "      <th>1</th>\n",
       "      <td>https://timesofindia.indiatimes.com/first-look...</td>\n",
       "      <td>2022-01-01</td>\n",
       "      <td>Times of India</td>\n",
       "      <td>Roy</td>\n",
       "      <td>Credits Director: Vikramjit Singh Cast: Ranbir...</td>\n",
       "    </tr>\n",
       "    <tr>\n",
       "      <th>2</th>\n",
       "      <td>https://timesofindia.indiatimes.com/entertainm...</td>\n",
       "      <td>2022-01-01</td>\n",
       "      <td>Times of India</td>\n",
       "      <td>Edge of Tomorrow</td>\n",
       "      <td>Credits Director: Doug Liman Cast: Tom Cruise ...</td>\n",
       "    </tr>\n",
       "    <tr>\n",
       "      <th>3</th>\n",
       "      <td>https://timesofindia.indiatimes.com/sports/cri...</td>\n",
       "      <td>2022-01-01</td>\n",
       "      <td>Times of India</td>\n",
       "      <td>Bloody! Face covered with towel, Rachin Ravind...</td>\n",
       "      <td>Rachin Ravindra (Screengrab) NEW DELHI: During...</td>\n",
       "    </tr>\n",
       "    <tr>\n",
       "      <th>4</th>\n",
       "      <td>https://timesofindia.indiatimes.com/sports/cri...</td>\n",
       "      <td>2022-01-01</td>\n",
       "      <td>Times of India</td>\n",
       "      <td>'Poor lights of Gaddafi Stadium': Pakistan Cri...</td>\n",
       "      <td>Rachin Ravindra (Screengrabs) NEW DELHI: Durin...</td>\n",
       "    </tr>\n",
       "    <tr>\n",
       "      <th>...</th>\n",
       "      <td>...</td>\n",
       "      <td>...</td>\n",
       "      <td>...</td>\n",
       "      <td>...</td>\n",
       "      <td>...</td>\n",
       "    </tr>\n",
       "    <tr>\n",
       "      <th>73</th>\n",
       "      <td>https://timesofindia.indiatimes.com/sports/nba...</td>\n",
       "      <td>2022-01-03</td>\n",
       "      <td>Times of India</td>\n",
       "      <td>New York Knicks vs Indiana Pacers (05/31): Box...</td>\n",
       "      <td>Tyrese Haliburton's celebration after Indiana ...</td>\n",
       "    </tr>\n",
       "    <tr>\n",
       "      <th>74</th>\n",
       "      <td>https://timesofindia.indiatimes.com/sports/nba...</td>\n",
       "      <td>2022-01-03</td>\n",
       "      <td>Times of India</td>\n",
       "      <td>âJust unbelievableâ â Pascal Siakam give...</td>\n",
       "      <td>Pascal Siakam. Image via: AJ Mast/ AP Pascal S...</td>\n",
       "    </tr>\n",
       "    <tr>\n",
       "      <th>75</th>\n",
       "      <td>https://timesofindia.indiatimes.com/sports/nfl...</td>\n",
       "      <td>2022-01-03</td>\n",
       "      <td>Times of India</td>\n",
       "      <td>Stefon Diggs sends two-word flirtatious messag...</td>\n",
       "      <td>Stefon Diggs two word flirtatious message to C...</td>\n",
       "    </tr>\n",
       "    <tr>\n",
       "      <th>76</th>\n",
       "      <td>https://timesofindia.indiatimes.com/sports/nfl...</td>\n",
       "      <td>2022-01-03</td>\n",
       "      <td>Times of India</td>\n",
       "      <td>From dating rumors to âI doâ: Inside Haile...</td>\n",
       "      <td>Hailee Steinfeld and Josh Allen are finally ma...</td>\n",
       "    </tr>\n",
       "    <tr>\n",
       "      <th>77</th>\n",
       "      <td>https://timesofindia.indiatimes.com/sports/nfl...</td>\n",
       "      <td>2022-01-03</td>\n",
       "      <td>Times of India</td>\n",
       "      <td>Aaron Rodgers leaves Steelers hanging as poten...</td>\n",
       "      <td>Pittsburgh Steelers remain in the dark as Aaro...</td>\n",
       "    </tr>\n",
       "  </tbody>\n",
       "</table>\n",
       "<p>78 rows × 5 columns</p>\n",
       "</div>"
      ],
      "text/plain": [
       "                                                 link        date  \\\n",
       "0   https://timesofindia.indiatimes.com/first-look...  2022-01-01   \n",
       "1   https://timesofindia.indiatimes.com/first-look...  2022-01-01   \n",
       "2   https://timesofindia.indiatimes.com/entertainm...  2022-01-01   \n",
       "3   https://timesofindia.indiatimes.com/sports/cri...  2022-01-01   \n",
       "4   https://timesofindia.indiatimes.com/sports/cri...  2022-01-01   \n",
       "..                                                ...         ...   \n",
       "73  https://timesofindia.indiatimes.com/sports/nba...  2022-01-03   \n",
       "74  https://timesofindia.indiatimes.com/sports/nba...  2022-01-03   \n",
       "75  https://timesofindia.indiatimes.com/sports/nfl...  2022-01-03   \n",
       "76  https://timesofindia.indiatimes.com/sports/nfl...  2022-01-03   \n",
       "77  https://timesofindia.indiatimes.com/sports/nfl...  2022-01-03   \n",
       "\n",
       "         publisher                                              title  \\\n",
       "0   Times of India                         Detective Byomkesh Bakshy!   \n",
       "1   Times of India                                                Roy   \n",
       "2   Times of India                                   Edge of Tomorrow   \n",
       "3   Times of India  Bloody! Face covered with towel, Rachin Ravind...   \n",
       "4   Times of India  'Poor lights of Gaddafi Stadium': Pakistan Cri...   \n",
       "..             ...                                                ...   \n",
       "73  Times of India  New York Knicks vs Indiana Pacers (05/31): Box...   \n",
       "74  Times of India  âJust unbelievableâ â Pascal Siakam give...   \n",
       "75  Times of India  Stefon Diggs sends two-word flirtatious messag...   \n",
       "76  Times of India  From dating rumors to âI doâ: Inside Haile...   \n",
       "77  Times of India  Aaron Rodgers leaves Steelers hanging as poten...   \n",
       "\n",
       "                                              content  \n",
       "0   Credits Director: Dibakar Banerjee Cast: Susha...  \n",
       "1   Credits Director: Vikramjit Singh Cast: Ranbir...  \n",
       "2   Credits Director: Doug Liman Cast: Tom Cruise ...  \n",
       "3   Rachin Ravindra (Screengrab) NEW DELHI: During...  \n",
       "4   Rachin Ravindra (Screengrabs) NEW DELHI: Durin...  \n",
       "..                                                ...  \n",
       "73  Tyrese Haliburton's celebration after Indiana ...  \n",
       "74  Pascal Siakam. Image via: AJ Mast/ AP Pascal S...  \n",
       "75  Stefon Diggs two word flirtatious message to C...  \n",
       "76  Hailee Steinfeld and Josh Allen are finally ma...  \n",
       "77  Pittsburgh Steelers remain in the dark as Aaro...  \n",
       "\n",
       "[78 rows x 5 columns]"
      ]
     },
     "execution_count": 64,
     "metadata": {},
     "output_type": "execute_result"
    }
   ],
   "source": [
    "df[\"title\"], df[\"content\"] = zip(*news)\n",
    "df"
   ]
  },
  {
   "cell_type": "code",
   "execution_count": 67,
   "id": "9ce493a9",
   "metadata": {},
   "outputs": [
    {
     "data": {
      "application/vnd.microsoft.datawrangler.viewer.v0+json": {
       "columns": [
        {
         "name": "index",
         "rawType": "int64",
         "type": "integer"
        },
        {
         "name": "link",
         "rawType": "object",
         "type": "string"
        },
        {
         "name": "date",
         "rawType": "object",
         "type": "string"
        },
        {
         "name": "publisher",
         "rawType": "object",
         "type": "string"
        },
        {
         "name": "title",
         "rawType": "object",
         "type": "string"
        },
        {
         "name": "content",
         "rawType": "object",
         "type": "string"
        }
       ],
       "ref": "67424f73-07f1-46a7-8d0c-14c81d122e67",
       "rows": [
        [
         "0",
         "https://timesofindia.indiatimes.com/first-look/detective-byomkesh-bakshy/articleshow/20874151.cms",
         "2022-01-01",
         "Times of India",
         "Detective Byomkesh Bakshy!",
         "Credits Director: Dibakar Banerjee Cast: Sushant Singh Rajput Banner: Yash Raj Films , Dibakar Banerjee Productions Release Date: December 12, 2014 Synopsis The co-production venture of YRF & Dibakar Banerjee Productions (DBP) announces its first directorial outing with Dibakar Detective Byomkesh Bakshy! \"We are rebooting Byomkesh. Right back to his first ever case. We could have called this Byomkesh Begins. Everything else from now on will follow us!\" says Dibakar, tongue in cheek. In a contemporary interpretation of war torn Calcutta during the 1940s, the film follows the first adventure of Byomkesh, fresh out of college, as he pits himself against an evil genius who is out to destroy the world. \"Its his wits against the most villainous arch criminal the world has seen, in a world of murder, international political intrigue and seduction\" This is the first in a series that will feature Bengali bestseller writer Saradindu Banerjee's most famous creation and India's widest read and best known detective character for the first time in a Hindi feature. \"Sushant Singh Rajput has that dormant volcano thing about him that is just right for my Byomkesh.\" Says Dibakar of his leading man, He looks so quiet, so self-absorbed and withdrawn till you challenge him. Then he explodes and becomes the most dangerous man in the world at least for the criminals.\" The director and the lead are working hard to get the character, feel and the spectacle of the period thriller that starts shooting January 2014."
        ],
        [
         "1",
         "https://timesofindia.indiatimes.com/first-look/first-look-of-ranbir-kapoors-roy-also-starring-arjun-rampal-and-jacqueline-fernandez/articleshow/21526875.cms",
         "2022-01-01",
         "Times of India",
         "Roy",
         "Credits Director: Vikramjit Singh Cast: Ranbir Kapoor , Arjun Rampal , Jacqueline Fernandez Producer: Divya Kumar , Bhushan Kumar , Krishan Kumar Banner: T-Series Release Date: June 20, 2014 Synopsis Post the super hit success of Aashiqui 2, T-Series brings to floors ROY . After a love story its time to see action, romance and drama. Venturing in genres like youth film, relationships, thriller, T-Series announced a romantic-action-drama with Ranbir Kapoor playing the title role of Roy. Ranbir will share screen space with Arjun Rampal and Jacqueline Fernandez. A slick and larger than life film, will see portray a character he hasnt done before. Roy is a directed by Vikramjit Singh produced by Divya Kumar, Bhushan Kumar and Krishan Kumar under the banner of T-Series. Roy marks the directorial debut of Vikramjit Singh who has also written the script for the film. Roy will be released on 20th June 2014."
        ],
        [
         "2",
         "https://timesofindia.indiatimes.com/entertainment/english/hollywood/previews/edge-of-tomorrow/articleshow/21100378.cms",
         "2022-01-01",
         "Times of India",
         "Edge of Tomorrow",
         "Credits Director: Doug Liman Cast: Tom Cruise , Emily Blunt , Bill Paxton , Kick Gurry , Dragomir Mrsic , Charlotte Riley , Jonas Armstrong , Franz Drameh Screenplay: Dante Harper, Christopher McQuarrie , Joby Harold Producer: Erwin Stoff, Gregory Jacobs, Jeffrey Silver Director of photography: Dion Beebe Production Designer: Oliver Scholl Editor: James Herbert Release Date: June 6, 2014 Synopsis Tom Cruise and Emily Blunt star in the epic sci-fi thriller Edge of Tomorrow , under the direction of Doug Liman. The story unfolds in a near future in which a hive-like alien race, called Mimics, have hit the Earth in an unrelenting assault, shredding great cities to rubble and leaving millions of human casualties in their wake. No army in the world can match the speed, brutality or seeming prescience of the weaponized Mimic fighters or their telepathic commanders. But now the worlds armies have joined forces for a last stand offensive against the alien horde, with no second chances. Lt. Col. Bill Cage (Cruise) is an officer who has never seen a day of combat when he is unceremoniously demoted and then droppeduntrained and ill-equippedinto what amounts to little more than a suicide mission. Cage is killed within minutes, managing to take an Alpha down with him. But, impossibly, he awakens back at the beginning of the same hellish day, and is forced to fight and die againand again. Direct physical contact with the alien has thrown him into a time loopdooming him to live out the same brutal combat over and over. But with each pass, Cage becomes tougher, smarter, and able to engage the Mimics with increasing skill, alongside Special Forces warrior Rita Vrataski (Blunt), who has lain waste to more Mimics than anyone on Earth. As Cage and Rita take the fight to the aliens, each repeated battle becomes an opportunity to find the key to annihilating the alien invaders and saving the Earth."
        ],
        [
         "3",
         "https://timesofindia.indiatimes.com/sports/cricket/news/bloody-face-covered-with-towel-rachin-ravindra-carried-off-the-field-against-pakistan-watch/articleshow/118079708.cms",
         "2022-01-01",
         "Times of India",
         "Bloody! Face covered with towel, Rachin Ravindra carried off the field against Pakistan - Watch",
         "Rachin Ravindra (Screengrab) NEW DELHI: During the first One Day International (ODI) cricket match against Pakistan on Saturday, New Zealand's player Rachin Ravindra experienced a distressing incident where he was hit in the head by a cricket ball. The 25-year-old was positioned at deep square leg when the accident occurred, seemingly having difficulty tracking the ball under the floodlights of Lahore's Gaddafi Stadium , as he attempted to catch out Pakistan's Khushdil Shah. Poll What Should Be the Key Focus for Player Safety in Cricket Matches? Better Protective Gear and Medical Support Improved Ground and Lighting Conditions The impact resulted in a visible injury, with Ravindra bleeding from his forehead, causing immediate concern among spectators. Go Beyond The Boundary with our YouTube channel. Following the incident, medical personnel attended to Ravindra on the field, after which he was seen leaving the playing area with a bandage applied to his forehead to manage the bleeding. With his face covered in towel, Ravindra, accompanied by security personnel, was taken off the field. Watch: \"Ravindra was forced from the field after being struck in the forehead by the ball attempting a catch in the 38th over,\" a New Zealand Cricket spokesman told ESPNCricinfo. \"He sustained a laceration to the forehead which has been addressed and treated at the ground, but is otherwise well. He came through his first HIA (Head Injury Assessment) well and will continue to be monitored under HIA processes.\" 'ILT 20 is great for UAE cricket': Sehwag anticipates thrilling finale Before the unfortunate event, Ravindra contributed to his team's performance by scoring 25 runs off 19 balls. His efforts were part of New Zealand's innings, where they set a formidable total of 330-6. New Zealand ultimately secured a victory by a margin of 78 runs in the match. This game was part of a tri-nation series , also involving South Africa, serving as preparation for the upcoming Champions Trophy. Stay updated with the latest sports news and find out how to watch the ICC Champions Trophy live in Canada and the USA . Dont miss the highly anticipated India vs Pakistan and India vs New Zealand clashes. Check the live cricket scores here."
        ],
        [
         "4",
         "https://timesofindia.indiatimes.com/sports/cricket/news/poor-lights-of-gaddafi-stadium-pakistan-cricket-board-faces-backlash-after-rachin-ravindra-injury/articleshow/118080050.cms",
         "2022-01-01",
         "Times of India",
         "'Poor lights of Gaddafi Stadium': Pakistan Cricket Board faces backlash after Rachin Ravindra injury",
         "Rachin Ravindra (Screengrabs) NEW DELHI: During the latest ODI tri-series match against Pakistan , New Zealand cricketer Rachin Ravindra suffered a forehead injury on Saturday after being hit by the ball while attempting a catch. The incident, which took place in the 38th over, has raised concerns about the adequacy of the floodlighting at Gaddafi Stadium , with many attributing the mishap to the poor lighting conditions. Poll What Should Be the Top Priority for Ensuring Player Safety in Stadiums? Regular Ground and Infrastructure Inspections Improved Lighting and Visibility Checks According to a statement from New Zealand Cricket , Ravindra received immediate medical attention on the field for a laceration to his forehead and underwent a Head Injury Assessment (HIA), which he initially passed. He will continue to be monitored as per HIA protocols. Go Beyond The Boundary with our YouTube channel. \"Ravindra was forced from the field after being struck in the forehead by the ball attempting a catch in the 38th over,\" a New Zealand Cricket statement reads. \"He sustained a laceration to the forehead which has been addressed and treated at the ground, but is otherwise well. He came through his first HIA (Head Injury Assessment) well and will continue to be monitored under HIA processes.\" The injury occurred when Pakistan's Khushdil Shah hit a powerful shot towards Ravindra, who was positioned at deep backward square leg. Misjudging the trajectory of the ball under the lights, Ravindra was struck in the face, leading to immediate medical intervention as he was visibly injured and bleeding. ALSO SEE: Bloody! Face covered with towel, Rachin Ravindra carried off the field against Pakistan - Watch Following the incident, he was escorted off the field by the New Zealand team's medical staff for further treatment. The quality of the floodlights at the venue has come under scrutiny, with fans expressing their dissatisfaction and concern for player safety on social media platforms. Many have called for the Pakistan Cricket Board (PCB) to enhance the lighting conditions at the stadium, especially in light of the upcoming Champions Trophy . \"PCB should improve the Quality of light in the Ground. Rachin Ravindra misjudges the ball under bad lights and takes a brutal hit near the eye. Hope he recovers soon....\" said a fan on X (formerly Twitter). \"Rachin Ravindra is a far better fielder than the whole team of Pakistan, still can't see the ball while catching?? Poor lights of Gaddafi Stadium,\" opined another fan. \"How did @ICC allow Pakistan's ground to host international matches?? ICC should ensure players' safety and if Pakistan can't provide shift CHAMPIONS TROPHY to Dubai. Prayers for Rachin Ravindra,\" penned another fan. The incident has sparked a wider conversation about the standards of infrastructure and safety measures in place for international cricket matches, with some fans suggesting that the International Cricket Council (ICC) should reassess the suitability of venues based on such criteria. The match concluded with New Zealand defeating Pakistan by 78 runs, setting a challenging target of 330/6 in their 50 overs, bolstered by significant contributions from Glenn Phillips, Kane Williamson , and Daryl Mitchell. Prior to his injury, Ravindra had contributed a quick 25 runs off 19 balls. ALSO READ: Phillips, Santner shine as New Zealand crush Pakistan by 78 runs Stay updated with the latest sports news and find out how to watch the ICC Champions Trophy live in Canada and the USA . Dont miss the highly anticipated India vs Pakistan and India vs New Zealand clashes. Check the live cricket scores here."
        ],
        [
         "5",
         "https://timesofindia.indiatimes.com/education/news/cbse-class-10-english-exam-25-literature-questions-students-should-practise-for-top-notch-preparation/articleshow/117969684.cms",
         "2022-01-01",
         "Times of India",
         "CBSE Class 10 English exam: 25 Literature questions students should practise for top-notch preparation",
         "CBSE Board Exam 2025: The CBSE class 10 board exams are close at hand, it is crucial that students buckle up their preparation for a crucial academic assessment. The class 10 English exam is scheduled to take place on February 15, 2025. It is a subject that not only gauges linguistic prowess but also nurtures creativity and writing skills. Given its significance in both academics and professional workspace, having a hold of English is more than just an exam requirement, it is a treasured life skill. The English exam is divided into three sections: Reading Comprehension, Writing and Grammar, and Literature. The Literature section, carrying 40 marks, plays a crucial role in language proficiency. It requires students to analyze themes, characters, and literary devices while honing critical thinking skills. Success in this section depends on deep comprehension, analytical insight, and structured responses, rather than rote memorization. To help students outperform in the Literature section, Ritu Sharma, a Post Graduate Teacher at ITL Public School in Delhi, has compiled a set of practice questions designed to reflect the exam format. These carefully crafted questions help students develop a nuanced understanding of texts, improving their ability to construct well-articulated answers under timed conditions. CBSE Class 10 English exam preparation: Important Literature questions Students must practise CBSE Class 10 exam questions pertaining to the Literature section. Here are a few questions suggested by Ms Sharma: Question 1 : The story of the two boys, as revealed by the nurse, deeply impacts the narrator. He decides to write a diary entry, recording how he feels inspired by the grit, determination, and selfless actions of the two gentlemen of Verona. As the narrator, write the entry. Question 2 : A person who is vain is full of self-importance can only think of himself/herself and can go to great lengths to prove his/her superiority. Do you think Mrs Packletide is vain? Give reasons in support of your answer. Question 3 : Ali displays qualities of love and patience. Give evidence from the story to support the statement. Question 4 : Ali came out very slowly, turning after every few steps to gaze at the post office. His eyes were filled with tears of helplessness, for his patience was exhausted, even though he still had faith. Why were Alis eyes filled with tears of helplessness? What had exhausted his patience but not his faith? Question 5 : Tortured by doubt and remorse, he sat down in the glow of the charcoal sigri to wait. Who is tortured by doubt and remorse? Why? What is he waiting for? Question 6 : When confronted by Lavinia about his flirtations over the Ouija Board, John insists that the affair was quite above-board, I assure you, my love. Bring out the pun in Johns statement. Question 7 : Johns apprehensions about his wifes reaction to her encounter with the ghost are unfounded. Justify. Question 8 : Patol Babu is an amateur actor for whom a walk-on part in a movie turns into an ultimate challenge. Discuss. Question 9 : Do you agree with the statement that Patol Babu is a practical man who comes to terms with whatever life has to offer? Give reasons for your answer. Question 10 : Sebastian Shultz had a close brush with death. After he recovers, he returns to school and narrates his experience to his classmates. As Sebastian Shultz, narrate your experience. Question 11 : Contradict the fact that the nightingale did not deserve the frogs wrath. Question 12 : Bring out the irony in the frogs statement Your song must be your own. Question 13 : Inspite of having a melodious voice and being a crowd-puller, the nightingale turns out to be a loser and dies. How far is she responsible for her own downfall? Question 14 : The nightingale has scaled the heights of success. But now the audience is dwindling, the frog is unhappy and reprimands her all the time. She is mentally and physically exhausted and fears failure. As the nightingale, write a diary entry highlighting her fears and analyzing the reasons for her failure. Question 15 : You live in this, and dwell in lovers eyes. (a) How can he dwell in lovers eyes? (b) What values are highlighted in the above line? Question 16 : Overarching ambition can lead to great leaders and their downfall. Substantiate your position in favour or in opposition to this statement. (Ozymandias) Question 17 : The crew hangs the albatross around the sailors neck. What was the significance of this act? Question 18 : The sailors are fickle-minded. Justify this statement with reference to the poem. Question 19 : The poem is full of strange, uncanny, or supernatural elements. Discuss how these elements appear in the poem, The Rime of the Ancient Mariner. Write a paragraph about the supernatural elements in the poem and how they add to the events that take place in the poem. Question 20 : Reptiles like snakes generate both horror and fascination. Have you ever felt fascinated yet scared by snakes like the poet? Describe your thoughts and experiences based on the poem. Question 21 : The poet is filled with horror and protest when the snake prepares to retreat and bury itself in the horrid black, dreadful hole. In light of this statement, bring out the irony of his act of throwing a log at the snake. Question 22 : The poet has a dual attitude towards the snake. Why does he experience conflicting emotions on seeing the snake? Question 23 : Ben appreciates grandfather saying its a good thing he did. Later he calls him a drunken old beggar. Why does he change his opinion about grandfather? Question 24 : Morals and ethics seem to have perished in modern society. The character of Victoria is a moral check to all the adults in the lesson, hence she is a stark contrast to that of her parents. Analyze this thought and describe your opinion in a brief synopsis of the story. Question 25 : The moral values are degraded in respect and care within the members of the family itself. Explain this statement with reference to Mrs. Slater and Mrs. Jordan. Effective tips for scoring high in Literature section You need to read and practise well to outperform in this section. Here are some tips that will help you to strengthen your learning in the last leg of preparation. Understand the Themes and Messages Superficial understanding will not be of huge help to you. Go beneath the surface-level plots. Keenly analyse deeper themes, connotations, values, and social messages that poems and stories want to convey. For example, The Diary of Anne Frank, focuses on themes like resilience, hope, and the impact of war on individuals. Master Character Analysis Pick character traits, motivations, and development. Use right adjectives to elucidate characters and back your answers with textual evidences. Practise Contextual Questions Literature has no rulebooks. You need to penetrate into the stories and pick out the vital significance of lines or dialogues. Remember, every line has an intended and at times hidden meaning. Comprehend the context in which they are quoted and their relevance to the story or poem. You can connect the lessons learnt with the real-world to establish a link between the fable and real. Example: In A Tiger in the Zoo, explain the contrast between the tigers life in the wild and in captivity. Focus on Literary Devices Literary devices are cornerstones of literature. Identify and explain literary devices such as metaphors, similies, personification, alliteration, and irony. This will help you score well in the poetry and prose sections. For example, in The Ball Poem, discuss the symbolism of the lost ball and its connection to loss and growing up. Revise Important Quotes Supporting your answers with the key quotes from poems, stories, and plays can help you earn those extra marks. Yes, brownie points! It will showcase your in-depth understanding of the text. Example: In Julius Caesar, quotes like Et tu, Brute? or Cowards die many times before their deaths are pivotal. Work on Answer Presentation While what you write matters, but do not overlook how you present it. Structure your answers clearly with an introduction, body, and conclusion. Use bullet points or paragraphs as required. For long-answer questions, start with a brief summary, analyze the question, and conclude with your interpretation. Read Between the Lines Develop the habit of inferring meanings that are not explicitly stated. This skill is crucial for answering higher-order thinking questions. Example: In The Midnight Visitor, deduce why Ausable was confident despite the dangerous situation. Enhance Vocabulary Vocabulary is your saviour and ally in English Literature, this statement needs no testament. Try to pick words from your literature texts and incorporate them into your answers to make them look more impressive and impactful. For instance, words like melancholy, resilience, or foreshadowing can elevate your writing. Focus on Authors Intent It is crucial to dig deeper than what you read. Understand what the author is trying to explain through her writing. Is it a criticism, a stanza to evoke emotions, or a universal truth? The perspective will undoubtedly sprinkle your answer with remarkable insights. Stay updated with the latest education news on . Explore the CBSE date sheet for Class 10 and 12 across Arts , Science , and Commerce streams."
        ],
        [
         "6",
         "https://timesofindia.indiatimes.com/education/news/canadas-new-open-work-permit-rules-what-spouses-of-international-students-and-workers-need-to-know/articleshow/118012760.cms",
         "2022-01-01",
         "Times of India",
         "Canadas new Open Work Permit rules: What spouses of international students and workers need to know",
         "Canadas Spousal Open Work Permit (SOWP) program, which has long been a source of financial relief for families of international students and foreign workers, is undergoing sweeping changes. For years, spouses and common-law partners of international students and skilled foreign workers have been able to obtain open work permits, allowing them to contribute to Canadas economy while supporting their partners. The recent changes, however, draw clearer lines on who qualifiesand who doesnt. Effective from January 21, 2025, the new regulations significantly restrict eligibility, a move officials say aligns with Canadas labor market needs but leaves many families scrambling for alternatives. Spouses of international students: Whos in, whos out? Under the previous rules, spouses of all international students were eligible for open work permits, regardless of their partners academic level. That is no longer the case. Who qualifies now? Spouses of students enrolled in graduate programs (masters degrees of at least 16 months and PhD programs) and select professional degrees will remain eligible. These include: Doctor of Medicine (MD) Doctor of Dental Surgery (DDS, DMD) Bachelor of Law or Juris Doctor (LLB, JD, BCL) Doctor of Optometry (OD) Pharmacy (PharmD, BS, BSc, BPharm) Bachelor of Engineering (BEng, BE, BASc) Bachelor of Education (BEd) Bachelor of Science in Nursing (BScN, BSN, BNSc) Doctor of Veterinary Medicine (DVM) Who no longer qualifies? Spouses of international students pursuing undergraduate degrees or non-qualifying programs will no longer be eligible for work permits. The change cuts off a major source of financial stability for many families who had planned on dual-income support while in Canada. Spouses of foreign workers: Tightening the rules The landscape for spouses of foreign workers is shifting just as dramatically. Previously, any foreign workers spouse could apply for an open work permit. Under the new guidelines, eligibility is tied to the foreign workers occupation. Eligible: Spouses of workers in TEER 0 and 1 occupations, which include executive and managerial positions, as well as specialized technical roles. Conditionally Eligible: Spouses of workers in TEER 2 and 3 occupationsincluding construction, healthcare, education, and natural resourcesmay still qualify, but only if their partners job is deemed critical to labor market shortages. New Requirement: The principal foreign worker must have at least 16 months remaining on their work permit at the time of application. Biggest Shift: Dependent children of foreign workers are no longer eligible for open work permits. SOWP: How to apply If you still qualify under the updated SOWP rules, heres how to apply. Determine Eligibility: Verify that your spouses study or work program qualifies under the new restrictions. Gather Documents: Required documents include proof of relationship, proof of your spouses study or work status, and evidence of their eligibility. Apply Online: Applications must be submitted through the Immigration, Refugees and Citizenship Canada (IRCC) portal. Prepare for Processing Delays: Given the volume of expected applications and potential policy adjustments, applying early is advisable. Stay updated with the latest education news on . Explore the CBSE date sheet for Class 10 and 12 across Arts , Science , and Commerce streams."
        ],
        [
         "7",
         "https://timesofindia.indiatimes.com/sports/cricket/england-tour-of-india-2025/2nd-odi-virat-kohlis-in-but-whos-out-selection-dilemma-as-india-look-to-seal-series-against-england/articleshow/118081041.cms",
         "2022-01-01",
         "Times of India",
         "2nd ODI: Virat Kohli's in, but who's out? Selection dilemma as India look to seal series against England",
         "Virat Kohli during a practice session. (PTI Photo) CUTTACK: One look at the stands on Saturday evening at the Barabati Stadium , and one could have been forgiven for mistaking it for match day instead of match eve. The Odisha Cricket Association 's (OCA) decision to open part of the stands for fans to watch India train, for free, ahead of the crucial second ODI against England here was a hit, with the stadium nearly half full. Go Beyond The Boundary with our YouTube channel. The loudest cheers from the 20,000-plus crowd were reserved for the man who missed the first ODI in Nagpur with a sore right knee Virat Kohli . Saturday's nets, however, suggested Kohli was not going to sit out another game. One of the fittest cricketers around, the former India captain last missed a match before the Nagpur ODI more than three years ago, the Johannesburg Test against South Africa in Jan 2022. Fit and raring to go, the star batter was the first to hit the nets and batted for nearly an hour before leaving the ground first, shouldering his cricket coffin. 'Its a slightly two-paced pitch': Harshit Rana after claiming three-wicket haul on ODI debut While England completely skipped Saturday's practice, many India players also skipped the optional session, including last-match hero Shreyas Iyer , vice-captain Shubman Gill , debutant Harshit Rana, comeback man Mohammed Shami, Hardik Pandya and Axar Patel. \"Virat Kohli is fit to play. He has come for practice and is good to go,\" batting coach Sitanshu Kotak said during the prematch media interaction. With a fit-again Kohli back in the playing XI, India will face a selection dilemma as they prepare to tick all the boxes ahead of the Champions Trophy and seal the series before going to Ahmedabad. Will Iyer lose his place to Kohli if the team management decides to continue with Yashasvi Jaiswal to keep the left-right opening combination going with captain Rohit Sharma ? Kotak, however, bypassed any queries on who should make way for Kohli on Sunday. \"I think that's what the head coach and captain can talk about. But yes, definitely a lefty-righty combination is there. But I would say that question is not something which I would like to answer, to be very honest,\" was Kotak's diplomatic answer. Rohit's form will certainly also be a concern for the side, no matter how the management tries to brush aside any doubts regarding his continuous run of poor form. Rohit, incidentally, got out after scoring only two runs in the first ODI of this series. Rohit coming back into form will certainly be a big boost for the hosts ahead of the ICC event starting on Feb 19. The track looks a belter and could well be the right platform for the Hitman' to get some much-needed runs under his belt. Meanwhile, KL Rahul is likely to get another look-in as the wicketkeeper-batter ahead of Rishabh Pant, who batted for long in the nets. However, left-arm pacer Arshdeep Singh bowled long spells during the practice session and could replace Shami, who might be rested to manage his workload following a long injury layoff. Although dew factor is unlikely to come into play here, batting second will be the preferred choice, as chasing teams have won 12 out of the 19 ODIs played here over the years. Stay updated with the latest sports news and find out how to watch the ICC Champions Trophy live in Canada and the USA . Dont miss the highly anticipated India vs Pakistan and India vs New Zealand clashes. Check the live cricket scores here."
        ],
        [
         "8",
         "https://timesofindia.indiatimes.com/sports/nfl/news/hailee-steinfelds-gesture-towards-josh-allen-at-the-nfl-honors-has-the-internet-talking-and-says-a-lot-about-their-relationship/articleshow/118073393.cms",
         "2022-01-01",
         "Times of India",
         "Hailee Steinfelds gesture towards Josh Allen at the NFL Honors has the internet talking and says a lot about their relationship",
         "Image via Axelle/Bauer-Griffin/FilmMagic Hailee Steinfeld has been in a pretty happy relationship with NFL star, Josh Allen, for close to two years now. Both of them were recently spotted at the NFL Honors 2025 when Josh Allen won the NFL MVP Award. With Josh Allen winning the trophy, it raised many eyebrows, but all eyes were on Hailee Steinfeld as Josh Allen credited her for his win when he went on stage. But now, a video from the NFL Honors 2017 has gone viral and fans cannot stop talking about Hailee Steinfelds gesture. Hailee Steinfeld's Gesture Towards Josh Allen At The NFL Honors 2025 Has Fans Talking About It A fan account of Hailee Steinfeld posted the viral video on X and Hailees gesture towards Josh has melted everyones hearts. In the viral video, Hailee Steinfeld looks stunning in a black strapless dress as she accompanies Josh Allen but what fans noticed was the fact that she held his hand even when she was holding on to his arm. This was not it; the way Hailee Steinfeld looks at Josh Allen has fans losing their minds. It is quite evident how deeply the two are in love with each other and how proud Hailee Steinfeld is of Josh Allens achievements. A fan took to X and wrote, How everyone wants to be looked at by their significant other, while another fan wrote, So love them together! A third fan wrote, This is what Im saying people, your girlfriend, boyfriend, wife, husband should be your best friend. You start as best friends and it evolves into a relationship while maintaining that best friend feeling. Josh Allen Has Credited Hailee Steinfeld Multiple Times For The Success He Has Achieved Josh Allen and Hailee Steinfeld are one of the most popular couples in the world of NFL. Another video from the NFL Honors 2025 has gone viral where Hailee Steinfeld looks proud as Josh Allen goes on stage to receive his award for NFL MVP 2025. Josh credited Hailee for his success on field and said, My fianc hailee, youve been my rock, youre my best friend. This is actually not the first time that Josh Allen has credited Hailee Steinfeld for the success he has achieved on the field this season, despite losing at the NFL Playoffs to the Kansas City Chiefs. Shortly after proposing to Hailee Steinfeld in November 2024, Josh Allen in an interview said In an interview with the Associated Press in December 2024, Josh Allen said, Shes been a huge part. The morale, the support. When I get home, shes my biggest fan, my biggest supporter. Shes just the best. Josh Allen and Hailee Steinfeld have a loyal fanbase who cannot get over how deeply the two are in love with each other. The couple is pretty private about their personal loves and have not confirmed their wedding dates yet. Also Read: Taylor Swift humbly admits to being not a pro amid Blake Lively-Justin Baldoni drama, as she gears up for Super Bowl LIX Stay updated with the latest sports news and find out how to watch the ICC Champions Trophy live in Canada and the USA . Dont miss the highly anticipated India vs Pakistan and India vs New Zealand clashes. Check the live cricket scores here."
        ],
        [
         "9",
         "https://timesofindia.indiatimes.com/sports/nba/top-stories/will-anthony-edwards-play-tonight-against-the-portland-trail-blazers-latest-update-on-the-minnesota-timberwolves-stars-injury-report-february-8-2025/articleshow/118074066.cms",
         "2022-01-01",
         "Times of India",
         "Will Anthony Edwards play tonight against the Portland Trail Blazers? Latest update on the Minnesota Timberwolves star's injury report (February 8, 2025)",
         "Is Anthony Edwards playing tonight? (Image via Getty) Minnesota Timberwolves star guard Anthony Edwards is listed as questionable with a hip injury ahead of Saturdays matchup against the Portland Trail Blazers. As the Timberwolves (29-23) prepare to defend home court at Target Center, Edwards availability remains uncertain, adding intrigue to a crucial Western Conference clash. Is Anthony Edwards playing tonight? Minnesota Timberwolves injury report and recent performance (February 8, 2025) Anthony Edwards has been a key force for Minnesota this season, and his status could significantly impact their game plan. The 22-year-old is coming off a stellar 41-point performance in the Timberwolves recent 127-114 victory over the Houston Rockets. His scoring ability and leadership have been vital for the team, making his potential absence a significant concern. The Timberwolves official injury report lists Anthony Edwards as questionable with a hip injury, indicating that his status will likely be a game-time decision. Alongside him, Mike Conley (finger) is considered day-to-day, while Donte DiVincenzo (toe) and Julius Randle (groin) have been ruled out. Portland Trail Blazers injury report for the game against the Minnesota Timberwolves tonight (February 8, 2025) Anthony Edwards of Minnesota Timberwolves (Image via Getty) The Trail Blazers (23-29) are also dealing with injury concerns. Deni Avdija (hand) and Scoot Henderson (ankle) are both questionable, while Matisse Thybulle (ankle) has been ruled out. Portland is coming off a hard-fought 108-102 win over the Sacramento Kings, with Anfernee Simons leading the way with 30 points. Anthony Edwards impact on then Minnesota Timberwolves If Anthony Edwards is unable to play, the Timberwolves will need to rely on alternative scoring options to fill the void. Karl-Anthony Towns and Rudy Gobert may take on larger offensive roles, while Conleys availability will also be key in managing the teams backcourt depth. Minnesota currently holds a solid position in the playoff race, but every game counts in the highly competitive Western Conference. Edwards injury status will be closely monitored leading up to tip-off at 8:00 PM ET. How to watch Timberwolves vs Trail Blazers tonight Fans looking to catch the Minnesota Timberwolves take on the Portland Trail Blazers can tune in live as the game tips off at 8:00 PM ET from Target Center in Minneapolis. Whether watching on TV or streaming online, there are several ways to follow the action. TV Broadcast The game will be televised on the following channels: KATU KUNP FDSN Check local listings to confirm availability in your area. Live Streaming Options For those who prefer streaming, multiple services provide access to the game: Fubo A subscription-based streaming service offering live NBA games. Regional restrictions may apply. NBA League Pass Provides access to live and on-demand games throughout the season. Also read: Will Trae Young play tonight against the Washington Wizards? Latest update on the Atlanta Hawks star's injury report (February 8, 2025) Radio Broadcast Timberwolves and Trail Blazers fans can also listen to live commentary via their teams official radio networks. With both teams battling injuries, this game could have a significant impact on their playoff positioning. Be sure to tune in and see how it unfolds. Stay updated with the latest sports news and find out how to watch the ICC Champions Trophy live in Canada and the USA . Dont miss the highly anticipated India vs Pakistan and India vs New Zealand clashes. Check the live cricket scores here."
        ],
        [
         "10",
         "https://timesofindia.indiatimes.com/sports/nba/top-stories/golden-state-warriors-vs-chicago-bulls-02/08-starting-five-injury-report-start-time-how-to-watch-and-more/articleshow/118073780.cms",
         "2022-01-01",
         "Times of India",
         "Golden State Warriors vs Chicago Bulls (02/08): Starting five, injury report, start time, how to watch, and more",
         "(Image Via NBA.Com) The Warriors and Bulls are ready to face each other, and both teams really need a win. Golden State is at 21-21, trying to get back in the race, while Chicago is sitting at 19-25, fighting to keep their playoff hopes alive. The big news? The Warriors just picked up five-time All-NBA forward Jimmy Butler, which shakes things up for their team. Will he make a splash right away? Watch tonight's game from the United Center on NBC Sports Bay Area. Coverage begins at 1:00 AM IST on February 8, 2025. Golden State Warriors vs Chicago Bulls: Projected Starting Five Golden State Projected Starting five Position Player Point Guard Stephen Curry Shooting Guard Brandin Podziemski Small Forward Andrew Wiggins Power Forward Jonathan Kuminga Center Draymond Green Chicago Bulls Projected Starting five Position Player Point Guard Josh Giddey Shooting Guard Coby White Small Forward Ayo Dosunmu Power Forward Patrick Williams Center Nikola Vucevic Golden State Warriors vs Chicago Bulls: Key Players to Watch Golden State Warriors: Stephen Curry: The dynamic point guard continues to be a scoring powerhouse, recently posting back-to-back games with over 30 points and six three-pointers. Jimmy Butler: While he hasn't played since January 21, his veteran presence and defensive prowess could provide a substantial boost. Chicago Bulls: Coby White: With the recent trade of Zach LaVine, White has stepped up offensively, averaging 20 or more points in four of the last five games. Nikola Vucevic: The reliable center has been a consistent force, recording double-doubles in his last four outings, and showcasing his scoring and rebounding abilities. Golden State Warriors vs Indiana Pacers: Injury Report Golden State Warriors Injury Report Player Status Injury Report Stephen Curry Questionable Bilateral knee injury management Draymond Green Out Left calf strain Jonathan Kuminga Out Ankle injury De'Anthony Melton Out Underwent season-ending surgery to repair a partially torn ACL in his left knee. Chicago Bulls Injury Report Player Status Injury Report Coby White Questionable Right ankle soreness Ayo Dosunmu Questionable Right soleus strain Torrey Craig Out Right ankle sprain Golden State Warriors vs Chicago Bulls: Team Stats Statistic Golden State Warriors Chicago Bulls Points Per Game 112.0 (#16) 117.6 (#6) Points Allowed Per Game 110.5 (#10) 121.4 (#29) Average Score Margin +1.5 (#14) -3.8 (#22) Fastbreak Points Per Game 15.7 (#15) 17.5 (#4) Points in the Paint Per Game 46.9 (#19) 47.9 (#17) Assists per Game 28.6 (#7) 29.4 (#4) Total Rebounds Per Game 56.4 (#3) 52.0 (#14) Effective Field Goal Percentage 52.8% (#22) 56.0% (#8) Three-Point Percentage 36.2% (#16) 37.5% (#9) Turnovers Per Game 14.3 (#13) 15.0 (#17) Golden State Warriors vs Chicago Bulls: Previous Matchups The Golden State Warriors and Chicago Bulls have a storied history, with the Bulls leading the all-time regular-season series 8681. In their most recent encounter on January 23, 2025, the Warriors secured a decisive 131106 victory over the Bulls. Golden State Warriors vs Chicago Bulls: Date, Time and Venue The Golden State Warriors and Chicago Bulls will share the court at the United Center on Saturday, February 8, 2025. The game will start at 7:00 PM CST on Saturday. Golden State Warriors vs Chicago Bulls: Streaming Details and More The game broadcast appears on NBC Sports Bay Area along with Chicago Sports Network Plus. The live stream of the game is available through FuboTV alongside several potential regional streaming limitations. Viewers who subscribe to NBA League Pass can watch games live but restrictions may apply regarding certain venues. Also Read : Indiana Pacers vs Los Angeles Lakers (02/08): Starting five, injury report, start time, how to watch, and more Stay updated with the latest sports news and find out how to watch the ICC Champions Trophy live in Canada and the USA . Dont miss the highly anticipated India vs Pakistan and India vs New Zealand clashes. Check the live cricket scores here."
        ],
        [
         "11",
         "https://timesofindia.indiatimes.com/india/delhi-results-2025-linkedin-lessons-from-brand-bjps-win-and-brand-aaps-loss/articleshow/118066797.cms",
         "2022-01-01",
         "Times of India",
         "Delhi Results 2025: 'LinkedIn Lessons' from Brand BJP's win and Brand AAP's loss",
         "Ah, another election, another flood of LinkedIn wisdom postswhere every poll result is a \"case study,\" every political leader is a \"CEO,\" and every campaign is an \"MBA-level lesson in leadership.\" Some call it democracy, but on LinkedIn, its all about business jargon and corporate analogies. So, lets break this down the LinkedIn way. AAP: From Disruptor to Establishment to Decline AAP was the ultimate political startupthe kind that raises Series A, B, and C funding at record speed, becomes a unicorn, and then implodes under its own weight. It was supposed to be the alternative to traditional politics, the fresh face in a crowded market, a party that rejected caste, religion, and dynasty-driven politics. But somewhere along the way, it stopped being a startup and started behaving like an old-school corporate giantbloated, bureaucratic, and overconfident . 1) From Lean & Agile to Bureaucratic & Slow AAP started with hyperlocal engagement, grassroots activism, and direct voter outreachthe political equivalent of a D 2C brand shaking up a legacy market. Over time, it became centralized and top-heavy, with decision-making confined to a handful of leaders. MLAs became inaccessible, the leadership became distant, and ground-level mobilization weakened. No succession planning. Kejriwal remained the sole face of the party, and there was no second-rung leadership strong enough to carry the brand forward. It failed to expand beyond Delhi and Punjabdespite trying in Goa, Gujarat, and Karnataka. The inability to scale beyond its original USP made it a regional player rather than a national force. The result? Voters saw it as just another party, not the disruptor it once was. 2) A Reputation Built on Ethics, Lost to Scandals AAP built its brand on fighting corruptionbut its own leadership got embroiled in one of the biggest scandals of its time, the liquor policy scam. Manish Sisodia, Sanjay Singh, and even Kejriwal himself faced corruption allegations, undoing years of anti-corruption positioning. The Sheesh Mahal controversywhere Kejriwals residence was allegedly renovated with 45 crore of taxpayer moneycompletely shattered the humble leader narrative. AAPs response? Defensive, aggressive, and dismissive. Instead of damage control, it doubled down on deniala classic PR blunder. The perception shift was swift and brutalfrom anti-corruption warriors to just another power-hungry political entity. 3) Ignoring the Middle-Class Voter That Built Its Base AAP was originally the party of the middle classfrustrated taxpayers who wanted clean governance and economic relief. Over time, its focus shifted to freebies and populist policies, leaving the middle class feeling ignored. BJP stepped in at the right timeoffering tax reliefs, infrastructure promises, and a governance model that reassured middle-class voters. Kejriwals pre-election outreach to the middle class felt forced and last-minutewhile BJP had already solidified its positioning. Takeaway ? A business (or party) that forgets its core customer will eventually lose them. 4) Blaming External Factors Instead of Owning Failures For 10 years, AAP blamed the Centre, the LG, and opposition parties for everything. The victim card was effective in the early years but wore thin by 2025voters expected governance, not excuses. BJP flipped this weakness into an advantage, promising that with a BJP-led government, there would be no Centre-state conflicts, leading to seamless governance. The narrative changed from AAP vs. BJP to AAP vs. Results. Lesson? Leaders who constantly shift blame instead of delivering solutions lose credibility. 5) Strategic Missteps and Lack of Political Alliances AAP contested separately from Congress, which led to a split in the anti-BJP vote. Rahul Gandhis direct attacks on Kejriwal made matters worseAAP was getting hit from both sides. Internal conflicts weakened the party further. Atishi and Saurabh Bharadwaj were seen as Kejriwals successors, but there was no clear transition strategy. BJP, on the other hand, had a structured, disciplined campaign with clear messaging and no internal rifts. In politics and business, a divided team rarely wins. BJP: A Masterclass in Strategic aptation BJPs 2025 win in Delhi was not a Modi-centric sweep but a well-calibrated organizational comeback. After a lackluster 2024 Lok Sabha performance (by their standards), the party realized it had become too dependent on a single leader. Unlike AAP, BJP adapted, restructured, and executed flawlessly. 1) Moving Beyond Modi Dependency BJP understood that Delhis electorate needed a more localized approach. Instead of making the election about Modi, it focused on governance, urban issues, and direct voter engagement. No CM face? It didnt matter. The party projected collective leadership instead of relying on one individual. By decentralizing its campaign, BJP looked more stable and future-ready. 2) opting AAPs Own Strategies Against It BJP neutralized AAPs welfare advantagepromising free electricity, continued subsidies, and additional financial support for women. Middle-class tax reliefs were announced just before the elections, ensuring they won over voters that AAP had neglected. The manifesto focused on real urban issuespollution control, traffic congestion, and infrastructureexactly what AAP had failed to address convincingly. Lesson? The best way to beat a competitor is to adopt their strengths while exposing their weaknesses. 3) Letting Congress Do The Attacking BJP didnt need to attack AAP aggressivelyRahul Gandhi and Congress did that for them. By letting AAP and Congress fight it out, BJP consolidated its voter base while the opposition split. AAPs credibility suffered more because the attacks came from within the anti-BJP camp. A strategic win, without unnecessary effort. 4) A Disciplined, Focused, and Well-Executed Campaign BJP stayed on message, focusing on corruption, governance, and economic stability. The campaign was structured and well-planned, unlike AAPs which seemed reactive and disorganized. The promise to investigate AAPs corruption cases resonated with voters, reinforcing BJPs stance on accountability. In business terms? BJP had a clear marketing strategy, strong brand positioning, and flawless execution. 5) Final Takeaways aptability is key. BJP recalibrated after its 2024 Lok Sabha setbacks, while AAP remained stagnant. Brand trust is fragile. AAP built its image on honesty but lost credibility due to scandals and mismanagement. Execution matters more than rhetoric. BJP delivered a disciplined, well-structured campaign. Leadership succession planning is critical. AAP failed to build second-line leadership, while BJP showcased organizational depth. Voters reward governance, not excuses. After a decade in power, AAPs blame game no longer worked. Politics, like business, rewards those who adapt, execute, and deliver. Stay informed with the latest India news, updates on public holidays , and bank holidays in March ."
        ],
        [
         "12",
         "https://timesofindia.indiatimes.com/india/manipur-cm-n-biren-singh-resigns-submits-letter-to-governor/articleshow/118090748.cms",
         "2022-01-01",
         "Times of India",
         "Manipur CM N Biren Singh resigns, submits letter to governor",
         "NEW DELHI: Manipur chief minister N Biren Singh on Sunday resigned from his post, submitting his resignation letter to Governor Ajay Kumar Bhalla at the Raj Bhavan in Imphal. Singh, who led the BJP government in the state, stepped down amid ongoing political developments. His resignation comes after months of unrest and internal party discussions. Earlier in the day, Singh met Union home minister Amit Shah in Delhi. Later, he, along with BJP MP Sambit Patra, state ministers, and MLAs, went to meet the Manipur governor. In his resignation letter, Singh expressed gratitude to the central government for its \"timely actions, interventions, developmental work, and implementation of various projects for safeguarding the interest of every single Manipuri.\" He urged the Centre to continue its support and listed key priorities: Maintaining Manipurs territorial integrity, which has a \"rich and diverse civilizational history over thousands of years.\" Cracking down on border infiltration and formulating a policy for deporting illegal immigrants. Continuing the fight against drugs and narco-terrorism. Strict implementation of the revised Free Movement Regime (FMR) with biometric monitoring. Ensuring the timely completion of border infrastructure projects. The governor is expected to take a decision on the next course of action soon. Stay informed with the latest India news, updates on public holidays , and bank holidays in March ."
        ],
        [
         "13",
         "https://timesofindia.indiatimes.com/city/delhi/who-is-parvesh-verma-new-delhi-assembly-constituency-delhi-election-bjp-candidate-vs-arvind-kejriwal-aap-vs-congress-sandeep-dikshit/articleshow/118049764.cms",
         "2022-01-01",
         "Times of India",
         "Who is Parvesh Sahib Singh Verma? Meet giant slayer BJP leader who has defeated AAP's Arvind Kejriwal in New Delhi assembly constituency",
         "Parvesh hails from a prominent Delhi political family, being the son of former BJP leader and Delhi chief minister Sahib Singh Verma. Delhi election results 2025 : Who is Parvesh Sahib Singh Verma , the BJP leader who has emerged as a giant slayer by winning against former Delhi chief minister Arvind Kejriwal in the New Delhi assembly constituency ? It was a tough fight between Kejriwal and Verma with the leading and trailing numbers changing with each round of counting. Parvesh Verma has won against Arvind Kejriwal with a margin of 4,089 votes. Congress's Sandeep Dikshit was also fighting in the constituency. Here is the final vote count as per the Election Commission of India website: PARTY NAME CANDIDATE VOTES AAP Arvind Kejriwal 25999 BJP Parvesh Verma 30088 CONGRESS Sandeep Dikshit 4568 After his victory, Parvesh Verma when asked about being BJP's CM face said, \"In our party, the legislative party decides (CM's face) and then the party leadership approves it. So the party's decision will be acceptable to everyone. I thank the voters of New Delhi, lakhs of hard-working workers and PM Narendra Modi. This is truly his victory. People have expressed their trust in him... Our priority will be to give Rs 2500 to women, create SIT to investigate corruption, Yamuna riverfront, reduce pollution, reduce traffic congestion... we will build such a capital that everyone will be proud of.\" Who is Parvesh Verma? Parvesh hails from a prominent Delhi political family, being the son of former BJP leader and Delhi chief minister Sahib Singh Verma. His uncle Azad Singh served as the North Delhi Municipal Corporation mayor and contested from Mundka constituency on a BJP ticket during the 2013 assembly polls. Delhi Assembly Elections 2025: Live coverage Born in 1977, Parvesh Verma completed his schooling at Delhi Public School, R.K. Puram, and subsequently obtained his Bachelor of Arts from Kirori Mal College, University of Delhi. Also Check | New Delhi election results 2025: It's Arvind Kejriwal vs Parvesh Sahib Singh Verma vs Sandeep Dikshit Following this, he pursued an MBA at the Fore School of Management. His entry into politics commenced in 2013 when he secured victory in the Delhi Legislative Assembly representing the Mehrauli constituency. He achieved further success by winning the West Delhi parliamentary seat in 2014, followed by a landslide re-election victory in 2019 where he won with a margin of 5.78 lakh. Delhi Election Results 2025 Live Updates During his tenure as an MP, he has been a member of the Joint Committee on Salaries and Allowances of Members of Parliament and has served on the Standing Committee on Urban Development. Prior to the 2025 Delhi elections, Parvesh Verma initiated a campaign called \"Remove Kejriwal, Save the Nation,\" criticising the current AAP administration for not fulfilling their primary commitments. In his campaign, Verma strongly condemned the Delhi government's administrative performance, specifically regarding their handling of pollution concerns, security for women, and civic infrastructure development. He specifically pointed out their unmet commitment to purify the Yamuna River, which remains a significant environmental challenge for the city. Delhi assembly election results 2025 highlights Stay updated with breaking news , bank holidays and upcoming public holidays in march ."
        ],
        [
         "14",
         "https://timesofindia.indiatimes.com/city/delhi/delhi-election-results-2025-aap-lost-reasons-arvind-kejriwal-new-delhi-manish-sisodia-bjp-modi-incumbency-corruptio-sheesh-mahal-liquor-freebies-congress-rahul/articleshow/118023276.cms",
         "2022-01-01",
         "Times of India",
         "Delhi election results 2025: 10 reasons why AAP lost",
         "The BJP on Saturday pulled off a major political upset by unseating the Aam Aadmi Party ( AAP ) from Delhi after over 10 years. As per the latest Election Commission data, the BJP may win around 48 seats and the Kejriwal-led party may secure around 22 seats in the 70-seat Assembly. BJP's Parvesh Verma emerged as a giant-slayer with his victory against AAP supremo and former Delhi chief minister Arvind Kejriwal in a fierce contest from the New Delhi seat by a margin of 4,089 votes. Verma, 47, bagged 30,088 votes, while Kejriwal and Congress' Sandeep Dikshit got 25,999 votes and 4,568 votes. Kejriwal conceded his defeat and hoped that the BJP will fulfill all its promises. \"We accept the mandate of the people with great humility. I congratulate the BJP for this victory and I hope they will fulfil all the promises for which people have voted for them,\" Kejriwal said in a video address posted on X. In the evening as the results were decalred, PM Modi kicked off his victory speech with a powerful chant of \"Yamuna Maiya ki Jai\". PM Modi declared that the people of Delhi were experiencing both relief and joy -- relief from the \"disaster\" (AAP-da governance) and joy in embracing a new era under BJP rule. \"I had written a letter to every Delhi resident, urging them to give the BJP a chance to serve in the 21st century...Today, I bow my head in gratitude to every family in Delhi for trusting us. You have given us love with an open heart, and I assure you that we will return it manifold through rapid development,\" PM Modi said. The Prime Minister also attacked the AAP over allegations of corruption against its leaders, saying that all links of such charges will be probed and those who \"looted\" money will have to return it. With the BJP set to regain control of Delhi after 27 years, what went wrong for the Aam Aadmi Party? Here are 10 reasons behind AAP's defeat: Ten years of incumbency After governing Delhi for a decade, the Aam Aadmi Party (AAP) faced significant anti-incumbency. While AAP achieved impressive results in health and education during its first two terms, and kept voters happy with power and water subsidies, unfulfilled promises, such as improved air quality, became major poll issues. The AAP's assertion that the BJP government at the Centre was creating roadblocks in its functioning began to be increasingly seen by voters as excuses, especially after ten years in power. The BJP's \"double engine\" promise, suggesting seamless governance between the central and state levels, appealed to voters against the backdrop of AAP's constant conflicts with the Centre. Furthermore, internal disarray within the AAP, with senior leaders facing jail time, added to the challenges of incumbency . Liquor scam, Sheesh Mahal dent Kejriwal's 'imandaar' image The image of Arvind Kejriwal as an anti-corruption crusader suffered a setback due to several factors, most notably the controversy surrounding the now-scrapped liquor policy. The BJP accused the AAP government of turning Delhi into a \"city of drunkards\" with the new policy, and receiving crores in kickbacks from those who opened the vends. Probes by central agencies led to the arrest of top AAP leaders, including Arvind Kejriwal, Manish Sisodia, and Sanjay Singh. These arrests forced Sisodia to step down as deputy chief minister and kept the AAP in \"firefighting mode\", distracting from fulfilling its 2020 poll promises. ditionally, the \"Sheesh Mahal\" controversy, referring to the renovated residence of the chief minister, further dented Kejriwal's image. The BJP further highlighted a Comptroller and Auditor General of India (CAG) report that indicated the renovation cost had increased from an initial estimate of Rs 7.91 crore to Rs 33.66 crore by completion. AAP has been synonymous with Arvind Kejriwal since its inception. Kejriwal, initially seen as an agent of change with his untucked shirt and no-nonsense demeanor, resonated with the common person. However, the anti-corruption image of Kejriwal and his party suffered irreparable damage, specially after the AAP leader's arrest in March 2024 on corruption allegations and his subsequent resignation as CM. While he was later granted bail, the leadership transition to Atishi and the circumstances surrounding Kejriwal's arrest damaged the party's image and cohesion. No tie-up, Congress did strategic campaigning The absence of an alliance with the Congress party and the Congress's strategic campaigning likely contributed to the AAP's loss. In previous elections, the AAP had significantly reduced the Congress's presence in the Delhi assembly. Attempts to convince Congress workers to collaborate with AAP volunteers reportedly led to an \"existential crisis\" among them. The Congress decided to campaign aggressively against the AAP, sensing \"anger building up against the AAP\". Rahul Gandhi and Priyanka Gandhi Vadra attacked the AAP in the final days of the Delhi campaign. The Congress further claimed the AAP did not want an alliance, with Kejriwal announcing all 70 candidates early on. The rise of AAP in Delhi has been congruous with the decline of the Congress. In 2013, AAP won 28 seats with a 29.49% vote share, while the Congress tally decreased to 8 seats from 43 in 2008. In 2015, Congress suffered a 15% decline in its vote share, while the AAP saw its support base rise by around 15%. Flood of freebies but no next-level of development While AAP's welfare schemes, such as free electricity and bus travel for women, initially garnered support, a lack of focus on infrastructure development and maintenance became a significant issue. The poor condition of roads and sewers across Delhi angered voters. Overflowing drains, potholed roads, and irregular garbage collection contributed to the party's unpopularity. The AAP's control over the Municipal Corporation of Delhi (MCD) meant it could not deflect blame for these issues onto the BJP. Voters in middle- and upper-middle-class areas were particularly affected by the deteriorating infrastructure. AAP's origins trace back to Anna Hazares anti-corruption movement, positioning the party as an alternative to the Congress in 2013. While AAP secured mandates in 2015 and 2020, their repeated promises and \"freebies\" seem to have lost their appeal. The promise of piped water connections for all in 2015 remains unfulfilled, as does the promise of full statehood for Delhi and the \"Rozgar Budget\" aimed at creating 20 lakh jobs. Kejriwal himself admitted that he had failed to fulfill three promises: cleaning the Yamuna, providing clean drinking water, and upgrading Delhi's roads. This acknowledgment gave the BJP an opportunity to attack the AAP, with Amit Shah mocking Kejriwal's promise to purify the Yamuna. BJP focuses on Kejriwal, Hindutva takes back seat The BJP's campaign strategy focused primarily on targeting Arvind Kejriwal and his government, rather than emphasising Hindutva, as it has often done during campainging in other state elections as well as previous Delhi polls. This approach likely resonated with a broader segment of the population, including those who may not have been inclined to support a religiously charged campaign. By focusing on issues such as corruption and governance, the BJP effectively undermined AAP's credibility and appealed to a wider range of voters. The BJP also focused on hyper-local issues such as air pollution, traffic, and public safety, and engaged with local Resident Welfare Associations. They also promoted central government schemes. The BJP also targeted specific demographics, including Purvanchalis and slum dwellers, and utilised an aggressive digital campaign with AI-enhanced content and memes targeting AAP. BJP's latent vote The BJP's consistent performance in the Lok Sabha polls in Delhi indicated a latent voter base that the party successfully mobilised this time around for the assembly elections. Despite AAP's strong performance in the assembly elections, the BJP had consistently swept Lok Sabha elections in the national capital, winning all seven seats. This pre-existing support base provided a foundation for the BJP's campaign and likely contributed to their victory. The BJP also strategically fielded Parvesh Verma, a strong Jat leader, in the New Delhi constituency, signaling their intention to win back the confidence of the Jat community, which had previously favoured AAP in Delhi elections. Rahul roasted Kejriwal as payback for Haryana During the Delhi Assembly elections, Congress leader Rahul Gandhi launched strong criticisms against Arvind Kejriwal, which may have been payback for events in Haryana. Gandhi's attacks covered a range of issues, including alleged corruption, unfulfilled promises, and inaction on key issues. Like the BJP, Gandhi attacked Kejriwal over the alleged liquor scam and accused him of living in a \"Sheesh Mahal\" while engaging in corrupt practices. Gandhi said that Kejriwal made false promises, \"similar to Prime Minister Narendra Modi\", particularly regarding cleaning the Yamuna River. He also challenged Kejriwal to drink Delhi's tap water, implying it was still polluted despite promises to clean it. MCD with AAP: No excuses The Aam Aadmi Party's (AAP) win in the Municipal Corporation of Delhi (MCD) in 2022 proved to be a double-edged sword, ultimately hurting the party instead of helping it. AAP had promised a cleaner city with world-class roads, but it fell short on both accounts. The MCD House was in limbo, and the Standing Committee, which controls all financial powers, was never formed. The AAP repeatedly accused the Centre of creating hurdles through the Lieutenant Governor and stalling projects. This time around, voters held the AAP accountable for the deteriorating civic infrastructure across Delhi. AAP's performance in the MCD was a letdown for the people of Delhi. The party failed to address critical issues such as clearing garbage, repairing roads, and cleaning clogged sewers. Erratic water supply and overflowing sewers that were never repaired because Rs 4,000 crore for the Delhi Jal Board was not released further hurt the party. Senior party leaders stated that the MCD functioning had collapsed under the AAP, and no work was being done, leading to frustration among councillors. Steady exodus of AAP leaders The steady departure of senior leaders from AAP over time might have also weakened the party's organisational structure and public image. The exit of prominent figures like Prashant Bhushan, Yogendra Yadav, Mayank Gandhi, and Kumar Vishwas, who had dared to disagree with Arvind Kejriwal, and repeatedly accused Kejriwal of having an \"autocratic\" style of leadership. Resignation of senior leaders like Kailash Gahlot, who cited the party's focus on political agenda over fulfilling promises, along with internal challenges, signalled internal discord. The BJP had termed Gahlot's resignation a \"courageous move\". AAP goes negative Negative campaigning by the Aam Aadmi Party (AAP) centered on issues like Yamuna River pollution, the Delhi Police, and the Election Commission (EC) may have affected public perception of the AAP government. In the lead up to the polls, Kejriwal accused the BJP-led Haryana government of poisoning the Yamuna River, which supplies drinking water to Delhi. He claimed that the Haryana government deliberately sent polluted waters to Delhi to create an artificial water scarcity and blame the AAP. The AAP also repeatedly levelled accusations of voter fraud and irregularities against the BJP as well as the EC. AAP alleged that the Election Commission and Delhi Police were shielding BJP workers and accused them of \"hooliganism\". Kejriwal wrote to the Chief Election Commissioner, expressing concern over the intimidation and harassment of AAP volunteers by BJP workers. The EC responded that no written complaints could be traced in most cases but assured that all registered complaints are investigated. Kejriwal further criticised the Election Commission for allegedly refusing to make Form 17C public, a document detailing the number of votes polled at each booth. AAP then launched a website, transparentelections.in, claiming to upload Form 17C data for all constituencies to present the data in an accessible format. The EC dismissed Kejriwal's claims regarding Form 17C, stating that copies had already been provided to polling agents at each booth after voting, as per Rule 49S of the Conduct of Election Rules, 1961. Stay updated with breaking news , bank holidays and upcoming public holidays in march ."
        ],
        [
         "15",
         "https://timesofindia.indiatimes.com/entertainment/tamil/movies/news/shiva-rajkumar-breaks-his-silence-on-language-row-kamal-haasan-is-like-a-father-but-kannada-needs-more-than-words/articleshow/121482988.cms",
         "2022-01-01",
         "Times of India",
         "Shiva Rajkumar breaks his silence on language row: Kamal Haasan is like a father, but Kannada needs more than words",
         "Kannada actor Shiva Rajkumar has broken his silence on the ongoing controversy surrounding Kamal Haasan s remarks at the 'Thug Life' audio launch. Haasans comment that Kannada evolved from Tamil, sparked backlash from various groups and even drew criticism from Karnatakas Chief Minister and other political parties. The actor later clarified his stance, refusing to apologize and stating his words came from a place of love and were based on what language historians had taught him. Kamal Haasan Faces Backlash Over 'Kannada Born From Tamil' Remark at Thug Life Event 'Father figure and Inspiration' dressing the issue during the latest public event, Shiva Rajkumar spoke with both affection and firmness. He began by acknowledging Haasans respect for Kannada and Bengaluru, calling him one of his long-time idols. \"I grew up watching Kamal Haasan. How can I say Im proud of him? Thats like saying Im proud of my father,\" he said, likening Kamals influence to that of a family elder. He recalled attending the 'Thug Life' event where the screen legend welcomed everyone warmly and added that Haasan always puts in his 100% and commands respect. Urging genuine support for Kannada Shiva Rajkumar also highlighted an important point, that love for a language should not be limited to symbolic gestures. When someone speaks about their love for Kannada, it shouldnt be momentary. It should be consistent and visible, he said. He expressed that genuine support for Kannada should go beyond speeches and include a long-term commitment to the culture, language, and local cinema. You have to ask yourselves what you're doing for Kannada regularly, not just on special occasions, he emphasized. Promoting Kannada language and cinema In conclusion, Rajkumar urged fans and media not to misunderstand the essence of whats being debated. He made it clear he didnt want to pass judgment on Kamal Haasan but instead wanted everyone to reflect on their own contributions to Kannada language and cinema. Recently as per a Pinkvilla report, during a press meet Kamal Haasan addressed the ongoing controversy with a firm but composed response. He stated, \"This is a democratic countryI believe in law, justice, and the idea that love will always prevail. My love for Karnataka, Andhra, and Kerala is genuine, and only those with an agenda would question that.\" When asked if he would consider apologizing, especially in light of the Karnataka government's threat to ban 'Thug Life' Haasan stood his ground. \"I've faced threats before,\" he said. \"If I'm wrong, I will apologize. If Im not, I won't. That's the way I live, please dont tamper with it.\" Meanwhile, Kamal, during a promotional event in Kerala, stood firm, saying that only historians and linguists should discuss language origins and reiterated that what he said stemmed from affection and that love never apologises. On the other hand, Kamal Haasan's previous outing was the Shankar's directorial 'Indian 2'. On the work front, Shiva Rajkumar will be seen in the upcoming film, 'Peddi' starring Ram Charan and Janhvi Kapoor in lead. The is directed by Buchi Babu Sana and includes music by AR Rahman. Looking ahead he has multiple projects set to hit theaters with release dates spread throughout the year from April to December. It includes films directed by Rohit Padaki, Arjun Janya, K. Madesh, and more. Check out our list of the latest Hindi , English , Tamil , Telugu , Malayalam , and Kannada movies . Dont miss our picks for the best Hindi movies , best Tamil movies, and best Telugu films ."
        ],
        [
         "16",
         "https://timesofindia.indiatimes.com/tv/news/hindi/indian-idol-12-winner-pawandeep-rajan-gets-discharged-from-hospital-shares-picture-from-the-flight-writes-going-back-home/articleshow/121511116.cms",
         "2022-01-01",
         "Times of India",
         "Indian Idol 12 winner Pawandeep Rajan gets discharged from hospital; shares picture from the flight, writes 'going back home'",
         "Pawandeep Rajan was involved in an accident on May 5. Since then, he's been admitted to the hospital and had several procedures. On May 30, the singer turned to Instagram, sharing a photo of himself smiling and informing fans that he had been discharged and would be returning home. He wrote, \"Discharged and going back home Thank you everyone for all the support, blessings & prayers.\" Regarding the accident, as his team previously stated, \"Pawandeep Rajan was involved in a tragic road accident on May 5th early morning near Moradabad , UP, while on his way to Delhi to catch a flight to Ahmedabad for an event.\" He was initially treated at a facility close by, but was later transferred to a larger hospital in Delhi NCR.\" At the time, his team released an update on his condition, noting that Pawandeep had suffered multiple severe fractures as well as a few smaller injuries and that he was taken into surgery after a battery of medical examinations. After a six-hour procedure, surgeons were able to treat several severe fractures. On May 9, his team yet again published a fresh statement updating about the Indian Idol 12 singer's surgeries and health. According to the statement, Pawandeep underwent 3 more surgeries and was later shifted to ICU for recovery.. His team shared another update, \"Hi Everyone, Pawan underwent three more surgeries yesterday. Early in the morning, he was taken into the OT, and after eight long hours, all his remaining fractures were successfully operated on. Though he is still in the ICU under observation, he will remain there for a few more days. As the doctor rightly said, now the healing and recovery process has started. Let's just pray for his speedy recovery. Once again, thank you everyone for all the blessings and prayers.\" As Pawandeep began to recover, he sang songs in his melodious voice, which went viral. He even wrote, \"Recovery mode on, thank you all for the prayers and blessings.\""
        ],
        [
         "17",
         "https://timesofindia.indiatimes.com/life-style/travel/news/delhi-weather-orange-alert-in-place-for-rain-thunderstorms-and-strong-winds/articleshow/121509594.cms",
         "2022-01-01",
         "Times of India",
         "Delhi weather: Orange alert in place for rain, thunderstorms, and strong winds",
         "The India Meteorological Department (IMD) has issued an orange alert for Delhi and the National Capital Region (NCR) for Friday, May 30, forecasting thunderstorms, lightning, and gusty winds reaching speeds of 5060 km/h. This alert follows a series of intense weather events that have marked May 2025 as Delhi's wettest on record, with the city receiving 186.4 mm of rainfall, surpassing the previous high of 165 mm set in 2008. Stormy conditions are predicted to last through the weekend, with mild to moderate rainfall and thunderstorms possible in different parts of Delhi, the IMD advises. It is recommended that residents secure loose things to minimise accidents, stay indoors during stormy periods, and avoid taking cover under trees. Read more: 8 places in India to to spot migratory birds These weather patterns are part of a broader trend affecting northwest India, including Himachal Pradesh, Uttarakhand, Punjab, Haryana, and Uttar Pradesh, where varying intensities of rainfall and thunderstorms are expected over the next few days. The present weather has been influenced by the early arrival of the southwest monsoon, which reached Kerala and parts of Northeast India on May 24eight days earlier than usual. The weather is still conducive to the monsoon's continued progress throughout the nation in the days ahead. As Delhi braces for continued stormy weather, authorities urge residents to remain vigilant, follow safety advisories, and stay updated on the latest weather forecasts. This weather pattern isnt unique to Delhi. The IMD has forecast rainfall and thunderstorms for much of northwest India, including Himachal Pradesh, Uttarakhand, Punjab, Haryana, and Uttar Pradesh. Meanwhile, southern states such as Kerala and coastal Karnataka are on red alert due to extremely heavy rainfall. Read more: Countries offering quick visas to Indian travellers In the event of an emergency, authorities in Delhi and the neighbouring territories are ready. During past storms, there were reports of traffic jams and power outages in several areas of the city. Before leaving, commuters are urged to check for road closures and transport delays. Over the next few days, the IMD is anticipated to release new advisories as it continues to keep an eye on the situation. Delhi residents are currently preparing for more wind, rain, and perhaps even a turbulent monsoon respite. One step to a healthier youjoin Times Health+ Yoga and feel the change"
        ],
        [
         "18",
         "https://timesofindia.indiatimes.com/life-style/health-fitness/health-news/bowel-cancer-is-rising-rapidly-in-younger-people-what-are-the-causes-and-symptoms-of-the-disease/articleshow/121452261.cms",
         "2022-01-01",
         "Times of India",
         "Bowel cancer: Young people at high risk, symptoms that easily go unnoticed",
         "Bowel cancer in young people is on the rise. As per a recent study , scientists have found that a bacterial toxin called colibactin may be causing the rise in bowel cancer among young adults. As per them, being exposed to this toxin in childhood could increase the risk of developing cancer later in life. Although researchers are not certain how this exposure occurs, they know that colibactin is produced by certain strains of Escherichia coli bacteria in the gut. They suggest that damaging exposure likely happens within the first 10 years of life. What is bowel cancer? King Charles ADMITS Struggling With Cancer: 'Most Difficult Of Times' Bowel cancer, also known as colorectal cancer, is a type of cancer that develops in the colon or rectum. It can be caused by the abnormal growth of cells in the lining of the colon or rectum, often starting as small polyps. Symptoms can include blood in the stool, changes in bowel habits, abdominal pain, and sudden weight loss. How is colibactin linked to bowel cancer? Colibactin has been linked to bowel cancer before, but researchers had not specifically studied its effects on people under 50 until now. This link may help explain why bowel cancer is expected to be the leading cancer-related cause of death for young adults in the coming years. One possibility is that childhood infections produce colibactin, which then harms DNA in the bowel. These mutations can increase the chance of developing cancer later on, often many years after the colibactin is gone. Colibactin-related DNA mutations were found to be 3.3 times more common in adults diagnosed with cancer before age 40 compared to those diagnosed at 70 or older. In older patients, the DNA patterns were more often linked to normal aging. Causes of bowel cancer : Bowel cancer is a complex disease with multiple potential causes and risk factors, including age, family history, diet, lifestyle, and certain medical conditions. While the exact cause is not always known, certain factors can increase the likelihood of developing bowel cancer. Key risk factors: Age: The risk of bowel cancer increases significantly with age, with most cases occurring in individuals over 50. However, younger adults of the age group 25-49 are getting more susceptible to the disease with the passing days. Family history: A family history of bowel cancer or certain inherited conditions like Lynch syndrome or familial adenomatous polyposis (FAP) can increase the risk. Diet: A diet low in fiber and high in fat can increase the risk of bowel cancer. Consuming large amounts of red meat and processed meats has been linked to an increased risk. Lifestyle: Lack of regular physical activity, i.e., a sedentary lifestyle is associated with a higher risk of bowel cancer. Being overweight or obese increases the risk of developing bowel cancer. Smoking and alcohol consumption: Smoking tobacco is a known risk factor for bowel cancer. Excessive alcohol use can also increase the risk. Medical conditions: Inflammatory Bowel Disease (IBD): Individuals with chronic ulcerative colitis or Crohn's disease, which cause inflammation in the colon, have an increased risk of developing bowel cancer. Polyps: Bowel polyps, which are small growths on the lining of the colon, can sometimes develop into cancer. Radiation therapy: Previous radiation therapy to the abdomen can increase the risk of bowel cancer. Symptoms of bowel cancer : Bowel cancer symptoms can include changes in bowel habits, such as diarrhea, constipation, or a change in the frequency or appearance of stools. Other common symptoms include rectal bleeding or blood in the stool, abdominal pain or cramping, and a feeling that the bowel doesn't empty completely. Fatigue, unexplained weight loss, and weakness are also possible symptoms. Detailed look at symptoms: Changes in bowel habits: This can include diarrhea, constipation, or alternating between the two. You might also notice changes in the frequency or appearance of your stools, such as thinner than normal stools or ribbon-like stools. Rectal bleeding or blood in the stool (can range from bright red blood to dark, tarry blood) is also indicative of the disease. Abdominal pain or cramping: If the pain is persistent or intermittent and accompanied by bloating, youre advised to consult a healthcare professional. Feeling of incomplete bowel evacuation: You might feel like you need to defecate even after having a bowel movement. Tiredness and weakness: Fatigue and weakness can be caused by anemia, which can result from blood loss in the digestive tract. Unexplained weight loss: Weight loss without trying can be a sign of cancer. Other symptoms: Some people may experience other symptoms like a lump in the abdomen or back passage, nausea, vomiting, or a change in appetite. Bowel cancer, also known as colorectal cancer, frequently presents without noticeable symptoms in its nascent stages. This characteristic makes regular screening and heightened awareness crucial for early detection. As the disease progresses, individuals may begin to experience a range of symptoms, though these can often be subtle and easily mistaken for less serious conditions. Certain types of dietary fibre cause inflammatory response in some patients: Study Diet plays a crucial role in gut health. Hence, eating a diet that is nutritious and gut-friendly will do just the trick. Also, limiting ultra-processed foods, processed meats, sugary drink, can help. One step to a healthier youjoin Times Health+ Yoga and feel the change"
        ],
        [
         "19",
         "https://timesofindia.indiatimes.com/etimes/trending/this-anaconda-rivers-helicopter-view-will-haunt-your-nightmares-netizens-question-if-its-real-or-ai-generated-watch-now/articleshow/121465859.cms",
         "2022-01-01",
         "Times of India",
         "This anaconda rivers helicopter view will haunt your nightmares; netizens question if its real or AI generated | Watch now",
         "Source: X Artificial Intelligence has pushed digital creativity to new heights with a video many are calling the spookiest online. Trending rapidly, this AI-generated footage showcases hyper-realistic images that tap into deep-rooted fears and phobias. Unlike traditional videos filmed by humans, this clip is entirely created by AI, yet it elicits intense emotional reactions due to its haunting visuals and near-photorealistic quality. Eerie landscapes, distorted faces, uncanny movements, and surreal settings amplify the terror. This unsettling blend of technology and terror demonstrates AIs growing power to craft scenes that feel disturbingly real, blurring the line between imagination and reality in ways that both captivate and frighten viewers worldwide. Viral helicopter footage reveals massive anacondas beneath river The footage shows a man sitting quietly within a helicopter that is hovering over an expansive, thick forest. Beneath the helicopter, rather than a peaceful river, one sees an eerie view a river full of massive anacondas, snakes that are so huge and dense that the vision presents itself as dangerous right away. Even though a man flying by a helicopter is a commonplace thing, the appearance of such enormous snakes in the water is anything but normal or natural and gives a strange and terrifying turn to the video. Why the video is so frightening is not just the material but the quality of its presentation. The AI-generated imagery is so real that the viewer's mind automatically attempts to perceive the scene as real, triggering a gut fear reaction. A normal situation coupled with nightmare-like material creates such a sharp contrast that it unsettles viewers on a deep level. Social media reacts with fear, confusion, and fascination The instant the video was uploaded to the Internet, it immediately went viral, spreading like wildfire on social networking sites. Netizens responded in many ways some were simply horrified, while others were confused and did not know if what they were watching was real or manipulated digitally. The realism of the video was sufficient to confuse many into wondering if giant anacondas actually exist under that river, even if the image was so fantastical. This doubt triggered public debate. Some individuals admitted that viewing the video reawakened ancient fears of snakes and made them feel uneasy and nervous. Others were amazed at how real the AI had made natural components and movement, nearly deceiving people into thinking the impossible. AI or real? Viral anaconda river clip divides viewers The initial post was on the social media site X (previously known as Twitter), posted by user 'official_Sheye.' Within days of posting, the video had received a staggering 11 million likes, a sign of its viral appeal and powerful emotional draw on viewers. The caption of the post defined the video as a \"helicopter view of anaconda river,\" and cautioned viewers of the frightening scene, heightening the curiosity. The dramatic caption helped boost engagement, making the video an instant click magnet. Its popularity reflects how shock value and mystery fuel virality on social platforms. As viewers interacted with the video, the comment space transformed into an interesting blend of reactions. Most viewers reacted in disbelief, constantly questioning whether the video was authentic. Some indicated visual anomalies that betrayed its AI nature, including a two-headed snakesomething impossible in biology but a frequent occurrence in AI-generated imagery glitches. This generated a blend of skepticism and amusement among the viewers. The presence of digital artifacts sparked a wider conversation on AI and misinformation. Many users used the opportunity to discuss the growing challenge of spotting fake content. Others shared humorous takes, joking about their fears of flying helicopters or their villages chances against giant snakes, lightening the mood despite the eerie nature of the clip, which had quickly gone viral across multiple social media platforms. In the end, the viral anaconda river clip is a striking example of how powerful and convincing AI-generated content has become. Blending fear, fascination, and realism, the video shows just how easily digital creations can blur the line between fact and fictionleaving viewers both amazed and uneasy. Also Read | 66-year-old handwritten love letter in a bottle found among WWII-era beach ruins in Poland, sparking a lost love mystery"
        ],
        [
         "20",
         "https://timesofindia.indiatimes.com/education/news/ou-results-2025-osmania-university-declares-april-may-2025-ug-results-for-b-sc-bba-ba-and-b-com-programmes/articleshow/121494873.cms",
         "2022-01-01",
         "Times of India",
         "OU Results 2025: Osmania University declares April- May 2025 UG results for B.Sc, BBA, BA, and B.Com programmes",
         "Osmania University announces results for UG B.Sc, BBA, BA, and B.Com courses, April/May 2025 Osmania University results 2025: Osmania University, one of the oldest and most prestigious educational institutions in India, has officially declared the results for its undergraduate courses for the April/May 2025 examination session. The results encompass various programs, including B.Sc (Hons), B.Sc (CBCS), BBA, BA, and B.Com (CBCS), across multiple semesters. The examination results for UG-B.Sc (Hons) Semesters-IV & VI, as well as the UG-B.Sc (CBCS) Semesters-IV & VI (Regular and Backlog), were released today. ditionally, the results for UG-BBA (CBCS) (All Streams) Semesters-IV & VI, and UG-BA (CBCS) (All Streams) Semesters-IV & VI (Regular and Backlog), were also announced. The University has been highly focused on ensuring transparency and ease of access to results, with the official website providing real-time updates. Students can check their individual scores by logging into the university portal with their roll number and other necessary credentials. How to Check Osmania University Results for April-May 2025 Visit the official results portal Go to the designated URL mentioned above for Osmania University results.Enter your Hall Ticket Number You will need to input your unique 12-digit Hall Ticket Number in the provided field.Click on \"Submit\" After entering the Hall Ticket Number, click on the \"Submit\" button to proceed.View Your Result Your result will be displayed on the screen. Review your marks and performance for the respective examination.Save or Print the Result For future reference, you can save the result on your device or take a printout for offline documentation. Ensure that you have all the necessary details and a stable internet connection to check your results without interruptions. Direct link to check the OU Reuslts 2025 Osmania Universitys continuous emphasis on quality education is evident in its latest accreditation, where the institution received a prestigious A Grade from the National Assessment and Accreditation Council (NAAC). This achievement underscores the universitys commitment to maintaining high academic standards, offering world-class resources, and providing students with an environment conducive to learning. Ready to empower your child for the AI era? Join our program now! Hurry, only a few seats left."
        ],
        [
         "21",
         "https://timesofindia.indiatimes.com/education/news/rbse-class-5th-result-2025-declared-direct-link-to-download-rajasthan-class-5th-results-here/articleshow/121510500.cms",
         "2022-01-01",
         "Times of India",
         "RBSE Class 5th Result 2025 Declared: Direct link to download Rajasthan class 5th results here",
         "The Rajasthan Board of Secondary Education (RBSE) has announced the Class 5th exam results for the year 2025. The results were officially declared by the Education Minister, Madan Dilawar, via video conferencing on May 30, 2025, at 12:30 PM. Students who appeared for the exams can now check their results on the official websites rajshaladarpan.rajasthan.gov.in. To view their results, students need to enter their roll number, district, and block information. Where to check RBSE class 5th result? Students can easily check their results online using their roll numbers by visiting the official RBSE websites: rajshaladarpan.rajasthan.gov.in rajpsp.nic.in Once on the website, students need to select the Class 5 result link, enter their roll number and other necessary details, and submit the form to view their marksheets. It is advised to download and save a copy of the result for future reference. How to Check RBSE Class 5th Result? The direct link to download RBSE class 5th result is now active. Students and parents can access the results by following the steps mentioned below: Visit the official Shala Darpan portal . Click on the link titled Class 5 Result 2025. Enter your roll number and other required details. Submit the information to view your result. Download and print your marksheet for future reference. Ready to empower your child for the AI era? Join our program now! Hurry, only a few seats left."
        ],
        [
         "22",
         "https://timesofindia.indiatimes.com/education/study-abroad/1-8-million-and-rising-here-is-why-indian-students-prefer-studying-at-international-destinations/articleshow/121489474.cms",
         "2022-01-01",
         "Times of India",
         "1.8 million and rising: Here is why Indian students prefer studying at international destinations",
         "In a world increasingly defined by global mobility and knowledge economies, Indian students are emerging as one of the most significant forces shaping international education. According to the latest data from the Ministry of External Affairs (MEA), over 1.8 million Indian students are currently studying abroad in 2025a staggering rise from 1.3 million just two years ago. This dramatic increase is more than a statistical spike; it reflects deep shifts in educational aspirations, economic realities, and global migration patterns. The surge speaks volumes about the evolving mindset of India's youth, who are now looking beyond borders not just for academic credentials, but for global exposure, career opportunities, and a future they believe may be better built elsewhere. But what explains this exodus in such large numbers? Which countries are gaining, and which are falling out of favour? And how are changing visa rules, economic pressures, and political priorities shaping this landscape? Lets find answers here. 3 destinations Indian students love According to the MEA report 2025, the top destinations for Indian students in 2025 are the US, Canada, and UK. Here is what the report suggests. The United States Hosting 331,602 Indian students, the US has seen a 23% year-on-year increase since the academic year 2023-24. Notably, India has overtaken China as the largest source of international students in the US for the first time. While the US is currently experiencing a crackdown for international students, statistics released by the MEA show that it still remains one of the top international destinations hosting Indian students. This may be on the verge of change, as the Trump administration continues to make significant changes for international students. Canada Although Canada has long held its place as one of the most preferred destinations for Indian studentsthanks to its multicultural society, high-quality education, and clear pathways to permanent residencyit has recently seen a noticeable dip in Indian student enrolments. According to the Ministry of External Affairs, Canada hosted 233,532 Indian students in 2023, but this number declined to 137,608 in 2024, representing a significant 41% decrease. This decline is linked to stricter visa rules, higher financial requirements, and diplomatic tensions between the two countries. Despite these setbacks, Canada remains a favored destination, though many students are now exploring more accessible alternatives. United Kingdom The UK follows closely with 98,890 Indian students, also down from previous years. In 2024, the number of Indian students in the UK declined by approximately 28% compared to the previous year. Specifically, the count dropped from 136,921 in 2023 to 98,890 in 2024, marking a decrease of 38,031 students. Stricter visa rules, especially restrictions on bringing dependents, along with rising tuition and living costs have made the UK less attractive. Despite this, its prestigious universities and one-year masters programs continue to draw many students. Why are more Indian students choosing to study abroad? Indian students are constantly looking for opportunities to move abroad for higher education and work. Here is why: Limited seats at home Premier Indian institutions like the IITs, IIMs, and AIIMS offer high-quality education but have limited seats. The stiff competition drives many qualified students to explore overseas options where they have a better chance of accessing elite education. Better career and migration opportunities International degrees are often seen as gateways to global employment markets. Countries like the US and Canada offer pathways to post-study work and permanent residency, enhancing the long-term value of studying abroad. Affordable education in Europe With rising costs in traditional destinations, many Indian students are turning to Germany, where most public universities charge little or no tuition. Scholarships and living cost subsidies also make countries like France and Italy increasingly appealing. Financial support and scholarships Many foreign universities, especially in the UK and Australia, are increasing scholarships for Indian students. These financial incentives reduce the burden on families and improve access to quality education. Global exposure and cultural diversity Studying abroad offers more than just academic learningit provides students with a chance to experience global cultures, improve communication skills, and build international networks that can last a lifetime. As immigration policies continue to evolve and new education hubs emerge, Indian students are navigating the global education map with more defined strategies than ever before. Ready to empower your child for the AI era? Join our program now! Hurry, only a few seats left."
        ],
        [
         "23",
         "https://timesofindia.indiatimes.com/education/news/ts-dost-2025-phase-1-seat-allotment-list-released-check-direct-link-to-download-here/articleshow/121492248.cms",
         "2022-01-01",
         "Times of India",
         "TS DOST 2025 phase 1 seat allotment list released: Check direct link to download here",
         "The Telangana State Council of Higher Education (TSCHE) has released the phase 1 seat allotment result for Degree Online Services, Telangana (DOST) today, May 29. Candidates who registered for admissions at the TS DOST 2025 portal can now access the phase 1 results by visiting the official website, dost.cgg.gov.in. Candidates who have been allotted seats in the phase 1 will have to complete their self reporting process to confirm their admission. The last date for reporting for TS DOST round 1 is June 9, 2025. Failing to report before the deadline will result in disqualification. Meanwhile, candidates who are not allotted seats in round 1 will be eligible for round 2. How to check TS DOST round 1 seat allotment result? Candidates who participated in TS DOST round 1 seat allotment can check the results by following the steps below: Visit the official website, dost.cgg.gov.in. Click on the link to login to the candidate portal Enter the required details and submit Now, navigate and click on the link for phase 1 seat allotment results Once the result is displayed, confirm your allotment and download the PDF for future reference Documents required for TS DOST verification To confirm their admission in TS DOST phase 1, candidates are required to report to their respective colleges before June 9, 2025. Students are required to submit the following list of documents for verification: Class 10th and 12th marksheets/certificates TS DOST seat allotment letter Valid ID proof (preferably Aadhar) Transfer certificate Caste certificate (if applicable) PwD certificate (if applicable) Whats next? Candidates who are not allotted seats in round 1 are eligible for round 2. The TS DOST round 2 registration process will begin on May 30, 2025 and will continue till June 6, 2025. Candidates will be able to apply till June 8 with a late fee of Rs. 400. Following the registration process, TS DOST round 2 seat allotment result will be published on June 13, 2025 at dost.cgg.gov.in. For more information about TS DOST seat allotment results, candidates are advised to visit the official website. Ready to empower your child for the AI era? Join our program now! Hurry, only a few seats left."
        ],
        [
         "24",
         "https://timesofindia.indiatimes.com/education/news/hp-tet-june-2025-hpbose-releases-admit-cards-for-tgt-arts-medical-subjects-on-hpbose-org-check-schedule-and-direct-link-here/articleshow/121466046.cms",
         "2022-01-01",
         "Times of India",
         "HP TET June 2025: HPBOSE admit cards for TGT Arts, Medical subjects released on hpbose.org; check schedule and direct link here",
         "HPBOSE releases admit cards for TET June 2025 exams for TGT Arts, Medical subjects HPBOSE TET June 2025 admit card: The Himachal Pradesh Board of School Education (HPBOSE) has officially released the admit cards for the upcoming Teacher Eligibility Test (TET) for June 2025. The highly anticipated exams, which will be conducted for Trained Graduate Teacher (TGT) Arts and TGT Medical subjects, are scheduled for June 1, 2025. Candidates who have registered for the exams can now download their admit cards from the official HPBOSE website. In its recent press release, HPBOSE outlined the details of the examination, including the schedule, timings, and number of candidates appearing for each subject. Along with this, the board highlighted the importance of the admit card, which is an essential document for entry to the exam centre. Candidates are encouraged to download their admit cards at the earliest to avoid any last-minute hassles. Important dates and timings for the exam The TET June 2025 exams will take place on June 1, 2025, with separate time slots for TGT Arts and TGT Medical subjects. The TGT Arts exam will begin at 10:00 AM and end at 12:30 PM, while the TGT Medical exam will be held from 2:00 PM to 4:30 PM. Both exams are of 2.5 hours in duration. The Arts exam is expected to have 12,519 candidates, while 4,510 candidates will appear for the Medical exam. HPBOSE TET June 2025: Important dates and timings Event Date TET Exam for TGT Arts June 1, 2025 TET Exam for TGT Medical June 1, 2025 mit Card Availability Available now ( Direct Link ) Exam Timings (TGT Arts) 10:00 AM - 12:30 PM Exam Timings (TGT Medical) 2:00 PM - 4:30 PM How to download the HPBOSE TET June 2025 admit card Candidates who are appearing for the TET June 2025 exams can access their admit cards through the official HPBOSE website at To download the admit card, candidates will need to enter their application number and date of birth. It is important to carry a printed copy of the admit card to the exam centre on the day of the examination. Direct link to download the HPBOSE TET June 2025 admit card In case of any issues with downloading the admit card, candidates can contact the HPBOSE helpline at 01892-242192, 01892-242, or 229037. ditionally, candidates may also reach out to the Boards email address at hpbose 2011@gmail.com for assistance. Ready to empower your child for the AI era? Join our program now! Hurry, only a few seats left."
        ],
        [
         "25",
         "https://timesofindia.indiatimes.com/sports/cricket/ipl/top-stories/virat-kohli-the-force-behind-rcbs-dominant-march-to-ipl-2025-final/articleshow/121502906.cms",
         "2022-01-01",
         "Times of India",
         "Virat Kohli: The force behind RCB's dominant march to IPL 2025 final",
         "Virat Kohli (Pic credit: IPL) TimesofIndia.com in Mullanpur: Virat Kohli wears his heart on his sleeve. After Royal Challengers Bengaluru's (RCB) thumping eight-wicket win over Punjab Kings (PBKS) in Qualifier 1, Kohli was seen gesturing \"just one more to go.\" Go Beyond The Boundary with our YouTube channel. Could 2025 finally be the year RCB break their title drought? Will it be the year the curse is lifted? Will Kohli finally lay his hands on the elusive title he has been chasing since the inaugural edition now? Everything will be answered on June 3 in Ahmedabad. Who's that IPL player? On Thursday night, Kohli gave a glimpse of why this is a tournament where he refuses to lose. He is the leading run-getter for RCB in this year's IPL and seemed to run on something extra, call it a desire, a resolve, or a motivation. And it was no different last night. The aggression and intensity Virat showed in the field made him look like a wounded lion who had tasted blood. Poll Will 2025 be the year RCB finally breaks their title drought? Yes, definitely! No, they will fall short again. The energy with which he was patrolling the RCB troops gives you a reminder of Kohli, the \"in-your-face captain.\" He displayed a range of emotions in a single match: the thumping of the RCB badge, which holds a special place in his heart; the jubilation after fall of every PBKS wicket; the fist pump in the air; rushing from the boundary line to celebrate every wicket Kohli was at his cinematic best. As RCB's pace trio of Josh Hazlewood , Yash Dayal, and Bhuvneshwar Kumar came all guns blazing, it seemed Kohli forgot that he was not the captain of RCB as he was calling all the shots. He may no longer wear the captains armband, but on the field, he continues to lead. His energy is relentless, his presence impossible to ignore. He was central to every tactical move constantly in the bowlers ears, or in the fielders eyeline when they erred. A growl, a stare his expressions spoke volumes without a single word. Physically, he remains a remarkable athlete enduring long spells under the punishing sun with unwavering stamina. His boundless energy continues to offset the natural decline in reflexes that comes with age. RCB pacer Hazlewood summed up Kohli's energy in just one short sentence: \"Virat's always up and about in the field,\" he told reporters after the match. He was at his theatrical best in the field, but on a wicket which had something to offer for the fast bowlers, his recurring susceptibility outside the off-stump was on display as well. The extra bounce on the sixth-stump line, which he ended up poking, did the trick. It was a dismissal reminiscent of those that kind of put the last nail in his Test career in Australia. Virat Kohlis Playful Side Lights Up Chandigarh Airport with Anushka Sharma But come June 3 in Ahmedabad, the pitch won't have this amount of bounce. The Narendra Modi Stadium favours batters, and RCB will bank on Kohli to not just guide them to their first title but also to achieve redemption by winning a trophy in front of one hundred thousand spectators. So tighten your seatbelt, as we might be in for \"one last dance\" from one of the all-time greats."
        ],
        [
         "26",
         "https://timesofindia.indiatimes.com/sports/cricket/india-tour-of-england/i-am-ready-cheteshwar-pujara-breaks-silence-on-gautam-gambhirs-call-for-england-tour/articleshow/121488605.cms",
         "2022-01-01",
         "Times of India",
         "'Have you received a phone call from Gambhir yet?' Cheteshwar Pujara answers ahead of England tour",
         "Gautam Gambhir and Cheteshwar Pujara NEW DELHI: Indias batting mainstays Virat Kohli and Rohit Sharma, along with ace spinner Ravichandran Ashwin, have retired from Test cricket, while star pacer Mohammed Shami will miss the crucial five-match series in England due to fitness issues. All eyes are now on the Shubman Gill-led Indian side, widely regarded as one of the most inexperienced teams to tour England in recent memory. India Test squad vs England: Ajit Agarkar full press conference In the absence of Kohli and Rohit, India's batting line-up appears quite thin in experience. So, could the selectors consider recalling experienced campaigners like Cheteshwar Pujara or Ajinkya Rahane , who are yet to retire from the traditional format, to strengthen the top order? Go Beyond The Boundary with our YouTube channel. During a recent interview, Pujara was asked whether Gautam Gambhir had reached out to him regarding the England tour. Poll How do you feel about Shubman Gill being appointed as Test captain at just 25 years old? Excited for his leadership Concerned about his inexperience \"No, not yet,\" Pujara told Lallantop when asked, \"Have you received a phone call from Gambhir yet?\" Also See: MI vs GT IPL Live Score The 103-Test veteran expressed his readiness to return if given the opportunity. RCB vs PBKS, IPL 2025, Qualifier 1: Quick singles from Mullanpur \"I am ready. I don't know if they will take me or not. But if I get a chance, yes, it will be an honour to represent the country again. As a cricketer, you always feel that as long as you are fit, as long as you are contributing, and if I have a good performance in domestic cricket, and I am preparing well, if I get a chance, yes, I will be more than happy to be part of the team,\" Pujara said. Shubman Gill has been handed the responsibility of leading the Indian Test team through a massive transition period, with the dynamic Rishabh Pant appointed as his deputy for what is expected to be a stern challenge in English conditions. At just 25, Gill becomes Indias fifth youngest Test captain, following in the footsteps of Mansoor Ali Khan Pataudi (21), Sachin Tendulkar (23), Kapil Dev (24), and Ravi Shastri (25). The first Test against England is scheduled to begin on June 20 in Leeds. India Test squad vs England: Ajit Agarkar full press conference \"Last year or so we have looked at Shubman (for leadership). We are hopeful he is the guy who is going (to take the team forward). It is a high pressure job but he is a terrific player. We wish him all the best,\" said chief selector Ajit Agarkar after announcing the 18-member squad, which included no major surprises. Explaining Pants appointment as vice-captain, Agarkar added: \"Pant is one of our best batters in Test cricket over the last four-five years. A wicketkeeper can see the game well and that's why he is Shubman's deputy.\" The squad also features maiden Test call-ups for promising left-hander B Sai Sudharsan and left-arm pacer Arshdeep Singh."
        ],
        [
         "27",
         "https://timesofindia.indiatimes.com/sports/cricket/ipl/top-stories/rcb-enter-ipl-2025-final-how-to-buy-tickets-for-the-summit-clash-in-ahmedabad/articleshow/121506301.cms",
         "2022-01-01",
         "Times of India",
         "RCB enter IPL 2025 final: How to buy tickets for the summit clash in Ahmedabad",
         "RCB players (IPL Photo) Royal Challengers Bengaluru (RCB) stormed into their fourth Indian Premier League ( IPL ) final with a dominant eight-wicket win over Punjab Kings in Qualifier 1 on Thursday. With a maiden title now just one win away, RCB fans are scrambling for tickets to witness the grand finale on June 3 at the Narendra Modi Stadium in Ahmedabad. Go Beyond The Boundary with our YouTube channel. Virat Kohlis side, three-time runners-up (2009, 2011, 2016), delivered a clinical performance at the Maharaja Yadavindra Singh International Cricket Stadium in Mullanpur to book their spot in the IPL 2025 final. Who's that IPL player? As anticipation soars, here's all you need to know about securing tickets for the much-awaited clash. Poll Are you planning to attend the IPL 2025 Final in Ahmedabad? Yes, got my tickets! No, can't make it. The BCCI had earlier confirmed that tickets for the IPL 2025 playoffs would be available starting May 24. However, tickets for the final, along with Qualifier 2, officially went on sale from May 26. Josh Hazlewood - we picked up momentum from Jiteshs knock in Lucknow How to Buy IPL 2025 Final Tickets Official Partner: District by Zomato is the official ticketing platform for the IPL 2025 playoff stage. RuPay Cardholders: Enjoyed a 24-hour exclusive priority window on May 26 to book tickets for Qualifier 2 (June 1) and the Final (June 3). General Sales: Opened on May 27 for all users through District by Zomatos website and app. Fans are advised to act fast, as high demand is expected. The final phase of IPL 2025 features RCB, Punjab Kings, Gujarat Titans and Mumbai Indians. After thrilling fixtures in Chandigarh, all eyes now turn to Ahmedabad, where Kohlis men aim to end their long title drought in front of a packed house."
        ],
        [
         "28",
         "https://timesofindia.indiatimes.com/sports/cricket/ipl/top-stories/who-is-anushka-sharmas-friend-in-rcbs-qualifier-win-over-pbks-internet-wants-to-know/articleshow/121506875.cms",
         "2022-01-01",
         "Times of India",
         "Who is Anushka Sharma's friend in RCB's Qualifier 1 win over PBKS? Internet wants to know",
         "Anushka Sharma with her fan during RCB vs PBKS match. (X Photo) Bollywood star Anushka Sharma once again made headlines not just for her spirited presence at the stadium cheering for husband Virat Kohli but also for the mystery surrounding her companion during Royal Challengers Bengaluru's (RCB) emphatic win over Punjab Kings in Qualifier 1 of IPL 2025. RCB secured a commanding eight-wicket victory on Thursday in Mullanpur to book a spot in their fourth IPL final. Go Beyond The Boundary with our YouTube channel. While fans celebrated the on-field action, online chatter centered around the woman seated next to Anushka in the stands. Social media platforms like X were flooded with curious queries like, Who is sitting with Anushka Sharma? and Who is the woman next to her? Who's that IPL player? The woman in question is Malvika Nayak, a long-time friend of Anushka Sharma. The duo share a close bond and are often seen attending matches together or going on outings with their respective spouses. Malvika was also spotted alongside Anushka during RCB's recent clash against Lucknow Super Giants. Poll Are you excited to see RCB in the IPL final? Super Excited! Cautiously Optimistic Not a Fan of RCB According to her LinkedIn profile, Malvika is an MBA graduate from Manipal Academy of Higher Education and currently oversees Business Development & Partnerships at Innoz Technologies Pvt. Ltd. Malvika is married to Nikhil Sosale, who serves as the Head of Marketing & Revenue for RCB at Diageo India. Anushka, Virat, Malvika and Nikhil have previously been seen hanging out together, making them one of the more recognisable friend circles off the pitch. Virat Kohlis Playful Side Lights Up Chandigarh Airport with Anushka Sharma Anushka's consistent presence during RCB matches in IPL 2025 has been heartwarming for fans. With RCB now just one win away from a historic maiden title, the star actor's support from the stands remains a lucky charm."
        ],
        [
         "29",
         "https://timesofindia.indiatimes.com/sports/cricket/ipl/top-stories/what-happens-if-gujarat-titans-vs-mumbai-indians-ipl-eliminator-gets-washed-out-in-mullanpur/articleshow/121507966.cms",
         "2022-01-01",
         "Times of India",
         "What happens if Gujarat Titans vs Mumbai Indians IPL Eliminator gets washed out in Mullanpur?",
         "Hardik Pandya and Shubman Gill The IPL 2025 playoffs continue with a blockbuster Eliminator clash between Gujarat Titans (GT) and Mumbai Indians (MI) at the Maharaja Yadavindra Singh International Cricket Stadium in Mullanpur on Friday. Go Beyond The Boundary with our YouTube channel. With Royal Challengers Bengaluru (RCB) already sealing a place in the final after their emphatic win over Punjab Kings in Qualifier 1, todays winner will earn the right to face PBKS in Qualifier 2 on June 1 in Ahmedabad. Who's that IPL player? However, even as fans gear up for the high-octane encounter between the two former champions, the lingering question remains: What if rain plays spoilsport? Poll Who do you think will win the Eliminator clash between Gujarat Titans and Mumbai Indians? Gujarat Titans Mumbai Indians It's too close to call Weather Update: According to the Indian Meteorological Department (IMD), Mullanpur may witness partly cloudy skies with chances of brief rain or thundershowers in certain areas. Temperatures could reach 40C during the day before dipping to the low 20s in the evening. Also See: MI vs GT IPL Live Score Fortunately, forecasts from AccuWeather suggest a 0% chance of rain during the match, though the skies are expected to remain cloudy. Earlier in the day, Mullanpur did receive a spell of heavy rain, but conditions have significantly improved leading into the game. Shubman Gill story: From a remote village near the border to Indias Test captain What happens if rain disrupts play? There is no reserve day for the Eliminator. If weather interferes and prevents even the minimum required five overs per side from being bowled, the match will be declared a no-result. In such a scenario, Gujarat Titans, having finished higher on the league stage points table, will progress to Qualifier 2, while Mumbai Indians will be eliminated from IPL 2025. The cut-off time for a reduced-overs match will follow IPL's standard playing conditions, with the organisers attempting to squeeze in the maximum possible action before that limit is reached."
        ],
        [
         "30",
         "https://timesofindia.indiatimes.com/sports/cricket/ipl/top-stories/ipl-match-today-gt-vs-mi-team-prediction-head-to-head-pitch-report-mullanpur-weather-update/articleshow/121509838.cms",
         "2022-01-01",
         "Times of India",
         "IPL match today, GT vs MI: Team prediction, head-to-head, pitch report, Mullanpur weather update",
         "Gujarat Titans captain Shubman Gill with his Mumbai Indians counterpart Hardik Pandya. (IPL Photo) Shubman Gill s Gujarat Titans will clash with five-time champions Mumbai Indians in a high-stakes IPL 2025 Eliminator in Mullanpur on Friday. While both teams boast playoff experience, they also enter the knockout fixture with notable concerns. Gujarat Titans, who won the title in 2022, have lost momentum, particularly in their bowling department. They have conceded 465 runs in their last two games, and the absence of Jos Buttler, who returned for national duty, further weakens their batting lineup. Gill, along with key players like Sai Sudharsan and Kusal Mendis, will need to anchor the innings, as the middle order lacks consistency. Go Beyond The Boundary with our YouTube channel. Mumbai Indians, led by Hardik Pandya , are also grappling with the exit of foreign players such as Ryan Rickelton and Will Jacks. Jonny Bairstow is expected to fill the gap at the top alongside Rohit Sharma, while Suryakumar Yadav remains their standout batter with 640 runs. Concerns persist over the form of Tilak Varma and the pace of scoring when batting first. However, Mumbais strong bowling lineup continues to be a major weapon. Poll Which team do you think will win the IPL 2025 Eliminator between Gujarat Titans and Mumbai Indians? Gujarat Titans Mumbai Indians Who's that IPL player? With no room for error, both Gill and Pandya have much to prove as they seek to guide their teams into Qualifier 2 and inch closer to the IPL 2025 title. Also See: MI vs GT IPL Eliminator Live Score GT vs MI Head-to-Head Total matches played: 7 Gujarat Titans: 5 Mumbai Indians: 2 GT vs MI: Pitch Report The pitch at Mullanpur features square boundaries of 62 and 65 metres, with a straight boundary of 73 metres, making it deceptively large. The pitch is grassy, assisting batters with good bounce and carry. One end has extra grass aiding pacers, while the other has bare patches where spinners may operate, potentially offering some grip. Dew is expected due to moisture in the air. Batting first is the preferred option for captains after winning the toss. 'I don't want to be a one-season wonder': Punjab Kings' Shashank Singh GT vs MI: Predicted XIs Gujarat Titans predicted XI: Shubman Gill (c), Sai Sudharsan, Sherfane Rutherford, Shahrukh Khan, Rahul Tewatia, Anuj Rawat (w), Rashid Khan, Gerald Coetzee, Ravisrinivasan Sai Kishore, Mohammed Siraj, Prasidh Krishna Impact Sub: Ishant Sharma Mumbai Indians predicted XI: Jonny Bairstow (w), Rohit Sharma, Corbin Bosch, Suryakumar Yadav, Tilak Varma, Hardik Pandya (c), Naman Dhir, Mitchell Santner, Deepak Chahar, Trent Boult, Jasprit Bumrah Impact Sub: Karn Sharma GT vs MI: Mullanpur Weather update As per the Indian Meteorological Department (IMD), Mullanpur is likely to experience partly cloudy skies, with the possibility of short spells of rain or thundershowers in isolated areas. Daytime temperatures may peak around 40C, cooling down to the low 20s by evening. However, AccuWeather offers a more optimistic outlook for match time, predicting a 0% chance of rainfall despite persistent cloud cover. While the region saw a bout of heavy rain earlier in the day, weather conditions have markedly improved in the lead-up to the game. GT vs MI: Live Streaming details The GT vs MI Eliminator match will be played at the Maharaja Yadavindra Singh International Cricket Stadium, Mullanpur, Chandigarh. The match will start at 7:30 pm. The match will be telecasted on Star Sports Network and live streaming will be on JioHotstar. GT vs MI squads Gujarat Titans: Shubman Gill (captain), Sai Sudharsan, Kumar Kushagra, Anuj Rawat, Rashid Khan, Rahul Tewatia, Shahrukh Khan, Nishant Sindhu, Ravisrinivasan Sai Kishore, Gerald Coetzee, Jayant Yadav, Arshad Khan, Karim Janat, Sherfane Rutherford, Mahipal Lomror, Washington Sundar, Manav Suthar, Gurnoor Brar, Ishant Sharma, Kagiso Rabada, Prasidh Krishna, Kulwant Khejroliya, Mohammed Siraj, Dasun Shanaka, Kusal Mendis, Jos Buttler. Mumbai Indians: Hardik Pandya (captain), Suryakumar Yadav, Rohit Sharma, Tilak Varma, Bevon Jacobs, Robin Minz, Krishnan Shrijith, Naman Dhir, Raj Bawa, Mitchell Santner, Jasprit Bumrah, Arjun Tendulkar, Ashwani Kumar, Reece Topley, Karn Sharma, Trent Boult, Deepak Chahar, Satyanarayana Raju, Mujeeb Ur Rahman, Raghu Sharma, Jonny Bairstow, Richard Gleeson, Charith Asalanka."
        ],
        [
         "31",
         "https://timesofindia.indiatimes.com/india/not-a-single-project-completed-on-time-air-chiefs-blunt-warning-over-delays-in-defence-procurements/articleshow/121486643.cms",
         "2022-01-01",
         "Times of India",
         "'Not a single project completed on time': Air Chief's blunt warning over delays in defence procurements",
         "NEW DELHI: Air Chief Marshal Amar Preet Singh on Thursday issued a strong call for accountability and urgency within Indias defence procurement and manufacturing ecosystem, citing constant delays in project timelines. Speaking at an event in Delhi, Air Chief expressed deep concern over the consistent failure of defence projects to meet delivery deadlines. \"Many times, we know while signing contracts that those systems will never come. Not a single project that I can think of has been completed on time,\" he said, questioning why unrealistic timelines are promised at the time of contract signing. \"Why should we promise something which cannot be achieved?\" he said. Act East, Act Fast: PM Modi's MEGA PUSH For Development in Sikkim, launches multiple infra projects He highlighted the detrimental effects such practices have on capacity-building and the broader strategic posture of the armed forces. \"The process gets vitiated, Singh noted, urging all stakeholders to reflect seriously on the credibility of their commitments. Poll What is more important for strengthening India's defence sector? Timely delivery of defence projects Focus on indigenous design and development Air Chief called for a stronger partnership between the armed forces and Indian industry, stressing the need to move beyond manufacturing and focus on indigenous design and development in defence. We must begin designing and developing defence systems in India, not just producing them, he said. Once we reach the stage of mass production, capacity naturally follows. But the foundation must be trust, between the forces and industry, to make this possible. Quoting famous Salman Khan dialogue to underline the seriousness of commitment, he added: Ek baar jo humne commit kiya hain, fir mein apne aap ki bhi nahi sunta . (Once weve made a commitment, we dont even listen to ourselves.) Singh also emphasised the enduring centrality of air power in military operations. Whether its land or naval warfare, air power remains indispensable. Any kind of operation, as demonstrated in Operation Sindoor, is incomplete without it, he said. In a rare moment of candour, the Air Chief also touched upon the culture of restraint within the defence forces, saying the services have often refrained from calling out underperformance explicitly. Even defence forces have been keeping this restraint of not calling, you know, a black sheep, a black sheep, he said, warning that such restraint cannot continue indefinitely. The Chiefs remarks come as India increasingly looks to the private sector to shoulder a greater role in defence production under the Aatmanirbhar Bharat initiative. Quoting Winston Churchill, Singh urged the private sector to seize this pivotal moment. Each day comes in their lifetime a special moment when they are figuratively tapped on the shoulder and offered a chance to do something special, he said. What a tragedy if that moment finds them unprepared for that which could have been their finest hour. In a passionate appeal, he challenged Indian industry leaders to rise above short-term profits and contribute meaningfully to the countrys defence preparedness. If today somebody is manufacturing world-class cars, world-class electronics, world-class equipment in the civil domain, why can't that industry or some of the industry join together and say we will make world-class military equipment? he said. This is your tap on the shoulder. Please rise to the occasion, he said. We must now focus on becoming future-readythat is the real concern, Singh said. He noted that while the Indian industry and the Defence Research and Development Organisation (DRDO) may deliver more over the next decade, the immediate needs of today cannot be postponed. Earlier, the Air Chief had said his confidence in defence PSU Hindustan Aeronautics Ltd (HAL) continues to erode over its failure to fix delays in delivery and upgrades to the light combat aircraft Tejas. \"You have to alleviate (our) worries and make us more confident. At the moment, I am just not confident of HAL, which is a very wrong thing to happen,\" Singh had said in February. \"I can tell you (HAL) what our requirements and worries are,\" he was heard saying in a video, purportedly referring to the PSU."
        ],
        [
         "32",
         "https://timesofindia.indiatimes.com/sports/nfl/news/miami-dolphins-reluctant-to-trade-jalen-ramsey-due-to-his-expensive-contract-and-trade-market-challenges/articleshow/121497366.cms",
         "2022-01-01",
         "Times of India",
         "Miami Dolphins reluctant to trade Jalen Ramsey due to his expensive contract and trade market challenges",
         "Jalen Ramsey trade standoff as Dolphins resist contract terms (Image via: Getty Images) The Miami Dolphins and Jalen Ramsey saga is quickly turning into one of the most talked-about stories in the NFL. Once a key player in Miamis defense, Ramsey now faces a turning point. His relationship with the team has become strained, and his big contract is making a trade complicated. But is Miami holding back only because of the money, or is there more to this situation that fans and experts havent figured out yet? The real reason behind Jalen Ramsey trade deadlock Jalen Ramseys time in Miami is undeniably strained. Rumors swirl that his locker room relationships have soured, and the Dolphins appear ready to move on. Yet, the real obstacle isnt just about player dynamics, its about the massive financial burden Ramseys contract places on Miamis salary cap. The Dolphins are clear: they want to trade Ramsey but refuse to shoulder much of his guaranteed money, creating a complicated dance with potential suitors. ESPN insider Jeremy Fowler shed light on the hold-up, emphasizing that while interest in Ramsey is high, teams are wary of taking on the full financial weight of his deal. This isnt just a minor negotiation; its a power play over millions in guaranteed cash. Miamis strategy is to wait until after June 1, a date when the NFLs salary cap rules allow them to free up significant cap space by moving Ramsey. This waiting game has frustrated many, as it delays the inevitable. A dam Schefters reports underline this growing impatience, noting that a trade announcement could come as soon as June but wont be processed until the post-June 1 window opens. Meanwhile, Dolphins coach Mike McDaniel keeps a tight lip on the matter, focusing publicly on the current roster and refusing to elaborate on Ramseys uncertain future. Amid all this, Ramsey himself took to social media, trying to defuse fan backlash and clarify his mindset. His message was a rare glimpse into his perspective, he hasnt lost respect for the cities and fans hes played for, but hes clearly ready to turn the page. Also Read: Pittsburgh Steelers risk 2025 season by choosing rookie Will Howard over Aaron Rodgers Whatever happens next, Jalen Ramseys Miami chapter is closing amid controversy and financial chess, setting the stage for a high-stakes move that could redefine both the players career and the Dolphins future defense. Fans are watching closely, waiting to see if Miami can finally cut ties without paying too high a price and whether Ramsey can find redemption elsewhere."
        ],
        [
         "33",
         "https://timesofindia.indiatimes.com/sports/cricket/india-tour-of-england/india-a-vs-england-lions-live-streaming-where-to-watch-and-full-schedule/articleshow/121497522.cms",
         "2022-01-01",
         "Times of India",
         "India A vs England Lions: Live Streaming, Where to Watch and Full Schedule",
         "Abhimanyu Easwaran (AFP Photo) NEW DELHI: Ahead of the crucial five-match Test series between India and England, India A will face off against the England Lions in the first of two Unofficial Tests starting May 30, Friday, at the St. Lawrence Ground, Canterbury. Leading India A is captain Abhimanyu Easwaran , who will be backed by a strong squad featuring notable players such as Yashasvi Jaiswal, Karun Nair, Ruturaj Gaikwad and Shardul Thakur. Go Beyond The Boundary with our YouTube channel. India A Squad: Captain: Abhimanyu Easwaran Vice-Captain & Wicketkeeper: Dhruv Jurel Batters: Yashasvi Jaiswal, Karun Nair, Ruturaj Gaikwad, Sarfaraz Khan All-rounders: Nitish Kumar Reddy, Shardul Thakur, Manav Suthar, Tanush Kotian Wicketkeeper: Ishan Kishan Bowlers: Mukesh Kumar, Akash Deep, Harshit Rana, Anshul Kamboj, Khaleel Ahmed, Tushar Deshpande, Harsh Dubey The England Lions, led by Somersets James Rew, bring a balanced mix of emerging talents and experienced campaigners. Notably, all-rounder Chris Woakes returns after recovering from an ankle injury ahead of the five-match series. Why no Shreyas Iyer for England tour? Coach Gautam Gambhir opens up Poll Who do you think will win the first Unofficial Test between India A and England Lions? India A England Lions England Lions Squad: Captain: James Rew Batters: Jordan Cox, Emilio Gay, Tom Haines, Ben McKinney All-rounders: George Hill, Dan Mousley, Rehan Ahmed, Chris Woakes Bowlers: Sonny Baker, Ajeet Singh Dale, Rocky Flintoff, Josh Hull, Eddie Jack, Farhan Ahmed Where to watch India A vs England Lions 2025 live: The matches will be live-streamed on the ECB website and app but wont be broadcast on any TV channels in India. Match Schedule: May 30, Friday: 1st Unofficial Test St. Lawrence Ground, Canterbury, 3:30 PM IST June 6, Friday: 2nd Unofficial Test County Cricket Ground, Northampton, 3:30 PM IST This series offers a valuable platform for both sides fringe and upcoming players to stake their claim ahead of the main India-England Test clash."
        ],
        [
         "34",
         "https://timesofindia.indiatimes.com/india/operation-sindoor-how-indias-homegrown-weapons-outclassed-chinese-arms/articleshow/121485763.cms",
         "2022-01-01",
         "Times of India",
         "Operation Sindoor: How India's homegrown weapons outclassed Chinese arms",
         "India's Operation Sindoor was more than a stunningly successful military campaign; it was a showcase of cutting-edge technology, a clear message to global defence markets, and a strategic model for the future. According to military expert John Spencer , India demonstrated to the world the true meaning of self-reliance in modern warfare, proving that the vision of \"Atmanirbhar Bharat\" stands strong even in the heat of battle. Pakistan: China's proxy In a post on X, Spencer said India engaged the conflict as a sovereign power, utilising precision weaponry that it independently designed, manufactured, and deployed with superior battlefield command. In contrast, Pakistan operated as a proxy force, relying heavily on Chinese military hardware equipment produced primarily for export rather than for battlefield superiority. Poll In your opinion, which country poses a greater challenge to India's defense strategy? China Pakistan Both are equally challenging. When put to the test, these systems faltered, revealing the fundamental weaknesses in Islamabads defense strategy and shortcomings of Chinese-made weapons systems. India wins market battle too The global financial markets also responded swiftly. Indian defense stocks soared, with Paras Defence & Space climbing 49% in May, while MTAR Technologies and Data Patterns also gained significant investor confidence. Conversely, Chinese defense companies such as AVIC, NORINCO, and CETC experienced sharp declines as the realities on the battlefield undermined their market claims. Operation Sindoor transcended a mere military engagement; it served as a powerful demonstration of technological prowess, a clear signal to markets, and a strategic roadmap. India showcased the strength of self-reliance in modern warfare, affirming that the vision of 'Atmanirbhar Bharat' holds true even under the most demanding conditions. How Indian weapons trumped Chinese arms In a long post on X titled ' Indias Operation Sindoor: A Battlefield Verdict on Chinese WeaponsAnd Indias Victory ', Spencer went into detail on how India-made defence systems easily intercepted and destroyed Chinese weapons, and how India was able to bypass Chinese defence systemts to effectively strike all terror and military targets deep inside Pakistan. Spencer credited initiatives such as 'Make in India' and 'Atmanirbhar Bharat' for India's stellar performance during Operation Sindoor. \"Indias transformation into a modern defense power began in 2014, when PM Modi launched the \"Make in India\" initiative. Within a few years, systems like the BrahMos missile, K 9 Vajra howitzer, and AK-203 rifle were being produced inside India many with technology partnerships but increasing domestic control.\" \"Then came a second wave. In 2020, the combined shock of the Covid-19 pandemic and the Galwan Valley clash with China exposed the fragility of foreign supply chains and the urgency of operational self-reliance. In response, PM Modi unveiled Atmanirbhar Bharat. By 2025, India had increased domestic content in defense procurement from 30% to 65%, with a goal of 90% by the decades end.\" \"Operation Sindoor pitted India's indigenously developed weapons systems against Chinese-supplied platforms fielded by Pakistan. And India didnt just win on the battlefield it won the technology referendum. What unfolded was not just retaliation, but the strategic debut of a sovereign arsenal built under the twin doctrines of Make in India and Atmanirbhar Bharat,\" said Spencer. India's homegrown, battle-tested weapons BrahMos supersonic cruise missile Jointly developed with Russia but largely manufactured in India, the BrahMos is one of the fastest and most precise cruise missiles in the world. Flying at Mach 2.83.0 with a 290500 km range, it was used to strike high-value targets like radar stations and hardened bunkers. Its speed and low radar cross-section make it nearly impossible to intercept. Akash SAM + Akashteer system The Akash surface-to-air missile, developed by DRDO (Defence Research and Development Organisation) and Bharat Dynamics, is an all-weather, mobile air defense system with a range of 2530 km. It was integrated with the Akashteer Command & Control System, an AI-enhanced air defense network that provides real-time data fusion, enabling coordinated response to multiple airborne threatsincluding drones, cruise missiles, and aircraft. Rudram anti-radiation missile India's first indigenously developed anti-radiation missile, Rudram-1 homes in on enemy radar emissions and neutralizes air defense networks. It was deployed to silence Pakistani ground-based radars and degrade situational awareness in key sectors of the Line of Control (LoC). BATTLEFIELD ISR: Netra Airborne Early Warning and Control (AEW&C) Built by DRDO on an Embraer platform, Netra is Indias indigenous airborne early warning and control aircraft. It provided real-time tracking of enemy aircraft and missiles, vectoring Indian jets for deep-strike missions. Its effectiveness was evident when Pakistans Swedish Saab 2000 AEW&C was destroyed by a long-range missile. Loitering munitions (SkyStriker, Harop) India deployed Harop and SkyStriker dronesprecision-guided kamikaze munitions that loiter over the battlefield and dive onto enemy targets. Harop is manufactured under license by Israel Aerospace Industries (IAI) and Bharat Electronics Limited (BEL) aka IAI-BEL; SkyStriker is assembled domestically through an Elbit JV. They were used to destroy mobile radars, convoys, and high-value enemy infrastructure with minimal collateral damage. D 4S Counter-Unmanned Aerial Vehicle (UAV) System An indigenous multi-layer drone defense system integrating radar, radio frequency (RF) jammers, Electro-Optical/Infrared (EO/IR) sensors, and kinetic kill options. India's Drone Detect, Deter, and Destroy System (D 4S) neutralized dozens of Chinese-made Pakistani drones. The system reflects Indias transition from reactive air defense to proactive electronic warfare dominance. M 777 Ultra-Light Howitzer Imported from the US but integrated into Indian mountain warfare doctrine, this howitzer was used with Excalibur precision-guided shells to strike terrorist camps without crossing the LoC. Its airliftability and rapid deployment made it ideal for high-altitude operations. T-72 Main Battle Tanks and Zorawar Light Tanks India deployed upgraded T-72s along the LoC for overwatch roles. The Zorawar, a new light tank optimized for high-altitude terrain, is under development. These systems signal Indias continued investment in mobility and firepower in challenging Himalayan terrain. Airborne platforms: Rafale, Su-30MKI, Mirage 2000 India deployed some of its most advanced fighter jets during Operation Sindoor. The Rafale, a French-made multirole combat aircraft, led deep precision strikes using SCALP long-range cruise missiles to hit fortified enemy positions. It also carried Meteor air-to-air missiles, capable of hitting targets over 100 kilometers awaygiving India a decisive edge in air combat. The Su-30MKI, a Russian-designed twin-engine heavy fighter built under license in India, and the Mirage 2000, another versatile French jet, provided firepower and flexibility, launching multiple strike packages and ensuring airspace control. These jets flew under the protective umbrella of the Netra Airborne Early Warning and Control (AEW&C) system, which acted like an eye in the skytracking enemy aircraft and coordinating the battlespace. Meanwhile, Rudram anti-radiation missiles were used in Suppression of Enemy Air Defenses (SEAD) missions, disabling enemy radar and air defense systems to ensure safe air operations. Pakistans China-made arsenal JF-17 Thunder (Block II/III) Produced in Pakistan but designed and built by Chinas AVIC, the JF-17 relies on Chinese avionics, radar, engine (RD-93), and weapons. During Sindoor, these aircraft failed to gain air superiority or contest Indian strikes. Their limited payload, outdated radar, and poor survivability were evident under Indian EW and air defense pressure. F-16 Fighting Falcons (US) Though technically superior to JF-17s, Pakistans F-16s are restricted by U.S. end-user agreements, barring their use against India. As a result, they were sidelined during Sindoorleaving Pakistan without a frontline air dominance platform. HQ-9 / HQ-16 SAM Systems Chinese imitations of Russias S-300 and Buk systems, the HQ-9 and HQ-16 were deployed to intercept Indian air and missile attacks. However, they failed under Indias jamming and deception operations. These systems were easily bypassed by BrahMos and loitering drones, revealing critical weaknesses. LY-80 & FM-90 Air Defense Older short- and medium-range SAM systems, also Chinese-made. Both were unable to detect or stop India's low-flying drones and precision munitions. This forced Pakistan to rely on passive air defense rather than any credible kinetic response. CH-4 Drones (China) Used extensively by Pakistan for ISR and light strike roles, CH-4s were repeatedly downed or jammed. They underperformed in terrain and electronic environments dominated by Indias D 4S system. Reports emerged that Turkish drone operators had to be brought in to manage UAVsrevealing both equipment and personnel dependency. Saab 2000 AEW&C (Sweden) Pakistans key airborne early warning platform. One was destroyedlikely by an S-400 systemcrippling Pakistans airspace awareness and blinding command and control functions. By the end of the campaign, Pakistan had lost key radar stations, its premier AEW&C aircraft, dozens of drones, and its ability to contest Indian airspace."
        ],
        [
         "35",
         "https://timesofindia.indiatimes.com/city/bhubaneswar/cash-rains-from-bhubaneswar-flat-chief-engineer-throws-bundles-of-rs-500-notes-from-flat-during-raid/articleshow/121505434.cms",
         "2022-01-01",
         "Times of India",
         "'Cash rains from Bhubaneswar flat': Chief engineer throws bundles of Rs 500 notes from flat during raid",
         "Credit: TOI BHUBNESWAR: The Odisha Vigilance Department has recovered around Rs 2.1 crore in cash during simultaneous raids at seven locations linked to Baikuntha Nath Sarangi, chief engineer in the states Rural Development Department. The searches were carried out following allegations that Sarangi possessed assets disproportionate to his known sources of income. In a dramatic sequence of events, officials say Sarangi attempted to dispose of bundles of Rs 500 notes by throwing them out of the window of his flat in Bhubaneswar as vigilance officers arrived. Poll Do you think stricter monitoring can reduce corruption among government officials? Yes No The raids were conducted by teams comprising eight deputy superintendents of Police, 12 inspectors and six assistant sub-inspectors. They acted on search warrants issued by the Special Judge, Vigilance, Angul. Scammed By AI Trump? Deepfake Scam That Conned 200 in India's Karnataka EXPOSED | WATCH Properties searched included a double-storied house in Karadagadia (Angul), a flat in Dumduma (Bhubaneswar) and another in Siula (Pipili, Puri), among others. Of the total cash recovered, Rs 1 crore was seized from Sarangis Bhubaneswar flat and Rs 1.1 crore was found at his residence in Angul. Officials used currency counting machines to confirm the amounts. The investigation is ongoing, and further details are awaited."
        ],
        [
         "36",
         "https://timesofindia.indiatimes.com/city/bhopal/i-know-impact-of-electrocution-convicted-chemistry-professor-contests-husbands-autopsy-report-in-madhya-pradesh-hc/articleshow/121501690.cms",
         "2022-01-01",
         "Times of India",
         "I know impact of electrocution: Madhya Pradesh professor convicted of killing husband contests autopsy report in HC",
         "Mamta Pathak, a 60-year-old chemistry professor convicted of her husband's murder, is challenging the autopsy report in court. Arguing her case, she questions the differentiation between electric and thermal burn marks without chemical analysis. BHOPAL/JABALPUR: A 60-year-old professor, sentenced to 20 years in jail for killing her husband, has challenged the autopsy report saying that as a chemistry professor, she knows what impact electrocution has on the body. The court heard her arguments recently and reserved judgment, pending which her sentence has been suspended. The convict, Mamta Pathak of Chhatarpur, is arguing her case before an HC division bench of Justices Vivek Agarwal and Devnarayan Mishra. Videos of her argument are being shared widely on social media. She is seen trying to drive home her contention that it's not possible to differentiate between 'electric and thermal burn marks' in an autopsy, and this can be done only through chemical analysis. Poll Should courts consider new scientific arguments even after a verdict is given? Yes, to ensure justice is served No, verdicts should be final HC tells chem prof it's hearing her arguments with an 'open mind' Justice Agarwal asks her if she is a professor of chemistry; she nods and says, \"Yes.\" The judge then asks her why her counsel did not ask the question of the doctor who had conducted the post-mortem examination during cross-examination in the trial court. She says, \"I was in jail then.\" Justice Agarwal points out her error when she mixes up nitric acid and hydrochloric acid. According to the prosecution, Mamta's husband, Dr Neeraj Pathak (63), was found dead in his house in Chhatarpur on April 29, 2021. Electric burn marks were detected at five places on his body. Mamta, who teaches chemistry in a Chhatarpur college, lived separately from her husband but had returned to him a few months before his death. Although the couple had started living together again, they often fought over her suspicion that Neeraj had had an affair, the prosecution said. On the day of the incident, Neeraj called up a relative and told him that Mamta had been \"torturing\" him for two-three days; that she had not given him food and kept him locked in the bathroom. According to the prosecution, Neeraj said he suffered head injuries when she \"thrust him into the bathroom\". The relative contacted police, and Mamta released him from the bathroom when the cops intervened, says the prosecution. The relative, who is a witness in the case, called Neeraj later in the day to check on him. A recording of their phone conversation was presented in the trial court. The same night, Neeraj died around 9pm. According to Mamta, she went to ask him for food but found that his pulse had stopped and he was dead. The next day, she went to Jhansi for dialysis but it couldn't be done in the absence of a Covid certificate. She returned at 9pm and only then informed police that her husband was dead, police said. Investigators found sleeping pills in her husband's room. The trial court held her guilty on the basis of circumstantial evidence and sentenced her to 20 years' rigorous imprisonment. In her argument, Mamta said her husband had got his house insured and it was safe from any kind of accident due to a short circuit or leak. She claimed that no expert inspected the house following the death of her husband. The prof also questioned why there was no mention of foul smell emanating from her husband's body in the autopsy report or anywhere else as the postmortem examination was conducted 36 hours after his death and the body starts decomposing after 18 hours. The bench told Mamta that they are hearing her \"out of turn\" and with an \"open mind\" but cases are decided on the \"touchstone of evidence\". The verdict has been reserved."
        ],
        [
         "37",
         "https://timesofindia.indiatimes.com/city/indore/6-days-on-no-signs-of-indore-honeymooners-in-shillong/articleshow/121472109.cms",
         "2022-01-01",
         "Times of India",
         "Newly-wed Indore couple on honeymoon goes missing in Shillong; rented scooter, bags found in hills",
         "Raja and Sonam Raghuwanshi, a newly married couple from Indore, went missing during their honeymoon in Meghalaya. Their scooter was found abandoned near Osara Hills. Search teams are combing the area near Shillong. INDORE: What was meant to be a joyful beginning of a new chapter in life has turned into a nightmare for the families of Raja and Sonam Raghuwanshi a young couple from Indore who disappeared during their honeymoon in Meghalaya. For the past six days, their loved ones have been clinging to hope, while search teams comb the rain-drenched forests and dangerous cliffs near Shillong, praying for a sign of life. In desperation, the family has announced a reward of Rs 5 lakh for any information about their whereabouts. Madhya Pradesh chief minister Mohan Yadav spoke with Meghalaya CM Conrad Sangma on Tuesday, requesting swift action to locate the couple. Raja, a 30-year-old transport businessman, and Sonam, whom he had married just weeks earlier, left Indore for Guwahati on May 20. Missing couples rented vehicle, bag found in crime-prone hills They were excited to explore the lush hills of the Northeast a dream trip for both. After two days in Guwahati, they headed to Shillong. The last time the family heard from them was on May 23. We were in touch with them until that day. After that, their phones were switched off. We knew something was wrong, said Govind Raghuwanshi, Sonams brother. They were newly married, just beginning a future together. We never imagined this. The worry turned to dread when their rented scooter was found abandoned near Osara Hills in Sohra Rim a remote area notorious for being unsafe and prone to criminal activity. Two bags belonging to the couple were later discovered in a nearby gorge, partially hidden in the bushes on Tuesday. Despite the rain and treacherous terrain, more than 50 people including police officers, local villagers, and members of the village defence party have been tirelessly searching for the couple. Their family has refused to give up. We will not stop until we find them, said Govind, who flew to Shillong along with Rajas brother Vipin a day later. Indore MP Shankar Lalwani travelled to Shillong on Wednesday and met the states DGP Idashisha Nongrang. All evidence so far points to foul play, he said. This wasnt an accident. The couple had four phones, including two iPhones all are switched off. They were also wearing jewellery. Piecing together the last known movements of the couple has been haunting. They reportedly visited the famous Double Decker Living Root Bridge in Nongriat village, a challenging trek that takes hours. Its believed they spent the night nearby and were seen the next morning having tea at a small roadside kiosk. After that they went missing. It takes at least four to five hours to descend towards Nongrait village and people usually stay there for the night before returning. We found out that they had returned and had also had tea at a kiosk on the way after which they went missing, said Govind, fearing that they were attacked by robbers. The distances between where their scooter was found, their bags, and their last known tea stop have only deepened the mystery. Theres a big gap in the timeline. Something happened between those points. Maybe they were followed. Maybe they were robbed, Govind said. The search is now concentrated around a gorge near the Root Bridge, about 50km from Shillong."
        ],
        [
         "38",
         "https://timesofindia.indiatimes.com/india/dnpa-code-of-ethics-for-digital-news-websites/articleshow/78840462.cms",
         "2022-01-01",
         "Times of India",
         "DNPA code of ethics for digital news websites",
         "The Digital News Publishers Association has voluntarily drawn up a Code of Ethics for its members as outlined below, which demonstrates their commitment to responsible digital publishing even as it, in order to protect our 19 (1) (a) and other Constitutionally mandated freedoms, keeps under review and scrutinizes any developments likely to restrict the gathering and dissemination of news and current affairs or any other content. The object of this Code is to outline high standards, ethics and practices in digital news publishing, and does not constitute any attempt to involve itself in the day to day operations of the publishers who have complete editorial and content independence. The basic precepts of the Code of Ethics are to maintain the standards of digital publishing as well as protect and maintain the independence of journalists, content entities and publishers. 1. Digital news websites follow the laws of the land including the Constitution of India, the over 30 laws relating to the media, relevant provisions of IPC, CrPC as well as the Information Technology Act, 2000 , where applicable. 2. They also diligently adhere to accepted norms of journalistic ethics and practices and maintain the highest standards of professional conduct. There are several layers of these self-regulatory ethics and codes including as outlined by specific entities as well as rigorous processes in newsrooms at the level of journalists and editors. 3. Accuracy, Transparency & Fairness Members should eschew publication of inaccurate, baseless or distorted material. Pre-publication verification should be mandatory. Defamation should be avoided. herence to applicable laws and rules is necessary. 4. Right of reply a. News reports and articles should incorporate comments or version of person or party in respect of whom allegations are carried. If not carried, the person or partys response, if received later, to be incorporated. b. If there are developments in the news, and the concerned person or party requests an update, the same must be carried appropriately. Date of update should also appear in the news item published. 5. Take down, delete or edit If news report or article is found to contain false or inaccurate information, then on approach by the concerned person or party, providing correct information, identifying himself or herself, providing required documents or material, the portion of the news report or article should be edited or deleted. If entire news report is found to contain false, inaccurate information, the entire article should be deleted. 6. Respect Intellectual Property Rights a. Copyright in text, photographs, plans, diagrams, cartoons, etc must be respected. If ed material is used, then prior permission should be taken and publication must acknowledge moral and ownership rights. b. If permission requires payment of fee or royalty, the same must be paid. c. Trade Marks and Service Marks of third parties not to be used except with prior permission or if such use constitutes fair use. d. In case infringement of intellectual property upon receiving any request and after getting the necessary documents, the concerned content should be edited, deleted or take down if necessary. 7. Care to be taken for reporting sensational matters and crime. Presumption of innocence must be preserved. Comments and speculation on evidence, witness and witness conduct, accused and victim and their respective conduct to be avoided. Such reporting should be based on facts and unbiased. 8. Special care to be taken while reporting on sexual harassment in workplace, child abuse, rape, where accused or victims are minors, matrimonial, riots and communal disputes / clashes, divorce and custody cases, adoption matters, etc. a. Care to be taken, to follow Sections 67, 67A and 67B of the Information Technology Act, 2000 where applicable which provide for penalties for publishing or transmitting obscene material, sexually explicit material and also material depicting children in sexually explicit acts, in electronic form. 9. Grievance Redressal Mechanism Members when intermediaries as defined under the Information Technology Act, 2000 follow the grievance redressal mechanism as outlined therein and are cognizant of the liabilities and safe harbor protections under Section 79 of the IT Act 2000. Hence, as relevant, they follow the Information Technology (Intermediary Guidelines) Rules, 2011 including appointing a grievance officer whose contact details are displayed on the website and who acts within 36 hours of receipt of complaint by affected person and redresses the complaint within one month from its receipt. 10. Training and Awareness Programs Conduct periodic training and awareness programs with editorial staff about existing laws including Constitution of India, the over 30 laws relating to the media like The Indecent Representation of Women (Prohibition) Act, Copyright Act, Right to Information Act, relevant provisions of Indian Penal Code and CrPC, civil and criminal defamation, IPR, Juvenile justice, POCSO, relevant provisions relating to reporting on rape and molestation, harassment in the work place, caste or gender related crime, domestic violence, etc. a. Names of victims and details leading to identification of victims or perpetrator, if juvenile or in the workplace, to be strictly avoided. b. Photographs of victims, their residence, workplace, etc to be avoided. c. Special care and caution must be exercised at all times while reporting matters related to communal or religious disputes/clashes. Such news items shall be published only after a proper verification of facts and should be presented with due caution and restraint, ensuring an environment that is conducive to promoting communal harmony, amity and peace. d. Special care in reporting on Courts and judicial matters. Create awareness among editorial staff about legislative privileges and correct reporting of Court hearings, judicial matters, etc. To ensure that versions of victim and accused are covered, without comments thereon. e. Respect for privacy especially persons not in public life."
        ],
        [
         "39",
         "https://timesofindia.indiatimes.com/etimes/trending/a-massive-tsunami-wave-as-tall-as-1000-feet-might-soon-hit-and-wipe-out-the-entire-us-study/articleshow/121391183.cms",
         "2022-01-02",
         "Times of India",
         "A massive tsunami wave as tall as 1000 feet can soon hit and wipe out the entire US: Study",
         "Imagine a wall of water nearly 1,000 feet tall rushing towards your nations coastline with the force of an unstoppable train, no time to run, no time to prepare. This might seem like an opening scene of a Hollywood disaster movie, but in reality, it is a very real disaster being taken seriously by researchers. While the idea of a mega-tsunami might sound like science fiction, geologists and disaster experts have warned about its potential threat. The world is already coping with rising sea levels and more frequent natural disasters, and this time, unlike gradual climate change, a mega-tsunami would strike suddenly, within minutes of a triggering event. Entire cities could be wiped away, floodplains could expand overnight, and recovery would take years, if not decades. A new study from Virginia Tech has brought this alarming possibility back into the spotlight, revealing what could happen if a massive earthquake hits a specific fault line off the Pacific Northwest. And surprisingly, the threat isnt just theoretical, its backed by centuries of seismic history and supported by modern research. What does the theory suggest A recent study published in the Proceedings of the National Academy of Sciences by geoscientists at Virginia Tech has raised awareness over the potential for a devastating mega-tsunami if a powerful earthquake hits the Cascadia Subduction Zone. This fault line, stretching approximately 700 miles from northern California to British Columbia, is one of the most active seismic regions in North America. The researchers warn that there is a 15% chance of a magnitude 8.0 earthquake hitting the region within the next 50 years. If such a quake occurs, parts of the coastline could sink by up to 6.5 feet. Lead author Tina Dura, assistant professor at Virginia Techs Department of Geosciences, talked about the long-term implications of such an event. The expansion of the coastal floodplain following a Cascadia subduction zone earthquake has not been previously quantified, and the impacts to land use could significantly increase the timeline to recovery, she said in a university press release. According to the study, the worst-hit areas would likely be southern Washington, northern Oregon, and northern California. Cities like Seattle and Portland could face catastrophic damage. Even regions farther afield, like Alaska and Hawaii, are not clear from the potential impact of the massive disaster, due to their own history of tsunamis and volcanic activity. The 1958 Lituya Bay mega-tsunami in Alaska which was triggered by a landslide following a strong quake, remains the tallest ever recorded at 1,719 feet. Hawaii has been a witness of ancient mega-tsunamis caused by collapsing volcanic slopes, including a 1,000-foot wave that struck Lanai around 105,000 years ago. Unlike typical tsunamis, which may produce waves only a few feet high, mega-tsunamis can reach hundreds or even over a thousand feet and travel miles inland. The speed and magnitude of such waves leave little time for warning or evacuation, making early alert systems crucial but still insufficient in some cases. Tsunamis are usually caused by underwater earthquakes, but can also result from volcanic eruptions, landslides, or meteorite impacts. The 2004 Indian Ocean tsunami was one of the deadliest natural disasters in history, killing over 230,000 people in 14 countries. Early warning systems have been developed in many parts of the world to detect tsunamis and help save lives, though constant technological improvements and community preparedness remain equally important factors. While mega-tsunamis are rare, the risk is real and backed by science. With rising concerns over seismic activity in places like the Cascadia Subduction Zone, experts stress the need for better preparedness, early warning systems, and public awarenessbecause when disaster strikes, every second counts."
        ],
        [
         "40",
         "https://timesofindia.indiatimes.com/life-style/health-fitness/fitness/nasa-says-this-10-min-exercise-is-70-more-effective-than-running-jogging/articleshow/121501298.cms",
         "2022-01-02",
         "Times of India",
         "NASA says this 10-min exercise is 70% more effective than running, jogging",
         "With schedules more packed than ever, squeezing in a workout can feel like a luxury. Sure, we all get the same 24 hours in a daybut between commutes, meetings, and endless to-do lists, who really has time for the gym? If pounding the pavement isnt your thing and home exercises still bring back lockdown-era dread, NASA might have just the answer to your cardio woes. Rebounding. NASA research shows that just 10 minutes of reboundinga form of aerobic exercise performed on a mini-trampolinecan be up to 68% more effective than 30 minutes of jogging. Thats right: shorter, smarter workouts could be your new go-to, both in orbit and right here on Earth. Unlike jogging, rebounding distributes impact across the entire body, which means less strain on your joints. Yet it still builds stamina, endurance, and cardiovascular strength. Its a high-return workout thats low on time and impact. How to do it? All you need is a mini-trampolineeasy to tuck away at home. Whether you're doing simple health bounces, jumping jacks, twists, or even dance-inspired moves, rebounding can be tailored to your fitness level. If youre old enough to remember the 1980s fitness craze, yesthis is a nostalgic throwback that actually works. Rebounding is also gentler on the body than other exercises. It absorbs up to 85% of the impact stress compared to running, which means less soreness and quicker recovery. No wonder it's enjoying a resurgence, especially with the rise of trendy kangaroo jumping boots taking over TikTok. Health benefits Rebounding is basically bouncing on a mini-trampoline, and yes, its as simple (and fun) as it sounds. But dont be fooled by how easy it looksits actually a killer full-body workout. One of the best things about rebounding is that its low-impact, which means its gentle on your joints. Unlike running, which can be hard on your knees and ankles, rebounding spreads out the force, making it a great option if youre recovering from an injury or just want to avoid one. It also boosts your balance, coordination, and core strength, since youre constantly adjusting your body while bouncing. Plus, it gets your lymphatic system going, which helps flush out toxins and keeps your immune system in check. The best part? You can do it at homerain or shine, no gym required. Throw on your favorite playlist, bounce for 1015 minutes, and youve got a solid cardio session that actually feels fun. So whether you're short on time, hate running, or just want something new, give rebounding a shot. Its playful, effective, and way more exciting than another jog around the block. So next time the weathers miserable or your schedule is tight, skip the run and dust off that old mini-trampoline in the attic. Just 10 minutes of rebounding might be all you need to stay fit without burning out. Yoga in regular fitness routine enhances cardiovascular health, wellbeing See more: 5 signs of increased uric acid seen in body-- 3 simple steps to fix it One step to a healthier youjoin Times Health+ Yoga and feel the change"
        ],
        [
         "41",
         "https://timesofindia.indiatimes.com/life-style/travel/news/travel-alert-imd-predicts-heavy-rains-in-chennai-tamil-nadu-orange-alert-for-17-districts/articleshow/121515999.cms",
         "2022-01-02",
         "Times of India",
         "Travel Alert: IMD predicts heavy rains in Chennai, Tamil Nadu; orange alert for 17 districts",
         "Travellers planning a trip to Tamil Nadu must reconsider their plans as the India Meteorological Department (IMD) has issued an orange alert for Chennai along with 16 other districts in the state for heavy rainfall. This could disrupt travel and daily life with waterlogging, traffic delays, and other conditions. Travellers should expect potential delays and road disruptions, especially in low-lying and flood-prone areas. Orange Alert districts The IMD has listed Thiruvallur, Coimbatore, Nilgiris, Tenkasi, Dindigul, Theni, Thoothukudi, Sivagangai, Pudukkottai, Thanjavur, Thiruvarur, Nagapattinam, Ramanathapuram, Tirunelveli, Tiruppur, Kanniyakumari, and Chennai under this high-risk category. Meanwhile, Madurai and Virudhunagar are under a yellow alert, signaling moderate rainfall. While not as severe as orange alert areas, travelers should still stay cautious and keep an eye on local weather updates. The current rainfall activity is driven by a cyclonic circulation over the Southeast Bay of Bengal and the adjoining South Andaman Sea. This weather system is expected to influence the regions climate over the next five days. What to expect in Chennai for next five days: Chennai, an important centre for both domestic and international travellers, will experience fluctuating weather patterns through the week. The IMD forecast includes: May 31: Cloudy skies, 28C to 34C June 1: Partly cloudy June 2: Light rain with patchy clouds June 3: Thundershowers expected, 29C to 34C June 4: Partly cloudy skies As of now, the city is experiencing high humidity (71%) and overcast conditions with southwest winds at 19 km/h. Travel visory Travellers are advised to avoid unnecessary travel during peak rainfall hours and exercise caution on wet roads. With no closures announced for schools or offices yet, its essential to monitor local news and IMD bulletins for real-time updates. Those with travel plans in Tamil Nadu should consider checking with transport operators and planning contingencies. Stay safe, stay informed, and be prepared for potential weather-related disruptions across Tamil Nadu in the days ahead. One step to a healthier youjoin Times Health+ Yoga and feel the change"
        ],
        [
         "42",
         "https://timesofindia.indiatimes.com/life-style/travel/flying-to-turkey-this-one-annoying-in-flight-habit-might-earn-you-a-hefty-fine/articleshow/121520890.cms",
         "2022-01-02",
         "Times of India",
         "Flying to Turkey? This one annoying in-flight habit might earn you a hefty fine",
         "Flying to Turkey? This one annoying in-flight habit might earn you a hefty fine In the evolving world of air travel, passenger conduct has become as important as ticketing, boarding, and security protocols. While most aviation safety regulations focus on in-flight behavior and emergency preparedness, Turkey is now turning its attention to a different, often-overlooked part of the journeythe moments immediately after landing. In an unprecedented move that is stirring debate across travel communities, the Directorate General of Civil Aviation (DGCA) in Turkey has introduced a new directive that allows for the imposition of fines on passengers who stand up prematurely after the aircraft touches down. This long-overdue regulation addresses one of the most universally irritating aspects of flyingthe chaotic aisle rush. Whether due to impatience or a desire to grab overhead baggage early, many passengers unbuckle their seatbelts and jump to their feet before the aircraft has even come to a complete stop. While previously dismissed as a mere inconvenience or social faux pas, Turkish authorities now view this behavior as a breach of safety and aviation discipline, worthy of financial penalty. According to The Economic Times report, the new regulation, issued by DGCA chief Kemal Yksek, introduces fines of up to 2,603 Turkish Lira (approximately $70 or Rs 5,700) for offenders. Turkey to fine passengers for standing too soon after landing Its a familiar scenario on virtually every commercial flight: the moment the wheels touch the tarmac, a chorus of seatbelt clicks erupts. Passengers leap to their feet, pushing into the narrow aisle in a frantic attempt to retrieve their luggage and be the first to exit. This behavior is so ingrained in travel culture that many have stopped questioning its safety implications. However, the DGCA has called attention to the real risks involved: Passenger safety : Abrupt movements during taxiing can result in falls or injuries, particularly during sudden stops or sharp turns. Baggage hazards : Prematurely opened overhead bins pose a risk of falling items, potentially causing injury to seated passengers. Emergency interference : In the event of a sudden emergency or pilot communication, standing passengers can obstruct crew members and emergency protocols. Flight delays and disruptions : Disorderly deplaning may delay aircraft turnaround and cause issues for connecting flights. The Turkish aviation authority now argues that standing early is not just rudeits dangerous and disruptive. New Turkish aviation rule: $70 fine for rushing the aisle According to reports, the new policy was introduced in early 2025 through an official communication from Kemal Yksek, head of the DGCA. The directive states that any passenger who: Unbuckles their seatbelt while the plane is still taxiing, Opens overhead bins before the aircraft has come to a complete stop at the gate, Pushes ahead of others in line, ignoring disembarkation order, will be subject to penalties under existing civil aviation codes. The fine for violations has been capped at 2,603 Turkish Lira, or approximately $70 (Rs 5,700)a figure calibrated to be significant enough to act as a deterrent, yet not excessively punitive. Turkeys in-flight fine rule: Heres how it will be enforced The success of such a regulation hinges on enforcement, which raises logistical questions: Monitoring : Flight crews will be trained to monitor and report violations as they occur. Surveillance footage may also be reviewed in extreme cases. Reporting protocol : Airlines are required to submit incident reports to the DGCA if passengers violate the rule. Issuance of fines : Once reported, the DGCA will issue administrative fines to passengers, potentially via the contact information provided during ticket booking. Appeals process : A provision is being developed for passengers to contest fines if they believe they were wrongly accused. According to The Economic Times report, Turkish carriers such as Turkish Airlines, Pegasus Airlines, and AnadoluJet are expected to begin rolling out onboard announcements and training sessions to inform passengers and crew. Is Turkey leading a new global trend While Turkey is among the first countries to monetize penalties for post-landing misconduct, the issue of unruly passenger behavior has been on the rise globally: FAA (United States): The Federal Aviation ministration recorded over 2,000 incidents of unruly passengers in 2023 alone, prompting fines exceeding $8 million. European Union: EU aviation regulators have discussed uniform penalties for various onboard disruptions, including non-compliance with crew instructions. India and UAE: Authorities in these countries have urged stricter action against in-flight misconduct but have yet to implement fines for post-landing behavior. Given these global developments, Turkeys initiative may serve as a template for future policies elsewhere. International aviation bodies such as the International Air Transport Association (IATA) and ICAO may also weigh in if such practices gain traction across nations. Public reaction: Necessary regulation or overreach The Turkish public and global travel community are divided on the directive. Social media platforms have become hotbeds of debate: Supporters argue: Finally, someone is doing something about the chaos. Its dangerous and selfish behavior. This will teach frequent offenders to be more considerate of others. Critics claim: Fining passengers for standing up is overkill. The airlines should focus on better communication. There are bigger problems in aviationthis seems like a distraction. Despite the mixed reception, surveys conducted by Turkish travel blogs indicate that over 58% of passengers support the measure, especially if it leads to safer and more orderly deplaning. Airline responsibility: Educating before penalising Experts believe that for the policy to succeed, airlines must emphasize education over punishmentat least initially. Suggested approaches include: Updated announcements: Clear in-flight instructions in multiple languages before landing. Onboard videos: Short clips explaining the safety rationale behind waiting until full stop. First-time warnings: Allowing a one-time warning for violators before issuing fines. Such proactive steps could ensure that the rule is seen as a means to enhance safetynot as a mere revenue tool. Cultural implications: Challenging the norm of impatience This policy also represents a cultural shift. In an age where immediacy is often rewarded, waiting for ones turneven in an airplane aislegoes against the grain of modern impatience. The DGCAs stance sends a clear message: Civility and discipline matter, even in mundane moments. Turkeys approach could influence not only airline policy but also traveler mindset. If successful, it could help re-establish norms of mutual respect, especially in crowded, shared spaces like airplanes. Also read | America tightens social media vetting: Is your online profile putting your visa at risk One step to a healthier youjoin Times Health+ Yoga and feel the change"
        ],
        [
         "43",
         "https://timesofindia.indiatimes.com/life-style/travel/america-tightens-social-media-vetting-is-your-online-profile-putting-your-student-visa-at-risk/articleshow/121515087.cms",
         "2022-01-02",
         "Times of India",
         "America tightens social media vetting: Is your online profile putting your student visa at risk",
         "America tightens social media vetting: Is your online profile putting your student visa at risk In a significant and controversial shift in US immigration policy, Secretary of State Marco Rubio has ordered the suspension of student visa processing across all US consular posts worldwide. The move, prompted by the Trump administrations decision to expand social media screening of applicants, marks a major escalation in the government's efforts to tighten entry protocols for international students. An internal State Department cable confirmed that effective immediately, consular officials must halt the scheduling of new appointments for F (academic), M (vocational), and J (exchange visitor) visa categories. This decision comes in the wake of widespread campus protests across the United States in support of Palestine, which the administration appears to link to growing concerns over national security and online radicalization. By intensifying scrutiny of visa applicants digital footprints, the administration aims to enforce ideological vettinga move critics argue could suppress free expression and disproportionately impact students from Muslim-majority countries and politically active regions. Here you can go through the policys implications, the social media vetting mechanism, and what international students should expect moving forward. US halts new student visa appointments amid expanded social media vetting An internal cable issued by the State Department directed all consular sections to immediately suspend adding appointment capacity for student and exchange visitor visas. It reads: Effective immediately, in preparation for an expansion of required social media screening and vetting, consular sections should not add any additional student or exchange visitor (F, M, and J) visa appointment capacity until further guidance is issued septel. The term septel, short for separate telegram, refers to another classified or internal communication that will provide detailed implementation guidelines. While this cable did not outline the specifics of the new screening parameters, it confirms that broader executive-level policy changes are imminent. Understanding social media vetting: What will be screened Social media vetting is a process through which immigration and consular officials review an applicants public digital presence to assess potential risks to US national security, public order, or ideological alignment. The Trump administration first introduced limited social media checks in 2019 under the extreme vetting framework. Now, under this renewed push: Applicants will likely be required to list all social media handles used over the past five years on platforms including Twitter (now X), Facebook, Instagram, TikTok, YouTube, and LinkedIn. Officials will scrutinize public posts, comments, likes, group affiliations, and hashtags for signs of extremist ideology, anti-US sentiment, or participation in protest movements. Encrypted or private messaging services like WhatsApp and Signal may not be directly accessible, but metadata and public group activity could be reviewed through indirect means or third-party tools. The expanded vetting system is expected to rely heavily on algorithmic risk profiling and pattern detection, raising concerns among privacy experts and civil rights advocates. US tightens visa rules amid controversy over student protests and social media checks The timing of the visa freeze is critical. It follows weeks of high-profile student-led protests on American college campuses condemning US support for Israel and expressing solidarity with Palestinian civilians affected by the Gaza conflict. Some lawmakers and conservative commentators have labeled these protests as antisemitic or pro-terrorist, fueling a political push to screen international students for ideological alignment with US values. Sources inside the administration suggest the expanded screening aims to identify: Foreign students with links to political movements deemed hostile to US interests Online behavior suggesting support for extremism or anti-Semitic ideologies Content criticizing US foreign policy that may be interpreted as subversive However, critics argue that equating online political expression with extremism risks violating First Amendment values and may alienate talented students who would otherwise contribute significantly to US academic and research communities. Who is affected by the pause in visa appointments The suspension affects: All new applicants for F (academic), M (vocational), and J (exchange visitor) visas Applicants awaiting interview appointments at US embassies and consulates globally Academic programs with upcoming summer or fall 2025 enrollment periods Consular staff have been instructed not to release additional appointment slots until detailed guidance arrives from the State Department. While students who already have appointments scheduled may still attend them (subject to discretion), there is growing uncertainty over whether those applications will be processed without delays or denials under the new system. What this means for universities and international programs American universitiesmany of which rely heavily on international students for both diversity and revenueare facing renewed pressure to provide clarity and support to affected applicants. The Association of American Universities (AAU) and the American Council on Education (ACE) have both called for immediate transparency from the State Department. This suspension may have significant consequences: Enrollment declines in STEM and research fields, which typically draw a high volume of international students. Delays in issuing I-20 and DS-2019 forms required for visa applications. Financial challenges for universities dependent on full-tuition international students. Earlier in 2025, the Trump administration had already demanded sensitive academic data from institutions like Harvard and MIT regarding international student activity, as part of a broader surveillance initiative. Concerns over privacy, profiling, and political targeting Civil rights organizations such as the ACLU and the Center for Democracy & Technology (CDT) have condemned the move, warning that social media vetting: Violates privacy rights Encourages racial and religious profiling Deters political speech and engagement They argue that such policies disproportionately impact students from the Middle East, South Asia, and North Africa, many of whom use social media as a primary channel for activism and community engagement. Experts also point out the ambiguity in what constitutes a red flag in online behaviorraising fears of misinterpretation or algorithmic bias. What comes next? Awaiting the septel instructions As of now, consulates are in a holding pattern, awaiting further instructions. The promised septel telegram is expected to: Define the new criteria for social media risk scoring Provide guidance on acceptable and disqualifying content Explain how long the visa freeze will remain in place Until that information is released, both students and universities are in limbo, unsure of how to proceed with summer and fall 2025 planning. The State Department has not issued a public comment on the cable or its immediate implications. One step to a healthier youjoin Times Health+ Yoga and feel the change"
        ],
        [
         "44",
         "https://timesofindia.indiatimes.com/entertainment/tamil/movies/news/wont-apologise-unless-im-wrong-says-kamal-haasan-amid-thug-life-ban-in-karnataka/articleshow/121512481.cms",
         "2022-01-02",
         "Times of India",
         "'Wont apologise unless Im wrong,' says Kamal Haasan amid 'Thug Life' ban in Karnataka",
         "Amid growing backlash over his recent remark that Tamil gave birth to Kannada during the 'Thug Life' audio launch in Chennai, Kamal Haasan has finally responded. The veteran actor-politician stated firmly that he will only apologise if he genuinely believes he is wrong. Speaking to the Press and Media outside the DMK party headquarters in Chennai, Kamal Haasan said, If Im wrong, Ill apologise. If Im not, I wont. This is my lifestyle, please dont tamper with it. He also emphasised his faith in democratic values and the Indian legal system, adding, India is a democratic country, and I believe in law and justice. Kannada organisations condemn Kamal Haasans remark on language origins His statement comes in the wake of intense protests in Karnataka , where various Kannada organisations, including Karnataka Rakshana Vedike, have taken strong offence to his comment. The controversy escalated when protestors gathered in cities like Belagavi, demanding an apology from Haasan, arguing that his comment undermined the linguistic and cultural pride of Kannada speakers. Karnataka Film Chamber of Commerce imposes ban on Thug Life The matter reached a tipping point when the Karnataka Film Chamber of Commerce (KFCC) officially announced a ban on the release of 'Thug Life' across the state. In a press meet held in Bengaluru, KFCC representative Sa Ra Govindu said the decision was made in solidarity with Kannada organisations. There has been no apology from Kamal Haasan. We stand with the people of Karnataka and wont allow the release of 'Thug Life' unless he addresses this issue respectfully, he declared. The future of Mani Ratnam s 'Thug Life' in Karnataka remains uncertain 'Thug Life,' directed by Mani Ratnam and starring Kamal Haasan, Trisha, and Silambarasan, was highly anticipated across South India. However, with tensions mounting in Karnataka and calls for cultural accountability growing louder, the films regional release now hangs in uncertainty. Check out our list of the latest Hindi , English , Tamil , Telugu , Malayalam , and Kannada movies . Dont miss our picks for the best Hindi movies , best Tamil movies, and best Telugu films ."
        ],
        [
         "45",
         "https://timesofindia.indiatimes.com/sports/cricket/ipl/top-stories/watch-ashish-nehras-son-shubman-gills-sister-reduced-to-tears-after-gujarat-titans-lose-eliminator-to-mumbai-indians/articleshow/121528677.cms",
         "2022-01-02",
         "Times of India",
         "Watch: Ashish Nehra's son, Shubman Gill's sister reduced to tears after Gujarat Titans lose Eliminator to Mumbai Indians",
         "Gujarat Titans fans were left disappointed after the team was beaten by Mumbai Indians in the IPL 2025 Eliminator match. (Screenshots) Gujarat Titans crashed out of IPL 2025 after losing to Mumbai Indians by 20 runs in the Eliminator match at Maharaja Yadavindra Singh International Cricket Stadium in Mullanpur. The defeat triggered emotional responses from players' families in the stands, including head coach Ashish Nehra's son and captain Shubman Gill 's sister Shahneel, who were seen crying after the match. The loss marked Gujarat Titans' third consecutive defeat, following setbacks against Lucknow Super Giants and Chennai Super Kings in their final league-stage matches. Despite leading the table for most of the league stage, these losses pushed them into the Eliminator against Mumbai Indians. Go Beyond The Boundary with our YouTube channel. Mumbai Indians, led by Hardik Pandya, won the toss and chose to bat. The decision proved successful as they posted a formidable total of 228/5 in their 20 overs. Poll Did the Gujarat Titans' late-season decline surprise you? Yes, they were performing well initially. No, it was expected after their recent losses. Rohit Sharma and Jonny Bairstow provided Mumbai Indians with a strong start, forming an opening partnership of 84 runs. Bairstow, who joined as a replacement player for Ryan Rickelton, contributed 47 runs before being dismissed by Sai Kishore. Gujarat Titans' fielding lapses proved costly as they dropped two crucial catches of Rohit Sharma, with both Gerald Coetzee and Kusal Mendis failing to hold onto relatively straightforward opportunities. Rohit Sharma capitalised on these reprieves, scoring 81 runs off 50 deliveries, including 9 fours and 4 sixes, helping Mumbai Indians set a challenging target. In response, Gujarat Titans' chase suffered an early setback when captain Shubman Gill was dismissed in the first over. Sai Sudharsan (80) and Washington Sundar (48) mounted a resistance, but their efforts fell short against the disciplined bowling of Jasprit Bumrah and Trent Boult in the crucial final overs. The defeat's emotional impact was evident in the stands as Ashish Nehra's son was seen crying inconsolably after the final ball. Others attempted to console him as the reality of elimination set in. Similar scenes unfolded elsewhere in the stadium as Shubman Gill's sister Shahneel was also overcome with emotion and required consolation from fellow spectators. The victory advanced Mumbai Indians to Qualifier 2, where they will face Punjab Kings at the Narendra Modi Stadium in Ahmedabad on Sunday, June 1. Sai Sudharsans T 20 Evolution: Where skill meets science | TOI Sports Exclusive The result marked a disappointing end for Gujarat Titans, who had shown promising form throughout the league stage of IPL 2025 before their late-season decline resulted in elimination."
        ],
        [
         "46",
         "https://timesofindia.indiatimes.com/sports/cricket/ipl/top-stories/jasprit-bumrah-is-like-mumbai-housing-prices-hardik-pandya/articleshow/121524600.cms",
         "2022-01-02",
         "Times of India",
         "'Jasprit Bumrah is like Mumbai housing prices': Hardik Pandya",
         "Jasprit Bumrah It was a night that saw Mumbai Indians flex their championship mettle once again. In a record-breaking IPL Eliminator in Mullanpur where both teams combined for a staggering 436 runs, the highest ever in playoff history MI held their nerve to beat Gujarat Titans by 20 runs and march into Qualifier 2. While the scoreboard lit up with sixes and boundaries, it was Mumbais ability to win the clutch moments that stood out. Skipper Hardik Pandya , facing his former franchise in a high-pressure knockout, was full of praise for his teams temperament and timing. At one point of time the game was even-stevens, Pandya said after the win. I thought the wicket got better in the second innings. It started to come on well, they got into rhythm and we realised we need to hold our nerves and back our boys. Poll What aspect of Mumbai Indians' game impressed you the most in their recent victory? Batting Performance Bowling Performance He singled out Jonny Bairstows explosive debut knock and Rohit Sharma s composed 81 as pivotal. The way Jonny batted and started... for him to make his debut for us, it's a special franchise, coming in and playing the way he played. The way Ro batted he took his time and once he got into rhythm, it was beautiful. Pandya also praised his bowling unit, particularly Richard Gleesons final over under injury duress and Jasprit Bumrah s clinical spell. The way Gleeson bowled. Jassi being Jassi. Ashwani... everyone chipped in well and we held our nerves. I would've liked couple more (big hits). The little margins help. We wanted to push in batting and I think we were able to do that. Asked when he decides to bowl Bumrah, Pandya smiled: It's very simple. Whenever you think the game is going away, just bring him. When you have that it's a luxury. It's like Mumbai housing prices he's that expensive. The final overs were tense, but Pandya had it planned. I was just watching the scoreboard and I thought if we can keep extra runs at the end, I had the bowlers to bowl it. It was important that Jassi comes and bowls that over so that the margin becomes longer (the 18th over). Very important to recover well. Looking forward to the next game. With this victory, Mumbai Indians set up a Qualifier 2 clash against Punjab Kings in Ahmedabad on June 1. The winner will face Royal Challengers Bengaluru in the IPL 2025 Final."
        ],
        [
         "47",
         "https://timesofindia.indiatimes.com/sports/cricket/ipl/top-stories/1st-unofficial-test-karun-nair-nears-a-double-century-sarfaraz-khan-silences-critics-as-india-a-post-409/3-vs-england-lions/articleshow/121523259.cms",
         "2022-01-02",
         "Times of India",
         "1st Unofficial Test: Karun Nair nears a double century, Sarfaraz Khan silences critics as India A post 409/3 vs England Lions",
         "Karun Nair NEW DELHI: Karun Nair oozed elegance with a sublime unbeaten 186, issuing a timely reminder to the Gautam Gambhir-led team management as India A piled on 409/3 against a lacklustre England Lions side on the opening day of the first 'Unofficial' Test in Canterbury on Friday. Although traditionally slotted at No. 4 or lower in first-class cricket, Nair looked at complete ease throughout his masterclass innings, rendering the Lions attack including their Test spinner Rehan Ahmed largely ineffective. Go Beyond The Boundary with our YouTube channel. India A batters capitalised on an underwhelming bowling effort on a docile pitch, but the lack of resistance from the Lions and the nature of the surface may not offer an accurate gauge of Test-level conditions. Poll Should Karun Nair be considered for Indias Test squad after this knock? Yes, he deserves a chance No, one innings isnt enough Now representing Vidarbha, the Bengaluru-born Nair put his county experience with Northamptonshire to good use, notching up his 24th first-class century. His classy knock, laced with 24 boundaries and a six, couldnt have come at a better time as the Indian think-tank weighs up its options for the opening Test against England at Leeds on June 20. Sarfaraz Khan, who smashed a vibrant 92 off 119 balls , mixed audacity with finesse but fell short of a well-deserved hundred after doing all the hard work. Together, Sarfaraz and Nair stitched a 181-run stand for the third wicket. Later, Dhruv Jurel joined the party with an unbeaten 82 off 104 balls, forming a 177-run unbroken partnership with Nair to end the day on a commanding note for India A. 'I don't want to be a one-season wonder': Punjab Kings' Shashank Singh Ironically, much like in the selection race for the Test squad where Nair edged out Sarfaraz, he once again outshone the Mumbai batter on a pitch offering little for the bowlers. The Lions attack, toothless for the most part, leaked 51 boundaries and three sixes across 90 overs an alarming stat. Earlier, Yashasvi Jaiswal (24 off 55) saw off the first hour but failed to convert the start, while Abhimanyu Easwaran (8) once again raised questions about his suitability for the top level despite being handed another opportunity. Despite the greenish tinge on the Canterbury County ground surface, there was barely any lateral movement. Nair, with ample time to play his shots, was ruthless on anything short and majestic with square-of-the-wicket play. His pull shots were particularly commanding, while against off-spinner Dan Mousley, he reverse-swept with nonchalant ease. Why no Shreyas Iyer for England tour? Coach Gautam Gambhir opens up Rehan Ahmed had a forgettable outing, conceding 95 runs in 16 overs. Sarfaraz took him on confidently reaching his fifty with an inside-out boundary and later lofting him straight for a six. Against pace, he was equally inventive, using the bounce to ramp deliveries over the slips. Sarfaraz eventually fell chasing a wide one down leg-side off Hull, a wicket even the Lions bowlers didnt seem to expect. But the joy was fleeting for the home side as Nair and Jurel pressed on relentlessly, showing no signs of easing up."
        ],
        [
         "48",
         "https://timesofindia.indiatimes.com/sports/cricket/india-tour-of-england/sai-sudharsan-banks-on-county-experience-to-excel-in-england/articleshow/121529075.cms",
         "2022-01-02",
         "Times of India",
         "Sai Sudharsan banks on County experience to excel in England",
         "Gujarat Titans batter Sai Sudharsan will shift focus to red ball cricket after the team's exit from IPL 2025. (AP) TimesofIndia.com in Mullanpur: Gujarat Titans (GT) opener Sai Sudharsan was gutted after Gujarat Titans' (GT) 20-run loss in the Eliminator against Mumbai Indians (MI) at the New PCA Stadium on Friday. The southpaw, who finished the tournament with 759 runs, did not confirm whether he would be joining the India A squad for the second unofficial Test in Northampton, starting from June 6, which the BCCI had mentioned in a statement. Go Beyond The Boundary with our YouTube channel. \"In our minds, we were planning only to leave on the 4th (June) from IPL, so we were not thinking about when to leave from India for the Test team. If that was the plan for the Test team, we would have left on the 6th, but now we will have to have a conversation and see how it goes,\" he told reporters in the post-match press conference. Poll Will Sai Sudharsan succeed in red-ball cricket in England? Yes, his basics and mindset will help No, the switch from white-ball will be tough Sai Sudharsan: 'County stints reminded me that basics are most important part of batting' The 23-year-old is banking on the English County experience he gained with Surrey last season to do well in the upcoming five-match Test series. \"I think I played seven games, so it gave me great experience, to be honest. It improved my batting multiple-fold in terms of technique and basics. The most important lesson I have learned is that basics are the most important thing in batting, so I think it should help me,\" he said. \"I will focus more on what I learned, and I will try to be aware and create that awareness before going into the series,\" he added. Meanwhile, Mumbai Indians head coach Mahela Jayawardene has warned Sai Sudharsan about the challenges he would face in England. \"I have enjoyed his batting. I have to be honest, he is a good lefty, plays good cricketing shots, and has a good head on his shoulders as well. So, I am sure he will do well. \"It will be a challenge in England, like we have all done in the past, but I think he will find a way to do what he needs to do in England, and I am pretty sure that he is a very talented cricketer,\" said Jayawardene. Sai Sudharsan has admitted that switching from white-ball to red-ball cricket will be his biggest challenge in England. \"I think it is all about mindset and decision-making. So, definitely, after a long three months of white-ball tournaments, certain things would have changed in your batting,\" said Sai Sudharsan. \"I think focusing more on basics and bringing those back to red-ball cricket will take some time. I think we will have some good time before the series starts.\""
        ],
        [
         "49",
         "https://timesofindia.indiatimes.com/sports/cricket/ipl/top-stories/ipl-2025-playoffs-rohit-sharma-punishes-gts-butter-fingers-in-eliminator/articleshow/121523643.cms",
         "2022-01-02",
         "Times of India",
         "IPL 2025 Playoffs: Rohit Sharma punishes GT's butter-fingers in Eliminator",
         "Image credit: BCCI/IPL TimesofIndia.com in Mullanpur: A day after a one-sided affair in Qualifier 1, the Eliminator between Gujarat Titans (GT) and Mumbai Indians (MI) proved to be exactly what the doctor ordered at the New PCA Stadium in Mullanpur. It went down to the wire as MI defeated GT by 20 runs. MI will now take on Punjab Kings in Qualifier 2 on Sunday at the Narendra Modi Stadium in Gujarat. Rohit rides his luck Rohit Sharma (81 off 50 balls; 9x 4, 4x 6) made the most of two reprieves offered by GT fielders as the five-time champions delivered a strong statement in the must-win match. After winning the toss, MI posted a formidable 228 for 5. Go Beyond The Boundary with our YouTube channel. Rohit was dropped twicefirst by Gerald Coetzee and then by Kusal Mendisand he made GT pay for those missed chances. In the second over, Prasidh Krishna banged one in short, and Rohit miscued a pull high into the air. Coetzee had enough time, kept his eyes on the ball, but shelled the skier. Rohit was on 4 at the time, looking to break free with a swivel pull. Poll Do you think MI's win against GT was a result of their batting strength? Yes, they dominated with the bat No, it was GT's poor fielding In the next over, Rohit dispatched two delightful boundaries off Mohammed Siraj. Siraj couldve had the last laugh, but Mendis fumbled a thick edge behind the stumpsfailing to grab it in two attempts. The fourth over completely turned the tide in MIs favour, as Jonny Bairstow hammered 26 runs off Prasidh Krishnas second overfeaturing three sixes, including a monster hit into the second tier at Mullanpur. Making his first appearance of the season, Bairstow came out firing on all cylinders. He and Rohit forged a rollicking 84-run opening partnership, with 79 of those runs coming in the powerplay. Bairstow blazed his way to a 22-ball 47 before falling to Sai Kishore. The powerplay onslaught set the tone, and the rest of the MI batting unit kept the momentum going. Suryakumar Yadav (33 off 20 balls; 1x 4, 3x 6) and Tilak Varma (25 off 11; 3x 6) chipped in with impactful cameos. Captain Hardik Pandya (22* off 9; 3x 6) provided the finishing touches, smashing Coetzee for 22 runs in the final over. Prasidh Krishna (2/53) and Sai Kishore (2/42) took two wickets each, but most of GTs bowlers proved expensive. However, Team India management and Test captain Shubman Gill may be concerned after Mohammed Siraj, who dismissed Tilak Varma in the 18th over, appeared to pull his hamstring later in the same over. Sai sizzles again Sai Sudharsan continues to redefine orthodoxy in T 20 cricket. His classical technique offers a refreshing counter to the notion that T 20 cricket is eroding traditional skills. In this IPL season, Sudharsan has shown that the two formatsTest and T 20can indeed coexist. While broadcasters may try to strip away the cricket from T 20, players like Sudharsan keep putting it right back in. On Friday, the 23-year-old produced yet another masterclass. He scored a classy 80 off 49 balls, laced with 10 boundaries and a six. Despite his aggressive approach, Sudharsan rarely loses shape, showcasing a full range of proper cricketing shots. GTs chase began on a poor note, with Trent Boult removing skipper Shubman Gill for just 1. But Sudharsan continued in red-hot form, hitting a six off Boult and finding support in Kusal Mendis, who launched two sixes in the same over. The duo kept the momentum going, especially as Sudharsan struck two boundaries off Richard Gleesons first over. 'I don't want to be a one-season wonder': Punjab Kings' Shashank Singh Hardik Pandya brought himself on but was welcomed with two boundaries from Sudharsan and one from Mendis, who narrowly escaped a run-out at the end of the powerplay. However, Mendis was soon out in bizarre fashionhit wicket after stepping on the stumps and falling flat on his back. Sudharsan found another able partner in Washington Sundar (48 off 24), and together they stitched an 84-run stand off just 46 balls. At that point, GT looked well on course to make Qualifier 2. But Jasprit Bumrah, the ultimate T 20 cheat code, yorked Sundar to break the stand. Shortly after, Gleeson dismissed Sudharsan, effectively ending GTs hopes. Lower-order efforts from Sherfane Rutherford (24), Rahul Tewatia (16), and Shahrukh Khan (16) werent enough, as MI held their nerves and marched on to the next round."
        ]
       ],
       "shape": {
        "columns": 5,
        "rows": 78
       }
      },
      "text/html": [
       "<div>\n",
       "<style scoped>\n",
       "    .dataframe tbody tr th:only-of-type {\n",
       "        vertical-align: middle;\n",
       "    }\n",
       "\n",
       "    .dataframe tbody tr th {\n",
       "        vertical-align: top;\n",
       "    }\n",
       "\n",
       "    .dataframe thead th {\n",
       "        text-align: right;\n",
       "    }\n",
       "</style>\n",
       "<table border=\"1\" class=\"dataframe\">\n",
       "  <thead>\n",
       "    <tr style=\"text-align: right;\">\n",
       "      <th></th>\n",
       "      <th>link</th>\n",
       "      <th>date</th>\n",
       "      <th>publisher</th>\n",
       "      <th>title</th>\n",
       "      <th>content</th>\n",
       "    </tr>\n",
       "  </thead>\n",
       "  <tbody>\n",
       "    <tr>\n",
       "      <th>0</th>\n",
       "      <td>https://timesofindia.indiatimes.com/first-look...</td>\n",
       "      <td>2022-01-01</td>\n",
       "      <td>Times of India</td>\n",
       "      <td>Detective Byomkesh Bakshy!</td>\n",
       "      <td>Credits Director: Dibakar Banerjee Cast: Susha...</td>\n",
       "    </tr>\n",
       "    <tr>\n",
       "      <th>1</th>\n",
       "      <td>https://timesofindia.indiatimes.com/first-look...</td>\n",
       "      <td>2022-01-01</td>\n",
       "      <td>Times of India</td>\n",
       "      <td>Roy</td>\n",
       "      <td>Credits Director: Vikramjit Singh Cast: Ranbir...</td>\n",
       "    </tr>\n",
       "    <tr>\n",
       "      <th>2</th>\n",
       "      <td>https://timesofindia.indiatimes.com/entertainm...</td>\n",
       "      <td>2022-01-01</td>\n",
       "      <td>Times of India</td>\n",
       "      <td>Edge of Tomorrow</td>\n",
       "      <td>Credits Director: Doug Liman Cast: Tom Cruise ...</td>\n",
       "    </tr>\n",
       "    <tr>\n",
       "      <th>3</th>\n",
       "      <td>https://timesofindia.indiatimes.com/sports/cri...</td>\n",
       "      <td>2022-01-01</td>\n",
       "      <td>Times of India</td>\n",
       "      <td>Bloody! Face covered with towel, Rachin Ravind...</td>\n",
       "      <td>Rachin Ravindra (Screengrab) NEW DELHI: During...</td>\n",
       "    </tr>\n",
       "    <tr>\n",
       "      <th>4</th>\n",
       "      <td>https://timesofindia.indiatimes.com/sports/cri...</td>\n",
       "      <td>2022-01-01</td>\n",
       "      <td>Times of India</td>\n",
       "      <td>'Poor lights of Gaddafi Stadium': Pakistan Cri...</td>\n",
       "      <td>Rachin Ravindra (Screengrabs) NEW DELHI: Durin...</td>\n",
       "    </tr>\n",
       "    <tr>\n",
       "      <th>...</th>\n",
       "      <td>...</td>\n",
       "      <td>...</td>\n",
       "      <td>...</td>\n",
       "      <td>...</td>\n",
       "      <td>...</td>\n",
       "    </tr>\n",
       "    <tr>\n",
       "      <th>73</th>\n",
       "      <td>https://timesofindia.indiatimes.com/sports/nba...</td>\n",
       "      <td>2022-01-03</td>\n",
       "      <td>Times of India</td>\n",
       "      <td>New York Knicks vs Indiana Pacers (05/31): Box...</td>\n",
       "      <td>Tyrese Haliburton's celebration after Indiana ...</td>\n",
       "    </tr>\n",
       "    <tr>\n",
       "      <th>74</th>\n",
       "      <td>https://timesofindia.indiatimes.com/sports/nba...</td>\n",
       "      <td>2022-01-03</td>\n",
       "      <td>Times of India</td>\n",
       "      <td>Just unbelievable Pascal Siakam gives candid r...</td>\n",
       "      <td>Pascal Siakam. Image via: AJ Mast/ AP Pascal S...</td>\n",
       "    </tr>\n",
       "    <tr>\n",
       "      <th>75</th>\n",
       "      <td>https://timesofindia.indiatimes.com/sports/nfl...</td>\n",
       "      <td>2022-01-03</td>\n",
       "      <td>Times of India</td>\n",
       "      <td>Stefon Diggs sends two-word flirtatious messag...</td>\n",
       "      <td>Stefon Diggs two word flirtatious message to C...</td>\n",
       "    </tr>\n",
       "    <tr>\n",
       "      <th>76</th>\n",
       "      <td>https://timesofindia.indiatimes.com/sports/nfl...</td>\n",
       "      <td>2022-01-03</td>\n",
       "      <td>Times of India</td>\n",
       "      <td>From dating rumors to I do: Inside Hailee Stei...</td>\n",
       "      <td>Hailee Steinfeld and Josh Allen are finally ma...</td>\n",
       "    </tr>\n",
       "    <tr>\n",
       "      <th>77</th>\n",
       "      <td>https://timesofindia.indiatimes.com/sports/nfl...</td>\n",
       "      <td>2022-01-03</td>\n",
       "      <td>Times of India</td>\n",
       "      <td>Aaron Rodgers leaves Steelers hanging as poten...</td>\n",
       "      <td>Pittsburgh Steelers remain in the dark as Aaro...</td>\n",
       "    </tr>\n",
       "  </tbody>\n",
       "</table>\n",
       "<p>78 rows × 5 columns</p>\n",
       "</div>"
      ],
      "text/plain": [
       "                                                 link        date  \\\n",
       "0   https://timesofindia.indiatimes.com/first-look...  2022-01-01   \n",
       "1   https://timesofindia.indiatimes.com/first-look...  2022-01-01   \n",
       "2   https://timesofindia.indiatimes.com/entertainm...  2022-01-01   \n",
       "3   https://timesofindia.indiatimes.com/sports/cri...  2022-01-01   \n",
       "4   https://timesofindia.indiatimes.com/sports/cri...  2022-01-01   \n",
       "..                                                ...         ...   \n",
       "73  https://timesofindia.indiatimes.com/sports/nba...  2022-01-03   \n",
       "74  https://timesofindia.indiatimes.com/sports/nba...  2022-01-03   \n",
       "75  https://timesofindia.indiatimes.com/sports/nfl...  2022-01-03   \n",
       "76  https://timesofindia.indiatimes.com/sports/nfl...  2022-01-03   \n",
       "77  https://timesofindia.indiatimes.com/sports/nfl...  2022-01-03   \n",
       "\n",
       "         publisher                                              title  \\\n",
       "0   Times of India                         Detective Byomkesh Bakshy!   \n",
       "1   Times of India                                                Roy   \n",
       "2   Times of India                                   Edge of Tomorrow   \n",
       "3   Times of India  Bloody! Face covered with towel, Rachin Ravind...   \n",
       "4   Times of India  'Poor lights of Gaddafi Stadium': Pakistan Cri...   \n",
       "..             ...                                                ...   \n",
       "73  Times of India  New York Knicks vs Indiana Pacers (05/31): Box...   \n",
       "74  Times of India  Just unbelievable Pascal Siakam gives candid r...   \n",
       "75  Times of India  Stefon Diggs sends two-word flirtatious messag...   \n",
       "76  Times of India  From dating rumors to I do: Inside Hailee Stei...   \n",
       "77  Times of India  Aaron Rodgers leaves Steelers hanging as poten...   \n",
       "\n",
       "                                              content  \n",
       "0   Credits Director: Dibakar Banerjee Cast: Susha...  \n",
       "1   Credits Director: Vikramjit Singh Cast: Ranbir...  \n",
       "2   Credits Director: Doug Liman Cast: Tom Cruise ...  \n",
       "3   Rachin Ravindra (Screengrab) NEW DELHI: During...  \n",
       "4   Rachin Ravindra (Screengrabs) NEW DELHI: Durin...  \n",
       "..                                                ...  \n",
       "73  Tyrese Haliburton's celebration after Indiana ...  \n",
       "74  Pascal Siakam. Image via: AJ Mast/ AP Pascal S...  \n",
       "75  Stefon Diggs two word flirtatious message to C...  \n",
       "76  Hailee Steinfeld and Josh Allen are finally ma...  \n",
       "77  Pittsburgh Steelers remain in the dark as Aaro...  \n",
       "\n",
       "[78 rows x 5 columns]"
      ]
     },
     "execution_count": 67,
     "metadata": {},
     "output_type": "execute_result"
    }
   ],
   "source": [
    "df = df[(df[\"title\"] != \"\") & (df[\"content\"] != \"\")]\n",
    "\n",
    "for i in range(len(df)):\n",
    "    df.loc[i, \"title\"], df.loc[i, \"content\"] = process(df.loc[i, \"title\"], df.loc[i, \"content\"])\n",
    "\n",
    "df"
   ]
  },
  {
   "cell_type": "code",
   "execution_count": 66,
   "id": "57048055",
   "metadata": {},
   "outputs": [],
   "source": [
    "df.to_csv(\"df_processed.csv\", index=False)"
   ]
  }
 ],
 "metadata": {
  "kernelspec": {
   "display_name": "Python 3",
   "language": "python",
   "name": "python3"
  },
  "language_info": {
   "codemirror_mode": {
    "name": "ipython",
    "version": 3
   },
   "file_extension": ".py",
   "mimetype": "text/x-python",
   "name": "python",
   "nbconvert_exporter": "python",
   "pygments_lexer": "ipython3",
   "version": "3.12.9"
  }
 },
 "nbformat": 4,
 "nbformat_minor": 5
}
